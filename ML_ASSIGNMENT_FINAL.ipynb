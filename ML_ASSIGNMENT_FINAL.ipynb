{
  "nbformat": 4,
  "nbformat_minor": 0,
  "metadata": {
    "colab": {
      "provenance": []
    },
    "kernelspec": {
      "name": "python3",
      "display_name": "Python 3"
    },
    "language_info": {
      "name": "python"
    }
  },
  "cells": [
    {
      "cell_type": "code",
      "execution_count": 1,
      "metadata": {
        "id": "sLjo6OZotCCT"
      },
      "outputs": [],
      "source": [
        "# Supress Warnings\n",
        "import warnings\n",
        "warnings.filterwarnings(\"ignore\")\n",
        "\n",
        "# Importing all data manipulation libraries\n",
        "import pandas as pd\n",
        "import numpy as np\n",
        "\n",
        "# Libraries for data visualisation\n",
        "import seaborn as sns\n",
        "import matplotlib.pyplot as plt\n",
        "import plotly.express as px\n",
        "import plotly.figure_factory as ff\n",
        "import plotly.graph_objects as go\n",
        "\n",
        "# Libraries for machine learning\n",
        "from sklearn.model_selection import train_test_split\n",
        "from sklearn.preprocessing import StandardScaler,LabelEncoder,MinMaxScaler,OneHotEncoder\n",
        "from sklearn.pipeline import Pipeline\n",
        "from sklearn.compose import ColumnTransformer\n",
        "from sklearn.linear_model import LinearRegression,Ridge,Lasso,ElasticNet\n",
        "from sklearn.feature_selection import mutual_info_regression,SelectPercentile\n",
        "from sklearn import metrics\n",
        "from sklearn.model_selection import GridSearchCV\n",
        "from sklearn.model_selection import RandomizedSearchCV\n",
        "from sklearn.model_selection import cross_val_score\n",
        "from sklearn.impute import SimpleImputer\n",
        "from sklearn.preprocessing import OneHotEncoder\n",
        "from sklearn.base import BaseEstimator, TransformerMixin\n",
        "from sklearn.metrics import mean_squared_error, r2_score"
      ]
    },
    {
      "cell_type": "markdown",
      "source": [
        "# Loading the Dataset and Taking a Quick Look"
      ],
      "metadata": {
        "id": "h_d4w6j1tmVs"
      }
    },
    {
      "cell_type": "code",
      "source": [
        "# Loading the dataset as pandas dataframe\n",
        "df = pd.read_csv('datcw_na.csv')\n",
        "df.head()"
      ],
      "metadata": {
        "colab": {
          "base_uri": "https://localhost:8080/",
          "height": 206
        },
        "id": "pedcnHb1tGHb",
        "outputId": "89debeb3-1779-49bb-ab1e-383efc2667d4"
      },
      "execution_count": 2,
      "outputs": [
        {
          "output_type": "execute_result",
          "data": {
            "text/plain": [
              "   X0    X1      X2      X3      X4    X5    X6   X7   X8      Y\n",
              "0  C3  1.19  622.55     NaN   89.31  7.00  1.98  0.0  0.0  15.55\n",
              "1  C1  1.19  622.55  323.40  109.15  7.70  3.00  0.0  0.0  15.55\n",
              "2  C1  0.88  463.05  291.06   99.23  5.67  4.40  0.0  0.0  15.55\n",
              "3  C2  0.79  509.36  291.06  121.28  6.30  4.05  0.0  0.0  15.55\n",
              "4  C1  0.89  507.15  385.39  121.28  7.70  2.00  0.0  0.0  20.84"
            ],
            "text/html": [
              "\n",
              "  <div id=\"df-a90f2589-52a6-4246-a740-d6e3983aa278\">\n",
              "    <div class=\"colab-df-container\">\n",
              "      <div>\n",
              "<style scoped>\n",
              "    .dataframe tbody tr th:only-of-type {\n",
              "        vertical-align: middle;\n",
              "    }\n",
              "\n",
              "    .dataframe tbody tr th {\n",
              "        vertical-align: top;\n",
              "    }\n",
              "\n",
              "    .dataframe thead th {\n",
              "        text-align: right;\n",
              "    }\n",
              "</style>\n",
              "<table border=\"1\" class=\"dataframe\">\n",
              "  <thead>\n",
              "    <tr style=\"text-align: right;\">\n",
              "      <th></th>\n",
              "      <th>X0</th>\n",
              "      <th>X1</th>\n",
              "      <th>X2</th>\n",
              "      <th>X3</th>\n",
              "      <th>X4</th>\n",
              "      <th>X5</th>\n",
              "      <th>X6</th>\n",
              "      <th>X7</th>\n",
              "      <th>X8</th>\n",
              "      <th>Y</th>\n",
              "    </tr>\n",
              "  </thead>\n",
              "  <tbody>\n",
              "    <tr>\n",
              "      <th>0</th>\n",
              "      <td>C3</td>\n",
              "      <td>1.19</td>\n",
              "      <td>622.55</td>\n",
              "      <td>NaN</td>\n",
              "      <td>89.31</td>\n",
              "      <td>7.00</td>\n",
              "      <td>1.98</td>\n",
              "      <td>0.0</td>\n",
              "      <td>0.0</td>\n",
              "      <td>15.55</td>\n",
              "    </tr>\n",
              "    <tr>\n",
              "      <th>1</th>\n",
              "      <td>C1</td>\n",
              "      <td>1.19</td>\n",
              "      <td>622.55</td>\n",
              "      <td>323.40</td>\n",
              "      <td>109.15</td>\n",
              "      <td>7.70</td>\n",
              "      <td>3.00</td>\n",
              "      <td>0.0</td>\n",
              "      <td>0.0</td>\n",
              "      <td>15.55</td>\n",
              "    </tr>\n",
              "    <tr>\n",
              "      <th>2</th>\n",
              "      <td>C1</td>\n",
              "      <td>0.88</td>\n",
              "      <td>463.05</td>\n",
              "      <td>291.06</td>\n",
              "      <td>99.23</td>\n",
              "      <td>5.67</td>\n",
              "      <td>4.40</td>\n",
              "      <td>0.0</td>\n",
              "      <td>0.0</td>\n",
              "      <td>15.55</td>\n",
              "    </tr>\n",
              "    <tr>\n",
              "      <th>3</th>\n",
              "      <td>C2</td>\n",
              "      <td>0.79</td>\n",
              "      <td>509.36</td>\n",
              "      <td>291.06</td>\n",
              "      <td>121.28</td>\n",
              "      <td>6.30</td>\n",
              "      <td>4.05</td>\n",
              "      <td>0.0</td>\n",
              "      <td>0.0</td>\n",
              "      <td>15.55</td>\n",
              "    </tr>\n",
              "    <tr>\n",
              "      <th>4</th>\n",
              "      <td>C1</td>\n",
              "      <td>0.89</td>\n",
              "      <td>507.15</td>\n",
              "      <td>385.39</td>\n",
              "      <td>121.28</td>\n",
              "      <td>7.70</td>\n",
              "      <td>2.00</td>\n",
              "      <td>0.0</td>\n",
              "      <td>0.0</td>\n",
              "      <td>20.84</td>\n",
              "    </tr>\n",
              "  </tbody>\n",
              "</table>\n",
              "</div>\n",
              "      <button class=\"colab-df-convert\" onclick=\"convertToInteractive('df-a90f2589-52a6-4246-a740-d6e3983aa278')\"\n",
              "              title=\"Convert this dataframe to an interactive table.\"\n",
              "              style=\"display:none;\">\n",
              "        \n",
              "  <svg xmlns=\"http://www.w3.org/2000/svg\" height=\"24px\"viewBox=\"0 0 24 24\"\n",
              "       width=\"24px\">\n",
              "    <path d=\"M0 0h24v24H0V0z\" fill=\"none\"/>\n",
              "    <path d=\"M18.56 5.44l.94 2.06.94-2.06 2.06-.94-2.06-.94-.94-2.06-.94 2.06-2.06.94zm-11 1L8.5 8.5l.94-2.06 2.06-.94-2.06-.94L8.5 2.5l-.94 2.06-2.06.94zm10 10l.94 2.06.94-2.06 2.06-.94-2.06-.94-.94-2.06-.94 2.06-2.06.94z\"/><path d=\"M17.41 7.96l-1.37-1.37c-.4-.4-.92-.59-1.43-.59-.52 0-1.04.2-1.43.59L10.3 9.45l-7.72 7.72c-.78.78-.78 2.05 0 2.83L4 21.41c.39.39.9.59 1.41.59.51 0 1.02-.2 1.41-.59l7.78-7.78 2.81-2.81c.8-.78.8-2.07 0-2.86zM5.41 20L4 18.59l7.72-7.72 1.47 1.35L5.41 20z\"/>\n",
              "  </svg>\n",
              "      </button>\n",
              "      \n",
              "  <style>\n",
              "    .colab-df-container {\n",
              "      display:flex;\n",
              "      flex-wrap:wrap;\n",
              "      gap: 12px;\n",
              "    }\n",
              "\n",
              "    .colab-df-convert {\n",
              "      background-color: #E8F0FE;\n",
              "      border: none;\n",
              "      border-radius: 50%;\n",
              "      cursor: pointer;\n",
              "      display: none;\n",
              "      fill: #1967D2;\n",
              "      height: 32px;\n",
              "      padding: 0 0 0 0;\n",
              "      width: 32px;\n",
              "    }\n",
              "\n",
              "    .colab-df-convert:hover {\n",
              "      background-color: #E2EBFA;\n",
              "      box-shadow: 0px 1px 2px rgba(60, 64, 67, 0.3), 0px 1px 3px 1px rgba(60, 64, 67, 0.15);\n",
              "      fill: #174EA6;\n",
              "    }\n",
              "\n",
              "    [theme=dark] .colab-df-convert {\n",
              "      background-color: #3B4455;\n",
              "      fill: #D2E3FC;\n",
              "    }\n",
              "\n",
              "    [theme=dark] .colab-df-convert:hover {\n",
              "      background-color: #434B5C;\n",
              "      box-shadow: 0px 1px 3px 1px rgba(0, 0, 0, 0.15);\n",
              "      filter: drop-shadow(0px 1px 2px rgba(0, 0, 0, 0.3));\n",
              "      fill: #FFFFFF;\n",
              "    }\n",
              "  </style>\n",
              "\n",
              "      <script>\n",
              "        const buttonEl =\n",
              "          document.querySelector('#df-a90f2589-52a6-4246-a740-d6e3983aa278 button.colab-df-convert');\n",
              "        buttonEl.style.display =\n",
              "          google.colab.kernel.accessAllowed ? 'block' : 'none';\n",
              "\n",
              "        async function convertToInteractive(key) {\n",
              "          const element = document.querySelector('#df-a90f2589-52a6-4246-a740-d6e3983aa278');\n",
              "          const dataTable =\n",
              "            await google.colab.kernel.invokeFunction('convertToInteractive',\n",
              "                                                     [key], {});\n",
              "          if (!dataTable) return;\n",
              "\n",
              "          const docLinkHtml = 'Like what you see? Visit the ' +\n",
              "            '<a target=\"_blank\" href=https://colab.research.google.com/notebooks/data_table.ipynb>data table notebook</a>'\n",
              "            + ' to learn more about interactive tables.';\n",
              "          element.innerHTML = '';\n",
              "          dataTable['output_type'] = 'display_data';\n",
              "          await google.colab.output.renderOutput(dataTable, element);\n",
              "          const docLink = document.createElement('div');\n",
              "          docLink.innerHTML = docLinkHtml;\n",
              "          element.appendChild(docLink);\n",
              "        }\n",
              "      </script>\n",
              "    </div>\n",
              "  </div>\n",
              "  "
            ]
          },
          "metadata": {},
          "execution_count": 2
        }
      ]
    },
    {
      "cell_type": "code",
      "source": [
        "# Finding the number of rows and columns\n",
        "df.shape"
      ],
      "metadata": {
        "colab": {
          "base_uri": "https://localhost:8080/"
        },
        "id": "PZiJrZ_6t9Xd",
        "outputId": "fe2779d3-2cc8-4e87-ba62-d4bb1c90569e"
      },
      "execution_count": 3,
      "outputs": [
        {
          "output_type": "execute_result",
          "data": {
            "text/plain": [
              "(768, 10)"
            ]
          },
          "metadata": {},
          "execution_count": 3
        }
      ]
    },
    {
      "cell_type": "code",
      "source": [
        "# Renaming the column names with the appropriate below columns\n",
        "df.columns = ['Building_Category','Relative_Compactness','Surface_Area','Wall_Area','Roof_Area','Overall_Height',\n",
        "              'Orientation','Glazing_Area','Glazing_Area_Distribution','Heating_Load']\n",
        "df.head()"
      ],
      "metadata": {
        "colab": {
          "base_uri": "https://localhost:8080/",
          "height": 206
        },
        "id": "STlkTXTLuE6i",
        "outputId": "95962798-ea33-47b0-93e7-ecf1b89815fc"
      },
      "execution_count": 4,
      "outputs": [
        {
          "output_type": "execute_result",
          "data": {
            "text/plain": [
              "  Building_Category  Relative_Compactness  Surface_Area  Wall_Area  Roof_Area  \\\n",
              "0                C3                  1.19        622.55        NaN      89.31   \n",
              "1                C1                  1.19        622.55     323.40     109.15   \n",
              "2                C1                  0.88        463.05     291.06      99.23   \n",
              "3                C2                  0.79        509.36     291.06     121.28   \n",
              "4                C1                  0.89        507.15     385.39     121.28   \n",
              "\n",
              "   Overall_Height  Orientation  Glazing_Area  Glazing_Area_Distribution  \\\n",
              "0            7.00         1.98           0.0                        0.0   \n",
              "1            7.70         3.00           0.0                        0.0   \n",
              "2            5.67         4.40           0.0                        0.0   \n",
              "3            6.30         4.05           0.0                        0.0   \n",
              "4            7.70         2.00           0.0                        0.0   \n",
              "\n",
              "   Heating_Load  \n",
              "0         15.55  \n",
              "1         15.55  \n",
              "2         15.55  \n",
              "3         15.55  \n",
              "4         20.84  "
            ],
            "text/html": [
              "\n",
              "  <div id=\"df-8e0dbcd8-210e-47c6-b613-7923d75ec8fa\">\n",
              "    <div class=\"colab-df-container\">\n",
              "      <div>\n",
              "<style scoped>\n",
              "    .dataframe tbody tr th:only-of-type {\n",
              "        vertical-align: middle;\n",
              "    }\n",
              "\n",
              "    .dataframe tbody tr th {\n",
              "        vertical-align: top;\n",
              "    }\n",
              "\n",
              "    .dataframe thead th {\n",
              "        text-align: right;\n",
              "    }\n",
              "</style>\n",
              "<table border=\"1\" class=\"dataframe\">\n",
              "  <thead>\n",
              "    <tr style=\"text-align: right;\">\n",
              "      <th></th>\n",
              "      <th>Building_Category</th>\n",
              "      <th>Relative_Compactness</th>\n",
              "      <th>Surface_Area</th>\n",
              "      <th>Wall_Area</th>\n",
              "      <th>Roof_Area</th>\n",
              "      <th>Overall_Height</th>\n",
              "      <th>Orientation</th>\n",
              "      <th>Glazing_Area</th>\n",
              "      <th>Glazing_Area_Distribution</th>\n",
              "      <th>Heating_Load</th>\n",
              "    </tr>\n",
              "  </thead>\n",
              "  <tbody>\n",
              "    <tr>\n",
              "      <th>0</th>\n",
              "      <td>C3</td>\n",
              "      <td>1.19</td>\n",
              "      <td>622.55</td>\n",
              "      <td>NaN</td>\n",
              "      <td>89.31</td>\n",
              "      <td>7.00</td>\n",
              "      <td>1.98</td>\n",
              "      <td>0.0</td>\n",
              "      <td>0.0</td>\n",
              "      <td>15.55</td>\n",
              "    </tr>\n",
              "    <tr>\n",
              "      <th>1</th>\n",
              "      <td>C1</td>\n",
              "      <td>1.19</td>\n",
              "      <td>622.55</td>\n",
              "      <td>323.40</td>\n",
              "      <td>109.15</td>\n",
              "      <td>7.70</td>\n",
              "      <td>3.00</td>\n",
              "      <td>0.0</td>\n",
              "      <td>0.0</td>\n",
              "      <td>15.55</td>\n",
              "    </tr>\n",
              "    <tr>\n",
              "      <th>2</th>\n",
              "      <td>C1</td>\n",
              "      <td>0.88</td>\n",
              "      <td>463.05</td>\n",
              "      <td>291.06</td>\n",
              "      <td>99.23</td>\n",
              "      <td>5.67</td>\n",
              "      <td>4.40</td>\n",
              "      <td>0.0</td>\n",
              "      <td>0.0</td>\n",
              "      <td>15.55</td>\n",
              "    </tr>\n",
              "    <tr>\n",
              "      <th>3</th>\n",
              "      <td>C2</td>\n",
              "      <td>0.79</td>\n",
              "      <td>509.36</td>\n",
              "      <td>291.06</td>\n",
              "      <td>121.28</td>\n",
              "      <td>6.30</td>\n",
              "      <td>4.05</td>\n",
              "      <td>0.0</td>\n",
              "      <td>0.0</td>\n",
              "      <td>15.55</td>\n",
              "    </tr>\n",
              "    <tr>\n",
              "      <th>4</th>\n",
              "      <td>C1</td>\n",
              "      <td>0.89</td>\n",
              "      <td>507.15</td>\n",
              "      <td>385.39</td>\n",
              "      <td>121.28</td>\n",
              "      <td>7.70</td>\n",
              "      <td>2.00</td>\n",
              "      <td>0.0</td>\n",
              "      <td>0.0</td>\n",
              "      <td>20.84</td>\n",
              "    </tr>\n",
              "  </tbody>\n",
              "</table>\n",
              "</div>\n",
              "      <button class=\"colab-df-convert\" onclick=\"convertToInteractive('df-8e0dbcd8-210e-47c6-b613-7923d75ec8fa')\"\n",
              "              title=\"Convert this dataframe to an interactive table.\"\n",
              "              style=\"display:none;\">\n",
              "        \n",
              "  <svg xmlns=\"http://www.w3.org/2000/svg\" height=\"24px\"viewBox=\"0 0 24 24\"\n",
              "       width=\"24px\">\n",
              "    <path d=\"M0 0h24v24H0V0z\" fill=\"none\"/>\n",
              "    <path d=\"M18.56 5.44l.94 2.06.94-2.06 2.06-.94-2.06-.94-.94-2.06-.94 2.06-2.06.94zm-11 1L8.5 8.5l.94-2.06 2.06-.94-2.06-.94L8.5 2.5l-.94 2.06-2.06.94zm10 10l.94 2.06.94-2.06 2.06-.94-2.06-.94-.94-2.06-.94 2.06-2.06.94z\"/><path d=\"M17.41 7.96l-1.37-1.37c-.4-.4-.92-.59-1.43-.59-.52 0-1.04.2-1.43.59L10.3 9.45l-7.72 7.72c-.78.78-.78 2.05 0 2.83L4 21.41c.39.39.9.59 1.41.59.51 0 1.02-.2 1.41-.59l7.78-7.78 2.81-2.81c.8-.78.8-2.07 0-2.86zM5.41 20L4 18.59l7.72-7.72 1.47 1.35L5.41 20z\"/>\n",
              "  </svg>\n",
              "      </button>\n",
              "      \n",
              "  <style>\n",
              "    .colab-df-container {\n",
              "      display:flex;\n",
              "      flex-wrap:wrap;\n",
              "      gap: 12px;\n",
              "    }\n",
              "\n",
              "    .colab-df-convert {\n",
              "      background-color: #E8F0FE;\n",
              "      border: none;\n",
              "      border-radius: 50%;\n",
              "      cursor: pointer;\n",
              "      display: none;\n",
              "      fill: #1967D2;\n",
              "      height: 32px;\n",
              "      padding: 0 0 0 0;\n",
              "      width: 32px;\n",
              "    }\n",
              "\n",
              "    .colab-df-convert:hover {\n",
              "      background-color: #E2EBFA;\n",
              "      box-shadow: 0px 1px 2px rgba(60, 64, 67, 0.3), 0px 1px 3px 1px rgba(60, 64, 67, 0.15);\n",
              "      fill: #174EA6;\n",
              "    }\n",
              "\n",
              "    [theme=dark] .colab-df-convert {\n",
              "      background-color: #3B4455;\n",
              "      fill: #D2E3FC;\n",
              "    }\n",
              "\n",
              "    [theme=dark] .colab-df-convert:hover {\n",
              "      background-color: #434B5C;\n",
              "      box-shadow: 0px 1px 3px 1px rgba(0, 0, 0, 0.15);\n",
              "      filter: drop-shadow(0px 1px 2px rgba(0, 0, 0, 0.3));\n",
              "      fill: #FFFFFF;\n",
              "    }\n",
              "  </style>\n",
              "\n",
              "      <script>\n",
              "        const buttonEl =\n",
              "          document.querySelector('#df-8e0dbcd8-210e-47c6-b613-7923d75ec8fa button.colab-df-convert');\n",
              "        buttonEl.style.display =\n",
              "          google.colab.kernel.accessAllowed ? 'block' : 'none';\n",
              "\n",
              "        async function convertToInteractive(key) {\n",
              "          const element = document.querySelector('#df-8e0dbcd8-210e-47c6-b613-7923d75ec8fa');\n",
              "          const dataTable =\n",
              "            await google.colab.kernel.invokeFunction('convertToInteractive',\n",
              "                                                     [key], {});\n",
              "          if (!dataTable) return;\n",
              "\n",
              "          const docLinkHtml = 'Like what you see? Visit the ' +\n",
              "            '<a target=\"_blank\" href=https://colab.research.google.com/notebooks/data_table.ipynb>data table notebook</a>'\n",
              "            + ' to learn more about interactive tables.';\n",
              "          element.innerHTML = '';\n",
              "          dataTable['output_type'] = 'display_data';\n",
              "          await google.colab.output.renderOutput(dataTable, element);\n",
              "          const docLink = document.createElement('div');\n",
              "          docLink.innerHTML = docLinkHtml;\n",
              "          element.appendChild(docLink);\n",
              "        }\n",
              "      </script>\n",
              "    </div>\n",
              "  </div>\n",
              "  "
            ]
          },
          "metadata": {},
          "execution_count": 4
        }
      ]
    },
    {
      "cell_type": "markdown",
      "source": [
        "# Input Features and Target Feature"
      ],
      "metadata": {
        "id": "OZ9AIGwp1UTM"
      }
    },
    {
      "cell_type": "code",
      "source": [
        "# Selecting input features and target feature\n",
        "\n",
        "input_features = ['Relative_Compactness','Surface_Area','Wall_Area','Roof_Area','Overall_Height',\n",
        "              'Orientation','Glazing_Area','Glazing_Area_Distribution']\n",
        "categorical_input_features = ['Building_Category']\n",
        "target_feature = 'Heating_Load'"
      ],
      "metadata": {
        "id": "FVAE0h8l1eCc"
      },
      "execution_count": 5,
      "outputs": []
    },
    {
      "cell_type": "markdown",
      "source": [
        "# Creating Test Set"
      ],
      "metadata": {
        "id": "02avBMpiwJjl"
      }
    },
    {
      "cell_type": "code",
      "source": [
        "# To make this notebook's output identical at every run\n",
        "np.random.seed(24)"
      ],
      "metadata": {
        "id": "rVNyJMliwDc3"
      },
      "execution_count": 6,
      "outputs": []
    },
    {
      "cell_type": "code",
      "source": [
        "# Splitting dataset in train and test with ratio of 70 and 30.\n",
        "train_set, test_set = train_test_split(df, test_size=0.3, random_state=24)"
      ],
      "metadata": {
        "id": "Ytmhc9w2wgLh"
      },
      "execution_count": 7,
      "outputs": []
    },
    {
      "cell_type": "code",
      "source": [
        "# Verifying the train set\n",
        "train_set"
      ],
      "metadata": {
        "colab": {
          "base_uri": "https://localhost:8080/",
          "height": 424
        },
        "id": "-iQFHNwKxkMN",
        "outputId": "6107d3c8-3286-40b5-9b55-b69b978bc6cc"
      },
      "execution_count": 8,
      "outputs": [
        {
          "output_type": "execute_result",
          "data": {
            "text/plain": [
              "    Building_Category  Relative_Compactness  Surface_Area  Wall_Area  \\\n",
              "662                C2                  0.53        751.90     315.32   \n",
              "469                C3                  0.80        683.55     286.65   \n",
              "203                C3                  0.77        582.12     294.00   \n",
              "574                C2                  0.68        978.29     297.68   \n",
              "408                C3                  0.74        617.40     198.45   \n",
              "..                ...                   ...           ...        ...   \n",
              "145                C2                  0.97        416.74     291.06   \n",
              "401                C1                  0.87        515.97        NaN   \n",
              "343                C3                  0.89        557.86     385.39   \n",
              "192                C2                  0.79        565.95     323.40   \n",
              "418                C3                  0.56        661.50     264.60   \n",
              "\n",
              "     Roof_Area  Overall_Height  Orientation  Glazing_Area  \\\n",
              "662     178.60            3.15         3.24          0.40   \n",
              "469     198.45            3.15         2.70          0.20   \n",
              "203     119.07            8.47         5.50          0.12   \n",
              "574     218.30            3.85         3.96          0.44   \n",
              "408     218.30            3.85         2.42          0.25   \n",
              "..         ...             ...          ...           ...   \n",
              "145      89.31            7.70         2.97          0.09   \n",
              "401     145.53            6.93         3.30          0.25   \n",
              "343     122.50            7.00         4.05          0.22   \n",
              "192      99.23            6.93         1.98          0.12   \n",
              "418     266.80            3.15         3.96          0.31   \n",
              "\n",
              "     Glazing_Area_Distribution  Heating_Load  \n",
              "662                       2.43         14.72  \n",
              "469                       4.00         13.00  \n",
              "203                       4.40         27.03  \n",
              "574                       0.99         17.14  \n",
              "408                       3.30         11.80  \n",
              "..                         ...           ...  \n",
              "145                       3.63         24.40  \n",
              "401                       2.43         38.35  \n",
              "343                       1.80         31.66  \n",
              "192                       3.96         24.38  \n",
              "418                       2.97         12.31  \n",
              "\n",
              "[537 rows x 10 columns]"
            ],
            "text/html": [
              "\n",
              "  <div id=\"df-ef58f4e4-8bad-46bd-a2af-ea927e1e3ade\">\n",
              "    <div class=\"colab-df-container\">\n",
              "      <div>\n",
              "<style scoped>\n",
              "    .dataframe tbody tr th:only-of-type {\n",
              "        vertical-align: middle;\n",
              "    }\n",
              "\n",
              "    .dataframe tbody tr th {\n",
              "        vertical-align: top;\n",
              "    }\n",
              "\n",
              "    .dataframe thead th {\n",
              "        text-align: right;\n",
              "    }\n",
              "</style>\n",
              "<table border=\"1\" class=\"dataframe\">\n",
              "  <thead>\n",
              "    <tr style=\"text-align: right;\">\n",
              "      <th></th>\n",
              "      <th>Building_Category</th>\n",
              "      <th>Relative_Compactness</th>\n",
              "      <th>Surface_Area</th>\n",
              "      <th>Wall_Area</th>\n",
              "      <th>Roof_Area</th>\n",
              "      <th>Overall_Height</th>\n",
              "      <th>Orientation</th>\n",
              "      <th>Glazing_Area</th>\n",
              "      <th>Glazing_Area_Distribution</th>\n",
              "      <th>Heating_Load</th>\n",
              "    </tr>\n",
              "  </thead>\n",
              "  <tbody>\n",
              "    <tr>\n",
              "      <th>662</th>\n",
              "      <td>C2</td>\n",
              "      <td>0.53</td>\n",
              "      <td>751.90</td>\n",
              "      <td>315.32</td>\n",
              "      <td>178.60</td>\n",
              "      <td>3.15</td>\n",
              "      <td>3.24</td>\n",
              "      <td>0.40</td>\n",
              "      <td>2.43</td>\n",
              "      <td>14.72</td>\n",
              "    </tr>\n",
              "    <tr>\n",
              "      <th>469</th>\n",
              "      <td>C3</td>\n",
              "      <td>0.80</td>\n",
              "      <td>683.55</td>\n",
              "      <td>286.65</td>\n",
              "      <td>198.45</td>\n",
              "      <td>3.15</td>\n",
              "      <td>2.70</td>\n",
              "      <td>0.20</td>\n",
              "      <td>4.00</td>\n",
              "      <td>13.00</td>\n",
              "    </tr>\n",
              "    <tr>\n",
              "      <th>203</th>\n",
              "      <td>C3</td>\n",
              "      <td>0.77</td>\n",
              "      <td>582.12</td>\n",
              "      <td>294.00</td>\n",
              "      <td>119.07</td>\n",
              "      <td>8.47</td>\n",
              "      <td>5.50</td>\n",
              "      <td>0.12</td>\n",
              "      <td>4.40</td>\n",
              "      <td>27.03</td>\n",
              "    </tr>\n",
              "    <tr>\n",
              "      <th>574</th>\n",
              "      <td>C2</td>\n",
              "      <td>0.68</td>\n",
              "      <td>978.29</td>\n",
              "      <td>297.68</td>\n",
              "      <td>218.30</td>\n",
              "      <td>3.85</td>\n",
              "      <td>3.96</td>\n",
              "      <td>0.44</td>\n",
              "      <td>0.99</td>\n",
              "      <td>17.14</td>\n",
              "    </tr>\n",
              "    <tr>\n",
              "      <th>408</th>\n",
              "      <td>C3</td>\n",
              "      <td>0.74</td>\n",
              "      <td>617.40</td>\n",
              "      <td>198.45</td>\n",
              "      <td>218.30</td>\n",
              "      <td>3.85</td>\n",
              "      <td>2.42</td>\n",
              "      <td>0.25</td>\n",
              "      <td>3.30</td>\n",
              "      <td>11.80</td>\n",
              "    </tr>\n",
              "    <tr>\n",
              "      <th>...</th>\n",
              "      <td>...</td>\n",
              "      <td>...</td>\n",
              "      <td>...</td>\n",
              "      <td>...</td>\n",
              "      <td>...</td>\n",
              "      <td>...</td>\n",
              "      <td>...</td>\n",
              "      <td>...</td>\n",
              "      <td>...</td>\n",
              "      <td>...</td>\n",
              "    </tr>\n",
              "    <tr>\n",
              "      <th>145</th>\n",
              "      <td>C2</td>\n",
              "      <td>0.97</td>\n",
              "      <td>416.74</td>\n",
              "      <td>291.06</td>\n",
              "      <td>89.31</td>\n",
              "      <td>7.70</td>\n",
              "      <td>2.97</td>\n",
              "      <td>0.09</td>\n",
              "      <td>3.63</td>\n",
              "      <td>24.40</td>\n",
              "    </tr>\n",
              "    <tr>\n",
              "      <th>401</th>\n",
              "      <td>C1</td>\n",
              "      <td>0.87</td>\n",
              "      <td>515.97</td>\n",
              "      <td>NaN</td>\n",
              "      <td>145.53</td>\n",
              "      <td>6.93</td>\n",
              "      <td>3.30</td>\n",
              "      <td>0.25</td>\n",
              "      <td>2.43</td>\n",
              "      <td>38.35</td>\n",
              "    </tr>\n",
              "    <tr>\n",
              "      <th>343</th>\n",
              "      <td>C3</td>\n",
              "      <td>0.89</td>\n",
              "      <td>557.86</td>\n",
              "      <td>385.39</td>\n",
              "      <td>122.50</td>\n",
              "      <td>7.00</td>\n",
              "      <td>4.05</td>\n",
              "      <td>0.22</td>\n",
              "      <td>1.80</td>\n",
              "      <td>31.66</td>\n",
              "    </tr>\n",
              "    <tr>\n",
              "      <th>192</th>\n",
              "      <td>C2</td>\n",
              "      <td>0.79</td>\n",
              "      <td>565.95</td>\n",
              "      <td>323.40</td>\n",
              "      <td>99.23</td>\n",
              "      <td>6.93</td>\n",
              "      <td>1.98</td>\n",
              "      <td>0.12</td>\n",
              "      <td>3.96</td>\n",
              "      <td>24.38</td>\n",
              "    </tr>\n",
              "    <tr>\n",
              "      <th>418</th>\n",
              "      <td>C3</td>\n",
              "      <td>0.56</td>\n",
              "      <td>661.50</td>\n",
              "      <td>264.60</td>\n",
              "      <td>266.80</td>\n",
              "      <td>3.15</td>\n",
              "      <td>3.96</td>\n",
              "      <td>0.31</td>\n",
              "      <td>2.97</td>\n",
              "      <td>12.31</td>\n",
              "    </tr>\n",
              "  </tbody>\n",
              "</table>\n",
              "<p>537 rows × 10 columns</p>\n",
              "</div>\n",
              "      <button class=\"colab-df-convert\" onclick=\"convertToInteractive('df-ef58f4e4-8bad-46bd-a2af-ea927e1e3ade')\"\n",
              "              title=\"Convert this dataframe to an interactive table.\"\n",
              "              style=\"display:none;\">\n",
              "        \n",
              "  <svg xmlns=\"http://www.w3.org/2000/svg\" height=\"24px\"viewBox=\"0 0 24 24\"\n",
              "       width=\"24px\">\n",
              "    <path d=\"M0 0h24v24H0V0z\" fill=\"none\"/>\n",
              "    <path d=\"M18.56 5.44l.94 2.06.94-2.06 2.06-.94-2.06-.94-.94-2.06-.94 2.06-2.06.94zm-11 1L8.5 8.5l.94-2.06 2.06-.94-2.06-.94L8.5 2.5l-.94 2.06-2.06.94zm10 10l.94 2.06.94-2.06 2.06-.94-2.06-.94-.94-2.06-.94 2.06-2.06.94z\"/><path d=\"M17.41 7.96l-1.37-1.37c-.4-.4-.92-.59-1.43-.59-.52 0-1.04.2-1.43.59L10.3 9.45l-7.72 7.72c-.78.78-.78 2.05 0 2.83L4 21.41c.39.39.9.59 1.41.59.51 0 1.02-.2 1.41-.59l7.78-7.78 2.81-2.81c.8-.78.8-2.07 0-2.86zM5.41 20L4 18.59l7.72-7.72 1.47 1.35L5.41 20z\"/>\n",
              "  </svg>\n",
              "      </button>\n",
              "      \n",
              "  <style>\n",
              "    .colab-df-container {\n",
              "      display:flex;\n",
              "      flex-wrap:wrap;\n",
              "      gap: 12px;\n",
              "    }\n",
              "\n",
              "    .colab-df-convert {\n",
              "      background-color: #E8F0FE;\n",
              "      border: none;\n",
              "      border-radius: 50%;\n",
              "      cursor: pointer;\n",
              "      display: none;\n",
              "      fill: #1967D2;\n",
              "      height: 32px;\n",
              "      padding: 0 0 0 0;\n",
              "      width: 32px;\n",
              "    }\n",
              "\n",
              "    .colab-df-convert:hover {\n",
              "      background-color: #E2EBFA;\n",
              "      box-shadow: 0px 1px 2px rgba(60, 64, 67, 0.3), 0px 1px 3px 1px rgba(60, 64, 67, 0.15);\n",
              "      fill: #174EA6;\n",
              "    }\n",
              "\n",
              "    [theme=dark] .colab-df-convert {\n",
              "      background-color: #3B4455;\n",
              "      fill: #D2E3FC;\n",
              "    }\n",
              "\n",
              "    [theme=dark] .colab-df-convert:hover {\n",
              "      background-color: #434B5C;\n",
              "      box-shadow: 0px 1px 3px 1px rgba(0, 0, 0, 0.15);\n",
              "      filter: drop-shadow(0px 1px 2px rgba(0, 0, 0, 0.3));\n",
              "      fill: #FFFFFF;\n",
              "    }\n",
              "  </style>\n",
              "\n",
              "      <script>\n",
              "        const buttonEl =\n",
              "          document.querySelector('#df-ef58f4e4-8bad-46bd-a2af-ea927e1e3ade button.colab-df-convert');\n",
              "        buttonEl.style.display =\n",
              "          google.colab.kernel.accessAllowed ? 'block' : 'none';\n",
              "\n",
              "        async function convertToInteractive(key) {\n",
              "          const element = document.querySelector('#df-ef58f4e4-8bad-46bd-a2af-ea927e1e3ade');\n",
              "          const dataTable =\n",
              "            await google.colab.kernel.invokeFunction('convertToInteractive',\n",
              "                                                     [key], {});\n",
              "          if (!dataTable) return;\n",
              "\n",
              "          const docLinkHtml = 'Like what you see? Visit the ' +\n",
              "            '<a target=\"_blank\" href=https://colab.research.google.com/notebooks/data_table.ipynb>data table notebook</a>'\n",
              "            + ' to learn more about interactive tables.';\n",
              "          element.innerHTML = '';\n",
              "          dataTable['output_type'] = 'display_data';\n",
              "          await google.colab.output.renderOutput(dataTable, element);\n",
              "          const docLink = document.createElement('div');\n",
              "          docLink.innerHTML = docLinkHtml;\n",
              "          element.appendChild(docLink);\n",
              "        }\n",
              "      </script>\n",
              "    </div>\n",
              "  </div>\n",
              "  "
            ]
          },
          "metadata": {},
          "execution_count": 8
        }
      ]
    },
    {
      "cell_type": "code",
      "source": [
        "# Verifying the test set\n",
        "test_set"
      ],
      "metadata": {
        "colab": {
          "base_uri": "https://localhost:8080/",
          "height": 424
        },
        "id": "TTGZKjneyWnT",
        "outputId": "1ee9bb8b-f6fe-4ec0-9401-efaaf3f609ed"
      },
      "execution_count": 9,
      "outputs": [
        {
          "output_type": "execute_result",
          "data": {
            "text/plain": [
              "    Building_Category  Relative_Compactness  Surface_Area  Wall_Area  \\\n",
              "313                C1                  0.74        679.14        NaN   \n",
              "99                 C2                  0.97        622.55     355.74   \n",
              "550                C3                  0.61        727.65     503.97   \n",
              "334                C3                  0.61        800.42     363.82   \n",
              "211                C3                  0.78        573.30     277.83   \n",
              "..                ...                   ...           ...        ...   \n",
              "396                C2                  0.74        606.38     318.50   \n",
              "218                C1                  0.89        679.14     220.50   \n",
              "281                C2                  0.77        635.04     377.30   \n",
              "547                C1                  0.71        630.63     339.57   \n",
              "90                 C2                  0.64        705.60     308.70   \n",
              "\n",
              "     Roof_Area  Overall_Height  Orientation  Glazing_Area  \\\n",
              "313     242.55            3.15         3.30          0.24   \n",
              "99      109.15            6.93         4.95          0.12   \n",
              "550     121.28            5.67         4.84          0.44   \n",
              "334     242.55            2.84         3.96          0.24   \n",
              "211     132.30            6.93         6.05          0.08   \n",
              "..         ...             ...          ...           ...   \n",
              "396     161.70            7.70         1.98          0.28   \n",
              "218     220.50            3.85         4.40          0.12   \n",
              "281     266.80            3.85         2.43          0.12   \n",
              "547     119.07            7.70         6.05          0.36   \n",
              "90      198.45            3.47         3.24          0.10   \n",
              "\n",
              "     Glazing_Area_Distribution  Heating_Load  \n",
              "313                       0.90         12.50  \n",
              "99                        1.98         24.25  \n",
              "550                       1.21         40.71  \n",
              "334                       0.99         15.08  \n",
              "211                       4.84         37.10  \n",
              "..                         ...           ...  \n",
              "396                       2.97         24.70  \n",
              "218                       4.84         10.07  \n",
              "281                       4.50         15.37  \n",
              "547                       0.99         41.67  \n",
              "90                        0.90         15.42  \n",
              "\n",
              "[231 rows x 10 columns]"
            ],
            "text/html": [
              "\n",
              "  <div id=\"df-df45f509-58c0-411b-91c3-09633c4b6632\">\n",
              "    <div class=\"colab-df-container\">\n",
              "      <div>\n",
              "<style scoped>\n",
              "    .dataframe tbody tr th:only-of-type {\n",
              "        vertical-align: middle;\n",
              "    }\n",
              "\n",
              "    .dataframe tbody tr th {\n",
              "        vertical-align: top;\n",
              "    }\n",
              "\n",
              "    .dataframe thead th {\n",
              "        text-align: right;\n",
              "    }\n",
              "</style>\n",
              "<table border=\"1\" class=\"dataframe\">\n",
              "  <thead>\n",
              "    <tr style=\"text-align: right;\">\n",
              "      <th></th>\n",
              "      <th>Building_Category</th>\n",
              "      <th>Relative_Compactness</th>\n",
              "      <th>Surface_Area</th>\n",
              "      <th>Wall_Area</th>\n",
              "      <th>Roof_Area</th>\n",
              "      <th>Overall_Height</th>\n",
              "      <th>Orientation</th>\n",
              "      <th>Glazing_Area</th>\n",
              "      <th>Glazing_Area_Distribution</th>\n",
              "      <th>Heating_Load</th>\n",
              "    </tr>\n",
              "  </thead>\n",
              "  <tbody>\n",
              "    <tr>\n",
              "      <th>313</th>\n",
              "      <td>C1</td>\n",
              "      <td>0.74</td>\n",
              "      <td>679.14</td>\n",
              "      <td>NaN</td>\n",
              "      <td>242.55</td>\n",
              "      <td>3.15</td>\n",
              "      <td>3.30</td>\n",
              "      <td>0.24</td>\n",
              "      <td>0.90</td>\n",
              "      <td>12.50</td>\n",
              "    </tr>\n",
              "    <tr>\n",
              "      <th>99</th>\n",
              "      <td>C2</td>\n",
              "      <td>0.97</td>\n",
              "      <td>622.55</td>\n",
              "      <td>355.74</td>\n",
              "      <td>109.15</td>\n",
              "      <td>6.93</td>\n",
              "      <td>4.95</td>\n",
              "      <td>0.12</td>\n",
              "      <td>1.98</td>\n",
              "      <td>24.25</td>\n",
              "    </tr>\n",
              "    <tr>\n",
              "      <th>550</th>\n",
              "      <td>C3</td>\n",
              "      <td>0.61</td>\n",
              "      <td>727.65</td>\n",
              "      <td>503.97</td>\n",
              "      <td>121.28</td>\n",
              "      <td>5.67</td>\n",
              "      <td>4.84</td>\n",
              "      <td>0.44</td>\n",
              "      <td>1.21</td>\n",
              "      <td>40.71</td>\n",
              "    </tr>\n",
              "    <tr>\n",
              "      <th>334</th>\n",
              "      <td>C3</td>\n",
              "      <td>0.61</td>\n",
              "      <td>800.42</td>\n",
              "      <td>363.82</td>\n",
              "      <td>242.55</td>\n",
              "      <td>2.84</td>\n",
              "      <td>3.96</td>\n",
              "      <td>0.24</td>\n",
              "      <td>0.99</td>\n",
              "      <td>15.08</td>\n",
              "    </tr>\n",
              "    <tr>\n",
              "      <th>211</th>\n",
              "      <td>C3</td>\n",
              "      <td>0.78</td>\n",
              "      <td>573.30</td>\n",
              "      <td>277.83</td>\n",
              "      <td>132.30</td>\n",
              "      <td>6.93</td>\n",
              "      <td>6.05</td>\n",
              "      <td>0.08</td>\n",
              "      <td>4.84</td>\n",
              "      <td>37.10</td>\n",
              "    </tr>\n",
              "    <tr>\n",
              "      <th>...</th>\n",
              "      <td>...</td>\n",
              "      <td>...</td>\n",
              "      <td>...</td>\n",
              "      <td>...</td>\n",
              "      <td>...</td>\n",
              "      <td>...</td>\n",
              "      <td>...</td>\n",
              "      <td>...</td>\n",
              "      <td>...</td>\n",
              "      <td>...</td>\n",
              "    </tr>\n",
              "    <tr>\n",
              "      <th>396</th>\n",
              "      <td>C2</td>\n",
              "      <td>0.74</td>\n",
              "      <td>606.38</td>\n",
              "      <td>318.50</td>\n",
              "      <td>161.70</td>\n",
              "      <td>7.70</td>\n",
              "      <td>1.98</td>\n",
              "      <td>0.28</td>\n",
              "      <td>2.97</td>\n",
              "      <td>24.70</td>\n",
              "    </tr>\n",
              "    <tr>\n",
              "      <th>218</th>\n",
              "      <td>C1</td>\n",
              "      <td>0.89</td>\n",
              "      <td>679.14</td>\n",
              "      <td>220.50</td>\n",
              "      <td>220.50</td>\n",
              "      <td>3.85</td>\n",
              "      <td>4.40</td>\n",
              "      <td>0.12</td>\n",
              "      <td>4.84</td>\n",
              "      <td>10.07</td>\n",
              "    </tr>\n",
              "    <tr>\n",
              "      <th>281</th>\n",
              "      <td>C2</td>\n",
              "      <td>0.77</td>\n",
              "      <td>635.04</td>\n",
              "      <td>377.30</td>\n",
              "      <td>266.80</td>\n",
              "      <td>3.85</td>\n",
              "      <td>2.43</td>\n",
              "      <td>0.12</td>\n",
              "      <td>4.50</td>\n",
              "      <td>15.37</td>\n",
              "    </tr>\n",
              "    <tr>\n",
              "      <th>547</th>\n",
              "      <td>C1</td>\n",
              "      <td>0.71</td>\n",
              "      <td>630.63</td>\n",
              "      <td>339.57</td>\n",
              "      <td>119.07</td>\n",
              "      <td>7.70</td>\n",
              "      <td>6.05</td>\n",
              "      <td>0.36</td>\n",
              "      <td>0.99</td>\n",
              "      <td>41.67</td>\n",
              "    </tr>\n",
              "    <tr>\n",
              "      <th>90</th>\n",
              "      <td>C2</td>\n",
              "      <td>0.64</td>\n",
              "      <td>705.60</td>\n",
              "      <td>308.70</td>\n",
              "      <td>198.45</td>\n",
              "      <td>3.47</td>\n",
              "      <td>3.24</td>\n",
              "      <td>0.10</td>\n",
              "      <td>0.90</td>\n",
              "      <td>15.42</td>\n",
              "    </tr>\n",
              "  </tbody>\n",
              "</table>\n",
              "<p>231 rows × 10 columns</p>\n",
              "</div>\n",
              "      <button class=\"colab-df-convert\" onclick=\"convertToInteractive('df-df45f509-58c0-411b-91c3-09633c4b6632')\"\n",
              "              title=\"Convert this dataframe to an interactive table.\"\n",
              "              style=\"display:none;\">\n",
              "        \n",
              "  <svg xmlns=\"http://www.w3.org/2000/svg\" height=\"24px\"viewBox=\"0 0 24 24\"\n",
              "       width=\"24px\">\n",
              "    <path d=\"M0 0h24v24H0V0z\" fill=\"none\"/>\n",
              "    <path d=\"M18.56 5.44l.94 2.06.94-2.06 2.06-.94-2.06-.94-.94-2.06-.94 2.06-2.06.94zm-11 1L8.5 8.5l.94-2.06 2.06-.94-2.06-.94L8.5 2.5l-.94 2.06-2.06.94zm10 10l.94 2.06.94-2.06 2.06-.94-2.06-.94-.94-2.06-.94 2.06-2.06.94z\"/><path d=\"M17.41 7.96l-1.37-1.37c-.4-.4-.92-.59-1.43-.59-.52 0-1.04.2-1.43.59L10.3 9.45l-7.72 7.72c-.78.78-.78 2.05 0 2.83L4 21.41c.39.39.9.59 1.41.59.51 0 1.02-.2 1.41-.59l7.78-7.78 2.81-2.81c.8-.78.8-2.07 0-2.86zM5.41 20L4 18.59l7.72-7.72 1.47 1.35L5.41 20z\"/>\n",
              "  </svg>\n",
              "      </button>\n",
              "      \n",
              "  <style>\n",
              "    .colab-df-container {\n",
              "      display:flex;\n",
              "      flex-wrap:wrap;\n",
              "      gap: 12px;\n",
              "    }\n",
              "\n",
              "    .colab-df-convert {\n",
              "      background-color: #E8F0FE;\n",
              "      border: none;\n",
              "      border-radius: 50%;\n",
              "      cursor: pointer;\n",
              "      display: none;\n",
              "      fill: #1967D2;\n",
              "      height: 32px;\n",
              "      padding: 0 0 0 0;\n",
              "      width: 32px;\n",
              "    }\n",
              "\n",
              "    .colab-df-convert:hover {\n",
              "      background-color: #E2EBFA;\n",
              "      box-shadow: 0px 1px 2px rgba(60, 64, 67, 0.3), 0px 1px 3px 1px rgba(60, 64, 67, 0.15);\n",
              "      fill: #174EA6;\n",
              "    }\n",
              "\n",
              "    [theme=dark] .colab-df-convert {\n",
              "      background-color: #3B4455;\n",
              "      fill: #D2E3FC;\n",
              "    }\n",
              "\n",
              "    [theme=dark] .colab-df-convert:hover {\n",
              "      background-color: #434B5C;\n",
              "      box-shadow: 0px 1px 3px 1px rgba(0, 0, 0, 0.15);\n",
              "      filter: drop-shadow(0px 1px 2px rgba(0, 0, 0, 0.3));\n",
              "      fill: #FFFFFF;\n",
              "    }\n",
              "  </style>\n",
              "\n",
              "      <script>\n",
              "        const buttonEl =\n",
              "          document.querySelector('#df-df45f509-58c0-411b-91c3-09633c4b6632 button.colab-df-convert');\n",
              "        buttonEl.style.display =\n",
              "          google.colab.kernel.accessAllowed ? 'block' : 'none';\n",
              "\n",
              "        async function convertToInteractive(key) {\n",
              "          const element = document.querySelector('#df-df45f509-58c0-411b-91c3-09633c4b6632');\n",
              "          const dataTable =\n",
              "            await google.colab.kernel.invokeFunction('convertToInteractive',\n",
              "                                                     [key], {});\n",
              "          if (!dataTable) return;\n",
              "\n",
              "          const docLinkHtml = 'Like what you see? Visit the ' +\n",
              "            '<a target=\"_blank\" href=https://colab.research.google.com/notebooks/data_table.ipynb>data table notebook</a>'\n",
              "            + ' to learn more about interactive tables.';\n",
              "          element.innerHTML = '';\n",
              "          dataTable['output_type'] = 'display_data';\n",
              "          await google.colab.output.renderOutput(dataTable, element);\n",
              "          const docLink = document.createElement('div');\n",
              "          docLink.innerHTML = docLinkHtml;\n",
              "          element.appendChild(docLink);\n",
              "        }\n",
              "      </script>\n",
              "    </div>\n",
              "  </div>\n",
              "  "
            ]
          },
          "metadata": {},
          "execution_count": 9
        }
      ]
    },
    {
      "cell_type": "code",
      "source": [
        "# Making a copy of the training dataset\n",
        "energy_eff = train_set.copy()"
      ],
      "metadata": {
        "id": "3rcS5RO28oNa"
      },
      "execution_count": 10,
      "outputs": []
    },
    {
      "cell_type": "markdown",
      "source": [
        "# Data Inspection"
      ],
      "metadata": {
        "id": "EuNWsV8guxpq"
      }
    },
    {
      "cell_type": "code",
      "source": [
        "# Checking the default datatype of the given columns in the dataset\n",
        "energy_eff.info()"
      ],
      "metadata": {
        "colab": {
          "base_uri": "https://localhost:8080/"
        },
        "id": "o8kzBRVNuNum",
        "outputId": "9c861e5a-797a-40a3-9b6c-1f2bd7fb1f26"
      },
      "execution_count": 11,
      "outputs": [
        {
          "output_type": "stream",
          "name": "stdout",
          "text": [
            "<class 'pandas.core.frame.DataFrame'>\n",
            "Int64Index: 537 entries, 662 to 418\n",
            "Data columns (total 10 columns):\n",
            " #   Column                     Non-Null Count  Dtype  \n",
            "---  ------                     --------------  -----  \n",
            " 0   Building_Category          537 non-null    object \n",
            " 1   Relative_Compactness       537 non-null    float64\n",
            " 2   Surface_Area               537 non-null    float64\n",
            " 3   Wall_Area                  509 non-null    float64\n",
            " 4   Roof_Area                  537 non-null    float64\n",
            " 5   Overall_Height             537 non-null    float64\n",
            " 6   Orientation                537 non-null    float64\n",
            " 7   Glazing_Area               537 non-null    float64\n",
            " 8   Glazing_Area_Distribution  537 non-null    float64\n",
            " 9   Heating_Load               537 non-null    float64\n",
            "dtypes: float64(9), object(1)\n",
            "memory usage: 46.1+ KB\n"
          ]
        }
      ]
    },
    {
      "cell_type": "code",
      "source": [
        "'''\n",
        "  Using describe method for getting a quick statistical summary of dataset to check what is the standard deviation from the mean value of different columns and\n",
        "  for getting the minimum and maximum values. \n",
        "  Here we can observe that for the columns Relative_Compactness, Surface_Area, Wall_Area, Overall_Height mean is greater than median hence the distribution \n",
        "  is right skewed for these columns and for the rest of the columns the distribution is left skewed.\n",
        "''' \n",
        "energy_eff.describe()"
      ],
      "metadata": {
        "colab": {
          "base_uri": "https://localhost:8080/",
          "height": 300
        },
        "id": "Tcnn6YrEu6tH",
        "outputId": "3d375144-436c-465b-851b-72c0611fdd07"
      },
      "execution_count": 12,
      "outputs": [
        {
          "output_type": "execute_result",
          "data": {
            "text/plain": [
              "       Relative_Compactness  Surface_Area   Wall_Area   Roof_Area  \\\n",
              "count            537.000000    537.000000  509.000000  537.000000   \n",
              "mean               0.758622    667.451583  320.636916  178.378510   \n",
              "std                0.149490    120.376506   60.256865   51.497552   \n",
              "min                0.500000    416.740000  198.450000   89.310000   \n",
              "25%                0.640000    582.120000  286.650000  132.300000   \n",
              "50%                0.740000    661.500000  315.320000  178.600000   \n",
              "75%                0.860000    741.130000  355.740000  218.300000   \n",
              "max                1.190000    978.290000  503.970000  266.800000   \n",
              "\n",
              "       Overall_Height  Orientation  Glazing_Area  Glazing_Area_Distribution  \\\n",
              "count      537.000000   537.000000    537.000000                 537.000000   \n",
              "mean         5.179013     3.536872      0.241806                   2.797858   \n",
              "std          1.857620     1.274193      0.139168                   1.595358   \n",
              "min          2.840000     1.620000      0.000000                   0.000000   \n",
              "25%          3.470000     2.420000      0.110000                   1.210000   \n",
              "50%          4.240000     3.600000      0.250000                   2.970000   \n",
              "75%          6.930000     4.500000      0.360000                   3.960000   \n",
              "max          8.470000     6.050000      0.480000                   6.050000   \n",
              "\n",
              "       Heating_Load  \n",
              "count    537.000000  \n",
              "mean      21.999628  \n",
              "std        9.999922  \n",
              "min        6.010000  \n",
              "25%       13.000000  \n",
              "50%       17.370000  \n",
              "75%       29.920000  \n",
              "max       42.620000  "
            ],
            "text/html": [
              "\n",
              "  <div id=\"df-3ee943a9-32ce-4f5c-ba63-cba9ab93d599\">\n",
              "    <div class=\"colab-df-container\">\n",
              "      <div>\n",
              "<style scoped>\n",
              "    .dataframe tbody tr th:only-of-type {\n",
              "        vertical-align: middle;\n",
              "    }\n",
              "\n",
              "    .dataframe tbody tr th {\n",
              "        vertical-align: top;\n",
              "    }\n",
              "\n",
              "    .dataframe thead th {\n",
              "        text-align: right;\n",
              "    }\n",
              "</style>\n",
              "<table border=\"1\" class=\"dataframe\">\n",
              "  <thead>\n",
              "    <tr style=\"text-align: right;\">\n",
              "      <th></th>\n",
              "      <th>Relative_Compactness</th>\n",
              "      <th>Surface_Area</th>\n",
              "      <th>Wall_Area</th>\n",
              "      <th>Roof_Area</th>\n",
              "      <th>Overall_Height</th>\n",
              "      <th>Orientation</th>\n",
              "      <th>Glazing_Area</th>\n",
              "      <th>Glazing_Area_Distribution</th>\n",
              "      <th>Heating_Load</th>\n",
              "    </tr>\n",
              "  </thead>\n",
              "  <tbody>\n",
              "    <tr>\n",
              "      <th>count</th>\n",
              "      <td>537.000000</td>\n",
              "      <td>537.000000</td>\n",
              "      <td>509.000000</td>\n",
              "      <td>537.000000</td>\n",
              "      <td>537.000000</td>\n",
              "      <td>537.000000</td>\n",
              "      <td>537.000000</td>\n",
              "      <td>537.000000</td>\n",
              "      <td>537.000000</td>\n",
              "    </tr>\n",
              "    <tr>\n",
              "      <th>mean</th>\n",
              "      <td>0.758622</td>\n",
              "      <td>667.451583</td>\n",
              "      <td>320.636916</td>\n",
              "      <td>178.378510</td>\n",
              "      <td>5.179013</td>\n",
              "      <td>3.536872</td>\n",
              "      <td>0.241806</td>\n",
              "      <td>2.797858</td>\n",
              "      <td>21.999628</td>\n",
              "    </tr>\n",
              "    <tr>\n",
              "      <th>std</th>\n",
              "      <td>0.149490</td>\n",
              "      <td>120.376506</td>\n",
              "      <td>60.256865</td>\n",
              "      <td>51.497552</td>\n",
              "      <td>1.857620</td>\n",
              "      <td>1.274193</td>\n",
              "      <td>0.139168</td>\n",
              "      <td>1.595358</td>\n",
              "      <td>9.999922</td>\n",
              "    </tr>\n",
              "    <tr>\n",
              "      <th>min</th>\n",
              "      <td>0.500000</td>\n",
              "      <td>416.740000</td>\n",
              "      <td>198.450000</td>\n",
              "      <td>89.310000</td>\n",
              "      <td>2.840000</td>\n",
              "      <td>1.620000</td>\n",
              "      <td>0.000000</td>\n",
              "      <td>0.000000</td>\n",
              "      <td>6.010000</td>\n",
              "    </tr>\n",
              "    <tr>\n",
              "      <th>25%</th>\n",
              "      <td>0.640000</td>\n",
              "      <td>582.120000</td>\n",
              "      <td>286.650000</td>\n",
              "      <td>132.300000</td>\n",
              "      <td>3.470000</td>\n",
              "      <td>2.420000</td>\n",
              "      <td>0.110000</td>\n",
              "      <td>1.210000</td>\n",
              "      <td>13.000000</td>\n",
              "    </tr>\n",
              "    <tr>\n",
              "      <th>50%</th>\n",
              "      <td>0.740000</td>\n",
              "      <td>661.500000</td>\n",
              "      <td>315.320000</td>\n",
              "      <td>178.600000</td>\n",
              "      <td>4.240000</td>\n",
              "      <td>3.600000</td>\n",
              "      <td>0.250000</td>\n",
              "      <td>2.970000</td>\n",
              "      <td>17.370000</td>\n",
              "    </tr>\n",
              "    <tr>\n",
              "      <th>75%</th>\n",
              "      <td>0.860000</td>\n",
              "      <td>741.130000</td>\n",
              "      <td>355.740000</td>\n",
              "      <td>218.300000</td>\n",
              "      <td>6.930000</td>\n",
              "      <td>4.500000</td>\n",
              "      <td>0.360000</td>\n",
              "      <td>3.960000</td>\n",
              "      <td>29.920000</td>\n",
              "    </tr>\n",
              "    <tr>\n",
              "      <th>max</th>\n",
              "      <td>1.190000</td>\n",
              "      <td>978.290000</td>\n",
              "      <td>503.970000</td>\n",
              "      <td>266.800000</td>\n",
              "      <td>8.470000</td>\n",
              "      <td>6.050000</td>\n",
              "      <td>0.480000</td>\n",
              "      <td>6.050000</td>\n",
              "      <td>42.620000</td>\n",
              "    </tr>\n",
              "  </tbody>\n",
              "</table>\n",
              "</div>\n",
              "      <button class=\"colab-df-convert\" onclick=\"convertToInteractive('df-3ee943a9-32ce-4f5c-ba63-cba9ab93d599')\"\n",
              "              title=\"Convert this dataframe to an interactive table.\"\n",
              "              style=\"display:none;\">\n",
              "        \n",
              "  <svg xmlns=\"http://www.w3.org/2000/svg\" height=\"24px\"viewBox=\"0 0 24 24\"\n",
              "       width=\"24px\">\n",
              "    <path d=\"M0 0h24v24H0V0z\" fill=\"none\"/>\n",
              "    <path d=\"M18.56 5.44l.94 2.06.94-2.06 2.06-.94-2.06-.94-.94-2.06-.94 2.06-2.06.94zm-11 1L8.5 8.5l.94-2.06 2.06-.94-2.06-.94L8.5 2.5l-.94 2.06-2.06.94zm10 10l.94 2.06.94-2.06 2.06-.94-2.06-.94-.94-2.06-.94 2.06-2.06.94z\"/><path d=\"M17.41 7.96l-1.37-1.37c-.4-.4-.92-.59-1.43-.59-.52 0-1.04.2-1.43.59L10.3 9.45l-7.72 7.72c-.78.78-.78 2.05 0 2.83L4 21.41c.39.39.9.59 1.41.59.51 0 1.02-.2 1.41-.59l7.78-7.78 2.81-2.81c.8-.78.8-2.07 0-2.86zM5.41 20L4 18.59l7.72-7.72 1.47 1.35L5.41 20z\"/>\n",
              "  </svg>\n",
              "      </button>\n",
              "      \n",
              "  <style>\n",
              "    .colab-df-container {\n",
              "      display:flex;\n",
              "      flex-wrap:wrap;\n",
              "      gap: 12px;\n",
              "    }\n",
              "\n",
              "    .colab-df-convert {\n",
              "      background-color: #E8F0FE;\n",
              "      border: none;\n",
              "      border-radius: 50%;\n",
              "      cursor: pointer;\n",
              "      display: none;\n",
              "      fill: #1967D2;\n",
              "      height: 32px;\n",
              "      padding: 0 0 0 0;\n",
              "      width: 32px;\n",
              "    }\n",
              "\n",
              "    .colab-df-convert:hover {\n",
              "      background-color: #E2EBFA;\n",
              "      box-shadow: 0px 1px 2px rgba(60, 64, 67, 0.3), 0px 1px 3px 1px rgba(60, 64, 67, 0.15);\n",
              "      fill: #174EA6;\n",
              "    }\n",
              "\n",
              "    [theme=dark] .colab-df-convert {\n",
              "      background-color: #3B4455;\n",
              "      fill: #D2E3FC;\n",
              "    }\n",
              "\n",
              "    [theme=dark] .colab-df-convert:hover {\n",
              "      background-color: #434B5C;\n",
              "      box-shadow: 0px 1px 3px 1px rgba(0, 0, 0, 0.15);\n",
              "      filter: drop-shadow(0px 1px 2px rgba(0, 0, 0, 0.3));\n",
              "      fill: #FFFFFF;\n",
              "    }\n",
              "  </style>\n",
              "\n",
              "      <script>\n",
              "        const buttonEl =\n",
              "          document.querySelector('#df-3ee943a9-32ce-4f5c-ba63-cba9ab93d599 button.colab-df-convert');\n",
              "        buttonEl.style.display =\n",
              "          google.colab.kernel.accessAllowed ? 'block' : 'none';\n",
              "\n",
              "        async function convertToInteractive(key) {\n",
              "          const element = document.querySelector('#df-3ee943a9-32ce-4f5c-ba63-cba9ab93d599');\n",
              "          const dataTable =\n",
              "            await google.colab.kernel.invokeFunction('convertToInteractive',\n",
              "                                                     [key], {});\n",
              "          if (!dataTable) return;\n",
              "\n",
              "          const docLinkHtml = 'Like what you see? Visit the ' +\n",
              "            '<a target=\"_blank\" href=https://colab.research.google.com/notebooks/data_table.ipynb>data table notebook</a>'\n",
              "            + ' to learn more about interactive tables.';\n",
              "          element.innerHTML = '';\n",
              "          dataTable['output_type'] = 'display_data';\n",
              "          await google.colab.output.renderOutput(dataTable, element);\n",
              "          const docLink = document.createElement('div');\n",
              "          docLink.innerHTML = docLinkHtml;\n",
              "          element.appendChild(docLink);\n",
              "        }\n",
              "      </script>\n",
              "    </div>\n",
              "  </div>\n",
              "  "
            ]
          },
          "metadata": {},
          "execution_count": 12
        }
      ]
    },
    {
      "cell_type": "code",
      "source": [
        "# Checking the number of unique values for each column\n",
        "for i in energy_eff.columns:\n",
        "  print(i,energy_eff[i].unique().size)"
      ],
      "metadata": {
        "colab": {
          "base_uri": "https://localhost:8080/"
        },
        "id": "xHl7_NbOu-64",
        "outputId": "7eefa932-6553-467b-c140-ac4e86bb4e2f"
      },
      "execution_count": 13,
      "outputs": [
        {
          "output_type": "stream",
          "name": "stdout",
          "text": [
            "Building_Category 3\n",
            "Relative_Compactness 45\n",
            "Surface_Area 65\n",
            "Wall_Area 40\n",
            "Roof_Area 21\n",
            "Overall_Height 12\n",
            "Orientation 24\n",
            "Glazing_Area 17\n",
            "Glazing_Area_Distribution 31\n",
            "Heating_Load 435\n"
          ]
        }
      ]
    },
    {
      "cell_type": "code",
      "source": [
        "# Getting the frequency of each unique value present in each column.\n",
        "for i in energy_eff.columns:\n",
        "  print(energy_eff[i].value_counts())"
      ],
      "metadata": {
        "colab": {
          "base_uri": "https://localhost:8080/"
        },
        "id": "Df2QreYKvB11",
        "outputId": "bf0e201b-a51c-4719-ea31-85fe2e271885"
      },
      "execution_count": 14,
      "outputs": [
        {
          "output_type": "stream",
          "name": "stdout",
          "text": [
            "C2    184\n",
            "C3    183\n",
            "C1    170\n",
            "Name: Building_Category, dtype: int64\n",
            "0.68    33\n",
            "0.73    24\n",
            "0.64    23\n",
            "0.74    23\n",
            "0.81    21\n",
            "0.89    21\n",
            "0.76    20\n",
            "0.86    19\n",
            "0.62    18\n",
            "0.99    16\n",
            "0.67    16\n",
            "0.56    15\n",
            "0.78    15\n",
            "0.70    15\n",
            "0.58    14\n",
            "0.77    12\n",
            "0.75    11\n",
            "0.52    11\n",
            "0.84    11\n",
            "1.19    11\n",
            "0.59    11\n",
            "1.04    11\n",
            "0.90    11\n",
            "0.63    11\n",
            "0.97    10\n",
            "0.53    10\n",
            "0.61    10\n",
            "0.79    10\n",
            "0.71     9\n",
            "0.50     9\n",
            "0.88     9\n",
            "0.85     8\n",
            "0.65     8\n",
            "0.66     8\n",
            "0.87     8\n",
            "1.09     7\n",
            "0.92     7\n",
            "0.69     7\n",
            "0.80     6\n",
            "0.96     6\n",
            "0.60     4\n",
            "0.95     3\n",
            "0.98     2\n",
            "1.08     2\n",
            "0.82     1\n",
            "Name: Relative_Compactness, dtype: int64\n",
            "727.65    34\n",
            "654.88    18\n",
            "800.42    18\n",
            "557.86    17\n",
            "683.55    16\n",
            "          ..\n",
            "637.00     1\n",
            "784.00     1\n",
            "770.77     1\n",
            "563.50     1\n",
            "759.50     1\n",
            "Name: Surface_Area, Length: 65, dtype: int64\n",
            "291.06    50\n",
            "315.32    42\n",
            "339.57    27\n",
            "350.35    25\n",
            "242.55    25\n",
            "355.74    24\n",
            "323.40    20\n",
            "385.39    20\n",
            "286.65    19\n",
            "257.98    18\n",
            "377.30    17\n",
            "238.14    16\n",
            "415.03    15\n",
            "308.70    14\n",
            "404.25    13\n",
            "264.60    12\n",
            "503.97    11\n",
            "412.34    11\n",
            "277.83    10\n",
            "220.50    10\n",
            "318.50    10\n",
            "296.45    10\n",
            "337.36     9\n",
            "218.30     9\n",
            "326.10     7\n",
            "269.50     7\n",
            "198.45     7\n",
            "297.68     7\n",
            "363.83     6\n",
            "363.82     6\n",
            "266.80     6\n",
            "374.85     5\n",
            "330.75     5\n",
            "294.00     4\n",
            "458.15     3\n",
            "367.50     3\n",
            "416.50     2\n",
            "444.68     2\n",
            "343.00     2\n",
            "Name: Wall_Area, dtype: int64\n",
            "218.30    89\n",
            "242.55    54\n",
            "198.45    49\n",
            "266.80    43\n",
            "121.28    38\n",
            "145.53    36\n",
            "178.60    36\n",
            "161.70    28\n",
            "119.07    24\n",
            "132.30    22\n",
            "110.25    21\n",
            "99.23     16\n",
            "177.87    15\n",
            "109.15    15\n",
            "134.75    14\n",
            "148.23    12\n",
            "89.31      7\n",
            "220.50     7\n",
            "133.41     5\n",
            "122.50     4\n",
            "147.00     2\n",
            "Name: Roof_Area, dtype: int64\n",
            "3.47    105\n",
            "6.93     87\n",
            "3.15     49\n",
            "7.70     44\n",
            "4.24     41\n",
            "6.30     39\n",
            "3.85     37\n",
            "5.67     37\n",
            "2.84     35\n",
            "8.47     32\n",
            "7.00     20\n",
            "3.50     11\n",
            "Name: Overall_Height, dtype: int64\n",
            "1.98    52\n",
            "3.96    48\n",
            "4.95    40\n",
            "2.97    39\n",
            "6.05    33\n",
            "3.60    26\n",
            "2.42    25\n",
            "1.62    24\n",
            "3.30    23\n",
            "4.05    22\n",
            "5.50    22\n",
            "4.40    22\n",
            "2.43    22\n",
            "4.84    21\n",
            "1.80    20\n",
            "3.63    18\n",
            "2.70    15\n",
            "4.50    15\n",
            "3.24    14\n",
            "2.20    11\n",
            "2.00     9\n",
            "5.00     7\n",
            "3.00     6\n",
            "4.00     3\n",
            "Name: Orientation, dtype: int64\n",
            "0.40    61\n",
            "0.10    41\n",
            "0.25    38\n",
            "0.31    38\n",
            "0.12    36\n",
            "0.00    34\n",
            "0.44    33\n",
            "0.24    33\n",
            "0.09    32\n",
            "0.48    30\n",
            "0.28    28\n",
            "0.08    26\n",
            "0.36    25\n",
            "0.22    22\n",
            "0.20    21\n",
            "0.11    21\n",
            "0.32    18\n",
            "Name: Glazing_Area, dtype: int64\n",
            "3.96    35\n",
            "0.00    34\n",
            "0.99    32\n",
            "4.95    31\n",
            "2.97    30\n",
            "1.98    27\n",
            "0.90    22\n",
            "2.43    21\n",
            "3.63    19\n",
            "3.24    19\n",
            "4.50    18\n",
            "3.30    18\n",
            "3.60    17\n",
            "4.40    16\n",
            "1.21    16\n",
            "5.50    16\n",
            "1.80    16\n",
            "0.81    16\n",
            "2.42    16\n",
            "4.05    15\n",
            "6.05    15\n",
            "1.10    14\n",
            "1.62    14\n",
            "2.70    13\n",
            "4.84    12\n",
            "2.20    11\n",
            "2.00     9\n",
            "3.00     6\n",
            "5.00     5\n",
            "1.00     3\n",
            "4.00     1\n",
            "Name: Glazing_Area_Distribution, dtype: int64\n",
            "15.55    4\n",
            "13.00    4\n",
            "15.23    3\n",
            "10.68    3\n",
            "11.22    3\n",
            "        ..\n",
            "8.45     1\n",
            "19.06    1\n",
            "10.85    1\n",
            "32.24    1\n",
            "12.31    1\n",
            "Name: Heating_Load, Length: 435, dtype: int64\n"
          ]
        }
      ]
    },
    {
      "cell_type": "markdown",
      "source": [
        "# Data Visualisation"
      ],
      "metadata": {
        "id": "BZW7nAjovnQ8"
      }
    },
    {
      "cell_type": "code",
      "source": [
        "# Plotting the Frequency of each building category\n",
        "sns.countplot(x='Building_Category', data=energy_eff)\n",
        "plt.xticks(rotation=45)\n",
        "plt.show()"
      ],
      "metadata": {
        "colab": {
          "base_uri": "https://localhost:8080/",
          "height": 287
        },
        "id": "uC5tt3OovW3p",
        "outputId": "61dfdbeb-e1d5-43ee-caa0-97e618d67875"
      },
      "execution_count": 15,
      "outputs": [
        {
          "output_type": "display_data",
          "data": {
            "text/plain": [
              "<Figure size 432x288 with 1 Axes>"
            ],
            "image/png": "[encoded data removed]"
          },
          "metadata": {
            "needs_background": "light"
          }
        }
      ]
    },
    {
      "cell_type": "code",
      "source": [
        "'''\n",
        "    Plotting histogram for column Heating_Load for visualizing the shape of the distribution of a variable, including its central tendency \n",
        "    (where the data tends to cluster) and its spread (how spread out the data is)to identify outliers, as well as any skewness\n",
        "'''\n",
        "fig = px.histogram(energy_eff, x=\"Heating_Load\")\n",
        "fig.show()"
      ],
      "metadata": {
        "colab": {
          "base_uri": "https://localhost:8080/",
          "height": 542
        },
        "id": "tczS_iD4vx4z",
        "outputId": "3db03610-2905-4fc8-f0ab-4536b71922a6"
      },
      "execution_count": 16,
      "outputs": [
        {
          "output_type": "display_data",
          "data": {
            "text/html": [
              "<html>\n",
              "<head><meta charset=\"utf-8\" /></head>\n",
              "<body>\n",
              "    <div>            <script src=\"https://cdnjs.cloudflare.com/ajax/libs/mathjax/2.7.5/MathJax.js?config=TeX-AMS-MML_SVG\"></script><script type=\"text/javascript\">if (window.MathJax) {MathJax.Hub.Config({SVG: {font: \"STIX-Web\"}});}</script>                <script type=\"text/javascript\">window.PlotlyConfig = {MathJaxConfig: 'local'};</script>\n",
              "        <script src=\"https://cdn.plot.ly/plotly-2.8.3.min.js\"></script>                <div id=\"703057e8-73f9-45b7-99bb-c3eeda2ff01c\" class=\"plotly-graph-div\" style=\"height:525px; width:100%;\"></div>            <script type=\"text/javascript\">                                    window.PLOTLYENV=window.PLOTLYENV || {};                                    if (document.getElementById(\"703057e8-73f9-45b7-99bb-c3eeda2ff01c\")) {                    Plotly.newPlot(                        \"703057e8-73f9-45b7-99bb-c3eeda2ff01c\",                        [{\"alignmentgroup\":\"True\",\"bingroup\":\"x\",\"hovertemplate\":\"Heating_Load=%{x}<br>count=%{y}<extra></extra>\",\"legendgroup\":\"\",\"marker\":{\"color\":\"#636efa\",\"pattern\":{\"shape\":\"\"}},\"name\":\"\",\"offsetgroup\":\"\",\"orientation\":\"v\",\"showlegend\":false,\"x\":[14.72,13.0,27.03,17.14,11.8,28.4,32.31,25.17,23.87,18.19,41.26,10.77,14.6,40.43,29.91,14.52,15.55,12.43,25.7,12.85,15.55,12.74,16.44,35.24,15.09,12.18,12.93,31.66,11.34,14.03,14.6,28.67,8.6,14.71,14.5,22.93,26.44,16.76,14.55,16.62,24.26,41.73,11.64,14.61,11.11,13.91,28.18,19.2,38.82,19.48,15.36,12.67,16.54,32.46,17.14,31.69,6.85,11.33,35.73,36.81,17.17,28.05,29.08,36.45,27.27,39.31,28.6,16.9,29.39,11.22,38.98,10.36,12.3,33.27,29.9,32.4,11.22,34.29,14.66,36.91,15.23,36.7,15.41,11.11,14.62,14.18,14.1,14.12,28.91,14.17,41.09,11.16,36.86,23.84,14.92,28.64,29.62,10.71,39.72,10.7,17.23,36.06,13.94,15.2,31.89,40.12,29.06,36.43,12.63,15.16,14.37,28.58,29.54,13.02,15.29,12.65,16.95,12.45,32.23,13.69,12.93,13.99,36.97,10.46,14.4,16.83,13.0,12.27,32.69,39.83,29.01,28.66,36.7,12.74,10.36,24.58,26.84,12.17,29.6,10.14,11.09,14.21,42.49,38.84,11.68,25.74,12.36,15.4,11.6,25.27,32.12,32.41,26.91,30.0,37.24,11.32,36.28,36.47,17.02,36.57,25.48,41.32,24.03,14.48,12.33,16.64,18.48,17.05,32.07,26.45,17.41,38.67,16.44,10.75,36.26,30.05,25.41,26.0,15.55,15.16,14.56,17.5,32.24,28.67,10.85,19.06,8.45,14.08,12.76,39.89,39.04,15.19,40.42,16.84,14.5,11.21,15.98,24.23,12.86,12.95,12.78,12.16,12.93,14.07,32.85,24.59,12.95,17.15,17.88,35.56,14.62,14.54,25.38,31.63,14.96,39.32,29.67,40.19,15.21,32.21,36.66,15.29,33.13,11.98,13.86,12.95,28.62,10.67,6.77,15.34,35.48,23.93,10.68,29.47,29.09,33.08,14.6,28.63,26.46,36.97,32.53,12.68,37.12,32.82,12.73,19.68,40.78,12.91,29.88,14.61,8.5,14.66,12.25,32.33,24.37,32.0,12.1,28.07,23.75,14.34,15.23,16.56,29.14,12.12,27.03,39.86,11.61,12.97,13.78,31.28,16.74,16.76,32.21,40.57,16.93,32.31,32.38,12.47,6.01,28.42,24.11,40.78,40.68,11.33,15.3,15.12,32.74,16.47,33.24,14.42,17.14,6.04,41.4,28.64,29.06,17.37,31.84,15.34,15.3,13.0,18.84,10.39,39.84,36.64,12.02,15.34,34.72,14.19,12.29,22.58,18.31,8.49,6.37,38.33,12.96,36.86,10.43,18.48,12.63,19.42,12.49,36.57,16.86,36.06,40.11,24.77,18.9,11.7,35.84,36.13,39.68,15.09,12.18,13.18,13.17,36.45,15.09,28.7,10.68,11.69,11.18,14.41,42.5,23.93,29.52,12.34,14.61,29.63,10.32,28.41,12.46,14.47,11.1,16.92,29.02,36.71,11.22,39.86,11.53,28.4,40.03,19.52,14.7,29.68,32.4,12.71,14.65,12.19,11.44,32.12,29.87,26.28,10.7,10.68,16.55,14.71,35.65,32.72,12.86,15.55,14.37,13.18,13.02,24.28,12.19,12.2,17.69,23.54,11.69,12.41,32.84,24.29,17.11,41.92,16.99,12.57,32.05,14.44,36.9,28.03,29.71,11.16,23.89,28.69,12.8,14.33,35.99,26.37,11.14,24.96,39.83,11.42,35.94,15.16,15.23,25.17,18.16,29.43,32.46,40.79,40.6,32.06,28.15,16.86,7.1,12.45,19.5,11.38,32.67,12.59,29.08,13.86,13.05,24.35,33.48,10.39,14.45,24.04,10.38,7.1,29.05,35.78,14.92,39.01,24.63,10.56,11.59,35.4,34.95,7.18,6.81,23.8,16.66,36.59,12.88,14.71,25.43,6.07,26.33,19.13,29.27,32.68,15.32,31.29,31.64,17.52,14.5,13.0,28.86,24.32,16.73,29.79,12.3,12.72,12.73,36.95,12.84,33.27,10.39,28.37,32.33,12.12,14.75,36.45,25.36,14.53,15.18,23.67,14.39,15.19,10.42,10.35,25.66,11.42,14.34,12.43,19.34,35.48,42.62,15.36,25.36,16.48,12.12,32.13,10.15,12.77,26.97,38.89,35.89,13.17,28.09,23.53,41.3,28.15,13.68,22.89,28.67,29.22,29.92,32.74,12.03,32.29,17.35,11.43,28.61,29.07,11.2,20.84,24.24,10.45,36.95,11.46,24.4,38.35,31.66,24.38,12.31],\"xaxis\":\"x\",\"yaxis\":\"y\",\"type\":\"histogram\"}],                        {\"template\":{\"data\":{\"bar\":[{\"error_x\":{\"color\":\"#2a3f5f\"},\"error_y\":{\"color\":\"#2a3f5f\"},\"marker\":{\"line\":{\"color\":\"#E5ECF6\",\"width\":0.5},\"pattern\":{\"fillmode\":\"overlay\",\"size\":10,\"solidity\":0.2}},\"type\":\"bar\"}],\"barpolar\":[{\"marker\":{\"line\":{\"color\":\"#E5ECF6\",\"width\":0.5},\"pattern\":{\"fillmode\":\"overlay\",\"size\":10,\"solidity\":0.2}},\"type\":\"barpolar\"}],\"carpet\":[{\"aaxis\":{\"endlinecolor\":\"#2a3f5f\",\"gridcolor\":\"white\",\"linecolor\":\"white\",\"minorgridcolor\":\"white\",\"startlinecolor\":\"#2a3f5f\"},\"baxis\":{\"endlinecolor\":\"#2a3f5f\",\"gridcolor\":\"white\",\"linecolor\":\"white\",\"minorgridcolor\":\"white\",\"startlinecolor\":\"#2a3f5f\"},\"type\":\"carpet\"}],\"choropleth\":[{\"colorbar\":{\"outlinewidth\":0,\"ticks\":\"\"},\"type\":\"choropleth\"}],\"contour\":[{\"colorbar\":{\"outlinewidth\":0,\"ticks\":\"\"},\"colorscale\":[[0.0,\"#0d0887\"],[0.1111111111111111,\"#46039f\"],[0.2222222222222222,\"#7201a8\"],[0.3333333333333333,\"#9c179e\"],[0.4444444444444444,\"#bd3786\"],[0.5555555555555556,\"#d8576b\"],[0.6666666666666666,\"#ed7953\"],[0.7777777777777778,\"#fb9f3a\"],[0.8888888888888888,\"#fdca26\"],[1.0,\"#f0f921\"]],\"type\":\"contour\"}],\"contourcarpet\":[{\"colorbar\":{\"outlinewidth\":0,\"ticks\":\"\"},\"type\":\"contourcarpet\"}],\"heatmap\":[{\"colorbar\":{\"outlinewidth\":0,\"ticks\":\"\"},\"colorscale\":[[0.0,\"#0d0887\"],[0.1111111111111111,\"#46039f\"],[0.2222222222222222,\"#7201a8\"],[0.3333333333333333,\"#9c179e\"],[0.4444444444444444,\"#bd3786\"],[0.5555555555555556,\"#d8576b\"],[0.6666666666666666,\"#ed7953\"],[0.7777777777777778,\"#fb9f3a\"],[0.8888888888888888,\"#fdca26\"],[1.0,\"#f0f921\"]],\"type\":\"heatmap\"}],\"heatmapgl\":[{\"colorbar\":{\"outlinewidth\":0,\"ticks\":\"\"},\"colorscale\":[[0.0,\"#0d0887\"],[0.1111111111111111,\"#46039f\"],[0.2222222222222222,\"#7201a8\"],[0.3333333333333333,\"#9c179e\"],[0.4444444444444444,\"#bd3786\"],[0.5555555555555556,\"#d8576b\"],[0.6666666666666666,\"#ed7953\"],[0.7777777777777778,\"#fb9f3a\"],[0.8888888888888888,\"#fdca26\"],[1.0,\"#f0f921\"]],\"type\":\"heatmapgl\"}],\"histogram\":[{\"marker\":{\"pattern\":{\"fillmode\":\"overlay\",\"size\":10,\"solidity\":0.2}},\"type\":\"histogram\"}],\"histogram2d\":[{\"colorbar\":{\"outlinewidth\":0,\"ticks\":\"\"},\"colorscale\":[[0.0,\"#0d0887\"],[0.1111111111111111,\"#46039f\"],[0.2222222222222222,\"#7201a8\"],[0.3333333333333333,\"#9c179e\"],[0.4444444444444444,\"#bd3786\"],[0.5555555555555556,\"#d8576b\"],[0.6666666666666666,\"#ed7953\"],[0.7777777777777778,\"#fb9f3a\"],[0.8888888888888888,\"#fdca26\"],[1.0,\"#f0f921\"]],\"type\":\"histogram2d\"}],\"histogram2dcontour\":[{\"colorbar\":{\"outlinewidth\":0,\"ticks\":\"\"},\"colorscale\":[[0.0,\"#0d0887\"],[0.1111111111111111,\"#46039f\"],[0.2222222222222222,\"#7201a8\"],[0.3333333333333333,\"#9c179e\"],[0.4444444444444444,\"#bd3786\"],[0.5555555555555556,\"#d8576b\"],[0.6666666666666666,\"#ed7953\"],[0.7777777777777778,\"#fb9f3a\"],[0.8888888888888888,\"#fdca26\"],[1.0,\"#f0f921\"]],\"type\":\"histogram2dcontour\"}],\"mesh3d\":[{\"colorbar\":{\"outlinewidth\":0,\"ticks\":\"\"},\"type\":\"mesh3d\"}],\"parcoords\":[{\"line\":{\"colorbar\":{\"outlinewidth\":0,\"ticks\":\"\"}},\"type\":\"parcoords\"}],\"pie\":[{\"automargin\":true,\"type\":\"pie\"}],\"scatter\":[{\"marker\":{\"colorbar\":{\"outlinewidth\":0,\"ticks\":\"\"}},\"type\":\"scatter\"}],\"scatter3d\":[{\"line\":{\"colorbar\":{\"outlinewidth\":0,\"ticks\":\"\"}},\"marker\":{\"colorbar\":{\"outlinewidth\":0,\"ticks\":\"\"}},\"type\":\"scatter3d\"}],\"scattercarpet\":[{\"marker\":{\"colorbar\":{\"outlinewidth\":0,\"ticks\":\"\"}},\"type\":\"scattercarpet\"}],\"scattergeo\":[{\"marker\":{\"colorbar\":{\"outlinewidth\":0,\"ticks\":\"\"}},\"type\":\"scattergeo\"}],\"scattergl\":[{\"marker\":{\"colorbar\":{\"outlinewidth\":0,\"ticks\":\"\"}},\"type\":\"scattergl\"}],\"scattermapbox\":[{\"marker\":{\"colorbar\":{\"outlinewidth\":0,\"ticks\":\"\"}},\"type\":\"scattermapbox\"}],\"scatterpolar\":[{\"marker\":{\"colorbar\":{\"outlinewidth\":0,\"ticks\":\"\"}},\"type\":\"scatterpolar\"}],\"scatterpolargl\":[{\"marker\":{\"colorbar\":{\"outlinewidth\":0,\"ticks\":\"\"}},\"type\":\"scatterpolargl\"}],\"scatterternary\":[{\"marker\":{\"colorbar\":{\"outlinewidth\":0,\"ticks\":\"\"}},\"type\":\"scatterternary\"}],\"surface\":[{\"colorbar\":{\"outlinewidth\":0,\"ticks\":\"\"},\"colorscale\":[[0.0,\"#0d0887\"],[0.1111111111111111,\"#46039f\"],[0.2222222222222222,\"#7201a8\"],[0.3333333333333333,\"#9c179e\"],[0.4444444444444444,\"#bd3786\"],[0.5555555555555556,\"#d8576b\"],[0.6666666666666666,\"#ed7953\"],[0.7777777777777778,\"#fb9f3a\"],[0.8888888888888888,\"#fdca26\"],[1.0,\"#f0f921\"]],\"type\":\"surface\"}],\"table\":[{\"cells\":{\"fill\":{\"color\":\"#EBF0F8\"},\"line\":{\"color\":\"white\"}},\"header\":{\"fill\":{\"color\":\"#C8D4E3\"},\"line\":{\"color\":\"white\"}},\"type\":\"table\"}]},\"layout\":{\"annotationdefaults\":{\"arrowcolor\":\"#2a3f5f\",\"arrowhead\":0,\"arrowwidth\":1},\"autotypenumbers\":\"strict\",\"coloraxis\":{\"colorbar\":{\"outlinewidth\":0,\"ticks\":\"\"}},\"colorscale\":{\"diverging\":[[0,\"#8e0152\"],[0.1,\"#c51b7d\"],[0.2,\"#de77ae\"],[0.3,\"#f1b6da\"],[0.4,\"#fde0ef\"],[0.5,\"#f7f7f7\"],[0.6,\"#e6f5d0\"],[0.7,\"#b8e186\"],[0.8,\"#7fbc41\"],[0.9,\"#4d9221\"],[1,\"#276419\"]],\"sequential\":[[0.0,\"#0d0887\"],[0.1111111111111111,\"#46039f\"],[0.2222222222222222,\"#7201a8\"],[0.3333333333333333,\"#9c179e\"],[0.4444444444444444,\"#bd3786\"],[0.5555555555555556,\"#d8576b\"],[0.6666666666666666,\"#ed7953\"],[0.7777777777777778,\"#fb9f3a\"],[0.8888888888888888,\"#fdca26\"],[1.0,\"#f0f921\"]],\"sequentialminus\":[[0.0,\"#0d0887\"],[0.1111111111111111,\"#46039f\"],[0.2222222222222222,\"#7201a8\"],[0.3333333333333333,\"#9c179e\"],[0.4444444444444444,\"#bd3786\"],[0.5555555555555556,\"#d8576b\"],[0.6666666666666666,\"#ed7953\"],[0.7777777777777778,\"#fb9f3a\"],[0.8888888888888888,\"#fdca26\"],[1.0,\"#f0f921\"]]},\"colorway\":[\"#636efa\",\"#EF553B\",\"#00cc96\",\"#ab63fa\",\"#FFA15A\",\"#19d3f3\",\"#FF6692\",\"#B6E880\",\"#FF97FF\",\"#FECB52\"],\"font\":{\"color\":\"#2a3f5f\"},\"geo\":{\"bgcolor\":\"white\",\"lakecolor\":\"white\",\"landcolor\":\"#E5ECF6\",\"showlakes\":true,\"showland\":true,\"subunitcolor\":\"white\"},\"hoverlabel\":{\"align\":\"left\"},\"hovermode\":\"closest\",\"mapbox\":{\"style\":\"light\"},\"paper_bgcolor\":\"white\",\"plot_bgcolor\":\"#E5ECF6\",\"polar\":{\"angularaxis\":{\"gridcolor\":\"white\",\"linecolor\":\"white\",\"ticks\":\"\"},\"bgcolor\":\"#E5ECF6\",\"radialaxis\":{\"gridcolor\":\"white\",\"linecolor\":\"white\",\"ticks\":\"\"}},\"scene\":{\"xaxis\":{\"backgroundcolor\":\"#E5ECF6\",\"gridcolor\":\"white\",\"gridwidth\":2,\"linecolor\":\"white\",\"showbackground\":true,\"ticks\":\"\",\"zerolinecolor\":\"white\"},\"yaxis\":{\"backgroundcolor\":\"#E5ECF6\",\"gridcolor\":\"white\",\"gridwidth\":2,\"linecolor\":\"white\",\"showbackground\":true,\"ticks\":\"\",\"zerolinecolor\":\"white\"},\"zaxis\":{\"backgroundcolor\":\"#E5ECF6\",\"gridcolor\":\"white\",\"gridwidth\":2,\"linecolor\":\"white\",\"showbackground\":true,\"ticks\":\"\",\"zerolinecolor\":\"white\"}},\"shapedefaults\":{\"line\":{\"color\":\"#2a3f5f\"}},\"ternary\":{\"aaxis\":{\"gridcolor\":\"white\",\"linecolor\":\"white\",\"ticks\":\"\"},\"baxis\":{\"gridcolor\":\"white\",\"linecolor\":\"white\",\"ticks\":\"\"},\"bgcolor\":\"#E5ECF6\",\"caxis\":{\"gridcolor\":\"white\",\"linecolor\":\"white\",\"ticks\":\"\"}},\"title\":{\"x\":0.05},\"xaxis\":{\"automargin\":true,\"gridcolor\":\"white\",\"linecolor\":\"white\",\"ticks\":\"\",\"title\":{\"standoff\":15},\"zerolinecolor\":\"white\",\"zerolinewidth\":2},\"yaxis\":{\"automargin\":true,\"gridcolor\":\"white\",\"linecolor\":\"white\",\"ticks\":\"\",\"title\":{\"standoff\":15},\"zerolinecolor\":\"white\",\"zerolinewidth\":2}}},\"xaxis\":{\"anchor\":\"y\",\"domain\":[0.0,1.0],\"title\":{\"text\":\"Heating_Load\"}},\"yaxis\":{\"anchor\":\"x\",\"domain\":[0.0,1.0],\"title\":{\"text\":\"count\"}},\"legend\":{\"tracegroupgap\":0},\"margin\":{\"t\":60},\"barmode\":\"relative\"},                        {\"responsive\": true}                    ).then(function(){\n",
              "                            \n",
              "var gd = document.getElementById('703057e8-73f9-45b7-99bb-c3eeda2ff01c');\n",
              "var x = new MutationObserver(function (mutations, observer) {{\n",
              "        var display = window.getComputedStyle(gd).display;\n",
              "        if (!display || display === 'none') {{\n",
              "            console.log([gd, 'removed!']);\n",
              "            Plotly.purge(gd);\n",
              "            observer.disconnect();\n",
              "        }}\n",
              "}});\n",
              "\n",
              "// Listen for the removal of the full notebook cells\n",
              "var notebookContainer = gd.closest('#notebook-container');\n",
              "if (notebookContainer) {{\n",
              "    x.observe(notebookContainer, {childList: true});\n",
              "}}\n",
              "\n",
              "// Listen for the clearing of the current output cell\n",
              "var outputEl = gd.closest('.output');\n",
              "if (outputEl) {{\n",
              "    x.observe(outputEl, {childList: true});\n",
              "}}\n",
              "\n",
              "                        })                };                            </script>        </div>\n",
              "</body>\n",
              "</html>"
            ]
          },
          "metadata": {}
        }
      ]
    },
    {
      "cell_type": "code",
      "source": [
        "# Checking mean values of target colummns grouped by their Building_Category\n",
        "dv1 = energy_eff[['Building_Category', 'Heating_Load']].groupby(['Building_Category']).mean().sort_values('Heating_Load')\n",
        "dv1 = dv1.reset_index()\n",
        "dv1.head()\n",
        "# We observe that there is not much difference between the mean values of target columns as per their building category."
      ],
      "metadata": {
        "colab": {
          "base_uri": "https://localhost:8080/",
          "height": 143
        },
        "id": "DpS8-pxwv0fz",
        "outputId": "cf28d134-283e-4825-ab47-90292a5b73de"
      },
      "execution_count": 17,
      "outputs": [
        {
          "output_type": "execute_result",
          "data": {
            "text/plain": [
              "  Building_Category  Heating_Load\n",
              "0                C3     21.675410\n",
              "1                C1     22.036706\n",
              "2                C2     22.287826"
            ],
            "text/html": [
              "\n",
              "  <div id=\"df-6c58c0e2-830a-494c-8389-bc8776214778\">\n",
              "    <div class=\"colab-df-container\">\n",
              "      <div>\n",
              "<style scoped>\n",
              "    .dataframe tbody tr th:only-of-type {\n",
              "        vertical-align: middle;\n",
              "    }\n",
              "\n",
              "    .dataframe tbody tr th {\n",
              "        vertical-align: top;\n",
              "    }\n",
              "\n",
              "    .dataframe thead th {\n",
              "        text-align: right;\n",
              "    }\n",
              "</style>\n",
              "<table border=\"1\" class=\"dataframe\">\n",
              "  <thead>\n",
              "    <tr style=\"text-align: right;\">\n",
              "      <th></th>\n",
              "      <th>Building_Category</th>\n",
              "      <th>Heating_Load</th>\n",
              "    </tr>\n",
              "  </thead>\n",
              "  <tbody>\n",
              "    <tr>\n",
              "      <th>0</th>\n",
              "      <td>C3</td>\n",
              "      <td>21.675410</td>\n",
              "    </tr>\n",
              "    <tr>\n",
              "      <th>1</th>\n",
              "      <td>C1</td>\n",
              "      <td>22.036706</td>\n",
              "    </tr>\n",
              "    <tr>\n",
              "      <th>2</th>\n",
              "      <td>C2</td>\n",
              "      <td>22.287826</td>\n",
              "    </tr>\n",
              "  </tbody>\n",
              "</table>\n",
              "</div>\n",
              "      <button class=\"colab-df-convert\" onclick=\"convertToInteractive('df-6c58c0e2-830a-494c-8389-bc8776214778')\"\n",
              "              title=\"Convert this dataframe to an interactive table.\"\n",
              "              style=\"display:none;\">\n",
              "        \n",
              "  <svg xmlns=\"http://www.w3.org/2000/svg\" height=\"24px\"viewBox=\"0 0 24 24\"\n",
              "       width=\"24px\">\n",
              "    <path d=\"M0 0h24v24H0V0z\" fill=\"none\"/>\n",
              "    <path d=\"M18.56 5.44l.94 2.06.94-2.06 2.06-.94-2.06-.94-.94-2.06-.94 2.06-2.06.94zm-11 1L8.5 8.5l.94-2.06 2.06-.94-2.06-.94L8.5 2.5l-.94 2.06-2.06.94zm10 10l.94 2.06.94-2.06 2.06-.94-2.06-.94-.94-2.06-.94 2.06-2.06.94z\"/><path d=\"M17.41 7.96l-1.37-1.37c-.4-.4-.92-.59-1.43-.59-.52 0-1.04.2-1.43.59L10.3 9.45l-7.72 7.72c-.78.78-.78 2.05 0 2.83L4 21.41c.39.39.9.59 1.41.59.51 0 1.02-.2 1.41-.59l7.78-7.78 2.81-2.81c.8-.78.8-2.07 0-2.86zM5.41 20L4 18.59l7.72-7.72 1.47 1.35L5.41 20z\"/>\n",
              "  </svg>\n",
              "      </button>\n",
              "      \n",
              "  <style>\n",
              "    .colab-df-container {\n",
              "      display:flex;\n",
              "      flex-wrap:wrap;\n",
              "      gap: 12px;\n",
              "    }\n",
              "\n",
              "    .colab-df-convert {\n",
              "      background-color: #E8F0FE;\n",
              "      border: none;\n",
              "      border-radius: 50%;\n",
              "      cursor: pointer;\n",
              "      display: none;\n",
              "      fill: #1967D2;\n",
              "      height: 32px;\n",
              "      padding: 0 0 0 0;\n",
              "      width: 32px;\n",
              "    }\n",
              "\n",
              "    .colab-df-convert:hover {\n",
              "      background-color: #E2EBFA;\n",
              "      box-shadow: 0px 1px 2px rgba(60, 64, 67, 0.3), 0px 1px 3px 1px rgba(60, 64, 67, 0.15);\n",
              "      fill: #174EA6;\n",
              "    }\n",
              "\n",
              "    [theme=dark] .colab-df-convert {\n",
              "      background-color: #3B4455;\n",
              "      fill: #D2E3FC;\n",
              "    }\n",
              "\n",
              "    [theme=dark] .colab-df-convert:hover {\n",
              "      background-color: #434B5C;\n",
              "      box-shadow: 0px 1px 3px 1px rgba(0, 0, 0, 0.15);\n",
              "      filter: drop-shadow(0px 1px 2px rgba(0, 0, 0, 0.3));\n",
              "      fill: #FFFFFF;\n",
              "    }\n",
              "  </style>\n",
              "\n",
              "      <script>\n",
              "        const buttonEl =\n",
              "          document.querySelector('#df-6c58c0e2-830a-494c-8389-bc8776214778 button.colab-df-convert');\n",
              "        buttonEl.style.display =\n",
              "          google.colab.kernel.accessAllowed ? 'block' : 'none';\n",
              "\n",
              "        async function convertToInteractive(key) {\n",
              "          const element = document.querySelector('#df-6c58c0e2-830a-494c-8389-bc8776214778');\n",
              "          const dataTable =\n",
              "            await google.colab.kernel.invokeFunction('convertToInteractive',\n",
              "                                                     [key], {});\n",
              "          if (!dataTable) return;\n",
              "\n",
              "          const docLinkHtml = 'Like what you see? Visit the ' +\n",
              "            '<a target=\"_blank\" href=https://colab.research.google.com/notebooks/data_table.ipynb>data table notebook</a>'\n",
              "            + ' to learn more about interactive tables.';\n",
              "          element.innerHTML = '';\n",
              "          dataTable['output_type'] = 'display_data';\n",
              "          await google.colab.output.renderOutput(dataTable, element);\n",
              "          const docLink = document.createElement('div');\n",
              "          docLink.innerHTML = docLinkHtml;\n",
              "          element.appendChild(docLink);\n",
              "        }\n",
              "      </script>\n",
              "    </div>\n",
              "  </div>\n",
              "  "
            ]
          },
          "metadata": {},
          "execution_count": 17
        }
      ]
    },
    {
      "cell_type": "code",
      "source": [
        "# Boxplot of below columns which are in the same range to compare the five number summary of the below columns\n",
        "fig = px.box(energy_eff, y=['Surface_Area', 'Wall_Area', 'Roof_Area'])\n",
        "fig.show()"
      ],
      "metadata": {
        "colab": {
          "base_uri": "https://localhost:8080/",
          "height": 542
        },
        "id": "jF5KPIpav3H3",
        "outputId": "81d86d25-af27-4fd6-f9c8-a44eaa8094e7"
      },
      "execution_count": 18,
      "outputs": [
        {
          "output_type": "display_data",
          "data": {
            "text/html": [
              "<html>\n",
              "<head><meta charset=\"utf-8\" /></head>\n",
              "<body>\n",
              "    <div>            <script src=\"https://cdnjs.cloudflare.com/ajax/libs/mathjax/2.7.5/MathJax.js?config=TeX-AMS-MML_SVG\"></script><script type=\"text/javascript\">if (window.MathJax) {MathJax.Hub.Config({SVG: {font: \"STIX-Web\"}});}</script>                <script type=\"text/javascript\">window.PlotlyConfig = {MathJaxConfig: 'local'};</script>\n",
              "        <script src=\"https://cdn.plot.ly/plotly-2.8.3.min.js\"></script>                <div id=\"c9bf88bc-de2a-45e1-9d23-86f9981b0529\" class=\"plotly-graph-div\" style=\"height:525px; width:100%;\"></div>            <script type=\"text/javascript\">                                    window.PLOTLYENV=window.PLOTLYENV || {};                                    if (document.getElementById(\"c9bf88bc-de2a-45e1-9d23-86f9981b0529\")) {                    Plotly.newPlot(                        \"c9bf88bc-de2a-45e1-9d23-86f9981b0529\",                        [{\"alignmentgroup\":\"True\",\"hovertemplate\":\"variable=%{x}<br>value=%{y}<extra></extra>\",\"legendgroup\":\"\",\"marker\":{\"color\":\"#636efa\"},\"name\":\"\",\"notched\":false,\"offsetgroup\":\"\",\"orientation\":\"v\",\"showlegend\":false,\"x\":[\"Surface_Area\",\"Surface_Area\",\"Surface_Area\",\"Surface_Area\",\"Surface_Area\",\"Surface_Area\",\"Surface_Area\",\"Surface_Area\",\"Surface_Area\",\"Surface_Area\",\"Surface_Area\",\"Surface_Area\",\"Surface_Area\",\"Surface_Area\",\"Surface_Area\",\"Surface_Area\",\"Surface_Area\",\"Surface_Area\",\"Surface_Area\",\"Surface_Area\",\"Surface_Area\",\"Surface_Area\",\"Surface_Area\",\"Surface_Area\",\"Surface_Area\",\"Surface_Area\",\"Surface_Area\",\"Surface_Area\",\"Surface_Area\",\"Surface_Area\",\"Surface_Area\",\"Surface_Area\",\"Surface_Area\",\"Surface_Area\",\"Surface_Area\",\"Surface_Area\",\"Surface_Area\",\"Surface_Area\",\"Surface_Area\",\"Surface_Area\",\"Surface_Area\",\"Surface_Area\",\"Surface_Area\",\"Surface_Area\",\"Surface_Area\",\"Surface_Area\",\"Surface_Area\",\"Surface_Area\",\"Surface_Area\",\"Surface_Area\",\"Surface_Area\",\"Surface_Area\",\"Surface_Area\",\"Surface_Area\",\"Surface_Area\",\"Surface_Area\",\"Surface_Area\",\"Surface_Area\",\"Surface_Area\",\"Surface_Area\",\"Surface_Area\",\"Surface_Area\",\"Surface_Area\",\"Surface_Area\",\"Surface_Area\",\"Surface_Area\",\"Surface_Area\",\"Surface_Area\",\"Surface_Area\",\"Surface_Area\",\"Surface_Area\",\"Surface_Area\",\"Surface_Area\",\"Surface_Area\",\"Surface_Area\",\"Surface_Area\",\"Surface_Area\",\"Surface_Area\",\"Surface_Area\",\"Surface_Area\",\"Surface_Area\",\"Surface_Area\",\"Surface_Area\",\"Surface_Area\",\"Surface_Area\",\"Surface_Area\",\"Surface_Area\",\"Surface_Area\",\"Surface_Area\",\"Surface_Area\",\"Surface_Area\",\"Surface_Area\",\"Surface_Area\",\"Surface_Area\",\"Surface_Area\",\"Surface_Area\",\"Surface_Area\",\"Surface_Area\",\"Surface_Area\",\"Surface_Area\",\"Surface_Area\",\"Surface_Area\",\"Surface_Area\",\"Surface_Area\",\"Surface_Area\",\"Surface_Area\",\"Surface_Area\",\"Surface_Area\",\"Surface_Area\",\"Surface_Area\",\"Surface_Area\",\"Surface_Area\",\"Surface_Area\",\"Surface_Area\",\"Surface_Area\",\"Surface_Area\",\"Surface_Area\",\"Surface_Area\",\"Surface_Area\",\"Surface_Area\",\"Surface_Area\",\"Surface_Area\",\"Surface_Area\",\"Surface_Area\",\"Surface_Area\",\"Surface_Area\",\"Surface_Area\",\"Surface_Area\",\"Surface_Area\",\"Surface_Area\",\"Surface_Area\",\"Surface_Area\",\"Surface_Area\",\"Surface_Area\",\"Surface_Area\",\"Surface_Area\",\"Surface_Area\",\"Surface_Area\",\"Surface_Area\",\"Surface_Area\",\"Surface_Area\",\"Surface_Area\",\"Surface_Area\",\"Surface_Area\",\"Surface_Area\",\"Surface_Area\",\"Surface_Area\",\"Surface_Area\",\"Surface_Area\",\"Surface_Area\",\"Surface_Area\",\"Surface_Area\",\"Surface_Area\",\"Surface_Area\",\"Surface_Area\",\"Surface_Area\",\"Surface_Area\",\"Surface_Area\",\"Surface_Area\",\"Surface_Area\",\"Surface_Area\",\"Surface_Area\",\"Surface_Area\",\"Surface_Area\",\"Surface_Area\",\"Surface_Area\",\"Surface_Area\",\"Surface_Area\",\"Surface_Area\",\"Surface_Area\",\"Surface_Area\",\"Surface_Area\",\"Surface_Area\",\"Surface_Area\",\"Surface_Area\",\"Surface_Area\",\"Surface_Area\",\"Surface_Area\",\"Surface_Area\",\"Surface_Area\",\"Surface_Area\",\"Surface_Area\",\"Surface_Area\",\"Surface_Area\",\"Surface_Area\",\"Surface_Area\",\"Surface_Area\",\"Surface_Area\",\"Surface_Area\",\"Surface_Area\",\"Surface_Area\",\"Surface_Area\",\"Surface_Area\",\"Surface_Area\",\"Surface_Area\",\"Surface_Area\",\"Surface_Area\",\"Surface_Area\",\"Surface_Area\",\"Surface_Area\",\"Surface_Area\",\"Surface_Area\",\"Surface_Area\",\"Surface_Area\",\"Surface_Area\",\"Surface_Area\",\"Surface_Area\",\"Surface_Area\",\"Surface_Area\",\"Surface_Area\",\"Surface_Area\",\"Surface_Area\",\"Surface_Area\",\"Surface_Area\",\"Surface_Area\",\"Surface_Area\",\"Surface_Area\",\"Surface_Area\",\"Surface_Area\",\"Surface_Area\",\"Surface_Area\",\"Surface_Area\",\"Surface_Area\",\"Surface_Area\",\"Surface_Area\",\"Surface_Area\",\"Surface_Area\",\"Surface_Area\",\"Surface_Area\",\"Surface_Area\",\"Surface_Area\",\"Surface_Area\",\"Surface_Area\",\"Surface_Area\",\"Surface_Area\",\"Surface_Area\",\"Surface_Area\",\"Surface_Area\",\"Surface_Area\",\"Surface_Area\",\"Surface_Area\",\"Surface_Area\",\"Surface_Area\",\"Surface_Area\",\"Surface_Area\",\"Surface_Area\",\"Surface_Area\",\"Surface_Area\",\"Surface_Area\",\"Surface_Area\",\"Surface_Area\",\"Surface_Area\",\"Surface_Area\",\"Surface_Area\",\"Surface_Area\",\"Surface_Area\",\"Surface_Area\",\"Surface_Area\",\"Surface_Area\",\"Surface_Area\",\"Surface_Area\",\"Surface_Area\",\"Surface_Area\",\"Surface_Area\",\"Surface_Area\",\"Surface_Area\",\"Surface_Area\",\"Surface_Area\",\"Surface_Area\",\"Surface_Area\",\"Surface_Area\",\"Surface_Area\",\"Surface_Area\",\"Surface_Area\",\"Surface_Area\",\"Surface_Area\",\"Surface_Area\",\"Surface_Area\",\"Surface_Area\",\"Surface_Area\",\"Surface_Area\",\"Surface_Area\",\"Surface_Area\",\"Surface_Area\",\"Surface_Area\",\"Surface_Area\",\"Surface_Area\",\"Surface_Area\",\"Surface_Area\",\"Surface_Area\",\"Surface_Area\",\"Surface_Area\",\"Surface_Area\",\"Surface_Area\",\"Surface_Area\",\"Surface_Area\",\"Surface_Area\",\"Surface_Area\",\"Surface_Area\",\"Surface_Area\",\"Surface_Area\",\"Surface_Area\",\"Surface_Area\",\"Surface_Area\",\"Surface_Area\",\"Surface_Area\",\"Surface_Area\",\"Surface_Area\",\"Surface_Area\",\"Surface_Area\",\"Surface_Area\",\"Surface_Area\",\"Surface_Area\",\"Surface_Area\",\"Surface_Area\",\"Surface_Area\",\"Surface_Area\",\"Surface_Area\",\"Surface_Area\",\"Surface_Area\",\"Surface_Area\",\"Surface_Area\",\"Surface_Area\",\"Surface_Area\",\"Surface_Area\",\"Surface_Area\",\"Surface_Area\",\"Surface_Area\",\"Surface_Area\",\"Surface_Area\",\"Surface_Area\",\"Surface_Area\",\"Surface_Area\",\"Surface_Area\",\"Surface_Area\",\"Surface_Area\",\"Surface_Area\",\"Surface_Area\",\"Surface_Area\",\"Surface_Area\",\"Surface_Area\",\"Surface_Area\",\"Surface_Area\",\"Surface_Area\",\"Surface_Area\",\"Surface_Area\",\"Surface_Area\",\"Surface_Area\",\"Surface_Area\",\"Surface_Area\",\"Surface_Area\",\"Surface_Area\",\"Surface_Area\",\"Surface_Area\",\"Surface_Area\",\"Surface_Area\",\"Surface_Area\",\"Surface_Area\",\"Surface_Area\",\"Surface_Area\",\"Surface_Area\",\"Surface_Area\",\"Surface_Area\",\"Surface_Area\",\"Surface_Area\",\"Surface_Area\",\"Surface_Area\",\"Surface_Area\",\"Surface_Area\",\"Surface_Area\",\"Surface_Area\",\"Surface_Area\",\"Surface_Area\",\"Surface_Area\",\"Surface_Area\",\"Surface_Area\",\"Surface_Area\",\"Surface_Area\",\"Surface_Area\",\"Surface_Area\",\"Surface_Area\",\"Surface_Area\",\"Surface_Area\",\"Surface_Area\",\"Surface_Area\",\"Surface_Area\",\"Surface_Area\",\"Surface_Area\",\"Surface_Area\",\"Surface_Area\",\"Surface_Area\",\"Surface_Area\",\"Surface_Area\",\"Surface_Area\",\"Surface_Area\",\"Surface_Area\",\"Surface_Area\",\"Surface_Area\",\"Surface_Area\",\"Surface_Area\",\"Surface_Area\",\"Surface_Area\",\"Surface_Area\",\"Surface_Area\",\"Surface_Area\",\"Surface_Area\",\"Surface_Area\",\"Surface_Area\",\"Surface_Area\",\"Surface_Area\",\"Surface_Area\",\"Surface_Area\",\"Surface_Area\",\"Surface_Area\",\"Surface_Area\",\"Surface_Area\",\"Surface_Area\",\"Surface_Area\",\"Surface_Area\",\"Surface_Area\",\"Surface_Area\",\"Surface_Area\",\"Surface_Area\",\"Surface_Area\",\"Surface_Area\",\"Surface_Area\",\"Surface_Area\",\"Surface_Area\",\"Surface_Area\",\"Surface_Area\",\"Surface_Area\",\"Surface_Area\",\"Surface_Area\",\"Surface_Area\",\"Surface_Area\",\"Surface_Area\",\"Surface_Area\",\"Surface_Area\",\"Surface_Area\",\"Surface_Area\",\"Surface_Area\",\"Surface_Area\",\"Surface_Area\",\"Surface_Area\",\"Surface_Area\",\"Surface_Area\",\"Surface_Area\",\"Surface_Area\",\"Surface_Area\",\"Surface_Area\",\"Surface_Area\",\"Surface_Area\",\"Surface_Area\",\"Surface_Area\",\"Surface_Area\",\"Surface_Area\",\"Surface_Area\",\"Surface_Area\",\"Surface_Area\",\"Surface_Area\",\"Surface_Area\",\"Surface_Area\",\"Surface_Area\",\"Surface_Area\",\"Surface_Area\",\"Surface_Area\",\"Surface_Area\",\"Surface_Area\",\"Surface_Area\",\"Surface_Area\",\"Surface_Area\",\"Surface_Area\",\"Surface_Area\",\"Surface_Area\",\"Surface_Area\",\"Surface_Area\",\"Surface_Area\",\"Surface_Area\",\"Surface_Area\",\"Surface_Area\",\"Surface_Area\",\"Surface_Area\",\"Surface_Area\",\"Surface_Area\",\"Surface_Area\",\"Surface_Area\",\"Surface_Area\",\"Surface_Area\",\"Surface_Area\",\"Surface_Area\",\"Surface_Area\",\"Surface_Area\",\"Surface_Area\",\"Surface_Area\",\"Surface_Area\",\"Surface_Area\",\"Surface_Area\",\"Surface_Area\",\"Surface_Area\",\"Surface_Area\",\"Surface_Area\",\"Surface_Area\",\"Surface_Area\",\"Surface_Area\",\"Surface_Area\",\"Surface_Area\",\"Surface_Area\",\"Surface_Area\",\"Surface_Area\",\"Surface_Area\",\"Surface_Area\",\"Surface_Area\",\"Surface_Area\",\"Surface_Area\",\"Surface_Area\",\"Surface_Area\",\"Surface_Area\",\"Surface_Area\",\"Surface_Area\",\"Surface_Area\",\"Surface_Area\",\"Surface_Area\",\"Surface_Area\",\"Surface_Area\",\"Surface_Area\",\"Surface_Area\",\"Surface_Area\",\"Surface_Area\",\"Surface_Area\",\"Surface_Area\",\"Surface_Area\",\"Surface_Area\",\"Surface_Area\",\"Surface_Area\",\"Surface_Area\",\"Surface_Area\",\"Surface_Area\",\"Wall_Area\",\"Wall_Area\",\"Wall_Area\",\"Wall_Area\",\"Wall_Area\",\"Wall_Area\",\"Wall_Area\",\"Wall_Area\",\"Wall_Area\",\"Wall_Area\",\"Wall_Area\",\"Wall_Area\",\"Wall_Area\",\"Wall_Area\",\"Wall_Area\",\"Wall_Area\",\"Wall_Area\",\"Wall_Area\",\"Wall_Area\",\"Wall_Area\",\"Wall_Area\",\"Wall_Area\",\"Wall_Area\",\"Wall_Area\",\"Wall_Area\",\"Wall_Area\",\"Wall_Area\",\"Wall_Area\",\"Wall_Area\",\"Wall_Area\",\"Wall_Area\",\"Wall_Area\",\"Wall_Area\",\"Wall_Area\",\"Wall_Area\",\"Wall_Area\",\"Wall_Area\",\"Wall_Area\",\"Wall_Area\",\"Wall_Area\",\"Wall_Area\",\"Wall_Area\",\"Wall_Area\",\"Wall_Area\",\"Wall_Area\",\"Wall_Area\",\"Wall_Area\",\"Wall_Area\",\"Wall_Area\",\"Wall_Area\",\"Wall_Area\",\"Wall_Area\",\"Wall_Area\",\"Wall_Area\",\"Wall_Area\",\"Wall_Area\",\"Wall_Area\",\"Wall_Area\",\"Wall_Area\",\"Wall_Area\",\"Wall_Area\",\"Wall_Area\",\"Wall_Area\",\"Wall_Area\",\"Wall_Area\",\"Wall_Area\",\"Wall_Area\",\"Wall_Area\",\"Wall_Area\",\"Wall_Area\",\"Wall_Area\",\"Wall_Area\",\"Wall_Area\",\"Wall_Area\",\"Wall_Area\",\"Wall_Area\",\"Wall_Area\",\"Wall_Area\",\"Wall_Area\",\"Wall_Area\",\"Wall_Area\",\"Wall_Area\",\"Wall_Area\",\"Wall_Area\",\"Wall_Area\",\"Wall_Area\",\"Wall_Area\",\"Wall_Area\",\"Wall_Area\",\"Wall_Area\",\"Wall_Area\",\"Wall_Area\",\"Wall_Area\",\"Wall_Area\",\"Wall_Area\",\"Wall_Area\",\"Wall_Area\",\"Wall_Area\",\"Wall_Area\",\"Wall_Area\",\"Wall_Area\",\"Wall_Area\",\"Wall_Area\",\"Wall_Area\",\"Wall_Area\",\"Wall_Area\",\"Wall_Area\",\"Wall_Area\",\"Wall_Area\",\"Wall_Area\",\"Wall_Area\",\"Wall_Area\",\"Wall_Area\",\"Wall_Area\",\"Wall_Area\",\"Wall_Area\",\"Wall_Area\",\"Wall_Area\",\"Wall_Area\",\"Wall_Area\",\"Wall_Area\",\"Wall_Area\",\"Wall_Area\",\"Wall_Area\",\"Wall_Area\",\"Wall_Area\",\"Wall_Area\",\"Wall_Area\",\"Wall_Area\",\"Wall_Area\",\"Wall_Area\",\"Wall_Area\",\"Wall_Area\",\"Wall_Area\",\"Wall_Area\",\"Wall_Area\",\"Wall_Area\",\"Wall_Area\",\"Wall_Area\",\"Wall_Area\",\"Wall_Area\",\"Wall_Area\",\"Wall_Area\",\"Wall_Area\",\"Wall_Area\",\"Wall_Area\",\"Wall_Area\",\"Wall_Area\",\"Wall_Area\",\"Wall_Area\",\"Wall_Area\",\"Wall_Area\",\"Wall_Area\",\"Wall_Area\",\"Wall_Area\",\"Wall_Area\",\"Wall_Area\",\"Wall_Area\",\"Wall_Area\",\"Wall_Area\",\"Wall_Area\",\"Wall_Area\",\"Wall_Area\",\"Wall_Area\",\"Wall_Area\",\"Wall_Area\",\"Wall_Area\",\"Wall_Area\",\"Wall_Area\",\"Wall_Area\",\"Wall_Area\",\"Wall_Area\",\"Wall_Area\",\"Wall_Area\",\"Wall_Area\",\"Wall_Area\",\"Wall_Area\",\"Wall_Area\",\"Wall_Area\",\"Wall_Area\",\"Wall_Area\",\"Wall_Area\",\"Wall_Area\",\"Wall_Area\",\"Wall_Area\",\"Wall_Area\",\"Wall_Area\",\"Wall_Area\",\"Wall_Area\",\"Wall_Area\",\"Wall_Area\",\"Wall_Area\",\"Wall_Area\",\"Wall_Area\",\"Wall_Area\",\"Wall_Area\",\"Wall_Area\",\"Wall_Area\",\"Wall_Area\",\"Wall_Area\",\"Wall_Area\",\"Wall_Area\",\"Wall_Area\",\"Wall_Area\",\"Wall_Area\",\"Wall_Area\",\"Wall_Area\",\"Wall_Area\",\"Wall_Area\",\"Wall_Area\",\"Wall_Area\",\"Wall_Area\",\"Wall_Area\",\"Wall_Area\",\"Wall_Area\",\"Wall_Area\",\"Wall_Area\",\"Wall_Area\",\"Wall_Area\",\"Wall_Area\",\"Wall_Area\",\"Wall_Area\",\"Wall_Area\",\"Wall_Area\",\"Wall_Area\",\"Wall_Area\",\"Wall_Area\",\"Wall_Area\",\"Wall_Area\",\"Wall_Area\",\"Wall_Area\",\"Wall_Area\",\"Wall_Area\",\"Wall_Area\",\"Wall_Area\",\"Wall_Area\",\"Wall_Area\",\"Wall_Area\",\"Wall_Area\",\"Wall_Area\",\"Wall_Area\",\"Wall_Area\",\"Wall_Area\",\"Wall_Area\",\"Wall_Area\",\"Wall_Area\",\"Wall_Area\",\"Wall_Area\",\"Wall_Area\",\"Wall_Area\",\"Wall_Area\",\"Wall_Area\",\"Wall_Area\",\"Wall_Area\",\"Wall_Area\",\"Wall_Area\",\"Wall_Area\",\"Wall_Area\",\"Wall_Area\",\"Wall_Area\",\"Wall_Area\",\"Wall_Area\",\"Wall_Area\",\"Wall_Area\",\"Wall_Area\",\"Wall_Area\",\"Wall_Area\",\"Wall_Area\",\"Wall_Area\",\"Wall_Area\",\"Wall_Area\",\"Wall_Area\",\"Wall_Area\",\"Wall_Area\",\"Wall_Area\",\"Wall_Area\",\"Wall_Area\",\"Wall_Area\",\"Wall_Area\",\"Wall_Area\",\"Wall_Area\",\"Wall_Area\",\"Wall_Area\",\"Wall_Area\",\"Wall_Area\",\"Wall_Area\",\"Wall_Area\",\"Wall_Area\",\"Wall_Area\",\"Wall_Area\",\"Wall_Area\",\"Wall_Area\",\"Wall_Area\",\"Wall_Area\",\"Wall_Area\",\"Wall_Area\",\"Wall_Area\",\"Wall_Area\",\"Wall_Area\",\"Wall_Area\",\"Wall_Area\",\"Wall_Area\",\"Wall_Area\",\"Wall_Area\",\"Wall_Area\",\"Wall_Area\",\"Wall_Area\",\"Wall_Area\",\"Wall_Area\",\"Wall_Area\",\"Wall_Area\",\"Wall_Area\",\"Wall_Area\",\"Wall_Area\",\"Wall_Area\",\"Wall_Area\",\"Wall_Area\",\"Wall_Area\",\"Wall_Area\",\"Wall_Area\",\"Wall_Area\",\"Wall_Area\",\"Wall_Area\",\"Wall_Area\",\"Wall_Area\",\"Wall_Area\",\"Wall_Area\",\"Wall_Area\",\"Wall_Area\",\"Wall_Area\",\"Wall_Area\",\"Wall_Area\",\"Wall_Area\",\"Wall_Area\",\"Wall_Area\",\"Wall_Area\",\"Wall_Area\",\"Wall_Area\",\"Wall_Area\",\"Wall_Area\",\"Wall_Area\",\"Wall_Area\",\"Wall_Area\",\"Wall_Area\",\"Wall_Area\",\"Wall_Area\",\"Wall_Area\",\"Wall_Area\",\"Wall_Area\",\"Wall_Area\",\"Wall_Area\",\"Wall_Area\",\"Wall_Area\",\"Wall_Area\",\"Wall_Area\",\"Wall_Area\",\"Wall_Area\",\"Wall_Area\",\"Wall_Area\",\"Wall_Area\",\"Wall_Area\",\"Wall_Area\",\"Wall_Area\",\"Wall_Area\",\"Wall_Area\",\"Wall_Area\",\"Wall_Area\",\"Wall_Area\",\"Wall_Area\",\"Wall_Area\",\"Wall_Area\",\"Wall_Area\",\"Wall_Area\",\"Wall_Area\",\"Wall_Area\",\"Wall_Area\",\"Wall_Area\",\"Wall_Area\",\"Wall_Area\",\"Wall_Area\",\"Wall_Area\",\"Wall_Area\",\"Wall_Area\",\"Wall_Area\",\"Wall_Area\",\"Wall_Area\",\"Wall_Area\",\"Wall_Area\",\"Wall_Area\",\"Wall_Area\",\"Wall_Area\",\"Wall_Area\",\"Wall_Area\",\"Wall_Area\",\"Wall_Area\",\"Wall_Area\",\"Wall_Area\",\"Wall_Area\",\"Wall_Area\",\"Wall_Area\",\"Wall_Area\",\"Wall_Area\",\"Wall_Area\",\"Wall_Area\",\"Wall_Area\",\"Wall_Area\",\"Wall_Area\",\"Wall_Area\",\"Wall_Area\",\"Wall_Area\",\"Wall_Area\",\"Wall_Area\",\"Wall_Area\",\"Wall_Area\",\"Wall_Area\",\"Wall_Area\",\"Wall_Area\",\"Wall_Area\",\"Wall_Area\",\"Wall_Area\",\"Wall_Area\",\"Wall_Area\",\"Wall_Area\",\"Wall_Area\",\"Wall_Area\",\"Wall_Area\",\"Wall_Area\",\"Wall_Area\",\"Wall_Area\",\"Wall_Area\",\"Wall_Area\",\"Wall_Area\",\"Wall_Area\",\"Wall_Area\",\"Wall_Area\",\"Wall_Area\",\"Wall_Area\",\"Wall_Area\",\"Wall_Area\",\"Wall_Area\",\"Wall_Area\",\"Wall_Area\",\"Wall_Area\",\"Wall_Area\",\"Wall_Area\",\"Wall_Area\",\"Wall_Area\",\"Wall_Area\",\"Wall_Area\",\"Wall_Area\",\"Wall_Area\",\"Wall_Area\",\"Wall_Area\",\"Wall_Area\",\"Wall_Area\",\"Wall_Area\",\"Wall_Area\",\"Wall_Area\",\"Wall_Area\",\"Wall_Area\",\"Wall_Area\",\"Wall_Area\",\"Wall_Area\",\"Wall_Area\",\"Wall_Area\",\"Wall_Area\",\"Wall_Area\",\"Wall_Area\",\"Wall_Area\",\"Wall_Area\",\"Wall_Area\",\"Wall_Area\",\"Wall_Area\",\"Wall_Area\",\"Wall_Area\",\"Wall_Area\",\"Wall_Area\",\"Wall_Area\",\"Wall_Area\",\"Wall_Area\",\"Wall_Area\",\"Wall_Area\",\"Wall_Area\",\"Wall_Area\",\"Wall_Area\",\"Wall_Area\",\"Wall_Area\",\"Wall_Area\",\"Wall_Area\",\"Wall_Area\",\"Wall_Area\",\"Wall_Area\",\"Wall_Area\",\"Wall_Area\",\"Wall_Area\",\"Wall_Area\",\"Wall_Area\",\"Wall_Area\",\"Wall_Area\",\"Wall_Area\",\"Wall_Area\",\"Wall_Area\",\"Wall_Area\",\"Wall_Area\",\"Wall_Area\",\"Wall_Area\",\"Wall_Area\",\"Wall_Area\",\"Wall_Area\",\"Wall_Area\",\"Wall_Area\",\"Wall_Area\",\"Wall_Area\",\"Wall_Area\",\"Wall_Area\",\"Wall_Area\",\"Wall_Area\",\"Wall_Area\",\"Wall_Area\",\"Wall_Area\",\"Wall_Area\",\"Wall_Area\",\"Wall_Area\",\"Wall_Area\",\"Wall_Area\",\"Wall_Area\",\"Wall_Area\",\"Wall_Area\",\"Wall_Area\",\"Wall_Area\",\"Wall_Area\",\"Wall_Area\",\"Wall_Area\",\"Wall_Area\",\"Wall_Area\",\"Wall_Area\",\"Wall_Area\",\"Roof_Area\",\"Roof_Area\",\"Roof_Area\",\"Roof_Area\",\"Roof_Area\",\"Roof_Area\",\"Roof_Area\",\"Roof_Area\",\"Roof_Area\",\"Roof_Area\",\"Roof_Area\",\"Roof_Area\",\"Roof_Area\",\"Roof_Area\",\"Roof_Area\",\"Roof_Area\",\"Roof_Area\",\"Roof_Area\",\"Roof_Area\",\"Roof_Area\",\"Roof_Area\",\"Roof_Area\",\"Roof_Area\",\"Roof_Area\",\"Roof_Area\",\"Roof_Area\",\"Roof_Area\",\"Roof_Area\",\"Roof_Area\",\"Roof_Area\",\"Roof_Area\",\"Roof_Area\",\"Roof_Area\",\"Roof_Area\",\"Roof_Area\",\"Roof_Area\",\"Roof_Area\",\"Roof_Area\",\"Roof_Area\",\"Roof_Area\",\"Roof_Area\",\"Roof_Area\",\"Roof_Area\",\"Roof_Area\",\"Roof_Area\",\"Roof_Area\",\"Roof_Area\",\"Roof_Area\",\"Roof_Area\",\"Roof_Area\",\"Roof_Area\",\"Roof_Area\",\"Roof_Area\",\"Roof_Area\",\"Roof_Area\",\"Roof_Area\",\"Roof_Area\",\"Roof_Area\",\"Roof_Area\",\"Roof_Area\",\"Roof_Area\",\"Roof_Area\",\"Roof_Area\",\"Roof_Area\",\"Roof_Area\",\"Roof_Area\",\"Roof_Area\",\"Roof_Area\",\"Roof_Area\",\"Roof_Area\",\"Roof_Area\",\"Roof_Area\",\"Roof_Area\",\"Roof_Area\",\"Roof_Area\",\"Roof_Area\",\"Roof_Area\",\"Roof_Area\",\"Roof_Area\",\"Roof_Area\",\"Roof_Area\",\"Roof_Area\",\"Roof_Area\",\"Roof_Area\",\"Roof_Area\",\"Roof_Area\",\"Roof_Area\",\"Roof_Area\",\"Roof_Area\",\"Roof_Area\",\"Roof_Area\",\"Roof_Area\",\"Roof_Area\",\"Roof_Area\",\"Roof_Area\",\"Roof_Area\",\"Roof_Area\",\"Roof_Area\",\"Roof_Area\",\"Roof_Area\",\"Roof_Area\",\"Roof_Area\",\"Roof_Area\",\"Roof_Area\",\"Roof_Area\",\"Roof_Area\",\"Roof_Area\",\"Roof_Area\",\"Roof_Area\",\"Roof_Area\",\"Roof_Area\",\"Roof_Area\",\"Roof_Area\",\"Roof_Area\",\"Roof_Area\",\"Roof_Area\",\"Roof_Area\",\"Roof_Area\",\"Roof_Area\",\"Roof_Area\",\"Roof_Area\",\"Roof_Area\",\"Roof_Area\",\"Roof_Area\",\"Roof_Area\",\"Roof_Area\",\"Roof_Area\",\"Roof_Area\",\"Roof_Area\",\"Roof_Area\",\"Roof_Area\",\"Roof_Area\",\"Roof_Area\",\"Roof_Area\",\"Roof_Area\",\"Roof_Area\",\"Roof_Area\",\"Roof_Area\",\"Roof_Area\",\"Roof_Area\",\"Roof_Area\",\"Roof_Area\",\"Roof_Area\",\"Roof_Area\",\"Roof_Area\",\"Roof_Area\",\"Roof_Area\",\"Roof_Area\",\"Roof_Area\",\"Roof_Area\",\"Roof_Area\",\"Roof_Area\",\"Roof_Area\",\"Roof_Area\",\"Roof_Area\",\"Roof_Area\",\"Roof_Area\",\"Roof_Area\",\"Roof_Area\",\"Roof_Area\",\"Roof_Area\",\"Roof_Area\",\"Roof_Area\",\"Roof_Area\",\"Roof_Area\",\"Roof_Area\",\"Roof_Area\",\"Roof_Area\",\"Roof_Area\",\"Roof_Area\",\"Roof_Area\",\"Roof_Area\",\"Roof_Area\",\"Roof_Area\",\"Roof_Area\",\"Roof_Area\",\"Roof_Area\",\"Roof_Area\",\"Roof_Area\",\"Roof_Area\",\"Roof_Area\",\"Roof_Area\",\"Roof_Area\",\"Roof_Area\",\"Roof_Area\",\"Roof_Area\",\"Roof_Area\",\"Roof_Area\",\"Roof_Area\",\"Roof_Area\",\"Roof_Area\",\"Roof_Area\",\"Roof_Area\",\"Roof_Area\",\"Roof_Area\",\"Roof_Area\",\"Roof_Area\",\"Roof_Area\",\"Roof_Area\",\"Roof_Area\",\"Roof_Area\",\"Roof_Area\",\"Roof_Area\",\"Roof_Area\",\"Roof_Area\",\"Roof_Area\",\"Roof_Area\",\"Roof_Area\",\"Roof_Area\",\"Roof_Area\",\"Roof_Area\",\"Roof_Area\",\"Roof_Area\",\"Roof_Area\",\"Roof_Area\",\"Roof_Area\",\"Roof_Area\",\"Roof_Area\",\"Roof_Area\",\"Roof_Area\",\"Roof_Area\",\"Roof_Area\",\"Roof_Area\",\"Roof_Area\",\"Roof_Area\",\"Roof_Area\",\"Roof_Area\",\"Roof_Area\",\"Roof_Area\",\"Roof_Area\",\"Roof_Area\",\"Roof_Area\",\"Roof_Area\",\"Roof_Area\",\"Roof_Area\",\"Roof_Area\",\"Roof_Area\",\"Roof_Area\",\"Roof_Area\",\"Roof_Area\",\"Roof_Area\",\"Roof_Area\",\"Roof_Area\",\"Roof_Area\",\"Roof_Area\",\"Roof_Area\",\"Roof_Area\",\"Roof_Area\",\"Roof_Area\",\"Roof_Area\",\"Roof_Area\",\"Roof_Area\",\"Roof_Area\",\"Roof_Area\",\"Roof_Area\",\"Roof_Area\",\"Roof_Area\",\"Roof_Area\",\"Roof_Area\",\"Roof_Area\",\"Roof_Area\",\"Roof_Area\",\"Roof_Area\",\"Roof_Area\",\"Roof_Area\",\"Roof_Area\",\"Roof_Area\",\"Roof_Area\",\"Roof_Area\",\"Roof_Area\",\"Roof_Area\",\"Roof_Area\",\"Roof_Area\",\"Roof_Area\",\"Roof_Area\",\"Roof_Area\",\"Roof_Area\",\"Roof_Area\",\"Roof_Area\",\"Roof_Area\",\"Roof_Area\",\"Roof_Area\",\"Roof_Area\",\"Roof_Area\",\"Roof_Area\",\"Roof_Area\",\"Roof_Area\",\"Roof_Area\",\"Roof_Area\",\"Roof_Area\",\"Roof_Area\",\"Roof_Area\",\"Roof_Area\",\"Roof_Area\",\"Roof_Area\",\"Roof_Area\",\"Roof_Area\",\"Roof_Area\",\"Roof_Area\",\"Roof_Area\",\"Roof_Area\",\"Roof_Area\",\"Roof_Area\",\"Roof_Area\",\"Roof_Area\",\"Roof_Area\",\"Roof_Area\",\"Roof_Area\",\"Roof_Area\",\"Roof_Area\",\"Roof_Area\",\"Roof_Area\",\"Roof_Area\",\"Roof_Area\",\"Roof_Area\",\"Roof_Area\",\"Roof_Area\",\"Roof_Area\",\"Roof_Area\",\"Roof_Area\",\"Roof_Area\",\"Roof_Area\",\"Roof_Area\",\"Roof_Area\",\"Roof_Area\",\"Roof_Area\",\"Roof_Area\",\"Roof_Area\",\"Roof_Area\",\"Roof_Area\",\"Roof_Area\",\"Roof_Area\",\"Roof_Area\",\"Roof_Area\",\"Roof_Area\",\"Roof_Area\",\"Roof_Area\",\"Roof_Area\",\"Roof_Area\",\"Roof_Area\",\"Roof_Area\",\"Roof_Area\",\"Roof_Area\",\"Roof_Area\",\"Roof_Area\",\"Roof_Area\",\"Roof_Area\",\"Roof_Area\",\"Roof_Area\",\"Roof_Area\",\"Roof_Area\",\"Roof_Area\",\"Roof_Area\",\"Roof_Area\",\"Roof_Area\",\"Roof_Area\",\"Roof_Area\",\"Roof_Area\",\"Roof_Area\",\"Roof_Area\",\"Roof_Area\",\"Roof_Area\",\"Roof_Area\",\"Roof_Area\",\"Roof_Area\",\"Roof_Area\",\"Roof_Area\",\"Roof_Area\",\"Roof_Area\",\"Roof_Area\",\"Roof_Area\",\"Roof_Area\",\"Roof_Area\",\"Roof_Area\",\"Roof_Area\",\"Roof_Area\",\"Roof_Area\",\"Roof_Area\",\"Roof_Area\",\"Roof_Area\",\"Roof_Area\",\"Roof_Area\",\"Roof_Area\",\"Roof_Area\",\"Roof_Area\",\"Roof_Area\",\"Roof_Area\",\"Roof_Area\",\"Roof_Area\",\"Roof_Area\",\"Roof_Area\",\"Roof_Area\",\"Roof_Area\",\"Roof_Area\",\"Roof_Area\",\"Roof_Area\",\"Roof_Area\",\"Roof_Area\",\"Roof_Area\",\"Roof_Area\",\"Roof_Area\",\"Roof_Area\",\"Roof_Area\",\"Roof_Area\",\"Roof_Area\",\"Roof_Area\",\"Roof_Area\",\"Roof_Area\",\"Roof_Area\",\"Roof_Area\",\"Roof_Area\",\"Roof_Area\",\"Roof_Area\",\"Roof_Area\",\"Roof_Area\",\"Roof_Area\",\"Roof_Area\",\"Roof_Area\",\"Roof_Area\",\"Roof_Area\",\"Roof_Area\",\"Roof_Area\",\"Roof_Area\",\"Roof_Area\",\"Roof_Area\",\"Roof_Area\",\"Roof_Area\",\"Roof_Area\",\"Roof_Area\",\"Roof_Area\",\"Roof_Area\",\"Roof_Area\",\"Roof_Area\",\"Roof_Area\",\"Roof_Area\",\"Roof_Area\",\"Roof_Area\",\"Roof_Area\",\"Roof_Area\",\"Roof_Area\",\"Roof_Area\",\"Roof_Area\",\"Roof_Area\",\"Roof_Area\",\"Roof_Area\",\"Roof_Area\",\"Roof_Area\",\"Roof_Area\",\"Roof_Area\",\"Roof_Area\",\"Roof_Area\",\"Roof_Area\",\"Roof_Area\",\"Roof_Area\",\"Roof_Area\",\"Roof_Area\",\"Roof_Area\",\"Roof_Area\",\"Roof_Area\",\"Roof_Area\",\"Roof_Area\",\"Roof_Area\",\"Roof_Area\",\"Roof_Area\",\"Roof_Area\",\"Roof_Area\",\"Roof_Area\",\"Roof_Area\",\"Roof_Area\",\"Roof_Area\",\"Roof_Area\",\"Roof_Area\",\"Roof_Area\",\"Roof_Area\",\"Roof_Area\",\"Roof_Area\",\"Roof_Area\",\"Roof_Area\",\"Roof_Area\",\"Roof_Area\",\"Roof_Area\",\"Roof_Area\",\"Roof_Area\",\"Roof_Area\",\"Roof_Area\",\"Roof_Area\",\"Roof_Area\",\"Roof_Area\",\"Roof_Area\",\"Roof_Area\",\"Roof_Area\",\"Roof_Area\",\"Roof_Area\",\"Roof_Area\",\"Roof_Area\",\"Roof_Area\",\"Roof_Area\",\"Roof_Area\",\"Roof_Area\",\"Roof_Area\",\"Roof_Area\",\"Roof_Area\",\"Roof_Area\",\"Roof_Area\",\"Roof_Area\",\"Roof_Area\",\"Roof_Area\",\"Roof_Area\",\"Roof_Area\",\"Roof_Area\",\"Roof_Area\",\"Roof_Area\",\"Roof_Area\",\"Roof_Area\",\"Roof_Area\",\"Roof_Area\",\"Roof_Area\",\"Roof_Area\",\"Roof_Area\",\"Roof_Area\",\"Roof_Area\",\"Roof_Area\",\"Roof_Area\",\"Roof_Area\",\"Roof_Area\",\"Roof_Area\",\"Roof_Area\",\"Roof_Area\",\"Roof_Area\",\"Roof_Area\",\"Roof_Area\",\"Roof_Area\",\"Roof_Area\",\"Roof_Area\",\"Roof_Area\",\"Roof_Area\",\"Roof_Area\"],\"x0\":\" \",\"xaxis\":\"x\",\"y\":[751.9,683.55,582.12,978.29,617.4,476.28,557.86,606.38,673.75,705.6,630.63,710.5,575.51,654.89,496.12,679.14,509.36,781.55,741.13,889.35,622.55,889.35,889.35,557.86,800.42,617.4,683.55,582.12,683.55,781.55,889.35,606.38,978.29,661.5,639.45,551.25,582.12,862.4,754.6,948.64,416.74,515.97,830.06,654.88,808.5,727.65,463.05,705.6,535.82,776.16,705.6,661.5,727.65,507.15,800.42,681.84,595.35,835.45,681.84,535.82,800.42,673.75,711.48,595.35,496.12,800.42,622.55,978.29,582.12,919.0,700.7,754.6,679.14,535.82,700.7,727.65,661.5,557.86,639.45,727.65,919.0,700.7,705.6,661.5,808.5,830.06,686.0,727.65,741.13,754.6,515.97,661.5,595.35,673.75,751.91,612.5,681.84,703.4,535.82,710.5,800.42,727.65,781.55,635.04,529.2,630.63,557.86,654.88,654.88,635.04,808.5,622.55,582.12,978.29,835.45,639.45,741.13,555.66,509.36,639.45,808.5,654.88,700.7,617.4,575.51,862.4,800.42,639.45,416.74,700.7,507.15,582.12,595.35,615.19,555.66,463.05,606.38,703.4,476.28,617.4,727.65,727.65,573.3,700.7,615.19,606.38,781.55,705.6,683.55,582.12,711.48,800.42,711.48,496.12,619.85,808.5,800.42,619.85,948.64,619.85,496.12,700.7,565.95,830.06,575.51,800.42,784.0,741.13,456.44,529.2,612.5,630.63,800.42,703.4,800.42,476.28,529.2,741.13,463.05,683.55,727.65,862.4,565.95,509.36,635.04,776.16,654.88,889.35,703.4,630.63,515.97,705.6,654.89,635.04,830.06,808.5,606.38,622.55,727.65,661.5,595.35,686.0,835.45,703.4,509.36,514.5,751.9,808.5,948.64,573.3,595.35,830.06,741.13,557.86,751.91,661.5,606.38,573.3,862.4,622.55,507.15,683.55,557.86,679.14,978.29,727.65,509.36,575.51,661.5,683.55,573.3,654.88,575.51,646.8,588.0,654.89,703.4,565.95,529.2,637.0,622.55,654.88,630.63,514.5,889.35,507.15,654.89,727.65,582.12,727.65,800.42,889.35,639.45,535.82,551.25,557.86,859.7,507.15,496.12,978.29,751.9,635.04,619.85,889.35,582.12,654.88,683.55,751.9,679.14,529.2,800.42,727.65,416.74,727.65,862.4,727.65,711.48,808.5,555.66,582.12,509.36,727.65,535.82,683.55,683.55,635.04,711.48,800.42,595.35,595.35,776.16,679.14,573.3,606.38,673.75,635.04,476.28,751.9,615.19,800.42,705.6,754.6,654.89,727.65,617.4,705.6,557.86,679.14,710.5,551.25,529.2,727.65,639.45,573.3,727.65,700.7,686.0,948.64,703.4,705.6,703.4,456.44,776.16,681.84,595.35,654.89,635.04,751.9,557.86,727.65,654.88,654.88,727.65,751.91,683.55,595.35,835.45,622.55,703.4,683.55,661.5,830.06,630.63,727.65,606.38,889.35,754.6,630.63,754.6,416.74,727.65,781.55,727.65,776.16,557.86,630.63,661.5,700.7,683.55,582.12,573.3,776.16,727.65,507.15,619.85,654.88,889.35,703.4,751.9,800.42,557.86,582.12,575.51,781.55,800.42,727.65,573.3,622.55,615.19,622.55,686.0,919.0,919.0,565.95,575.51,703.4,776.16,741.13,751.9,859.7,681.84,514.5,862.4,515.97,948.64,575.51,582.12,830.06,630.63,456.44,476.28,727.65,496.12,416.74,654.88,727.65,654.88,529.2,661.5,606.38,700.7,751.9,770.77,919.0,615.19,606.38,948.64,588.0,727.65,515.97,654.88,529.2,463.05,635.04,683.55,830.06,646.8,919.0,565.95,654.88,456.44,859.7,615.19,463.05,507.15,754.6,617.4,416.74,679.14,683.55,456.44,573.3,751.91,630.63,509.36,948.64,919.0,507.15,557.86,615.19,661.5,606.38,705.6,654.88,889.35,710.5,606.38,830.06,582.12,776.16,582.12,557.86,776.16,646.8,588.0,948.64,679.14,751.9,507.15,509.36,776.16,557.86,617.4,889.35,978.29,661.5,751.9,557.86,617.4,622.55,563.5,679.14,808.5,456.44,529.2,727.65,751.91,496.12,617.4,776.16,555.66,679.14,673.75,615.19,800.42,754.6,711.48,630.63,515.97,635.04,476.28,654.88,595.35,646.8,754.6,759.5,496.12,727.65,515.97,751.91,619.85,496.12,573.3,416.74,727.65,551.25,509.36,496.12,606.38,565.95,754.6,557.86,776.16,683.55,416.74,476.28,727.65,507.15,606.38,679.14,654.88,889.35,416.74,515.97,557.86,565.95,661.5,315.32,286.65,294.0,297.68,198.45,238.14,315.32,385.39,385.39,377.3,277.83,218.3,266.8,503.97,315.32,220.5,291.06,296.45,286.65,238.14,null,297.68,404.25,286.65,330.75,220.5,null,264.6,286.65,326.1,404.25,315.32,367.5,264.6,266.8,315.32,291.06,308.7,296.45,377.3,291.06,308.7,242.55,363.82,291.06,404.25,323.4,377.3,null,377.3,339.57,291.06,null,350.35,404.25,318.5,323.4,286.65,257.98,503.97,367.5,315.32,355.74,null,315.32,416.5,291.06,363.82,355.74,null,377.3,269.5,220.5,374.85,339.57,337.36,355.74,286.65,null,412.34,385.39,415.03,415.03,355.74,355.74,242.55,198.45,291.06,257.98,220.5,277.83,294.0,337.36,286.65,385.39,257.98,286.65,326.1,337.36,242.55,297.68,412.34,218.3,415.03,264.6,308.7,350.35,412.34,404.25,308.7,238.14,264.6,null,297.68,257.98,266.8,385.39,198.45,291.06,266.8,355.74,404.25,377.3,null,242.55,415.03,404.25,242.55,291.06,415.03,350.35,291.06,337.36,385.39,242.55,291.06,350.35,296.45,291.06,198.45,323.4,238.14,377.3,415.03,315.32,null,218.3,415.03,286.65,323.4,323.4,416.5,238.14,385.39,315.32,291.06,458.15,257.98,377.3,286.65,315.32,339.57,323.4,null,266.8,404.25,null,318.5,315.32,355.74,315.32,377.3,330.75,269.5,458.15,323.4,238.14,null,291.06,318.5,323.4,null,355.74,355.74,377.3,339.57,363.82,355.74,326.1,339.57,339.57,339.57,374.85,415.03,220.5,291.06,257.98,291.06,323.4,238.14,238.14,null,286.65,326.1,323.4,291.06,257.98,444.68,277.83,339.57,294.0,220.5,286.65,315.32,350.35,337.36,315.32,415.03,308.7,355.74,315.32,315.32,350.35,242.55,330.75,291.06,355.74,326.1,null,318.5,308.7,503.97,218.3,264.6,291.06,503.97,218.3,291.06,323.4,343.0,291.06,297.68,308.7,291.06,355.74,315.32,503.97,355.74,291.06,404.25,363.83,404.25,218.3,337.36,315.32,257.98,326.1,350.35,257.98,330.75,350.35,415.03,350.35,323.4,264.6,503.97,257.98,385.39,220.5,238.14,363.83,404.25,291.06,503.97,377.3,503.97,355.74,355.74,198.45,291.06,291.06,374.85,374.85,350.35,286.65,308.7,323.4,444.68,337.36,291.06,308.7,269.5,339.57,257.98,385.39,377.3,264.6,286.65,385.39,363.82,339.57,220.5,412.34,412.34,242.55,339.57,315.32,269.5,242.55,315.32,238.14,363.83,242.55,343.0,297.68,377.3,242.55,339.57,296.45,339.57,269.5,315.32,339.57,315.32,503.97,374.85,339.57,286.65,318.5,412.34,503.97,363.83,291.06,315.32,350.35,412.34,286.65,null,242.55,315.32,null,242.55,277.83,412.34,385.39,355.74,220.5,377.3,296.45,291.06,null,218.3,291.06,377.3,385.39,308.7,291.06,308.7,350.35,291.06,277.83,339.57,291.06,315.32,315.32,330.75,297.68,242.55,257.98,412.34,257.98,323.4,218.3,218.3,363.83,355.74,339.57,291.06,350.35,323.4,198.45,315.32,257.98,355.74,296.45,326.1,277.83,350.35,385.39,296.45,385.39,238.14,415.03,277.83,377.3,296.45,264.6,242.55,339.57,350.35,291.06,238.14,350.35,323.4,404.25,355.74,337.36,291.06,291.06,315.32,339.57,318.5,415.03,385.39,315.32,null,339.57,291.06,458.15,308.7,null,null,291.06,277.83,286.65,242.55,323.4,350.35,355.74,367.5,257.98,296.45,315.32,355.74,257.98,null,242.55,323.4,242.55,315.32,318.5,277.83,350.35,277.83,291.06,415.03,318.5,315.32,null,315.32,264.6,257.98,339.57,412.34,404.25,266.8,315.32,242.55,291.06,339.57,264.6,350.35,415.03,291.06,238.14,339.57,269.5,257.98,318.5,291.06,339.57,315.32,220.5,291.06,363.82,503.97,385.39,315.32,296.45,291.06,315.32,242.55,null,350.35,291.06,238.14,350.35,315.32,242.55,339.57,269.5,242.55,315.32,385.39,363.83,242.55,264.6,339.57,377.3,339.57,355.74,363.82,291.06,291.06,198.45,350.35,318.5,412.34,415.03,350.35,315.32,286.65,308.7,238.14,null,385.39,238.14,350.35,315.32,355.74,242.55,350.35,308.7,315.32,291.06,null,323.4,385.39,286.65,242.55,337.36,294.0,291.06,null,385.39,323.4,264.6,178.6,198.45,119.07,218.3,218.3,161.7,110.25,145.53,132.3,218.3,177.87,218.3,198.45,148.23,132.3,242.55,121.28,218.3,132.3,266.8,89.31,242.55,178.6,121.28,178.6,218.3,218.3,145.53,266.8,242.55,198.45,132.3,266.8,218.3,266.8,119.07,147.0,218.3,178.6,198.45,89.31,177.87,242.55,178.6,178.6,242.55,133.41,242.55,121.28,198.45,218.3,266.8,266.8,148.23,218.3,122.5,178.6,242.55,110.25,121.28,198.45,177.87,177.87,99.23,119.07,148.23,109.15,218.3,161.7,218.3,119.07,266.8,242.55,121.28,177.87,148.23,178.6,121.28,266.8,121.28,218.3,161.7,242.55,218.3,178.6,266.8,218.3,218.3,145.53,178.6,177.87,266.8,110.25,145.53,266.8,177.87,134.75,198.45,134.75,218.3,218.3,134.75,218.3,242.55,145.53,145.53,110.25,121.28,178.6,218.3,242.55,89.31,161.7,218.3,242.55,242.55,145.53,218.3,121.28,178.6,266.8,242.55,145.53,218.3,178.6,198.45,198.45,198.45,121.28,132.3,99.23,119.07,99.23,178.6,198.45,110.25,145.53,220.5,145.53,266.8,266.8,218.3,145.53,177.87,218.3,161.7,266.8,218.3,198.45,145.53,161.7,148.23,161.7,119.07,110.25,218.3,110.25,99.23,266.8,134.75,119.07,161.7,133.41,218.3,218.3,218.3,178.6,177.87,121.28,145.53,161.7,132.3,242.55,242.55,110.25,145.53,177.87,132.3,99.23,242.55,178.6,218.3,109.15,133.41,242.55,218.3,218.3,266.8,218.3,145.53,132.3,198.45,122.5,218.3,218.3,198.45,161.7,89.31,220.5,218.3,218.3,218.3,242.55,218.3,109.15,109.15,266.8,198.45,218.3,145.53,198.45,178.6,161.7,121.28,218.3,99.23,132.3,161.7,242.55,109.15,99.23,242.55,134.75,242.55,218.3,218.3,109.15,242.55,178.6,198.45,161.7,122.5,266.8,132.3,132.3,110.25,218.3,109.15,145.53,132.3,109.15,178.6,119.07,133.41,218.3,148.23,110.25,178.6,132.3,218.3,218.3,218.3,266.8,121.28,119.07,134.75,218.3,121.28,119.07,266.8,198.45,198.45,110.25,218.3,161.7,121.28,242.55,266.8,242.55,161.7,198.45,218.3,121.28,121.28,242.55,134.75,119.07,198.45,220.5,145.53,109.15,121.28,121.28,218.3,178.6,220.5,119.07,242.55,99.23,266.8,242.55,218.3,145.53,145.53,119.07,198.45,145.53,218.3,218.3,178.6,220.5,198.45,134.75,121.28,242.55,218.3,110.25,242.55,266.8,119.07,119.07,198.45,178.6,161.7,178.6,132.3,178.6,198.45,178.6,198.45,218.3,148.23,266.8,99.23,121.28,148.23,266.8,198.45,110.25,99.23,121.28,242.55,242.55,266.8,242.55,121.28,242.55,109.15,266.8,242.55,198.45,178.6,161.7,110.25,161.7,266.8,218.3,119.07,218.3,99.23,266.8,242.55,242.55,218.3,134.75,132.3,242.55,119.07,266.8,145.53,145.53,198.45,242.55,121.28,148.23,266.8,218.3,218.3,218.3,110.25,121.28,132.3,178.6,198.45,218.3,220.5,119.07,89.31,266.8,109.15,198.45,242.55,178.6,99.23,220.5,242.55,266.8,132.3,218.3,218.3,121.28,121.28,266.8,161.7,198.45,198.45,132.3,242.55,145.53,134.75,161.7,198.45,161.7,99.23,218.3,218.3,121.28,132.3,218.3,119.07,161.7,178.6,177.87,178.6,242.55,161.7,242.55,177.87,134.75,145.53,134.75,145.53,121.28,198.45,218.3,242.55,147.0,198.45,109.15,242.55,148.23,198.45,266.8,109.15,110.25,242.55,266.8,133.41,198.45,218.3,110.25,145.53,242.55,161.7,89.31,198.45,198.45,110.25,121.28,242.55,198.45,132.3,198.45,121.28,242.55,218.3,119.07,218.3,161.7,178.6,161.7,121.28,178.6,177.87,119.07,218.3,218.3,198.45,148.23,110.25,198.45,110.25,266.8,198.45,178.6,110.25,218.3,121.28,218.3,109.15,121.28,242.55,266.8,121.28,119.07,218.3,242.55,177.87,218.3,242.55,266.8,198.45,145.53,266.8,242.55,218.3,119.07,145.53,161.7,198.45,119.07,218.3,178.6,145.53,218.3,178.6,132.3,148.23,145.53,218.3,134.75,145.53,177.87,109.15,218.3,161.7,121.28,132.3,145.53,99.23,266.8,134.75,218.3,198.45,99.23,145.53,198.45,121.28,145.53,218.3,121.28,218.3,89.31,145.53,122.5,99.23,266.8],\"y0\":\" \",\"yaxis\":\"y\",\"type\":\"box\"}],                        {\"template\":{\"data\":{\"bar\":[{\"error_x\":{\"color\":\"#2a3f5f\"},\"error_y\":{\"color\":\"#2a3f5f\"},\"marker\":{\"line\":{\"color\":\"#E5ECF6\",\"width\":0.5},\"pattern\":{\"fillmode\":\"overlay\",\"size\":10,\"solidity\":0.2}},\"type\":\"bar\"}],\"barpolar\":[{\"marker\":{\"line\":{\"color\":\"#E5ECF6\",\"width\":0.5},\"pattern\":{\"fillmode\":\"overlay\",\"size\":10,\"solidity\":0.2}},\"type\":\"barpolar\"}],\"carpet\":[{\"aaxis\":{\"endlinecolor\":\"#2a3f5f\",\"gridcolor\":\"white\",\"linecolor\":\"white\",\"minorgridcolor\":\"white\",\"startlinecolor\":\"#2a3f5f\"},\"baxis\":{\"endlinecolor\":\"#2a3f5f\",\"gridcolor\":\"white\",\"linecolor\":\"white\",\"minorgridcolor\":\"white\",\"startlinecolor\":\"#2a3f5f\"},\"type\":\"carpet\"}],\"choropleth\":[{\"colorbar\":{\"outlinewidth\":0,\"ticks\":\"\"},\"type\":\"choropleth\"}],\"contour\":[{\"colorbar\":{\"outlinewidth\":0,\"ticks\":\"\"},\"colorscale\":[[0.0,\"#0d0887\"],[0.1111111111111111,\"#46039f\"],[0.2222222222222222,\"#7201a8\"],[0.3333333333333333,\"#9c179e\"],[0.4444444444444444,\"#bd3786\"],[0.5555555555555556,\"#d8576b\"],[0.6666666666666666,\"#ed7953\"],[0.7777777777777778,\"#fb9f3a\"],[0.8888888888888888,\"#fdca26\"],[1.0,\"#f0f921\"]],\"type\":\"contour\"}],\"contourcarpet\":[{\"colorbar\":{\"outlinewidth\":0,\"ticks\":\"\"},\"type\":\"contourcarpet\"}],\"heatmap\":[{\"colorbar\":{\"outlinewidth\":0,\"ticks\":\"\"},\"colorscale\":[[0.0,\"#0d0887\"],[0.1111111111111111,\"#46039f\"],[0.2222222222222222,\"#7201a8\"],[0.3333333333333333,\"#9c179e\"],[0.4444444444444444,\"#bd3786\"],[0.5555555555555556,\"#d8576b\"],[0.6666666666666666,\"#ed7953\"],[0.7777777777777778,\"#fb9f3a\"],[0.8888888888888888,\"#fdca26\"],[1.0,\"#f0f921\"]],\"type\":\"heatmap\"}],\"heatmapgl\":[{\"colorbar\":{\"outlinewidth\":0,\"ticks\":\"\"},\"colorscale\":[[0.0,\"#0d0887\"],[0.1111111111111111,\"#46039f\"],[0.2222222222222222,\"#7201a8\"],[0.3333333333333333,\"#9c179e\"],[0.4444444444444444,\"#bd3786\"],[0.5555555555555556,\"#d8576b\"],[0.6666666666666666,\"#ed7953\"],[0.7777777777777778,\"#fb9f3a\"],[0.8888888888888888,\"#fdca26\"],[1.0,\"#f0f921\"]],\"type\":\"heatmapgl\"}],\"histogram\":[{\"marker\":{\"pattern\":{\"fillmode\":\"overlay\",\"size\":10,\"solidity\":0.2}},\"type\":\"histogram\"}],\"histogram2d\":[{\"colorbar\":{\"outlinewidth\":0,\"ticks\":\"\"},\"colorscale\":[[0.0,\"#0d0887\"],[0.1111111111111111,\"#46039f\"],[0.2222222222222222,\"#7201a8\"],[0.3333333333333333,\"#9c179e\"],[0.4444444444444444,\"#bd3786\"],[0.5555555555555556,\"#d8576b\"],[0.6666666666666666,\"#ed7953\"],[0.7777777777777778,\"#fb9f3a\"],[0.8888888888888888,\"#fdca26\"],[1.0,\"#f0f921\"]],\"type\":\"histogram2d\"}],\"histogram2dcontour\":[{\"colorbar\":{\"outlinewidth\":0,\"ticks\":\"\"},\"colorscale\":[[0.0,\"#0d0887\"],[0.1111111111111111,\"#46039f\"],[0.2222222222222222,\"#7201a8\"],[0.3333333333333333,\"#9c179e\"],[0.4444444444444444,\"#bd3786\"],[0.5555555555555556,\"#d8576b\"],[0.6666666666666666,\"#ed7953\"],[0.7777777777777778,\"#fb9f3a\"],[0.8888888888888888,\"#fdca26\"],[1.0,\"#f0f921\"]],\"type\":\"histogram2dcontour\"}],\"mesh3d\":[{\"colorbar\":{\"outlinewidth\":0,\"ticks\":\"\"},\"type\":\"mesh3d\"}],\"parcoords\":[{\"line\":{\"colorbar\":{\"outlinewidth\":0,\"ticks\":\"\"}},\"type\":\"parcoords\"}],\"pie\":[{\"automargin\":true,\"type\":\"pie\"}],\"scatter\":[{\"marker\":{\"colorbar\":{\"outlinewidth\":0,\"ticks\":\"\"}},\"type\":\"scatter\"}],\"scatter3d\":[{\"line\":{\"colorbar\":{\"outlinewidth\":0,\"ticks\":\"\"}},\"marker\":{\"colorbar\":{\"outlinewidth\":0,\"ticks\":\"\"}},\"type\":\"scatter3d\"}],\"scattercarpet\":[{\"marker\":{\"colorbar\":{\"outlinewidth\":0,\"ticks\":\"\"}},\"type\":\"scattercarpet\"}],\"scattergeo\":[{\"marker\":{\"colorbar\":{\"outlinewidth\":0,\"ticks\":\"\"}},\"type\":\"scattergeo\"}],\"scattergl\":[{\"marker\":{\"colorbar\":{\"outlinewidth\":0,\"ticks\":\"\"}},\"type\":\"scattergl\"}],\"scattermapbox\":[{\"marker\":{\"colorbar\":{\"outlinewidth\":0,\"ticks\":\"\"}},\"type\":\"scattermapbox\"}],\"scatterpolar\":[{\"marker\":{\"colorbar\":{\"outlinewidth\":0,\"ticks\":\"\"}},\"type\":\"scatterpolar\"}],\"scatterpolargl\":[{\"marker\":{\"colorbar\":{\"outlinewidth\":0,\"ticks\":\"\"}},\"type\":\"scatterpolargl\"}],\"scatterternary\":[{\"marker\":{\"colorbar\":{\"outlinewidth\":0,\"ticks\":\"\"}},\"type\":\"scatterternary\"}],\"surface\":[{\"colorbar\":{\"outlinewidth\":0,\"ticks\":\"\"},\"colorscale\":[[0.0,\"#0d0887\"],[0.1111111111111111,\"#46039f\"],[0.2222222222222222,\"#7201a8\"],[0.3333333333333333,\"#9c179e\"],[0.4444444444444444,\"#bd3786\"],[0.5555555555555556,\"#d8576b\"],[0.6666666666666666,\"#ed7953\"],[0.7777777777777778,\"#fb9f3a\"],[0.8888888888888888,\"#fdca26\"],[1.0,\"#f0f921\"]],\"type\":\"surface\"}],\"table\":[{\"cells\":{\"fill\":{\"color\":\"#EBF0F8\"},\"line\":{\"color\":\"white\"}},\"header\":{\"fill\":{\"color\":\"#C8D4E3\"},\"line\":{\"color\":\"white\"}},\"type\":\"table\"}]},\"layout\":{\"annotationdefaults\":{\"arrowcolor\":\"#2a3f5f\",\"arrowhead\":0,\"arrowwidth\":1},\"autotypenumbers\":\"strict\",\"coloraxis\":{\"colorbar\":{\"outlinewidth\":0,\"ticks\":\"\"}},\"colorscale\":{\"diverging\":[[0,\"#8e0152\"],[0.1,\"#c51b7d\"],[0.2,\"#de77ae\"],[0.3,\"#f1b6da\"],[0.4,\"#fde0ef\"],[0.5,\"#f7f7f7\"],[0.6,\"#e6f5d0\"],[0.7,\"#b8e186\"],[0.8,\"#7fbc41\"],[0.9,\"#4d9221\"],[1,\"#276419\"]],\"sequential\":[[0.0,\"#0d0887\"],[0.1111111111111111,\"#46039f\"],[0.2222222222222222,\"#7201a8\"],[0.3333333333333333,\"#9c179e\"],[0.4444444444444444,\"#bd3786\"],[0.5555555555555556,\"#d8576b\"],[0.6666666666666666,\"#ed7953\"],[0.7777777777777778,\"#fb9f3a\"],[0.8888888888888888,\"#fdca26\"],[1.0,\"#f0f921\"]],\"sequentialminus\":[[0.0,\"#0d0887\"],[0.1111111111111111,\"#46039f\"],[0.2222222222222222,\"#7201a8\"],[0.3333333333333333,\"#9c179e\"],[0.4444444444444444,\"#bd3786\"],[0.5555555555555556,\"#d8576b\"],[0.6666666666666666,\"#ed7953\"],[0.7777777777777778,\"#fb9f3a\"],[0.8888888888888888,\"#fdca26\"],[1.0,\"#f0f921\"]]},\"colorway\":[\"#636efa\",\"#EF553B\",\"#00cc96\",\"#ab63fa\",\"#FFA15A\",\"#19d3f3\",\"#FF6692\",\"#B6E880\",\"#FF97FF\",\"#FECB52\"],\"font\":{\"color\":\"#2a3f5f\"},\"geo\":{\"bgcolor\":\"white\",\"lakecolor\":\"white\",\"landcolor\":\"#E5ECF6\",\"showlakes\":true,\"showland\":true,\"subunitcolor\":\"white\"},\"hoverlabel\":{\"align\":\"left\"},\"hovermode\":\"closest\",\"mapbox\":{\"style\":\"light\"},\"paper_bgcolor\":\"white\",\"plot_bgcolor\":\"#E5ECF6\",\"polar\":{\"angularaxis\":{\"gridcolor\":\"white\",\"linecolor\":\"white\",\"ticks\":\"\"},\"bgcolor\":\"#E5ECF6\",\"radialaxis\":{\"gridcolor\":\"white\",\"linecolor\":\"white\",\"ticks\":\"\"}},\"scene\":{\"xaxis\":{\"backgroundcolor\":\"#E5ECF6\",\"gridcolor\":\"white\",\"gridwidth\":2,\"linecolor\":\"white\",\"showbackground\":true,\"ticks\":\"\",\"zerolinecolor\":\"white\"},\"yaxis\":{\"backgroundcolor\":\"#E5ECF6\",\"gridcolor\":\"white\",\"gridwidth\":2,\"linecolor\":\"white\",\"showbackground\":true,\"ticks\":\"\",\"zerolinecolor\":\"white\"},\"zaxis\":{\"backgroundcolor\":\"#E5ECF6\",\"gridcolor\":\"white\",\"gridwidth\":2,\"linecolor\":\"white\",\"showbackground\":true,\"ticks\":\"\",\"zerolinecolor\":\"white\"}},\"shapedefaults\":{\"line\":{\"color\":\"#2a3f5f\"}},\"ternary\":{\"aaxis\":{\"gridcolor\":\"white\",\"linecolor\":\"white\",\"ticks\":\"\"},\"baxis\":{\"gridcolor\":\"white\",\"linecolor\":\"white\",\"ticks\":\"\"},\"bgcolor\":\"#E5ECF6\",\"caxis\":{\"gridcolor\":\"white\",\"linecolor\":\"white\",\"ticks\":\"\"}},\"title\":{\"x\":0.05},\"xaxis\":{\"automargin\":true,\"gridcolor\":\"white\",\"linecolor\":\"white\",\"ticks\":\"\",\"title\":{\"standoff\":15},\"zerolinecolor\":\"white\",\"zerolinewidth\":2},\"yaxis\":{\"automargin\":true,\"gridcolor\":\"white\",\"linecolor\":\"white\",\"ticks\":\"\",\"title\":{\"standoff\":15},\"zerolinecolor\":\"white\",\"zerolinewidth\":2}}},\"xaxis\":{\"anchor\":\"y\",\"domain\":[0.0,1.0],\"title\":{\"text\":\"variable\"}},\"yaxis\":{\"anchor\":\"x\",\"domain\":[0.0,1.0],\"title\":{\"text\":\"value\"}},\"legend\":{\"tracegroupgap\":0},\"margin\":{\"t\":60},\"boxmode\":\"group\"},                        {\"responsive\": true}                    ).then(function(){\n",
              "                            \n",
              "var gd = document.getElementById('c9bf88bc-de2a-45e1-9d23-86f9981b0529');\n",
              "var x = new MutationObserver(function (mutations, observer) {{\n",
              "        var display = window.getComputedStyle(gd).display;\n",
              "        if (!display || display === 'none') {{\n",
              "            console.log([gd, 'removed!']);\n",
              "            Plotly.purge(gd);\n",
              "            observer.disconnect();\n",
              "        }}\n",
              "}});\n",
              "\n",
              "// Listen for the removal of the full notebook cells\n",
              "var notebookContainer = gd.closest('#notebook-container');\n",
              "if (notebookContainer) {{\n",
              "    x.observe(notebookContainer, {childList: true});\n",
              "}}\n",
              "\n",
              "// Listen for the clearing of the current output cell\n",
              "var outputEl = gd.closest('.output');\n",
              "if (outputEl) {{\n",
              "    x.observe(outputEl, {childList: true});\n",
              "}}\n",
              "\n",
              "                        })                };                            </script>        </div>\n",
              "</body>\n",
              "</html>"
            ]
          },
          "metadata": {}
        }
      ]
    },
    {
      "cell_type": "code",
      "source": [
        "# Boxplot of below columns which are in the same range to compare the five number summary of the below columns\n",
        "fig = px.box(energy_eff, y=['Overall_Height', 'Orientation', 'Glazing_Area_Distribution'])\n",
        "fig.show()"
      ],
      "metadata": {
        "colab": {
          "base_uri": "https://localhost:8080/",
          "height": 542
        },
        "id": "WEmoMoVyv5C-",
        "outputId": "bfe23bdb-328e-42b3-d9a2-5fb069a52c71"
      },
      "execution_count": 19,
      "outputs": [
        {
          "output_type": "display_data",
          "data": {
            "text/html": [
              "<html>\n",
              "<head><meta charset=\"utf-8\" /></head>\n",
              "<body>\n",
              "    <div>            <script src=\"https://cdnjs.cloudflare.com/ajax/libs/mathjax/2.7.5/MathJax.js?config=TeX-AMS-MML_SVG\"></script><script type=\"text/javascript\">if (window.MathJax) {MathJax.Hub.Config({SVG: {font: \"STIX-Web\"}});}</script>                <script type=\"text/javascript\">window.PlotlyConfig = {MathJaxConfig: 'local'};</script>\n",
              "        <script src=\"https://cdn.plot.ly/plotly-2.8.3.min.js\"></script>                <div id=\"2d79ae9b-c175-42ee-b37c-bf3ca6fe5366\" class=\"plotly-graph-div\" style=\"height:525px; width:100%;\"></div>            <script type=\"text/javascript\">                                    window.PLOTLYENV=window.PLOTLYENV || {};                                    if (document.getElementById(\"2d79ae9b-c175-42ee-b37c-bf3ca6fe5366\")) {                    Plotly.newPlot(                        \"2d79ae9b-c175-42ee-b37c-bf3ca6fe5366\",                        [{\"alignmentgroup\":\"True\",\"hovertemplate\":\"variable=%{x}<br>value=%{y}<extra></extra>\",\"legendgroup\":\"\",\"marker\":{\"color\":\"#636efa\"},\"name\":\"\",\"notched\":false,\"offsetgroup\":\"\",\"orientation\":\"v\",\"showlegend\":false,\"x\":[\"Overall_Height\",\"Overall_Height\",\"Overall_Height\",\"Overall_Height\",\"Overall_Height\",\"Overall_Height\",\"Overall_Height\",\"Overall_Height\",\"Overall_Height\",\"Overall_Height\",\"Overall_Height\",\"Overall_Height\",\"Overall_Height\",\"Overall_Height\",\"Overall_Height\",\"Overall_Height\",\"Overall_Height\",\"Overall_Height\",\"Overall_Height\",\"Overall_Height\",\"Overall_Height\",\"Overall_Height\",\"Overall_Height\",\"Overall_Height\",\"Overall_Height\",\"Overall_Height\",\"Overall_Height\",\"Overall_Height\",\"Overall_Height\",\"Overall_Height\",\"Overall_Height\",\"Overall_Height\",\"Overall_Height\",\"Overall_Height\",\"Overall_Height\",\"Overall_Height\",\"Overall_Height\",\"Overall_Height\",\"Overall_Height\",\"Overall_Height\",\"Overall_Height\",\"Overall_Height\",\"Overall_Height\",\"Overall_Height\",\"Overall_Height\",\"Overall_Height\",\"Overall_Height\",\"Overall_Height\",\"Overall_Height\",\"Overall_Height\",\"Overall_Height\",\"Overall_Height\",\"Overall_Height\",\"Overall_Height\",\"Overall_Height\",\"Overall_Height\",\"Overall_Height\",\"Overall_Height\",\"Overall_Height\",\"Overall_Height\",\"Overall_Height\",\"Overall_Height\",\"Overall_Height\",\"Overall_Height\",\"Overall_Height\",\"Overall_Height\",\"Overall_Height\",\"Overall_Height\",\"Overall_Height\",\"Overall_Height\",\"Overall_Height\",\"Overall_Height\",\"Overall_Height\",\"Overall_Height\",\"Overall_Height\",\"Overall_Height\",\"Overall_Height\",\"Overall_Height\",\"Overall_Height\",\"Overall_Height\",\"Overall_Height\",\"Overall_Height\",\"Overall_Height\",\"Overall_Height\",\"Overall_Height\",\"Overall_Height\",\"Overall_Height\",\"Overall_Height\",\"Overall_Height\",\"Overall_Height\",\"Overall_Height\",\"Overall_Height\",\"Overall_Height\",\"Overall_Height\",\"Overall_Height\",\"Overall_Height\",\"Overall_Height\",\"Overall_Height\",\"Overall_Height\",\"Overall_Height\",\"Overall_Height\",\"Overall_Height\",\"Overall_Height\",\"Overall_Height\",\"Overall_Height\",\"Overall_Height\",\"Overall_Height\",\"Overall_Height\",\"Overall_Height\",\"Overall_Height\",\"Overall_Height\",\"Overall_Height\",\"Overall_Height\",\"Overall_Height\",\"Overall_Height\",\"Overall_Height\",\"Overall_Height\",\"Overall_Height\",\"Overall_Height\",\"Overall_Height\",\"Overall_Height\",\"Overall_Height\",\"Overall_Height\",\"Overall_Height\",\"Overall_Height\",\"Overall_Height\",\"Overall_Height\",\"Overall_Height\",\"Overall_Height\",\"Overall_Height\",\"Overall_Height\",\"Overall_Height\",\"Overall_Height\",\"Overall_Height\",\"Overall_Height\",\"Overall_Height\",\"Overall_Height\",\"Overall_Height\",\"Overall_Height\",\"Overall_Height\",\"Overall_Height\",\"Overall_Height\",\"Overall_Height\",\"Overall_Height\",\"Overall_Height\",\"Overall_Height\",\"Overall_Height\",\"Overall_Height\",\"Overall_Height\",\"Overall_Height\",\"Overall_Height\",\"Overall_Height\",\"Overall_Height\",\"Overall_Height\",\"Overall_Height\",\"Overall_Height\",\"Overall_Height\",\"Overall_Height\",\"Overall_Height\",\"Overall_Height\",\"Overall_Height\",\"Overall_Height\",\"Overall_Height\",\"Overall_Height\",\"Overall_Height\",\"Overall_Height\",\"Overall_Height\",\"Overall_Height\",\"Overall_Height\",\"Overall_Height\",\"Overall_Height\",\"Overall_Height\",\"Overall_Height\",\"Overall_Height\",\"Overall_Height\",\"Overall_Height\",\"Overall_Height\",\"Overall_Height\",\"Overall_Height\",\"Overall_Height\",\"Overall_Height\",\"Overall_Height\",\"Overall_Height\",\"Overall_Height\",\"Overall_Height\",\"Overall_Height\",\"Overall_Height\",\"Overall_Height\",\"Overall_Height\",\"Overall_Height\",\"Overall_Height\",\"Overall_Height\",\"Overall_Height\",\"Overall_Height\",\"Overall_Height\",\"Overall_Height\",\"Overall_Height\",\"Overall_Height\",\"Overall_Height\",\"Overall_Height\",\"Overall_Height\",\"Overall_Height\",\"Overall_Height\",\"Overall_Height\",\"Overall_Height\",\"Overall_Height\",\"Overall_Height\",\"Overall_Height\",\"Overall_Height\",\"Overall_Height\",\"Overall_Height\",\"Overall_Height\",\"Overall_Height\",\"Overall_Height\",\"Overall_Height\",\"Overall_Height\",\"Overall_Height\",\"Overall_Height\",\"Overall_Height\",\"Overall_Height\",\"Overall_Height\",\"Overall_Height\",\"Overall_Height\",\"Overall_Height\",\"Overall_Height\",\"Overall_Height\",\"Overall_Height\",\"Overall_Height\",\"Overall_Height\",\"Overall_Height\",\"Overall_Height\",\"Overall_Height\",\"Overall_Height\",\"Overall_Height\",\"Overall_Height\",\"Overall_Height\",\"Overall_Height\",\"Overall_Height\",\"Overall_Height\",\"Overall_Height\",\"Overall_Height\",\"Overall_Height\",\"Overall_Height\",\"Overall_Height\",\"Overall_Height\",\"Overall_Height\",\"Overall_Height\",\"Overall_Height\",\"Overall_Height\",\"Overall_Height\",\"Overall_Height\",\"Overall_Height\",\"Overall_Height\",\"Overall_Height\",\"Overall_Height\",\"Overall_Height\",\"Overall_Height\",\"Overall_Height\",\"Overall_Height\",\"Overall_Height\",\"Overall_Height\",\"Overall_Height\",\"Overall_Height\",\"Overall_Height\",\"Overall_Height\",\"Overall_Height\",\"Overall_Height\",\"Overall_Height\",\"Overall_Height\",\"Overall_Height\",\"Overall_Height\",\"Overall_Height\",\"Overall_Height\",\"Overall_Height\",\"Overall_Height\",\"Overall_Height\",\"Overall_Height\",\"Overall_Height\",\"Overall_Height\",\"Overall_Height\",\"Overall_Height\",\"Overall_Height\",\"Overall_Height\",\"Overall_Height\",\"Overall_Height\",\"Overall_Height\",\"Overall_Height\",\"Overall_Height\",\"Overall_Height\",\"Overall_Height\",\"Overall_Height\",\"Overall_Height\",\"Overall_Height\",\"Overall_Height\",\"Overall_Height\",\"Overall_Height\",\"Overall_Height\",\"Overall_Height\",\"Overall_Height\",\"Overall_Height\",\"Overall_Height\",\"Overall_Height\",\"Overall_Height\",\"Overall_Height\",\"Overall_Height\",\"Overall_Height\",\"Overall_Height\",\"Overall_Height\",\"Overall_Height\",\"Overall_Height\",\"Overall_Height\",\"Overall_Height\",\"Overall_Height\",\"Overall_Height\",\"Overall_Height\",\"Overall_Height\",\"Overall_Height\",\"Overall_Height\",\"Overall_Height\",\"Overall_Height\",\"Overall_Height\",\"Overall_Height\",\"Overall_Height\",\"Overall_Height\",\"Overall_Height\",\"Overall_Height\",\"Overall_Height\",\"Overall_Height\",\"Overall_Height\",\"Overall_Height\",\"Overall_Height\",\"Overall_Height\",\"Overall_Height\",\"Overall_Height\",\"Overall_Height\",\"Overall_Height\",\"Overall_Height\",\"Overall_Height\",\"Overall_Height\",\"Overall_Height\",\"Overall_Height\",\"Overall_Height\",\"Overall_Height\",\"Overall_Height\",\"Overall_Height\",\"Overall_Height\",\"Overall_Height\",\"Overall_Height\",\"Overall_Height\",\"Overall_Height\",\"Overall_Height\",\"Overall_Height\",\"Overall_Height\",\"Overall_Height\",\"Overall_Height\",\"Overall_Height\",\"Overall_Height\",\"Overall_Height\",\"Overall_Height\",\"Overall_Height\",\"Overall_Height\",\"Overall_Height\",\"Overall_Height\",\"Overall_Height\",\"Overall_Height\",\"Overall_Height\",\"Overall_Height\",\"Overall_Height\",\"Overall_Height\",\"Overall_Height\",\"Overall_Height\",\"Overall_Height\",\"Overall_Height\",\"Overall_Height\",\"Overall_Height\",\"Overall_Height\",\"Overall_Height\",\"Overall_Height\",\"Overall_Height\",\"Overall_Height\",\"Overall_Height\",\"Overall_Height\",\"Overall_Height\",\"Overall_Height\",\"Overall_Height\",\"Overall_Height\",\"Overall_Height\",\"Overall_Height\",\"Overall_Height\",\"Overall_Height\",\"Overall_Height\",\"Overall_Height\",\"Overall_Height\",\"Overall_Height\",\"Overall_Height\",\"Overall_Height\",\"Overall_Height\",\"Overall_Height\",\"Overall_Height\",\"Overall_Height\",\"Overall_Height\",\"Overall_Height\",\"Overall_Height\",\"Overall_Height\",\"Overall_Height\",\"Overall_Height\",\"Overall_Height\",\"Overall_Height\",\"Overall_Height\",\"Overall_Height\",\"Overall_Height\",\"Overall_Height\",\"Overall_Height\",\"Overall_Height\",\"Overall_Height\",\"Overall_Height\",\"Overall_Height\",\"Overall_Height\",\"Overall_Height\",\"Overall_Height\",\"Overall_Height\",\"Overall_Height\",\"Overall_Height\",\"Overall_Height\",\"Overall_Height\",\"Overall_Height\",\"Overall_Height\",\"Overall_Height\",\"Overall_Height\",\"Overall_Height\",\"Overall_Height\",\"Overall_Height\",\"Overall_Height\",\"Overall_Height\",\"Overall_Height\",\"Overall_Height\",\"Overall_Height\",\"Overall_Height\",\"Overall_Height\",\"Overall_Height\",\"Overall_Height\",\"Overall_Height\",\"Overall_Height\",\"Overall_Height\",\"Overall_Height\",\"Overall_Height\",\"Overall_Height\",\"Overall_Height\",\"Overall_Height\",\"Overall_Height\",\"Overall_Height\",\"Overall_Height\",\"Overall_Height\",\"Overall_Height\",\"Overall_Height\",\"Overall_Height\",\"Overall_Height\",\"Overall_Height\",\"Overall_Height\",\"Overall_Height\",\"Overall_Height\",\"Overall_Height\",\"Overall_Height\",\"Overall_Height\",\"Overall_Height\",\"Overall_Height\",\"Overall_Height\",\"Overall_Height\",\"Overall_Height\",\"Overall_Height\",\"Overall_Height\",\"Overall_Height\",\"Overall_Height\",\"Overall_Height\",\"Overall_Height\",\"Overall_Height\",\"Overall_Height\",\"Overall_Height\",\"Overall_Height\",\"Overall_Height\",\"Overall_Height\",\"Overall_Height\",\"Overall_Height\",\"Overall_Height\",\"Overall_Height\",\"Overall_Height\",\"Overall_Height\",\"Overall_Height\",\"Overall_Height\",\"Overall_Height\",\"Overall_Height\",\"Overall_Height\",\"Overall_Height\",\"Overall_Height\",\"Overall_Height\",\"Overall_Height\",\"Overall_Height\",\"Overall_Height\",\"Overall_Height\",\"Overall_Height\",\"Overall_Height\",\"Overall_Height\",\"Overall_Height\",\"Overall_Height\",\"Overall_Height\",\"Overall_Height\",\"Overall_Height\",\"Overall_Height\",\"Overall_Height\",\"Overall_Height\",\"Overall_Height\",\"Overall_Height\",\"Overall_Height\",\"Overall_Height\",\"Overall_Height\",\"Overall_Height\",\"Overall_Height\",\"Overall_Height\",\"Overall_Height\",\"Overall_Height\",\"Overall_Height\",\"Overall_Height\",\"Overall_Height\",\"Overall_Height\",\"Overall_Height\",\"Overall_Height\",\"Overall_Height\",\"Overall_Height\",\"Overall_Height\",\"Overall_Height\",\"Overall_Height\",\"Overall_Height\",\"Overall_Height\",\"Overall_Height\",\"Overall_Height\",\"Overall_Height\",\"Overall_Height\",\"Orientation\",\"Orientation\",\"Orientation\",\"Orientation\",\"Orientation\",\"Orientation\",\"Orientation\",\"Orientation\",\"Orientation\",\"Orientation\",\"Orientation\",\"Orientation\",\"Orientation\",\"Orientation\",\"Orientation\",\"Orientation\",\"Orientation\",\"Orientation\",\"Orientation\",\"Orientation\",\"Orientation\",\"Orientation\",\"Orientation\",\"Orientation\",\"Orientation\",\"Orientation\",\"Orientation\",\"Orientation\",\"Orientation\",\"Orientation\",\"Orientation\",\"Orientation\",\"Orientation\",\"Orientation\",\"Orientation\",\"Orientation\",\"Orientation\",\"Orientation\",\"Orientation\",\"Orientation\",\"Orientation\",\"Orientation\",\"Orientation\",\"Orientation\",\"Orientation\",\"Orientation\",\"Orientation\",\"Orientation\",\"Orientation\",\"Orientation\",\"Orientation\",\"Orientation\",\"Orientation\",\"Orientation\",\"Orientation\",\"Orientation\",\"Orientation\",\"Orientation\",\"Orientation\",\"Orientation\",\"Orientation\",\"Orientation\",\"Orientation\",\"Orientation\",\"Orientation\",\"Orientation\",\"Orientation\",\"Orientation\",\"Orientation\",\"Orientation\",\"Orientation\",\"Orientation\",\"Orientation\",\"Orientation\",\"Orientation\",\"Orientation\",\"Orientation\",\"Orientation\",\"Orientation\",\"Orientation\",\"Orientation\",\"Orientation\",\"Orientation\",\"Orientation\",\"Orientation\",\"Orientation\",\"Orientation\",\"Orientation\",\"Orientation\",\"Orientation\",\"Orientation\",\"Orientation\",\"Orientation\",\"Orientation\",\"Orientation\",\"Orientation\",\"Orientation\",\"Orientation\",\"Orientation\",\"Orientation\",\"Orientation\",\"Orientation\",\"Orientation\",\"Orientation\",\"Orientation\",\"Orientation\",\"Orientation\",\"Orientation\",\"Orientation\",\"Orientation\",\"Orientation\",\"Orientation\",\"Orientation\",\"Orientation\",\"Orientation\",\"Orientation\",\"Orientation\",\"Orientation\",\"Orientation\",\"Orientation\",\"Orientation\",\"Orientation\",\"Orientation\",\"Orientation\",\"Orientation\",\"Orientation\",\"Orientation\",\"Orientation\",\"Orientation\",\"Orientation\",\"Orientation\",\"Orientation\",\"Orientation\",\"Orientation\",\"Orientation\",\"Orientation\",\"Orientation\",\"Orientation\",\"Orientation\",\"Orientation\",\"Orientation\",\"Orientation\",\"Orientation\",\"Orientation\",\"Orientation\",\"Orientation\",\"Orientation\",\"Orientation\",\"Orientation\",\"Orientation\",\"Orientation\",\"Orientation\",\"Orientation\",\"Orientation\",\"Orientation\",\"Orientation\",\"Orientation\",\"Orientation\",\"Orientation\",\"Orientation\",\"Orientation\",\"Orientation\",\"Orientation\",\"Orientation\",\"Orientation\",\"Orientation\",\"Orientation\",\"Orientation\",\"Orientation\",\"Orientation\",\"Orientation\",\"Orientation\",\"Orientation\",\"Orientation\",\"Orientation\",\"Orientation\",\"Orientation\",\"Orientation\",\"Orientation\",\"Orientation\",\"Orientation\",\"Orientation\",\"Orientation\",\"Orientation\",\"Orientation\",\"Orientation\",\"Orientation\",\"Orientation\",\"Orientation\",\"Orientation\",\"Orientation\",\"Orientation\",\"Orientation\",\"Orientation\",\"Orientation\",\"Orientation\",\"Orientation\",\"Orientation\",\"Orientation\",\"Orientation\",\"Orientation\",\"Orientation\",\"Orientation\",\"Orientation\",\"Orientation\",\"Orientation\",\"Orientation\",\"Orientation\",\"Orientation\",\"Orientation\",\"Orientation\",\"Orientation\",\"Orientation\",\"Orientation\",\"Orientation\",\"Orientation\",\"Orientation\",\"Orientation\",\"Orientation\",\"Orientation\",\"Orientation\",\"Orientation\",\"Orientation\",\"Orientation\",\"Orientation\",\"Orientation\",\"Orientation\",\"Orientation\",\"Orientation\",\"Orientation\",\"Orientation\",\"Orientation\",\"Orientation\",\"Orientation\",\"Orientation\",\"Orientation\",\"Orientation\",\"Orientation\",\"Orientation\",\"Orientation\",\"Orientation\",\"Orientation\",\"Orientation\",\"Orientation\",\"Orientation\",\"Orientation\",\"Orientation\",\"Orientation\",\"Orientation\",\"Orientation\",\"Orientation\",\"Orientation\",\"Orientation\",\"Orientation\",\"Orientation\",\"Orientation\",\"Orientation\",\"Orientation\",\"Orientation\",\"Orientation\",\"Orientation\",\"Orientation\",\"Orientation\",\"Orientation\",\"Orientation\",\"Orientation\",\"Orientation\",\"Orientation\",\"Orientation\",\"Orientation\",\"Orientation\",\"Orientation\",\"Orientation\",\"Orientation\",\"Orientation\",\"Orientation\",\"Orientation\",\"Orientation\",\"Orientation\",\"Orientation\",\"Orientation\",\"Orientation\",\"Orientation\",\"Orientation\",\"Orientation\",\"Orientation\",\"Orientation\",\"Orientation\",\"Orientation\",\"Orientation\",\"Orientation\",\"Orientation\",\"Orientation\",\"Orientation\",\"Orientation\",\"Orientation\",\"Orientation\",\"Orientation\",\"Orientation\",\"Orientation\",\"Orientation\",\"Orientation\",\"Orientation\",\"Orientation\",\"Orientation\",\"Orientation\",\"Orientation\",\"Orientation\",\"Orientation\",\"Orientation\",\"Orientation\",\"Orientation\",\"Orientation\",\"Orientation\",\"Orientation\",\"Orientation\",\"Orientation\",\"Orientation\",\"Orientation\",\"Orientation\",\"Orientation\",\"Orientation\",\"Orientation\",\"Orientation\",\"Orientation\",\"Orientation\",\"Orientation\",\"Orientation\",\"Orientation\",\"Orientation\",\"Orientation\",\"Orientation\",\"Orientation\",\"Orientation\",\"Orientation\",\"Orientation\",\"Orientation\",\"Orientation\",\"Orientation\",\"Orientation\",\"Orientation\",\"Orientation\",\"Orientation\",\"Orientation\",\"Orientation\",\"Orientation\",\"Orientation\",\"Orientation\",\"Orientation\",\"Orientation\",\"Orientation\",\"Orientation\",\"Orientation\",\"Orientation\",\"Orientation\",\"Orientation\",\"Orientation\",\"Orientation\",\"Orientation\",\"Orientation\",\"Orientation\",\"Orientation\",\"Orientation\",\"Orientation\",\"Orientation\",\"Orientation\",\"Orientation\",\"Orientation\",\"Orientation\",\"Orientation\",\"Orientation\",\"Orientation\",\"Orientation\",\"Orientation\",\"Orientation\",\"Orientation\",\"Orientation\",\"Orientation\",\"Orientation\",\"Orientation\",\"Orientation\",\"Orientation\",\"Orientation\",\"Orientation\",\"Orientation\",\"Orientation\",\"Orientation\",\"Orientation\",\"Orientation\",\"Orientation\",\"Orientation\",\"Orientation\",\"Orientation\",\"Orientation\",\"Orientation\",\"Orientation\",\"Orientation\",\"Orientation\",\"Orientation\",\"Orientation\",\"Orientation\",\"Orientation\",\"Orientation\",\"Orientation\",\"Orientation\",\"Orientation\",\"Orientation\",\"Orientation\",\"Orientation\",\"Orientation\",\"Orientation\",\"Orientation\",\"Orientation\",\"Orientation\",\"Orientation\",\"Orientation\",\"Orientation\",\"Orientation\",\"Orientation\",\"Orientation\",\"Orientation\",\"Orientation\",\"Orientation\",\"Orientation\",\"Orientation\",\"Orientation\",\"Orientation\",\"Orientation\",\"Orientation\",\"Orientation\",\"Orientation\",\"Orientation\",\"Orientation\",\"Orientation\",\"Orientation\",\"Orientation\",\"Orientation\",\"Orientation\",\"Orientation\",\"Orientation\",\"Orientation\",\"Orientation\",\"Orientation\",\"Orientation\",\"Orientation\",\"Orientation\",\"Orientation\",\"Orientation\",\"Orientation\",\"Orientation\",\"Orientation\",\"Orientation\",\"Orientation\",\"Orientation\",\"Orientation\",\"Orientation\",\"Orientation\",\"Orientation\",\"Orientation\",\"Orientation\",\"Orientation\",\"Orientation\",\"Orientation\",\"Orientation\",\"Orientation\",\"Orientation\",\"Orientation\",\"Orientation\",\"Orientation\",\"Orientation\",\"Orientation\",\"Orientation\",\"Orientation\",\"Orientation\",\"Orientation\",\"Orientation\",\"Orientation\",\"Orientation\",\"Orientation\",\"Orientation\",\"Orientation\",\"Orientation\",\"Orientation\",\"Orientation\",\"Orientation\",\"Orientation\",\"Orientation\",\"Orientation\",\"Orientation\",\"Orientation\",\"Orientation\",\"Orientation\",\"Orientation\",\"Orientation\",\"Orientation\",\"Orientation\",\"Orientation\",\"Orientation\",\"Orientation\",\"Orientation\",\"Orientation\",\"Orientation\",\"Orientation\",\"Orientation\",\"Orientation\",\"Orientation\",\"Orientation\",\"Orientation\",\"Orientation\",\"Orientation\",\"Orientation\",\"Orientation\",\"Orientation\",\"Orientation\",\"Orientation\",\"Orientation\",\"Orientation\",\"Orientation\",\"Orientation\",\"Orientation\",\"Orientation\",\"Orientation\",\"Orientation\",\"Orientation\",\"Orientation\",\"Orientation\",\"Orientation\",\"Orientation\",\"Orientation\",\"Orientation\",\"Orientation\",\"Orientation\",\"Orientation\",\"Orientation\",\"Orientation\",\"Orientation\",\"Orientation\",\"Glazing_Area_Distribution\",\"Glazing_Area_Distribution\",\"Glazing_Area_Distribution\",\"Glazing_Area_Distribution\",\"Glazing_Area_Distribution\",\"Glazing_Area_Distribution\",\"Glazing_Area_Distribution\",\"Glazing_Area_Distribution\",\"Glazing_Area_Distribution\",\"Glazing_Area_Distribution\",\"Glazing_Area_Distribution\",\"Glazing_Area_Distribution\",\"Glazing_Area_Distribution\",\"Glazing_Area_Distribution\",\"Glazing_Area_Distribution\",\"Glazing_Area_Distribution\",\"Glazing_Area_Distribution\",\"Glazing_Area_Distribution\",\"Glazing_Area_Distribution\",\"Glazing_Area_Distribution\",\"Glazing_Area_Distribution\",\"Glazing_Area_Distribution\",\"Glazing_Area_Distribution\",\"Glazing_Area_Distribution\",\"Glazing_Area_Distribution\",\"Glazing_Area_Distribution\",\"Glazing_Area_Distribution\",\"Glazing_Area_Distribution\",\"Glazing_Area_Distribution\",\"Glazing_Area_Distribution\",\"Glazing_Area_Distribution\",\"Glazing_Area_Distribution\",\"Glazing_Area_Distribution\",\"Glazing_Area_Distribution\",\"Glazing_Area_Distribution\",\"Glazing_Area_Distribution\",\"Glazing_Area_Distribution\",\"Glazing_Area_Distribution\",\"Glazing_Area_Distribution\",\"Glazing_Area_Distribution\",\"Glazing_Area_Distribution\",\"Glazing_Area_Distribution\",\"Glazing_Area_Distribution\",\"Glazing_Area_Distribution\",\"Glazing_Area_Distribution\",\"Glazing_Area_Distribution\",\"Glazing_Area_Distribution\",\"Glazing_Area_Distribution\",\"Glazing_Area_Distribution\",\"Glazing_Area_Distribution\",\"Glazing_Area_Distribution\",\"Glazing_Area_Distribution\",\"Glazing_Area_Distribution\",\"Glazing_Area_Distribution\",\"Glazing_Area_Distribution\",\"Glazing_Area_Distribution\",\"Glazing_Area_Distribution\",\"Glazing_Area_Distribution\",\"Glazing_Area_Distribution\",\"Glazing_Area_Distribution\",\"Glazing_Area_Distribution\",\"Glazing_Area_Distribution\",\"Glazing_Area_Distribution\",\"Glazing_Area_Distribution\",\"Glazing_Area_Distribution\",\"Glazing_Area_Distribution\",\"Glazing_Area_Distribution\",\"Glazing_Area_Distribution\",\"Glazing_Area_Distribution\",\"Glazing_Area_Distribution\",\"Glazing_Area_Distribution\",\"Glazing_Area_Distribution\",\"Glazing_Area_Distribution\",\"Glazing_Area_Distribution\",\"Glazing_Area_Distribution\",\"Glazing_Area_Distribution\",\"Glazing_Area_Distribution\",\"Glazing_Area_Distribution\",\"Glazing_Area_Distribution\",\"Glazing_Area_Distribution\",\"Glazing_Area_Distribution\",\"Glazing_Area_Distribution\",\"Glazing_Area_Distribution\",\"Glazing_Area_Distribution\",\"Glazing_Area_Distribution\",\"Glazing_Area_Distribution\",\"Glazing_Area_Distribution\",\"Glazing_Area_Distribution\",\"Glazing_Area_Distribution\",\"Glazing_Area_Distribution\",\"Glazing_Area_Distribution\",\"Glazing_Area_Distribution\",\"Glazing_Area_Distribution\",\"Glazing_Area_Distribution\",\"Glazing_Area_Distribution\",\"Glazing_Area_Distribution\",\"Glazing_Area_Distribution\",\"Glazing_Area_Distribution\",\"Glazing_Area_Distribution\",\"Glazing_Area_Distribution\",\"Glazing_Area_Distribution\",\"Glazing_Area_Distribution\",\"Glazing_Area_Distribution\",\"Glazing_Area_Distribution\",\"Glazing_Area_Distribution\",\"Glazing_Area_Distribution\",\"Glazing_Area_Distribution\",\"Glazing_Area_Distribution\",\"Glazing_Area_Distribution\",\"Glazing_Area_Distribution\",\"Glazing_Area_Distribution\",\"Glazing_Area_Distribution\",\"Glazing_Area_Distribution\",\"Glazing_Area_Distribution\",\"Glazing_Area_Distribution\",\"Glazing_Area_Distribution\",\"Glazing_Area_Distribution\",\"Glazing_Area_Distribution\",\"Glazing_Area_Distribution\",\"Glazing_Area_Distribution\",\"Glazing_Area_Distribution\",\"Glazing_Area_Distribution\",\"Glazing_Area_Distribution\",\"Glazing_Area_Distribution\",\"Glazing_Area_Distribution\",\"Glazing_Area_Distribution\",\"Glazing_Area_Distribution\",\"Glazing_Area_Distribution\",\"Glazing_Area_Distribution\",\"Glazing_Area_Distribution\",\"Glazing_Area_Distribution\",\"Glazing_Area_Distribution\",\"Glazing_Area_Distribution\",\"Glazing_Area_Distribution\",\"Glazing_Area_Distribution\",\"Glazing_Area_Distribution\",\"Glazing_Area_Distribution\",\"Glazing_Area_Distribution\",\"Glazing_Area_Distribution\",\"Glazing_Area_Distribution\",\"Glazing_Area_Distribution\",\"Glazing_Area_Distribution\",\"Glazing_Area_Distribution\",\"Glazing_Area_Distribution\",\"Glazing_Area_Distribution\",\"Glazing_Area_Distribution\",\"Glazing_Area_Distribution\",\"Glazing_Area_Distribution\",\"Glazing_Area_Distribution\",\"Glazing_Area_Distribution\",\"Glazing_Area_Distribution\",\"Glazing_Area_Distribution\",\"Glazing_Area_Distribution\",\"Glazing_Area_Distribution\",\"Glazing_Area_Distribution\",\"Glazing_Area_Distribution\",\"Glazing_Area_Distribution\",\"Glazing_Area_Distribution\",\"Glazing_Area_Distribution\",\"Glazing_Area_Distribution\",\"Glazing_Area_Distribution\",\"Glazing_Area_Distribution\",\"Glazing_Area_Distribution\",\"Glazing_Area_Distribution\",\"Glazing_Area_Distribution\",\"Glazing_Area_Distribution\",\"Glazing_Area_Distribution\",\"Glazing_Area_Distribution\",\"Glazing_Area_Distribution\",\"Glazing_Area_Distribution\",\"Glazing_Area_Distribution\",\"Glazing_Area_Distribution\",\"Glazing_Area_Distribution\",\"Glazing_Area_Distribution\",\"Glazing_Area_Distribution\",\"Glazing_Area_Distribution\",\"Glazing_Area_Distribution\",\"Glazing_Area_Distribution\",\"Glazing_Area_Distribution\",\"Glazing_Area_Distribution\",\"Glazing_Area_Distribution\",\"Glazing_Area_Distribution\",\"Glazing_Area_Distribution\",\"Glazing_Area_Distribution\",\"Glazing_Area_Distribution\",\"Glazing_Area_Distribution\",\"Glazing_Area_Distribution\",\"Glazing_Area_Distribution\",\"Glazing_Area_Distribution\",\"Glazing_Area_Distribution\",\"Glazing_Area_Distribution\",\"Glazing_Area_Distribution\",\"Glazing_Area_Distribution\",\"Glazing_Area_Distribution\",\"Glazing_Area_Distribution\",\"Glazing_Area_Distribution\",\"Glazing_Area_Distribution\",\"Glazing_Area_Distribution\",\"Glazing_Area_Distribution\",\"Glazing_Area_Distribution\",\"Glazing_Area_Distribution\",\"Glazing_Area_Distribution\",\"Glazing_Area_Distribution\",\"Glazing_Area_Distribution\",\"Glazing_Area_Distribution\",\"Glazing_Area_Distribution\",\"Glazing_Area_Distribution\",\"Glazing_Area_Distribution\",\"Glazing_Area_Distribution\",\"Glazing_Area_Distribution\",\"Glazing_Area_Distribution\",\"Glazing_Area_Distribution\",\"Glazing_Area_Distribution\",\"Glazing_Area_Distribution\",\"Glazing_Area_Distribution\",\"Glazing_Area_Distribution\",\"Glazing_Area_Distribution\",\"Glazing_Area_Distribution\",\"Glazing_Area_Distribution\",\"Glazing_Area_Distribution\",\"Glazing_Area_Distribution\",\"Glazing_Area_Distribution\",\"Glazing_Area_Distribution\",\"Glazing_Area_Distribution\",\"Glazing_Area_Distribution\",\"Glazing_Area_Distribution\",\"Glazing_Area_Distribution\",\"Glazing_Area_Distribution\",\"Glazing_Area_Distribution\",\"Glazing_Area_Distribution\",\"Glazing_Area_Distribution\",\"Glazing_Area_Distribution\",\"Glazing_Area_Distribution\",\"Glazing_Area_Distribution\",\"Glazing_Area_Distribution\",\"Glazing_Area_Distribution\",\"Glazing_Area_Distribution\",\"Glazing_Area_Distribution\",\"Glazing_Area_Distribution\",\"Glazing_Area_Distribution\",\"Glazing_Area_Distribution\",\"Glazing_Area_Distribution\",\"Glazing_Area_Distribution\",\"Glazing_Area_Distribution\",\"Glazing_Area_Distribution\",\"Glazing_Area_Distribution\",\"Glazing_Area_Distribution\",\"Glazing_Area_Distribution\",\"Glazing_Area_Distribution\",\"Glazing_Area_Distribution\",\"Glazing_Area_Distribution\",\"Glazing_Area_Distribution\",\"Glazing_Area_Distribution\",\"Glazing_Area_Distribution\",\"Glazing_Area_Distribution\",\"Glazing_Area_Distribution\",\"Glazing_Area_Distribution\",\"Glazing_Area_Distribution\",\"Glazing_Area_Distribution\",\"Glazing_Area_Distribution\",\"Glazing_Area_Distribution\",\"Glazing_Area_Distribution\",\"Glazing_Area_Distribution\",\"Glazing_Area_Distribution\",\"Glazing_Area_Distribution\",\"Glazing_Area_Distribution\",\"Glazing_Area_Distribution\",\"Glazing_Area_Distribution\",\"Glazing_Area_Distribution\",\"Glazing_Area_Distribution\",\"Glazing_Area_Distribution\",\"Glazing_Area_Distribution\",\"Glazing_Area_Distribution\",\"Glazing_Area_Distribution\",\"Glazing_Area_Distribution\",\"Glazing_Area_Distribution\",\"Glazing_Area_Distribution\",\"Glazing_Area_Distribution\",\"Glazing_Area_Distribution\",\"Glazing_Area_Distribution\",\"Glazing_Area_Distribution\",\"Glazing_Area_Distribution\",\"Glazing_Area_Distribution\",\"Glazing_Area_Distribution\",\"Glazing_Area_Distribution\",\"Glazing_Area_Distribution\",\"Glazing_Area_Distribution\",\"Glazing_Area_Distribution\",\"Glazing_Area_Distribution\",\"Glazing_Area_Distribution\",\"Glazing_Area_Distribution\",\"Glazing_Area_Distribution\",\"Glazing_Area_Distribution\",\"Glazing_Area_Distribution\",\"Glazing_Area_Distribution\",\"Glazing_Area_Distribution\",\"Glazing_Area_Distribution\",\"Glazing_Area_Distribution\",\"Glazing_Area_Distribution\",\"Glazing_Area_Distribution\",\"Glazing_Area_Distribution\",\"Glazing_Area_Distribution\",\"Glazing_Area_Distribution\",\"Glazing_Area_Distribution\",\"Glazing_Area_Distribution\",\"Glazing_Area_Distribution\",\"Glazing_Area_Distribution\",\"Glazing_Area_Distribution\",\"Glazing_Area_Distribution\",\"Glazing_Area_Distribution\",\"Glazing_Area_Distribution\",\"Glazing_Area_Distribution\",\"Glazing_Area_Distribution\",\"Glazing_Area_Distribution\",\"Glazing_Area_Distribution\",\"Glazing_Area_Distribution\",\"Glazing_Area_Distribution\",\"Glazing_Area_Distribution\",\"Glazing_Area_Distribution\",\"Glazing_Area_Distribution\",\"Glazing_Area_Distribution\",\"Glazing_Area_Distribution\",\"Glazing_Area_Distribution\",\"Glazing_Area_Distribution\",\"Glazing_Area_Distribution\",\"Glazing_Area_Distribution\",\"Glazing_Area_Distribution\",\"Glazing_Area_Distribution\",\"Glazing_Area_Distribution\",\"Glazing_Area_Distribution\",\"Glazing_Area_Distribution\",\"Glazing_Area_Distribution\",\"Glazing_Area_Distribution\",\"Glazing_Area_Distribution\",\"Glazing_Area_Distribution\",\"Glazing_Area_Distribution\",\"Glazing_Area_Distribution\",\"Glazing_Area_Distribution\",\"Glazing_Area_Distribution\",\"Glazing_Area_Distribution\",\"Glazing_Area_Distribution\",\"Glazing_Area_Distribution\",\"Glazing_Area_Distribution\",\"Glazing_Area_Distribution\",\"Glazing_Area_Distribution\",\"Glazing_Area_Distribution\",\"Glazing_Area_Distribution\",\"Glazing_Area_Distribution\",\"Glazing_Area_Distribution\",\"Glazing_Area_Distribution\",\"Glazing_Area_Distribution\",\"Glazing_Area_Distribution\",\"Glazing_Area_Distribution\",\"Glazing_Area_Distribution\",\"Glazing_Area_Distribution\",\"Glazing_Area_Distribution\",\"Glazing_Area_Distribution\",\"Glazing_Area_Distribution\",\"Glazing_Area_Distribution\",\"Glazing_Area_Distribution\",\"Glazing_Area_Distribution\",\"Glazing_Area_Distribution\",\"Glazing_Area_Distribution\",\"Glazing_Area_Distribution\",\"Glazing_Area_Distribution\",\"Glazing_Area_Distribution\",\"Glazing_Area_Distribution\",\"Glazing_Area_Distribution\",\"Glazing_Area_Distribution\",\"Glazing_Area_Distribution\",\"Glazing_Area_Distribution\",\"Glazing_Area_Distribution\",\"Glazing_Area_Distribution\",\"Glazing_Area_Distribution\",\"Glazing_Area_Distribution\",\"Glazing_Area_Distribution\",\"Glazing_Area_Distribution\",\"Glazing_Area_Distribution\",\"Glazing_Area_Distribution\",\"Glazing_Area_Distribution\",\"Glazing_Area_Distribution\",\"Glazing_Area_Distribution\",\"Glazing_Area_Distribution\",\"Glazing_Area_Distribution\",\"Glazing_Area_Distribution\",\"Glazing_Area_Distribution\",\"Glazing_Area_Distribution\",\"Glazing_Area_Distribution\",\"Glazing_Area_Distribution\",\"Glazing_Area_Distribution\",\"Glazing_Area_Distribution\",\"Glazing_Area_Distribution\",\"Glazing_Area_Distribution\",\"Glazing_Area_Distribution\",\"Glazing_Area_Distribution\",\"Glazing_Area_Distribution\",\"Glazing_Area_Distribution\",\"Glazing_Area_Distribution\",\"Glazing_Area_Distribution\",\"Glazing_Area_Distribution\",\"Glazing_Area_Distribution\",\"Glazing_Area_Distribution\",\"Glazing_Area_Distribution\",\"Glazing_Area_Distribution\",\"Glazing_Area_Distribution\",\"Glazing_Area_Distribution\",\"Glazing_Area_Distribution\",\"Glazing_Area_Distribution\",\"Glazing_Area_Distribution\",\"Glazing_Area_Distribution\",\"Glazing_Area_Distribution\",\"Glazing_Area_Distribution\",\"Glazing_Area_Distribution\",\"Glazing_Area_Distribution\",\"Glazing_Area_Distribution\",\"Glazing_Area_Distribution\",\"Glazing_Area_Distribution\",\"Glazing_Area_Distribution\",\"Glazing_Area_Distribution\",\"Glazing_Area_Distribution\",\"Glazing_Area_Distribution\",\"Glazing_Area_Distribution\",\"Glazing_Area_Distribution\",\"Glazing_Area_Distribution\",\"Glazing_Area_Distribution\",\"Glazing_Area_Distribution\",\"Glazing_Area_Distribution\",\"Glazing_Area_Distribution\",\"Glazing_Area_Distribution\",\"Glazing_Area_Distribution\",\"Glazing_Area_Distribution\",\"Glazing_Area_Distribution\",\"Glazing_Area_Distribution\",\"Glazing_Area_Distribution\",\"Glazing_Area_Distribution\",\"Glazing_Area_Distribution\",\"Glazing_Area_Distribution\",\"Glazing_Area_Distribution\",\"Glazing_Area_Distribution\",\"Glazing_Area_Distribution\",\"Glazing_Area_Distribution\",\"Glazing_Area_Distribution\",\"Glazing_Area_Distribution\",\"Glazing_Area_Distribution\",\"Glazing_Area_Distribution\",\"Glazing_Area_Distribution\",\"Glazing_Area_Distribution\",\"Glazing_Area_Distribution\",\"Glazing_Area_Distribution\",\"Glazing_Area_Distribution\",\"Glazing_Area_Distribution\",\"Glazing_Area_Distribution\",\"Glazing_Area_Distribution\",\"Glazing_Area_Distribution\",\"Glazing_Area_Distribution\",\"Glazing_Area_Distribution\",\"Glazing_Area_Distribution\",\"Glazing_Area_Distribution\",\"Glazing_Area_Distribution\",\"Glazing_Area_Distribution\",\"Glazing_Area_Distribution\",\"Glazing_Area_Distribution\",\"Glazing_Area_Distribution\",\"Glazing_Area_Distribution\",\"Glazing_Area_Distribution\",\"Glazing_Area_Distribution\",\"Glazing_Area_Distribution\",\"Glazing_Area_Distribution\",\"Glazing_Area_Distribution\",\"Glazing_Area_Distribution\",\"Glazing_Area_Distribution\",\"Glazing_Area_Distribution\",\"Glazing_Area_Distribution\",\"Glazing_Area_Distribution\",\"Glazing_Area_Distribution\",\"Glazing_Area_Distribution\",\"Glazing_Area_Distribution\",\"Glazing_Area_Distribution\",\"Glazing_Area_Distribution\",\"Glazing_Area_Distribution\",\"Glazing_Area_Distribution\",\"Glazing_Area_Distribution\",\"Glazing_Area_Distribution\",\"Glazing_Area_Distribution\",\"Glazing_Area_Distribution\",\"Glazing_Area_Distribution\",\"Glazing_Area_Distribution\",\"Glazing_Area_Distribution\",\"Glazing_Area_Distribution\",\"Glazing_Area_Distribution\",\"Glazing_Area_Distribution\",\"Glazing_Area_Distribution\",\"Glazing_Area_Distribution\",\"Glazing_Area_Distribution\",\"Glazing_Area_Distribution\",\"Glazing_Area_Distribution\",\"Glazing_Area_Distribution\",\"Glazing_Area_Distribution\",\"Glazing_Area_Distribution\",\"Glazing_Area_Distribution\",\"Glazing_Area_Distribution\",\"Glazing_Area_Distribution\",\"Glazing_Area_Distribution\",\"Glazing_Area_Distribution\",\"Glazing_Area_Distribution\",\"Glazing_Area_Distribution\",\"Glazing_Area_Distribution\",\"Glazing_Area_Distribution\",\"Glazing_Area_Distribution\",\"Glazing_Area_Distribution\",\"Glazing_Area_Distribution\",\"Glazing_Area_Distribution\",\"Glazing_Area_Distribution\",\"Glazing_Area_Distribution\",\"Glazing_Area_Distribution\",\"Glazing_Area_Distribution\",\"Glazing_Area_Distribution\",\"Glazing_Area_Distribution\",\"Glazing_Area_Distribution\",\"Glazing_Area_Distribution\",\"Glazing_Area_Distribution\",\"Glazing_Area_Distribution\",\"Glazing_Area_Distribution\",\"Glazing_Area_Distribution\",\"Glazing_Area_Distribution\",\"Glazing_Area_Distribution\",\"Glazing_Area_Distribution\",\"Glazing_Area_Distribution\",\"Glazing_Area_Distribution\",\"Glazing_Area_Distribution\",\"Glazing_Area_Distribution\",\"Glazing_Area_Distribution\",\"Glazing_Area_Distribution\",\"Glazing_Area_Distribution\",\"Glazing_Area_Distribution\",\"Glazing_Area_Distribution\",\"Glazing_Area_Distribution\"],\"x0\":\" \",\"xaxis\":\"x\",\"y\":[3.15,3.15,8.47,3.85,3.85,8.47,6.3,6.93,6.93,3.85,6.93,4.24,3.47,6.93,8.47,3.15,6.3,3.47,6.3,3.47,7.0,3.85,3.47,8.47,3.15,2.84,3.15,8.47,2.84,3.47,3.47,6.93,3.15,2.84,3.85,7.7,7.7,3.47,3.47,3.47,6.3,7.7,3.5,3.15,3.15,3.47,7.7,4.24,5.67,3.47,4.24,3.15,3.47,7.7,3.47,6.93,3.85,3.15,6.93,5.67,3.85,6.93,7.0,8.47,6.3,8.47,6.93,3.85,6.3,3.85,6.3,3.47,3.47,7.0,7.7,5.67,3.47,6.3,3.85,8.47,3.15,8.47,4.24,3.47,3.47,3.85,4.24,3.47,6.93,3.47,6.93,2.84,6.93,7.0,3.15,7.7,8.47,4.24,5.67,4.24,3.47,5.67,2.84,3.15,8.47,6.93,6.3,6.93,2.84,4.24,3.47,7.7,6.3,3.47,4.24,3.47,6.93,3.47,7.7,3.5,3.47,2.84,6.3,3.47,3.15,3.47,3.5,4.24,7.7,6.3,6.93,7.0,6.3,3.15,3.15,6.93,8.47,3.85,6.93,3.5,3.85,3.47,8.47,6.93,3.47,5.67,2.84,3.5,4.24,5.67,5.67,7.7,6.93,6.93,6.93,3.47,7.7,8.47,3.15,7.7,6.93,6.93,8.47,3.47,3.85,2.84,4.24,6.93,6.3,8.47,7.0,5.67,2.84,3.47,5.67,6.3,6.93,8.47,5.67,3.47,3.47,4.24,5.67,6.93,3.47,3.15,3.15,3.15,3.47,6.93,6.93,3.85,5.67,3.47,3.15,3.47,7.7,5.67,3.85,3.47,3.47,3.15,3.5,3.47,7.7,6.93,3.47,4.24,4.24,6.3,3.47,2.84,7.0,5.67,4.24,6.93,6.3,7.7,3.47,5.67,6.93,2.84,6.93,4.24,3.15,2.84,6.93,3.47,3.47,3.85,7.0,7.7,3.47,5.67,6.93,6.93,2.84,5.67,8.47,6.93,6.93,4.24,8.47,5.67,3.15,6.3,5.67,4.24,5.67,3.85,4.24,3.85,3.47,6.3,6.93,8.47,3.15,7.7,6.3,3.15,4.24,3.47,7.0,3.85,7.7,5.67,3.15,3.47,2.84,6.93,3.47,3.15,6.93,5.67,3.47,6.3,6.93,4.24,3.47,8.47,7.7,6.93,6.93,3.47,3.47,3.47,6.93,3.47,7.0,3.47,3.47,4.24,5.67,6.93,8.47,3.47,6.3,3.85,3.85,3.85,3.15,4.24,6.3,6.93,3.47,3.15,6.3,4.24,3.85,7.7,8.47,2.84,3.47,6.93,2.84,5.67,3.47,3.47,3.47,3.47,3.47,6.93,4.24,7.7,7.0,6.3,4.24,3.85,5.67,6.93,6.93,3.47,3.47,2.84,3.47,7.7,2.84,5.67,2.84,3.15,2.84,3.15,6.3,6.93,6.93,2.84,3.15,5.67,3.47,6.93,3.85,3.15,3.5,3.85,6.93,6.93,3.15,6.93,4.24,5.67,6.3,2.84,4.24,6.93,8.47,3.85,3.47,3.5,4.24,7.7,6.93,6.93,3.85,2.84,4.24,3.47,5.67,5.67,3.15,7.7,3.47,3.47,3.85,6.93,4.24,2.84,3.47,6.93,3.85,3.15,7.7,6.93,3.47,6.3,3.47,3.47,7.7,4.24,7.7,8.47,6.93,2.84,5.67,6.93,3.47,3.47,6.93,8.47,2.84,6.93,7.0,3.15,7.7,3.15,2.84,7.0,3.47,8.47,6.3,7.7,6.93,6.93,6.93,3.47,3.85,3.47,7.0,4.24,5.67,2.84,7.7,3.15,3.47,8.47,7.7,3.47,3.47,6.93,4.24,2.84,6.3,6.3,3.47,6.3,8.47,3.47,2.84,6.93,6.93,3.85,3.47,6.3,3.47,6.93,3.5,3.85,7.7,2.84,7.7,3.15,8.47,6.93,4.24,6.93,6.3,3.47,3.15,3.47,6.3,6.93,3.47,6.93,3.47,2.84,4.24,5.67,4.24,7.7,3.15,7.0,6.93,3.5,3.85,5.67,7.0,3.15,3.47,6.3,3.5,4.24,3.47,3.47,6.93,3.15,3.47,4.24,8.47,7.0,7.7,3.47,5.67,3.15,3.15,6.93,3.47,3.85,7.7,6.3,7.0,3.85,8.47,7.7,6.93,6.93,3.47,7.7,5.67,7.7,7.7,6.3,2.84,6.3,3.47,3.15,7.0,6.93,4.24,7.7,7.7,3.47,6.93,2.84,7.7,6.93,7.0,6.93,3.15,3.24,2.7,5.5,3.96,2.42,1.62,3.3,6.05,4.95,2.97,1.98,2.2,2.97,4.5,2.97,2.42,4.05,1.62,1.62,1.62,1.98,3.63,2.43,6.05,1.62,4.4,2.7,2.97,6.05,2.43,6.05,1.98,1.62,4.95,3.96,2.42,2.42,4.84,5.0,5.5,5.5,2.43,3.96,3.96,3.6,1.98,4.0,1.62,2.42,3.96,3.3,4.84,1.98,1.8,4.95,3.3,2.42,3.96,3.0,3.96,3.3,3.63,4.4,2.97,3.63,4.84,6.05,3.63,5.5,3.96,5.5,3.6,2.97,4.95,2.43,3.3,1.98,6.05,2.43,4.4,2.97,4.05,1.98,2.42,5.5,3.6,3.6,2.42,6.05,3.24,3.96,6.05,3.6,2.97,4.84,3.96,3.96,1.62,2.7,4.4,3.3,3.96,3.24,3.0,1.98,5.5,1.98,4.5,2.97,1.62,3.6,2.43,1.98,4.95,2.43,2.7,4.84,2.43,4.84,5.5,3.3,4.95,4.84,2.43,3.24,2.0,5.5,1.8,2.7,6.05,2.7,4.95,4.95,3.96,1.62,1.98,2.0,3.24,4.0,6.05,4.4,4.05,4.4,3.3,2.2,1.62,1.62,1.98,2.43,4.95,2.43,5.0,2.43,2.2,3.0,3.6,2.7,2.42,3.96,6.05,2.7,3.96,4.4,3.63,2.0,4.05,2.42,1.62,3.6,4.95,3.63,1.98,1.98,4.95,6.05,3.63,2.42,4.95,4.4,1.98,3.3,2.42,3.96,1.62,2.2,1.98,3.6,6.05,4.84,1.62,1.62,6.05,5.5,2.97,6.05,1.8,5.0,2.97,6.05,2.7,2.2,3.96,1.98,1.8,1.98,4.95,1.98,4.95,4.95,1.98,2.43,1.8,3.96,2.2,1.98,2.42,2.7,2.7,5.5,3.24,3.6,2.97,2.42,3.96,4.5,4.5,6.05,4.84,4.4,1.98,2.97,6.05,4.95,1.8,3.63,2.42,1.98,6.05,6.05,3.96,4.95,1.62,3.3,1.62,4.4,4.05,1.8,2.0,4.95,2.97,4.05,3.3,3.24,4.84,1.98,6.05,4.4,2.42,1.98,1.8,5.0,3.6,3.6,2.43,1.98,5.5,4.05,1.98,5.5,1.62,4.95,1.98,3.6,3.6,3.63,1.98,2.0,5.0,3.96,3.3,4.4,1.8,1.98,3.6,6.05,3.96,3.3,1.98,5.0,3.96,2.42,4.95,1.98,4.84,3.96,4.05,4.95,1.98,4.95,3.0,4.95,4.95,2.97,3.63,5.0,3.96,3.96,2.43,3.3,5.5,4.95,2.97,1.98,4.84,1.8,1.8,2.97,4.84,6.05,4.95,3.3,2.97,4.95,3.96,4.5,2.2,3.6,4.84,2.42,2.97,4.5,1.98,4.84,2.97,2.42,5.5,4.84,1.98,2.43,4.5,1.8,1.98,3.96,3.3,4.95,1.8,2.7,3.6,3.6,6.05,2.97,3.96,4.84,5.5,6.05,2.97,2.43,3.6,3.24,4.05,2.97,1.62,2.97,2.7,2.97,4.84,4.5,3.3,2.42,2.43,3.63,2.2,4.95,2.97,3.96,2.43,1.62,2.43,3.96,3.0,1.98,5.5,4.95,1.8,4.05,3.96,1.8,3.96,2.7,1.98,3.96,1.8,6.05,4.95,1.98,3.24,4.4,4.05,3.96,3.96,2.42,4.05,2.97,1.62,3.96,4.4,2.42,4.4,2.7,2.97,3.3,3.63,4.95,6.05,1.98,2.97,3.24,3.96,3.24,4.05,4.4,4.95,4.4,2.43,6.05,4.05,2.42,1.8,3.3,1.62,3.3,5.5,1.8,2.0,3.63,1.98,3.63,4.84,4.5,3.6,5.5,1.62,2.97,3.24,4.84,4.05,2.2,4.84,3.63,1.98,4.05,1.98,3.96,2.97,1.98,4.95,3.24,1.98,3.96,3.63,3.24,3.6,4.0,6.05,4.5,3.6,3.6,4.95,4.4,5.5,1.98,4.05,5.5,6.05,4.05,1.8,4.95,2.97,4.5,3.96,3.96,1.98,2.2,2.2,4.05,3.96,2.97,3.96,4.95,3.0,1.8,4.4,2.42,3.3,2.97,2.42,3.6,4.05,2.43,4.95,4.4,3.96,6.05,4.4,3.63,3.96,3.6,3.96,2.97,4.4,6.05,2.0,2.97,3.63,1.98,3.6,1.98,1.98,4.95,4.05,3.3,4.5,2.97,4.5,6.05,4.5,5.5,2.0,4.5,4.95,2.0,2.97,2.97,3.3,4.05,1.98,3.96,2.43,4.0,4.4,0.99,3.3,3.3,5.0,2.43,3.0,4.05,2.97,2.43,0.81,0.99,0.9,0.99,0.0,4.5,5.5,1.98,0.0,5.5,4.95,6.05,0.81,4.84,1.8,4.84,5.5,2.97,1.62,3.3,0.0,3.24,0.9,3.0,4.4,4.5,1.0,3.96,4.05,3.24,4.05,3.96,4.5,2.97,1.98,1.62,6.05,0.81,2.7,4.4,5.0,1.62,0.99,3.96,0.0,2.42,3.24,3.96,0.81,4.4,3.6,3.24,0.9,4.05,2.0,3.24,6.05,5.5,1.98,1.1,3.96,4.5,0.0,1.98,2.97,2.43,1.98,0.81,0.9,3.3,1.8,1.21,2.42,2.42,3.63,4.95,2.43,4.95,4.95,4.95,1.62,3.63,5.5,3.6,3.3,0.99,4.05,0.99,1.8,4.95,2.97,0.9,1.0,4.4,3.96,1.21,2.43,2.97,4.05,4.05,1.1,0.81,3.96,0.81,0.0,1.8,2.43,5.0,0.9,2.7,1.8,2.0,2.0,3.3,3.96,5.5,2.97,2.43,3.3,0.99,4.5,2.97,1.21,1.21,0.81,4.84,1.1,3.24,1.21,4.95,3.3,3.96,0.9,1.62,3.96,3.6,2.97,0.9,3.3,1.98,0.99,6.05,0.99,1.98,2.0,0.9,2.42,4.4,2.43,3.6,5.5,3.96,1.98,4.95,2.7,0.0,4.84,4.95,0.0,0.99,4.84,0.99,3.96,1.1,2.97,3.96,0.0,2.97,3.63,0.99,1.62,2.2,0.0,3.96,0.0,2.43,5.5,5.5,2.7,1.98,1.8,2.2,2.0,4.95,0.0,3.96,3.24,3.24,0.9,2.2,4.95,2.7,3.96,0.99,3.24,1.98,4.05,1.21,3.96,1.98,2.2,2.97,4.5,2.97,2.97,1.62,1.21,4.5,0.81,2.2,6.05,2.43,4.05,2.0,3.24,6.05,0.0,2.2,3.63,0.0,1.8,3.96,4.95,4.84,4.84,2.7,3.63,2.97,0.81,2.97,1.1,1.98,1.98,0.0,0.99,4.4,3.96,3.6,0.0,1.8,6.05,2.97,4.5,0.99,2.97,2.43,1.98,2.42,1.21,3.6,1.1,4.95,4.05,4.95,3.63,2.97,2.7,2.7,2.97,1.62,3.6,1.62,2.97,5.5,3.6,6.05,0.0,3.6,3.63,1.62,3.24,3.6,4.4,2.97,1.8,3.63,2.43,0.9,1.8,0.0,0.81,1.8,4.95,1.1,3.63,3.24,2.0,1.98,3.96,4.95,2.43,4.5,4.95,1.8,4.95,6.05,2.42,1.21,0.0,0.0,0.0,3.96,0.99,4.84,0.81,2.43,0.99,1.1,3.6,2.42,2.43,2.42,4.4,0.0,2.0,0.99,1.98,0.9,2.43,0.99,4.95,1.0,0.9,2.42,3.6,4.4,3.96,0.99,4.4,5.5,1.1,0.0,3.96,3.3,0.9,0.0,1.98,0.99,3.63,3.96,2.97,5.5,5.5,4.95,3.6,0.81,2.43,1.8,1.1,1.21,0.99,1.98,2.97,3.63,3.96,6.05,3.6,0.99,1.21,0.99,3.3,3.3,3.63,1.98,1.62,4.5,4.84,0.0,3.24,1.21,4.05,3.63,3.63,1.98,4.95,1.1,0.9,3.63,0.9,1.98,2.42,1.98,3.96,1.1,3.3,3.96,1.21,4.5,5.5,0.99,4.05,6.05,4.05,1.98,3.3,0.81,4.5,3.24,4.95,4.4,1.21,4.5,0.9,4.95,4.95,3.0,5.0,6.05,4.4,4.95,5.0,4.95,0.0,0.99,0.0,5.5,3.6,6.05,6.05,2.97,1.98,5.5,0.9,2.43,1.62,4.4,2.97,0.0,3.0,2.43,4.5,4.95,0.9,0.0,3.3,3.96,3.3,0.0,0.0,3.24,2.97,2.97,2.2,1.8,4.84,0.0,2.42,3.24,1.8,3.3,4.84,0.81,2.42,0.99,1.1,2.2,3.96,3.96,4.5,3.96,1.62,0.9,2.7,3.24,3.0,2.2,1.1,1.21,2.42,6.05,1.62,3.24,2.2,3.24,3.63,1.98,4.05,3.6,1.98,2.7,3.6,2.42,2.97,0.9,0.0,4.95,0.81,4.95,4.95,4.5,2.7,2.0,3.96,2.2,1.21,3.63,4.4,0.9,0.99,0.99,2.7,0.99,4.5,4.5,3.63,0.99,4.05,4.84,3.0,3.3,0.99,4.4,4.95,2.7,3.96,0.0,3.96,2.42,1.98,2.42,3.63,2.43,1.8,3.96,2.97],\"y0\":\" \",\"yaxis\":\"y\",\"type\":\"box\"}],                        {\"template\":{\"data\":{\"bar\":[{\"error_x\":{\"color\":\"#2a3f5f\"},\"error_y\":{\"color\":\"#2a3f5f\"},\"marker\":{\"line\":{\"color\":\"#E5ECF6\",\"width\":0.5},\"pattern\":{\"fillmode\":\"overlay\",\"size\":10,\"solidity\":0.2}},\"type\":\"bar\"}],\"barpolar\":[{\"marker\":{\"line\":{\"color\":\"#E5ECF6\",\"width\":0.5},\"pattern\":{\"fillmode\":\"overlay\",\"size\":10,\"solidity\":0.2}},\"type\":\"barpolar\"}],\"carpet\":[{\"aaxis\":{\"endlinecolor\":\"#2a3f5f\",\"gridcolor\":\"white\",\"linecolor\":\"white\",\"minorgridcolor\":\"white\",\"startlinecolor\":\"#2a3f5f\"},\"baxis\":{\"endlinecolor\":\"#2a3f5f\",\"gridcolor\":\"white\",\"linecolor\":\"white\",\"minorgridcolor\":\"white\",\"startlinecolor\":\"#2a3f5f\"},\"type\":\"carpet\"}],\"choropleth\":[{\"colorbar\":{\"outlinewidth\":0,\"ticks\":\"\"},\"type\":\"choropleth\"}],\"contour\":[{\"colorbar\":{\"outlinewidth\":0,\"ticks\":\"\"},\"colorscale\":[[0.0,\"#0d0887\"],[0.1111111111111111,\"#46039f\"],[0.2222222222222222,\"#7201a8\"],[0.3333333333333333,\"#9c179e\"],[0.4444444444444444,\"#bd3786\"],[0.5555555555555556,\"#d8576b\"],[0.6666666666666666,\"#ed7953\"],[0.7777777777777778,\"#fb9f3a\"],[0.8888888888888888,\"#fdca26\"],[1.0,\"#f0f921\"]],\"type\":\"contour\"}],\"contourcarpet\":[{\"colorbar\":{\"outlinewidth\":0,\"ticks\":\"\"},\"type\":\"contourcarpet\"}],\"heatmap\":[{\"colorbar\":{\"outlinewidth\":0,\"ticks\":\"\"},\"colorscale\":[[0.0,\"#0d0887\"],[0.1111111111111111,\"#46039f\"],[0.2222222222222222,\"#7201a8\"],[0.3333333333333333,\"#9c179e\"],[0.4444444444444444,\"#bd3786\"],[0.5555555555555556,\"#d8576b\"],[0.6666666666666666,\"#ed7953\"],[0.7777777777777778,\"#fb9f3a\"],[0.8888888888888888,\"#fdca26\"],[1.0,\"#f0f921\"]],\"type\":\"heatmap\"}],\"heatmapgl\":[{\"colorbar\":{\"outlinewidth\":0,\"ticks\":\"\"},\"colorscale\":[[0.0,\"#0d0887\"],[0.1111111111111111,\"#46039f\"],[0.2222222222222222,\"#7201a8\"],[0.3333333333333333,\"#9c179e\"],[0.4444444444444444,\"#bd3786\"],[0.5555555555555556,\"#d8576b\"],[0.6666666666666666,\"#ed7953\"],[0.7777777777777778,\"#fb9f3a\"],[0.8888888888888888,\"#fdca26\"],[1.0,\"#f0f921\"]],\"type\":\"heatmapgl\"}],\"histogram\":[{\"marker\":{\"pattern\":{\"fillmode\":\"overlay\",\"size\":10,\"solidity\":0.2}},\"type\":\"histogram\"}],\"histogram2d\":[{\"colorbar\":{\"outlinewidth\":0,\"ticks\":\"\"},\"colorscale\":[[0.0,\"#0d0887\"],[0.1111111111111111,\"#46039f\"],[0.2222222222222222,\"#7201a8\"],[0.3333333333333333,\"#9c179e\"],[0.4444444444444444,\"#bd3786\"],[0.5555555555555556,\"#d8576b\"],[0.6666666666666666,\"#ed7953\"],[0.7777777777777778,\"#fb9f3a\"],[0.8888888888888888,\"#fdca26\"],[1.0,\"#f0f921\"]],\"type\":\"histogram2d\"}],\"histogram2dcontour\":[{\"colorbar\":{\"outlinewidth\":0,\"ticks\":\"\"},\"colorscale\":[[0.0,\"#0d0887\"],[0.1111111111111111,\"#46039f\"],[0.2222222222222222,\"#7201a8\"],[0.3333333333333333,\"#9c179e\"],[0.4444444444444444,\"#bd3786\"],[0.5555555555555556,\"#d8576b\"],[0.6666666666666666,\"#ed7953\"],[0.7777777777777778,\"#fb9f3a\"],[0.8888888888888888,\"#fdca26\"],[1.0,\"#f0f921\"]],\"type\":\"histogram2dcontour\"}],\"mesh3d\":[{\"colorbar\":{\"outlinewidth\":0,\"ticks\":\"\"},\"type\":\"mesh3d\"}],\"parcoords\":[{\"line\":{\"colorbar\":{\"outlinewidth\":0,\"ticks\":\"\"}},\"type\":\"parcoords\"}],\"pie\":[{\"automargin\":true,\"type\":\"pie\"}],\"scatter\":[{\"marker\":{\"colorbar\":{\"outlinewidth\":0,\"ticks\":\"\"}},\"type\":\"scatter\"}],\"scatter3d\":[{\"line\":{\"colorbar\":{\"outlinewidth\":0,\"ticks\":\"\"}},\"marker\":{\"colorbar\":{\"outlinewidth\":0,\"ticks\":\"\"}},\"type\":\"scatter3d\"}],\"scattercarpet\":[{\"marker\":{\"colorbar\":{\"outlinewidth\":0,\"ticks\":\"\"}},\"type\":\"scattercarpet\"}],\"scattergeo\":[{\"marker\":{\"colorbar\":{\"outlinewidth\":0,\"ticks\":\"\"}},\"type\":\"scattergeo\"}],\"scattergl\":[{\"marker\":{\"colorbar\":{\"outlinewidth\":0,\"ticks\":\"\"}},\"type\":\"scattergl\"}],\"scattermapbox\":[{\"marker\":{\"colorbar\":{\"outlinewidth\":0,\"ticks\":\"\"}},\"type\":\"scattermapbox\"}],\"scatterpolar\":[{\"marker\":{\"colorbar\":{\"outlinewidth\":0,\"ticks\":\"\"}},\"type\":\"scatterpolar\"}],\"scatterpolargl\":[{\"marker\":{\"colorbar\":{\"outlinewidth\":0,\"ticks\":\"\"}},\"type\":\"scatterpolargl\"}],\"scatterternary\":[{\"marker\":{\"colorbar\":{\"outlinewidth\":0,\"ticks\":\"\"}},\"type\":\"scatterternary\"}],\"surface\":[{\"colorbar\":{\"outlinewidth\":0,\"ticks\":\"\"},\"colorscale\":[[0.0,\"#0d0887\"],[0.1111111111111111,\"#46039f\"],[0.2222222222222222,\"#7201a8\"],[0.3333333333333333,\"#9c179e\"],[0.4444444444444444,\"#bd3786\"],[0.5555555555555556,\"#d8576b\"],[0.6666666666666666,\"#ed7953\"],[0.7777777777777778,\"#fb9f3a\"],[0.8888888888888888,\"#fdca26\"],[1.0,\"#f0f921\"]],\"type\":\"surface\"}],\"table\":[{\"cells\":{\"fill\":{\"color\":\"#EBF0F8\"},\"line\":{\"color\":\"white\"}},\"header\":{\"fill\":{\"color\":\"#C8D4E3\"},\"line\":{\"color\":\"white\"}},\"type\":\"table\"}]},\"layout\":{\"annotationdefaults\":{\"arrowcolor\":\"#2a3f5f\",\"arrowhead\":0,\"arrowwidth\":1},\"autotypenumbers\":\"strict\",\"coloraxis\":{\"colorbar\":{\"outlinewidth\":0,\"ticks\":\"\"}},\"colorscale\":{\"diverging\":[[0,\"#8e0152\"],[0.1,\"#c51b7d\"],[0.2,\"#de77ae\"],[0.3,\"#f1b6da\"],[0.4,\"#fde0ef\"],[0.5,\"#f7f7f7\"],[0.6,\"#e6f5d0\"],[0.7,\"#b8e186\"],[0.8,\"#7fbc41\"],[0.9,\"#4d9221\"],[1,\"#276419\"]],\"sequential\":[[0.0,\"#0d0887\"],[0.1111111111111111,\"#46039f\"],[0.2222222222222222,\"#7201a8\"],[0.3333333333333333,\"#9c179e\"],[0.4444444444444444,\"#bd3786\"],[0.5555555555555556,\"#d8576b\"],[0.6666666666666666,\"#ed7953\"],[0.7777777777777778,\"#fb9f3a\"],[0.8888888888888888,\"#fdca26\"],[1.0,\"#f0f921\"]],\"sequentialminus\":[[0.0,\"#0d0887\"],[0.1111111111111111,\"#46039f\"],[0.2222222222222222,\"#7201a8\"],[0.3333333333333333,\"#9c179e\"],[0.4444444444444444,\"#bd3786\"],[0.5555555555555556,\"#d8576b\"],[0.6666666666666666,\"#ed7953\"],[0.7777777777777778,\"#fb9f3a\"],[0.8888888888888888,\"#fdca26\"],[1.0,\"#f0f921\"]]},\"colorway\":[\"#636efa\",\"#EF553B\",\"#00cc96\",\"#ab63fa\",\"#FFA15A\",\"#19d3f3\",\"#FF6692\",\"#B6E880\",\"#FF97FF\",\"#FECB52\"],\"font\":{\"color\":\"#2a3f5f\"},\"geo\":{\"bgcolor\":\"white\",\"lakecolor\":\"white\",\"landcolor\":\"#E5ECF6\",\"showlakes\":true,\"showland\":true,\"subunitcolor\":\"white\"},\"hoverlabel\":{\"align\":\"left\"},\"hovermode\":\"closest\",\"mapbox\":{\"style\":\"light\"},\"paper_bgcolor\":\"white\",\"plot_bgcolor\":\"#E5ECF6\",\"polar\":{\"angularaxis\":{\"gridcolor\":\"white\",\"linecolor\":\"white\",\"ticks\":\"\"},\"bgcolor\":\"#E5ECF6\",\"radialaxis\":{\"gridcolor\":\"white\",\"linecolor\":\"white\",\"ticks\":\"\"}},\"scene\":{\"xaxis\":{\"backgroundcolor\":\"#E5ECF6\",\"gridcolor\":\"white\",\"gridwidth\":2,\"linecolor\":\"white\",\"showbackground\":true,\"ticks\":\"\",\"zerolinecolor\":\"white\"},\"yaxis\":{\"backgroundcolor\":\"#E5ECF6\",\"gridcolor\":\"white\",\"gridwidth\":2,\"linecolor\":\"white\",\"showbackground\":true,\"ticks\":\"\",\"zerolinecolor\":\"white\"},\"zaxis\":{\"backgroundcolor\":\"#E5ECF6\",\"gridcolor\":\"white\",\"gridwidth\":2,\"linecolor\":\"white\",\"showbackground\":true,\"ticks\":\"\",\"zerolinecolor\":\"white\"}},\"shapedefaults\":{\"line\":{\"color\":\"#2a3f5f\"}},\"ternary\":{\"aaxis\":{\"gridcolor\":\"white\",\"linecolor\":\"white\",\"ticks\":\"\"},\"baxis\":{\"gridcolor\":\"white\",\"linecolor\":\"white\",\"ticks\":\"\"},\"bgcolor\":\"#E5ECF6\",\"caxis\":{\"gridcolor\":\"white\",\"linecolor\":\"white\",\"ticks\":\"\"}},\"title\":{\"x\":0.05},\"xaxis\":{\"automargin\":true,\"gridcolor\":\"white\",\"linecolor\":\"white\",\"ticks\":\"\",\"title\":{\"standoff\":15},\"zerolinecolor\":\"white\",\"zerolinewidth\":2},\"yaxis\":{\"automargin\":true,\"gridcolor\":\"white\",\"linecolor\":\"white\",\"ticks\":\"\",\"title\":{\"standoff\":15},\"zerolinecolor\":\"white\",\"zerolinewidth\":2}}},\"xaxis\":{\"anchor\":\"y\",\"domain\":[0.0,1.0],\"title\":{\"text\":\"variable\"}},\"yaxis\":{\"anchor\":\"x\",\"domain\":[0.0,1.0],\"title\":{\"text\":\"value\"}},\"legend\":{\"tracegroupgap\":0},\"margin\":{\"t\":60},\"boxmode\":\"group\"},                        {\"responsive\": true}                    ).then(function(){\n",
              "                            \n",
              "var gd = document.getElementById('2d79ae9b-c175-42ee-b37c-bf3ca6fe5366');\n",
              "var x = new MutationObserver(function (mutations, observer) {{\n",
              "        var display = window.getComputedStyle(gd).display;\n",
              "        if (!display || display === 'none') {{\n",
              "            console.log([gd, 'removed!']);\n",
              "            Plotly.purge(gd);\n",
              "            observer.disconnect();\n",
              "        }}\n",
              "}});\n",
              "\n",
              "// Listen for the removal of the full notebook cells\n",
              "var notebookContainer = gd.closest('#notebook-container');\n",
              "if (notebookContainer) {{\n",
              "    x.observe(notebookContainer, {childList: true});\n",
              "}}\n",
              "\n",
              "// Listen for the clearing of the current output cell\n",
              "var outputEl = gd.closest('.output');\n",
              "if (outputEl) {{\n",
              "    x.observe(outputEl, {childList: true});\n",
              "}}\n",
              "\n",
              "                        })                };                            </script>        </div>\n",
              "</body>\n",
              "</html>"
            ]
          },
          "metadata": {}
        }
      ]
    },
    {
      "cell_type": "code",
      "source": [
        "'''\n",
        "  Plotting Violin plot to analyze the distribution of data. The width of the violin at any given point represents the density or frequency of the data at that point. \n",
        "  The thicker the violin, the more values there are at that point. The height of the violin represents the range of values distributed.\n",
        "  Here we observe that Relative_Compactness and Glazing_Area have similar value range.\n",
        "'''\n",
        "fig = go.Figure() \n",
        "fig.add_trace(go.Violin(y=energy_eff['Relative_Compactness'].values, marker_color = 'blue'))\n",
        "fig.add_trace(go.Violin(y=energy_eff['Glazing_Area'].values, marker_color = 'yellow'))\n",
        "fig.show()"
      ],
      "metadata": {
        "colab": {
          "base_uri": "https://localhost:8080/",
          "height": 542
        },
        "id": "JPHwWQJVv6-V",
        "outputId": "e4e91a19-cc64-4a5b-96f2-7ad9a0b9fa8b"
      },
      "execution_count": 20,
      "outputs": [
        {
          "output_type": "display_data",
          "data": {
            "text/html": [
              "<html>\n",
              "<head><meta charset=\"utf-8\" /></head>\n",
              "<body>\n",
              "    <div>            <script src=\"https://cdnjs.cloudflare.com/ajax/libs/mathjax/2.7.5/MathJax.js?config=TeX-AMS-MML_SVG\"></script><script type=\"text/javascript\">if (window.MathJax) {MathJax.Hub.Config({SVG: {font: \"STIX-Web\"}});}</script>                <script type=\"text/javascript\">window.PlotlyConfig = {MathJaxConfig: 'local'};</script>\n",
              "        <script src=\"https://cdn.plot.ly/plotly-2.8.3.min.js\"></script>                <div id=\"1d958177-1c63-422e-9139-5070aeeae843\" class=\"plotly-graph-div\" style=\"height:525px; width:100%;\"></div>            <script type=\"text/javascript\">                                    window.PLOTLYENV=window.PLOTLYENV || {};                                    if (document.getElementById(\"1d958177-1c63-422e-9139-5070aeeae843\")) {                    Plotly.newPlot(                        \"1d958177-1c63-422e-9139-5070aeeae843\",                        [{\"marker\":{\"color\":\"blue\"},\"y\":[0.53,0.8,0.77,0.68,0.74,0.86,0.99,0.9,0.74,0.58,0.87,0.7,0.58,0.92,0.81,0.67,0.79,0.71,0.81,0.62,1.19,0.61,0.68,0.99,0.68,0.73,0.65,1.04,0.73,0.78,0.5,0.99,0.61,0.68,0.78,0.74,0.77,0.58,0.73,0.63,0.79,0.78,0.81,0.62,0.62,0.62,0.98,0.77,0.68,0.64,0.63,0.68,0.5,0.99,0.61,0.73,0.76,0.53,0.89,0.61,0.62,0.67,0.85,0.76,0.9,0.76,0.97,0.56,0.86,0.53,0.64,0.74,0.67,0.61,0.87,0.76,0.68,0.89,0.78,0.76,0.53,0.96,0.7,0.68,0.56,0.74,0.89,0.68,0.81,0.67,0.78,0.68,0.84,0.9,0.66,0.9,0.73,0.78,0.76,0.64,0.62,0.76,0.86,0.63,0.77,0.87,1.09,0.68,0.68,0.52,0.76,1.19,0.85,0.5,0.73,0.78,0.9,0.81,1.19,0.86,0.76,0.75,0.78,0.73,0.58,0.58,0.56,0.64,0.79,0.87,0.89,0.85,0.68,0.73,0.89,0.88,0.99,0.58,0.86,0.67,0.76,0.69,0.71,0.78,0.59,0.81,0.86,0.52,0.65,1.04,1.04,0.68,0.85,0.9,1.09,0.76,0.75,0.81,0.52,0.73,0.67,0.64,0.79,0.89,0.7,0.5,0.64,0.67,0.99,0.86,0.74,0.64,0.68,0.78,0.84,1.04,0.85,0.9,0.88,0.8,0.68,0.77,1.19,0.88,0.64,0.64,0.75,0.76,0.7,0.64,0.87,0.63,0.92,0.52,0.67,0.69,0.74,0.88,0.62,0.56,0.62,0.74,0.59,0.7,0.88,1.08,0.53,0.5,0.52,0.64,0.56,0.67,0.74,0.73,0.53,0.92,0.9,0.78,0.52,0.98,1.09,0.66,0.99,0.81,0.56,0.76,0.97,0.86,0.68,0.73,0.96,0.92,0.86,0.95,0.69,0.84,0.58,1.19,1.04,0.78,0.97,0.62,0.71,1.08,0.56,0.89,0.68,0.68,0.86,0.68,0.5,0.62,0.64,0.92,0.74,0.89,0.64,0.99,0.74,0.61,0.59,0.52,1.09,0.62,0.77,0.61,0.59,0.53,0.81,1.04,0.56,0.56,0.88,0.92,0.63,0.76,0.95,0.68,0.74,1.04,0.79,0.75,0.84,0.59,0.8,0.58,0.86,0.68,0.75,0.68,0.77,0.81,0.78,0.67,0.81,0.52,0.86,0.59,0.73,0.75,0.58,0.89,0.84,0.92,0.6,0.58,0.99,0.67,0.7,0.81,0.69,0.61,0.64,0.64,0.5,0.96,0.67,0.77,0.7,0.63,0.7,0.9,0.52,0.89,0.75,0.75,0.64,0.65,1.09,0.75,0.76,0.56,0.68,0.65,0.59,0.76,0.65,1.19,0.7,0.65,0.68,0.67,0.79,0.84,0.99,0.68,0.89,0.71,0.74,1.19,0.84,0.86,0.68,0.52,0.9,0.96,0.56,0.71,0.8,0.85,0.87,0.63,0.76,0.73,0.99,0.62,0.56,0.86,0.59,0.84,0.99,0.86,0.86,0.71,0.56,0.62,0.64,0.97,0.73,1.19,0.73,0.73,0.53,0.97,0.7,0.7,0.7,0.74,0.73,0.86,0.73,1.19,0.58,0.87,0.63,0.7,0.85,0.74,0.96,0.89,0.77,0.84,0.67,0.88,0.68,0.56,0.68,0.85,0.84,0.81,0.64,0.8,0.78,0.66,0.65,0.99,0.64,0.77,0.61,0.96,0.68,0.86,0.97,0.64,0.66,0.81,1.04,0.53,1.19,0.62,0.89,0.7,0.59,0.88,1.09,0.67,0.73,1.19,0.74,0.53,0.89,0.64,0.8,0.71,0.79,0.63,0.73,0.99,0.73,0.59,0.62,0.81,0.52,0.76,0.75,0.7,0.99,0.67,1.04,0.58,0.69,1.09,0.58,1.04,0.86,0.77,0.74,0.66,0.89,0.97,0.58,0.73,0.6,0.62,0.5,0.68,0.73,0.89,0.74,0.79,0.81,0.74,0.68,0.73,0.69,0.68,0.65,0.99,0.74,0.64,0.74,0.89,0.82,0.59,0.62,0.81,0.95,0.78,0.71,0.63,1.04,0.5,0.76,0.77,0.6,0.66,0.9,0.61,0.71,0.66,0.89,0.81,0.64,0.97,0.75,0.81,0.88,0.74,0.81,0.97,0.6,0.89,0.63,0.66,0.79,0.69,0.76,0.89,0.81,0.74,0.84,0.62,0.97,0.87,0.89,0.79,0.56],\"type\":\"violin\"},{\"marker\":{\"color\":\"yellow\"},\"y\":[0.4,0.2,0.12,0.44,0.25,0.28,0.28,0.2,0.08,0.36,0.32,0.08,0.48,0.4,0.48,0.4,0.0,0.36,0.31,0.24,0.0,0.1,0.4,0.4,0.24,0.25,0.25,0.4,0.08,0.48,0.22,0.4,0.0,0.36,0.36,0.12,0.11,0.24,0.4,0.31,0.1,0.4,0.28,0.25,0.12,0.25,0.28,0.44,0.36,0.48,0.12,0.31,0.44,0.25,0.48,0.24,0.0,0.12,0.48,0.31,0.32,0.4,0.28,0.25,0.24,0.44,0.28,0.32,0.25,0.1,0.24,0.1,0.24,0.1,0.0,0.08,0.12,0.4,0.36,0.31,0.32,0.1,0.08,0.1,0.44,0.48,0.36,0.4,0.4,0.32,0.4,0.09,0.2,0.1,0.48,0.44,0.12,0.09,0.36,0.08,0.44,0.31,0.32,0.09,0.48,0.22,0.1,0.25,0.11,0.12,0.4,0.22,0.28,0.09,0.48,0.2,0.0,0.31,0.48,0.1,0.25,0.31,0.1,0.09,0.48,0.25,0.11,0.28,0.44,0.25,0.12,0.22,0.24,0.25,0.11,0.11,0.31,0.31,0.28,0.12,0.09,0.36,0.44,0.28,0.08,0.31,0.25,0.09,0.12,0.1,0.4,0.08,0.08,0.44,0.36,0.11,0.22,0.36,0.28,0.4,0.31,0.4,0.11,0.32,0.25,0.32,0.48,0.0,0.25,0.1,0.0,0.31,0.32,0.12,0.22,0.25,0.1,0.22,0.0,0.44,0.44,0.31,0.44,0.25,0.0,0.4,0.0,0.4,0.48,0.31,0.25,0.1,0.4,0.28,0.48,0.09,0.0,0.1,0.24,0.22,0.25,0.31,0.2,0.36,0.4,0.12,0.24,0.4,0.48,0.11,0.4,0.48,0.24,0.24,0.44,0.4,0.44,0.22,0.1,0.32,0.48,0.36,0.28,0.22,0.2,0.28,0.31,0.12,0.0,0.4,0.1,0.0,0.1,0.24,0.2,0.11,0.44,0.28,0.11,0.09,0.36,0.09,0.09,0.4,0.25,0.0,0.4,0.28,0.24,0.25,0.0,0.28,0.31,0.09,0.1,0.28,0.25,0.08,0.12,0.22,0.44,0.28,0.09,0.2,0.1,0.4,0.12,0.31,0.32,0.4,0.4,0.44,0.4,0.4,0.24,0.09,0.4,0.24,0.0,0.28,0.09,0.48,0.4,0.11,0.48,0.08,0.44,0.32,0.12,0.36,0.2,0.0,0.4,0.36,0.44,0.24,0.44,0.32,0.32,0.08,0.4,0.1,0.4,0.24,0.25,0.09,0.44,0.36,0.25,0.09,0.0,0.0,0.0,0.28,0.1,0.1,0.1,0.36,0.28,0.4,0.31,0.4,0.28,0.32,0.48,0.0,0.32,0.08,0.48,0.2,0.4,0.48,0.31,0.31,0.25,0.31,0.4,0.22,0.08,0.08,0.12,0.48,0.4,0.0,0.4,0.31,0.4,0.0,0.1,0.24,0.25,0.4,0.08,0.24,0.08,0.09,0.11,0.31,0.12,0.31,0.2,0.48,0.4,0.09,0.31,0.12,0.31,0.2,0.1,0.1,0.08,0.11,0.09,0.09,0.36,0.4,0.08,0.44,0.31,0.0,0.4,0.24,0.24,0.11,0.28,0.25,0.4,0.08,0.12,0.28,0.24,0.09,0.28,0.4,0.22,0.2,0.44,0.4,0.08,0.09,0.22,0.1,0.12,0.24,0.09,0.48,0.2,0.12,0.12,0.25,0.25,0.12,0.11,0.44,0.36,0.24,0.44,0.31,0.08,0.4,0.32,0.4,0.22,0.24,0.0,0.24,0.0,0.1,0.48,0.09,0.12,0.36,0.28,0.08,0.2,0.11,0.32,0.08,0.1,0.0,0.1,0.11,0.44,0.31,0.09,0.0,0.1,0.48,0.4,0.0,0.0,0.1,0.2,0.31,0.09,0.4,0.2,0.0,0.09,0.4,0.25,0.2,0.1,0.48,0.44,0.31,0.44,0.25,0.11,0.1,0.22,0.12,0.25,0.31,0.09,0.25,0.2,0.28,0.11,0.22,0.24,0.25,0.36,0.4,0.1,0.4,0.4,0.1,0.44,0.09,0.12,0.12,0.24,0.1,0.31,0.25,0.0,0.12,0.36,0.1,0.12,0.36,0.2,0.4,0.1,0.24,0.24,0.44,0.08,0.22,0.11,0.09,0.36,0.22,0.24,0.12,0.2,0.44,0.48,0.44,0.24,0.25,0.31,0.11,0.31,0.22,0.08,0.0,0.12,0.12,0.22,0.12,0.09,0.25,0.22,0.12,0.31],\"type\":\"violin\"}],                        {\"template\":{\"data\":{\"bar\":[{\"error_x\":{\"color\":\"#2a3f5f\"},\"error_y\":{\"color\":\"#2a3f5f\"},\"marker\":{\"line\":{\"color\":\"#E5ECF6\",\"width\":0.5},\"pattern\":{\"fillmode\":\"overlay\",\"size\":10,\"solidity\":0.2}},\"type\":\"bar\"}],\"barpolar\":[{\"marker\":{\"line\":{\"color\":\"#E5ECF6\",\"width\":0.5},\"pattern\":{\"fillmode\":\"overlay\",\"size\":10,\"solidity\":0.2}},\"type\":\"barpolar\"}],\"carpet\":[{\"aaxis\":{\"endlinecolor\":\"#2a3f5f\",\"gridcolor\":\"white\",\"linecolor\":\"white\",\"minorgridcolor\":\"white\",\"startlinecolor\":\"#2a3f5f\"},\"baxis\":{\"endlinecolor\":\"#2a3f5f\",\"gridcolor\":\"white\",\"linecolor\":\"white\",\"minorgridcolor\":\"white\",\"startlinecolor\":\"#2a3f5f\"},\"type\":\"carpet\"}],\"choropleth\":[{\"colorbar\":{\"outlinewidth\":0,\"ticks\":\"\"},\"type\":\"choropleth\"}],\"contour\":[{\"colorbar\":{\"outlinewidth\":0,\"ticks\":\"\"},\"colorscale\":[[0.0,\"#0d0887\"],[0.1111111111111111,\"#46039f\"],[0.2222222222222222,\"#7201a8\"],[0.3333333333333333,\"#9c179e\"],[0.4444444444444444,\"#bd3786\"],[0.5555555555555556,\"#d8576b\"],[0.6666666666666666,\"#ed7953\"],[0.7777777777777778,\"#fb9f3a\"],[0.8888888888888888,\"#fdca26\"],[1.0,\"#f0f921\"]],\"type\":\"contour\"}],\"contourcarpet\":[{\"colorbar\":{\"outlinewidth\":0,\"ticks\":\"\"},\"type\":\"contourcarpet\"}],\"heatmap\":[{\"colorbar\":{\"outlinewidth\":0,\"ticks\":\"\"},\"colorscale\":[[0.0,\"#0d0887\"],[0.1111111111111111,\"#46039f\"],[0.2222222222222222,\"#7201a8\"],[0.3333333333333333,\"#9c179e\"],[0.4444444444444444,\"#bd3786\"],[0.5555555555555556,\"#d8576b\"],[0.6666666666666666,\"#ed7953\"],[0.7777777777777778,\"#fb9f3a\"],[0.8888888888888888,\"#fdca26\"],[1.0,\"#f0f921\"]],\"type\":\"heatmap\"}],\"heatmapgl\":[{\"colorbar\":{\"outlinewidth\":0,\"ticks\":\"\"},\"colorscale\":[[0.0,\"#0d0887\"],[0.1111111111111111,\"#46039f\"],[0.2222222222222222,\"#7201a8\"],[0.3333333333333333,\"#9c179e\"],[0.4444444444444444,\"#bd3786\"],[0.5555555555555556,\"#d8576b\"],[0.6666666666666666,\"#ed7953\"],[0.7777777777777778,\"#fb9f3a\"],[0.8888888888888888,\"#fdca26\"],[1.0,\"#f0f921\"]],\"type\":\"heatmapgl\"}],\"histogram\":[{\"marker\":{\"pattern\":{\"fillmode\":\"overlay\",\"size\":10,\"solidity\":0.2}},\"type\":\"histogram\"}],\"histogram2d\":[{\"colorbar\":{\"outlinewidth\":0,\"ticks\":\"\"},\"colorscale\":[[0.0,\"#0d0887\"],[0.1111111111111111,\"#46039f\"],[0.2222222222222222,\"#7201a8\"],[0.3333333333333333,\"#9c179e\"],[0.4444444444444444,\"#bd3786\"],[0.5555555555555556,\"#d8576b\"],[0.6666666666666666,\"#ed7953\"],[0.7777777777777778,\"#fb9f3a\"],[0.8888888888888888,\"#fdca26\"],[1.0,\"#f0f921\"]],\"type\":\"histogram2d\"}],\"histogram2dcontour\":[{\"colorbar\":{\"outlinewidth\":0,\"ticks\":\"\"},\"colorscale\":[[0.0,\"#0d0887\"],[0.1111111111111111,\"#46039f\"],[0.2222222222222222,\"#7201a8\"],[0.3333333333333333,\"#9c179e\"],[0.4444444444444444,\"#bd3786\"],[0.5555555555555556,\"#d8576b\"],[0.6666666666666666,\"#ed7953\"],[0.7777777777777778,\"#fb9f3a\"],[0.8888888888888888,\"#fdca26\"],[1.0,\"#f0f921\"]],\"type\":\"histogram2dcontour\"}],\"mesh3d\":[{\"colorbar\":{\"outlinewidth\":0,\"ticks\":\"\"},\"type\":\"mesh3d\"}],\"parcoords\":[{\"line\":{\"colorbar\":{\"outlinewidth\":0,\"ticks\":\"\"}},\"type\":\"parcoords\"}],\"pie\":[{\"automargin\":true,\"type\":\"pie\"}],\"scatter\":[{\"marker\":{\"colorbar\":{\"outlinewidth\":0,\"ticks\":\"\"}},\"type\":\"scatter\"}],\"scatter3d\":[{\"line\":{\"colorbar\":{\"outlinewidth\":0,\"ticks\":\"\"}},\"marker\":{\"colorbar\":{\"outlinewidth\":0,\"ticks\":\"\"}},\"type\":\"scatter3d\"}],\"scattercarpet\":[{\"marker\":{\"colorbar\":{\"outlinewidth\":0,\"ticks\":\"\"}},\"type\":\"scattercarpet\"}],\"scattergeo\":[{\"marker\":{\"colorbar\":{\"outlinewidth\":0,\"ticks\":\"\"}},\"type\":\"scattergeo\"}],\"scattergl\":[{\"marker\":{\"colorbar\":{\"outlinewidth\":0,\"ticks\":\"\"}},\"type\":\"scattergl\"}],\"scattermapbox\":[{\"marker\":{\"colorbar\":{\"outlinewidth\":0,\"ticks\":\"\"}},\"type\":\"scattermapbox\"}],\"scatterpolar\":[{\"marker\":{\"colorbar\":{\"outlinewidth\":0,\"ticks\":\"\"}},\"type\":\"scatterpolar\"}],\"scatterpolargl\":[{\"marker\":{\"colorbar\":{\"outlinewidth\":0,\"ticks\":\"\"}},\"type\":\"scatterpolargl\"}],\"scatterternary\":[{\"marker\":{\"colorbar\":{\"outlinewidth\":0,\"ticks\":\"\"}},\"type\":\"scatterternary\"}],\"surface\":[{\"colorbar\":{\"outlinewidth\":0,\"ticks\":\"\"},\"colorscale\":[[0.0,\"#0d0887\"],[0.1111111111111111,\"#46039f\"],[0.2222222222222222,\"#7201a8\"],[0.3333333333333333,\"#9c179e\"],[0.4444444444444444,\"#bd3786\"],[0.5555555555555556,\"#d8576b\"],[0.6666666666666666,\"#ed7953\"],[0.7777777777777778,\"#fb9f3a\"],[0.8888888888888888,\"#fdca26\"],[1.0,\"#f0f921\"]],\"type\":\"surface\"}],\"table\":[{\"cells\":{\"fill\":{\"color\":\"#EBF0F8\"},\"line\":{\"color\":\"white\"}},\"header\":{\"fill\":{\"color\":\"#C8D4E3\"},\"line\":{\"color\":\"white\"}},\"type\":\"table\"}]},\"layout\":{\"annotationdefaults\":{\"arrowcolor\":\"#2a3f5f\",\"arrowhead\":0,\"arrowwidth\":1},\"autotypenumbers\":\"strict\",\"coloraxis\":{\"colorbar\":{\"outlinewidth\":0,\"ticks\":\"\"}},\"colorscale\":{\"diverging\":[[0,\"#8e0152\"],[0.1,\"#c51b7d\"],[0.2,\"#de77ae\"],[0.3,\"#f1b6da\"],[0.4,\"#fde0ef\"],[0.5,\"#f7f7f7\"],[0.6,\"#e6f5d0\"],[0.7,\"#b8e186\"],[0.8,\"#7fbc41\"],[0.9,\"#4d9221\"],[1,\"#276419\"]],\"sequential\":[[0.0,\"#0d0887\"],[0.1111111111111111,\"#46039f\"],[0.2222222222222222,\"#7201a8\"],[0.3333333333333333,\"#9c179e\"],[0.4444444444444444,\"#bd3786\"],[0.5555555555555556,\"#d8576b\"],[0.6666666666666666,\"#ed7953\"],[0.7777777777777778,\"#fb9f3a\"],[0.8888888888888888,\"#fdca26\"],[1.0,\"#f0f921\"]],\"sequentialminus\":[[0.0,\"#0d0887\"],[0.1111111111111111,\"#46039f\"],[0.2222222222222222,\"#7201a8\"],[0.3333333333333333,\"#9c179e\"],[0.4444444444444444,\"#bd3786\"],[0.5555555555555556,\"#d8576b\"],[0.6666666666666666,\"#ed7953\"],[0.7777777777777778,\"#fb9f3a\"],[0.8888888888888888,\"#fdca26\"],[1.0,\"#f0f921\"]]},\"colorway\":[\"#636efa\",\"#EF553B\",\"#00cc96\",\"#ab63fa\",\"#FFA15A\",\"#19d3f3\",\"#FF6692\",\"#B6E880\",\"#FF97FF\",\"#FECB52\"],\"font\":{\"color\":\"#2a3f5f\"},\"geo\":{\"bgcolor\":\"white\",\"lakecolor\":\"white\",\"landcolor\":\"#E5ECF6\",\"showlakes\":true,\"showland\":true,\"subunitcolor\":\"white\"},\"hoverlabel\":{\"align\":\"left\"},\"hovermode\":\"closest\",\"mapbox\":{\"style\":\"light\"},\"paper_bgcolor\":\"white\",\"plot_bgcolor\":\"#E5ECF6\",\"polar\":{\"angularaxis\":{\"gridcolor\":\"white\",\"linecolor\":\"white\",\"ticks\":\"\"},\"bgcolor\":\"#E5ECF6\",\"radialaxis\":{\"gridcolor\":\"white\",\"linecolor\":\"white\",\"ticks\":\"\"}},\"scene\":{\"xaxis\":{\"backgroundcolor\":\"#E5ECF6\",\"gridcolor\":\"white\",\"gridwidth\":2,\"linecolor\":\"white\",\"showbackground\":true,\"ticks\":\"\",\"zerolinecolor\":\"white\"},\"yaxis\":{\"backgroundcolor\":\"#E5ECF6\",\"gridcolor\":\"white\",\"gridwidth\":2,\"linecolor\":\"white\",\"showbackground\":true,\"ticks\":\"\",\"zerolinecolor\":\"white\"},\"zaxis\":{\"backgroundcolor\":\"#E5ECF6\",\"gridcolor\":\"white\",\"gridwidth\":2,\"linecolor\":\"white\",\"showbackground\":true,\"ticks\":\"\",\"zerolinecolor\":\"white\"}},\"shapedefaults\":{\"line\":{\"color\":\"#2a3f5f\"}},\"ternary\":{\"aaxis\":{\"gridcolor\":\"white\",\"linecolor\":\"white\",\"ticks\":\"\"},\"baxis\":{\"gridcolor\":\"white\",\"linecolor\":\"white\",\"ticks\":\"\"},\"bgcolor\":\"#E5ECF6\",\"caxis\":{\"gridcolor\":\"white\",\"linecolor\":\"white\",\"ticks\":\"\"}},\"title\":{\"x\":0.05},\"xaxis\":{\"automargin\":true,\"gridcolor\":\"white\",\"linecolor\":\"white\",\"ticks\":\"\",\"title\":{\"standoff\":15},\"zerolinecolor\":\"white\",\"zerolinewidth\":2},\"yaxis\":{\"automargin\":true,\"gridcolor\":\"white\",\"linecolor\":\"white\",\"ticks\":\"\",\"title\":{\"standoff\":15},\"zerolinecolor\":\"white\",\"zerolinewidth\":2}}}},                        {\"responsive\": true}                    ).then(function(){\n",
              "                            \n",
              "var gd = document.getElementById('1d958177-1c63-422e-9139-5070aeeae843');\n",
              "var x = new MutationObserver(function (mutations, observer) {{\n",
              "        var display = window.getComputedStyle(gd).display;\n",
              "        if (!display || display === 'none') {{\n",
              "            console.log([gd, 'removed!']);\n",
              "            Plotly.purge(gd);\n",
              "            observer.disconnect();\n",
              "        }}\n",
              "}});\n",
              "\n",
              "// Listen for the removal of the full notebook cells\n",
              "var notebookContainer = gd.closest('#notebook-container');\n",
              "if (notebookContainer) {{\n",
              "    x.observe(notebookContainer, {childList: true});\n",
              "}}\n",
              "\n",
              "// Listen for the clearing of the current output cell\n",
              "var outputEl = gd.closest('.output');\n",
              "if (outputEl) {{\n",
              "    x.observe(outputEl, {childList: true});\n",
              "}}\n",
              "\n",
              "                        })                };                            </script>        </div>\n",
              "</body>\n",
              "</html>"
            ]
          },
          "metadata": {}
        }
      ]
    },
    {
      "cell_type": "code",
      "source": [
        "# Box plot of all the columns to compare the five number summary of these columns\n",
        "energy_eff.plot(kind='box', subplots=True, layout=(3,3), sharex=False,sharey=False,figsize=(15,10))\n",
        "plt.show()"
      ],
      "metadata": {
        "colab": {
          "base_uri": "https://localhost:8080/",
          "height": 595
        },
        "id": "PBe1G1WRwBOu",
        "outputId": "972baf5e-7267-4208-824d-4e3554fc7817"
      },
      "execution_count": 21,
      "outputs": [
        {
          "output_type": "display_data",
          "data": {
            "text/plain": [
              "<Figure size 1080x720 with 9 Axes>"
            ],
            "image/png": "[encoded data removed]"
          },
          "metadata": {
            "needs_background": "light"
          }
        }
      ]
    },
    {
      "cell_type": "markdown",
      "source": [
        "# Dropping Irrelevant Features By looking for Correlations"
      ],
      "metadata": {
        "id": "cSF4PkMtzYce"
      }
    },
    {
      "cell_type": "markdown",
      "source": [
        "We will find the correlations between each input feature and the target feature we are predicting and drop the irrelevant features that are not correlated with the target feature"
      ],
      "metadata": {
        "id": "Dnz5dT1yO4r_"
      }
    },
    {
      "cell_type": "code",
      "source": [
        "# Getting the correlation matrix and rounding off to 2 decimal places\n",
        "corr_matrix = energy_eff.corr().round(2)\n",
        "\n",
        "# Plotting the matrix\n",
        "plt.figure(figsize = (10,10))\n",
        "\n",
        "sns.heatmap(corr_matrix, annot = True, cmap = 'YlOrBr')"
      ],
      "metadata": {
        "colab": {
          "base_uri": "https://localhost:8080/",
          "height": 732
        },
        "id": "OvgTDg2_yb4k",
        "outputId": "5e5ddfc1-736a-4dc8-8140-d10229528681"
      },
      "execution_count": 22,
      "outputs": [
        {
          "output_type": "execute_result",
          "data": {
            "text/plain": [
              "<Axes: >"
            ]
          },
          "metadata": {},
          "execution_count": 22
        },
        {
          "output_type": "display_data",
          "data": {
            "text/plain": [
              "<Figure size 720x720 with 2 Axes>"
            ],
            "image/png": "[encoded data removed]"
          },
          "metadata": {
            "needs_background": "light"
          }
        }
      ]
    },
    {
      "cell_type": "code",
      "source": [
        "# Checking the input features that are most positively correlated with the target variable.\n",
        "corr_matrix[target_feature].sort_values(ascending=False)"
      ],
      "metadata": {
        "colab": {
          "base_uri": "https://localhost:8080/"
        },
        "id": "_GnDH8dK0x-G",
        "outputId": "a3dac30f-2806-4607-82a5-c688f208256d"
      },
      "execution_count": 23,
      "outputs": [
        {
          "output_type": "execute_result",
          "data": {
            "text/plain": [
              "Heating_Load                 1.00\n",
              "Overall_Height               0.81\n",
              "Relative_Compactness         0.47\n",
              "Wall_Area                    0.32\n",
              "Glazing_Area                 0.24\n",
              "Glazing_Area_Distribution    0.10\n",
              "Orientation                  0.02\n",
              "Surface_Area                -0.48\n",
              "Roof_Area                   -0.77\n",
              "Name: Heating_Load, dtype: float64"
            ]
          },
          "metadata": {},
          "execution_count": 23
        }
      ]
    },
    {
      "cell_type": "markdown",
      "source": [
        "We observe that Overall_Height and Relative_Compactness are most positively correlated with the target variable and almost all of the input features are correlated with the target variable."
      ],
      "metadata": {
        "id": "UIvCLj5i3jwP"
      }
    },
    {
      "cell_type": "code",
      "source": [
        "# Checking the input features that are highly correlated(Positive or Negative) with the target variable.\n",
        "abs(corr_matrix[target_feature]).sort_values(ascending=False)"
      ],
      "metadata": {
        "colab": {
          "base_uri": "https://localhost:8080/"
        },
        "id": "z_UtO3_C24mt",
        "outputId": "5309c8e0-1bc6-4a12-8858-f8476cb4b58b"
      },
      "execution_count": 24,
      "outputs": [
        {
          "output_type": "execute_result",
          "data": {
            "text/plain": [
              "Heating_Load                 1.00\n",
              "Overall_Height               0.81\n",
              "Roof_Area                    0.77\n",
              "Surface_Area                 0.48\n",
              "Relative_Compactness         0.47\n",
              "Wall_Area                    0.32\n",
              "Glazing_Area                 0.24\n",
              "Glazing_Area_Distribution    0.10\n",
              "Orientation                  0.02\n",
              "Name: Heating_Load, dtype: float64"
            ]
          },
          "metadata": {},
          "execution_count": 24
        }
      ]
    },
    {
      "cell_type": "markdown",
      "source": [
        "We observe that Overall_Height and Roof_Area are highly correlated with the target variable."
      ],
      "metadata": {
        "id": "sjzhNmyX3w9L"
      }
    },
    {
      "cell_type": "code",
      "source": [
        "# Plotting the correlation between each input feature and target feature\n",
        "plt.figure(figsize=(12,12))\n",
        "plt.title(\"Correlation b/n Input Features and Target Feature\")\n",
        "plt.bar(range(len(input_features)), corr_matrix[target_feature][input_features], color=\"r\", align=\"center\")\n",
        "plt.xticks(range(len(input_features)), input_features, rotation='vertical')\n",
        "plt.xlim([-1, len(input_features)])\n",
        "plt.show()"
      ],
      "metadata": {
        "colab": {
          "base_uri": "https://localhost:8080/",
          "height": 835
        },
        "id": "mMfli29H3T1h",
        "outputId": "27cd4ad0-e44b-463d-ce53-1676769c354f"
      },
      "execution_count": 25,
      "outputs": [
        {
          "output_type": "display_data",
          "data": {
            "text/plain": [
              "<Figure size 864x864 with 1 Axes>"
            ],
            "image/png": "[encoded data removed]"
          },
          "metadata": {
            "needs_background": "light"
          }
        }
      ]
    },
    {
      "cell_type": "markdown",
      "source": [
        "# Preparing the Data for ML Algorithms"
      ],
      "metadata": {
        "id": "YMTvkINmVQrK"
      }
    },
    {
      "cell_type": "code",
      "source": [
        "energy_eff = train_set.drop(target_feature, axis=1)\n",
        "energy_eff_labels = train_set[target_feature].copy()"
      ],
      "metadata": {
        "id": "seyO__Q7X_ML"
      },
      "execution_count": 26,
      "outputs": []
    },
    {
      "cell_type": "markdown",
      "source": [
        "# Data Cleaning"
      ],
      "metadata": {
        "id": "9PW38BMQCSl6"
      }
    },
    {
      "cell_type": "code",
      "source": [
        "# Checking for null values in the dataset.\n",
        "energy_eff.isna().sum()"
      ],
      "metadata": {
        "colab": {
          "base_uri": "https://localhost:8080/"
        },
        "id": "4vRxpA1iCWkP",
        "outputId": "6c5b46f8-299c-429d-934b-dd52038168b2"
      },
      "execution_count": 27,
      "outputs": [
        {
          "output_type": "execute_result",
          "data": {
            "text/plain": [
              "Building_Category             0\n",
              "Relative_Compactness          0\n",
              "Surface_Area                  0\n",
              "Wall_Area                    28\n",
              "Roof_Area                     0\n",
              "Overall_Height                0\n",
              "Orientation                   0\n",
              "Glazing_Area                  0\n",
              "Glazing_Area_Distribution     0\n",
              "dtype: int64"
            ]
          },
          "metadata": {},
          "execution_count": 27
        }
      ]
    },
    {
      "cell_type": "markdown",
      "source": [
        "We observe that column Wall_Area has 26 null values"
      ],
      "metadata": {
        "id": "LR5KukbcCvUc"
      }
    },
    {
      "cell_type": "code",
      "source": [
        "''' \n",
        " Replacing the null values with Median. Here we observe that the data is not normally distributed for this column, hence median is preferred for replacing null values\n",
        " over mean in the presence of outliers or skewed data because it is less sensitive to extreme values.\n",
        " Setting the inplace flag to true so that same dataframe will be modified without creating a new copy of dataframe.\n",
        "\n",
        "'''\n",
        "energy_eff['Wall_Area'].fillna(value = energy_eff['Wall_Area'].median(),inplace=True) # Replacing null values with median for Wall Area Column"
      ],
      "metadata": {
        "id": "gtH3YfefCk12"
      },
      "execution_count": 28,
      "outputs": []
    },
    {
      "cell_type": "code",
      "source": [
        "# Verifying whether the null values are replaced or not\n",
        "energy_eff.isna().sum()"
      ],
      "metadata": {
        "colab": {
          "base_uri": "https://localhost:8080/"
        },
        "id": "yVDttHDlEU3l",
        "outputId": "a158740e-f83a-4123-977f-000c0b8d3900"
      },
      "execution_count": 29,
      "outputs": [
        {
          "output_type": "execute_result",
          "data": {
            "text/plain": [
              "Building_Category            0\n",
              "Relative_Compactness         0\n",
              "Surface_Area                 0\n",
              "Wall_Area                    0\n",
              "Roof_Area                    0\n",
              "Overall_Height               0\n",
              "Orientation                  0\n",
              "Glazing_Area                 0\n",
              "Glazing_Area_Distribution    0\n",
              "dtype: int64"
            ]
          },
          "metadata": {},
          "execution_count": 29
        }
      ]
    },
    {
      "cell_type": "markdown",
      "source": [
        "Preparing a Median based Imputer to populate missing values for future data"
      ],
      "metadata": {
        "id": "_mR86mkcEuD0"
      }
    },
    {
      "cell_type": "code",
      "source": [
        "# Removing the text attribute column Building_Category since median can be calculated only on numerical values\n",
        "energy_eff_numerical = energy_eff.drop(\"Building_Category\", axis=1)"
      ],
      "metadata": {
        "id": "LDHeW0HBEW2w"
      },
      "execution_count": 30,
      "outputs": []
    },
    {
      "cell_type": "code",
      "source": [
        "# Fitting the imputer\n",
        "imputer = SimpleImputer(strategy=\"median\")\n",
        "imputer.fit(energy_eff_numerical)"
      ],
      "metadata": {
        "colab": {
          "base_uri": "https://localhost:8080/",
          "height": 75
        },
        "id": "2csWCtwBFt10",
        "outputId": "8fe340b1-39ff-44a8-94b9-7c29ac8da139"
      },
      "execution_count": 31,
      "outputs": [
        {
          "output_type": "execute_result",
          "data": {
            "text/plain": [
              "SimpleImputer(strategy='median')"
            ],
            "text/html": [
              "<style>#sk-container-id-1 {color: black;background-color: white;}#sk-container-id-1 pre{padding: 0;}#sk-container-id-1 div.sk-toggleable {background-color: white;}#sk-container-id-1 label.sk-toggleable__label {cursor: pointer;display: block;width: 100%;margin-bottom: 0;padding: 0.3em;box-sizing: border-box;text-align: center;}#sk-container-id-1 label.sk-toggleable__label-arrow:before {content: \"▸\";float: left;margin-right: 0.25em;color: #696969;}#sk-container-id-1 label.sk-toggleable__label-arrow:hover:before {color: black;}#sk-container-id-1 div.sk-estimator:hover label.sk-toggleable__label-arrow:before {color: black;}#sk-container-id-1 div.sk-toggleable__content {max-height: 0;max-width: 0;overflow: hidden;text-align: left;background-color: #f0f8ff;}#sk-container-id-1 div.sk-toggleable__content pre {margin: 0.2em;color: black;border-radius: 0.25em;background-color: #f0f8ff;}#sk-container-id-1 input.sk-toggleable__control:checked~div.sk-toggleable__content {max-height: 200px;max-width: 100%;overflow: auto;}#sk-container-id-1 input.sk-toggleable__control:checked~label.sk-toggleable__label-arrow:before {content: \"▾\";}#sk-container-id-1 div.sk-estimator input.sk-toggleable__control:checked~label.sk-toggleable__label {background-color: #d4ebff;}#sk-container-id-1 div.sk-label input.sk-toggleable__control:checked~label.sk-toggleable__label {background-color: #d4ebff;}#sk-container-id-1 input.sk-hidden--visually {border: 0;clip: rect(1px 1px 1px 1px);clip: rect(1px, 1px, 1px, 1px);height: 1px;margin: -1px;overflow: hidden;padding: 0;position: absolute;width: 1px;}#sk-container-id-1 div.sk-estimator {font-family: monospace;background-color: #f0f8ff;border: 1px dotted black;border-radius: 0.25em;box-sizing: border-box;margin-bottom: 0.5em;}#sk-container-id-1 div.sk-estimator:hover {background-color: #d4ebff;}#sk-container-id-1 div.sk-parallel-item::after {content: \"\";width: 100%;border-bottom: 1px solid gray;flex-grow: 1;}#sk-container-id-1 div.sk-label:hover label.sk-toggleable__label {background-color: #d4ebff;}#sk-container-id-1 div.sk-serial::before {content: \"\";position: absolute;border-left: 1px solid gray;box-sizing: border-box;top: 0;bottom: 0;left: 50%;z-index: 0;}#sk-container-id-1 div.sk-serial {display: flex;flex-direction: column;align-items: center;background-color: white;padding-right: 0.2em;padding-left: 0.2em;position: relative;}#sk-container-id-1 div.sk-item {position: relative;z-index: 1;}#sk-container-id-1 div.sk-parallel {display: flex;align-items: stretch;justify-content: center;background-color: white;position: relative;}#sk-container-id-1 div.sk-item::before, #sk-container-id-1 div.sk-parallel-item::before {content: \"\";position: absolute;border-left: 1px solid gray;box-sizing: border-box;top: 0;bottom: 0;left: 50%;z-index: -1;}#sk-container-id-1 div.sk-parallel-item {display: flex;flex-direction: column;z-index: 1;position: relative;background-color: white;}#sk-container-id-1 div.sk-parallel-item:first-child::after {align-self: flex-end;width: 50%;}#sk-container-id-1 div.sk-parallel-item:last-child::after {align-self: flex-start;width: 50%;}#sk-container-id-1 div.sk-parallel-item:only-child::after {width: 0;}#sk-container-id-1 div.sk-dashed-wrapped {border: 1px dashed gray;margin: 0 0.4em 0.5em 0.4em;box-sizing: border-box;padding-bottom: 0.4em;background-color: white;}#sk-container-id-1 div.sk-label label {font-family: monospace;font-weight: bold;display: inline-block;line-height: 1.2em;}#sk-container-id-1 div.sk-label-container {text-align: center;}#sk-container-id-1 div.sk-container {/* jupyter's `normalize.less` sets `[hidden] { display: none; }` but bootstrap.min.css set `[hidden] { display: none !important; }` so we also need the `!important` here to be able to override the default hidden behavior on the sphinx rendered scikit-learn.org. See: https://github.com/scikit-learn/scikit-learn/issues/21755 */display: inline-block !important;position: relative;}#sk-container-id-1 div.sk-text-repr-fallback {display: none;}</style><div id=\"sk-container-id-1\" class=\"sk-top-container\"><div class=\"sk-text-repr-fallback\"><pre>SimpleImputer(strategy=&#x27;median&#x27;)</pre><b>In a Jupyter environment, please rerun this cell to show the HTML representation or trust the notebook. <br />On GitHub, the HTML representation is unable to render, please try loading this page with nbviewer.org.</b></div><div class=\"sk-container\" hidden><div class=\"sk-item\"><div class=\"sk-estimator sk-toggleable\"><input class=\"sk-toggleable__control sk-hidden--visually\" id=\"sk-estimator-id-1\" type=\"checkbox\" checked><label for=\"sk-estimator-id-1\" class=\"sk-toggleable__label sk-toggleable__label-arrow\">SimpleImputer</label><div class=\"sk-toggleable__content\"><pre>SimpleImputer(strategy=&#x27;median&#x27;)</pre></div></div></div></div></div>"
            ]
          },
          "metadata": {},
          "execution_count": 31
        }
      ]
    },
    {
      "cell_type": "code",
      "source": [
        "# Display the medians of columns recorded by the imputer\n",
        "imputer.statistics_"
      ],
      "metadata": {
        "colab": {
          "base_uri": "https://localhost:8080/"
        },
        "id": "MqtgWviFF_Ih",
        "outputId": "3823978f-5173-4e14-c9e1-30d3ee2bde40"
      },
      "execution_count": 32,
      "outputs": [
        {
          "output_type": "execute_result",
          "data": {
            "text/plain": [
              "array([7.4000e-01, 6.6150e+02, 3.1532e+02, 1.7860e+02, 4.2400e+00,\n",
              "       3.6000e+00, 2.5000e-01, 2.9700e+00])"
            ]
          },
          "metadata": {},
          "execution_count": 32
        }
      ]
    },
    {
      "cell_type": "code",
      "source": [
        "# Verifying the values of Imputer by comparing with the actual median values\n",
        "energy_eff_numerical.median().values"
      ],
      "metadata": {
        "colab": {
          "base_uri": "https://localhost:8080/"
        },
        "id": "lNjZPfjmGI9z",
        "outputId": "ce94f0d5-84cc-4a79-f35b-0192faa4c4b1"
      },
      "execution_count": 33,
      "outputs": [
        {
          "output_type": "execute_result",
          "data": {
            "text/plain": [
              "array([7.4000e-01, 6.6150e+02, 3.1532e+02, 1.7860e+02, 4.2400e+00,\n",
              "       3.6000e+00, 2.5000e-01, 2.9700e+00])"
            ]
          },
          "metadata": {},
          "execution_count": 33
        }
      ]
    },
    {
      "cell_type": "markdown",
      "source": [
        "Both are same as expected"
      ],
      "metadata": {
        "id": "9gKdNywcGftg"
      }
    },
    {
      "cell_type": "markdown",
      "source": [
        "# Feature Engineering - Experimenting by creating new features to add useful information"
      ],
      "metadata": {
        "id": "qGcF_GSA6M1v"
      }
    },
    {
      "cell_type": "markdown",
      "source": [
        "Based on the domain knowledge, We observe that 3 more features can be derived from the input features which can be useful. We will derive the below features.\n",
        "\n",
        "1.   Total Area : Surface Area + Wall Area + Roof Area\n",
        "2.   Surface Area Ratio : Surface Area / Overall Height\n",
        "3.   Glazing Area Ratio : Glazing Area / Total Area\n",
        "\n",
        "Then after deriving these features we will then look for correlations with the target feature to see if they are useful or not.\n",
        "\n"
      ],
      "metadata": {
        "id": "BsI5sUPIPUQR"
      }
    },
    {
      "cell_type": "code",
      "source": [
        "# Creating new feature Total Area which is the sum of Surface Area, Wall Area, Roof Area\n",
        "energy_eff['Total_Area'] = energy_eff['Surface_Area'] + energy_eff['Wall_Area'] + energy_eff['Roof_Area']\n",
        "# Creating new feature Surface Area Ratio which is the ratio of Surface Area and Overall Height\n",
        "energy_eff['Surface_Area_Ratio'] = energy_eff['Surface_Area']/energy_eff['Overall_Height']\n",
        "# Creating new feature Glazing Area Ratio which is the ratio of Glazing Area and Total Area\n",
        "energy_eff['Glazing_Area_Ratio'] = energy_eff['Glazing_Area']/energy_eff['Total_Area']\n",
        "\n",
        "# Adding newly created features to existing Input features\n",
        "input_features.extend(['Total_Area', 'Surface_Area_Ratio', 'Glazing_Area_Ratio'])\n",
        "input_features"
      ],
      "metadata": {
        "colab": {
          "base_uri": "https://localhost:8080/"
        },
        "id": "oHs1VlbJ4lne",
        "outputId": "93a88547-fc62-43c4-8801-d626473a6d32"
      },
      "execution_count": 34,
      "outputs": [
        {
          "output_type": "execute_result",
          "data": {
            "text/plain": [
              "['Relative_Compactness',\n",
              " 'Surface_Area',\n",
              " 'Wall_Area',\n",
              " 'Roof_Area',\n",
              " 'Overall_Height',\n",
              " 'Orientation',\n",
              " 'Glazing_Area',\n",
              " 'Glazing_Area_Distribution',\n",
              " 'Total_Area',\n",
              " 'Surface_Area_Ratio',\n",
              " 'Glazing_Area_Ratio']"
            ]
          },
          "metadata": {},
          "execution_count": 34
        }
      ]
    },
    {
      "cell_type": "code",
      "source": [
        "# Looking for correlations of the newly added features with the target feature.\n",
        "temp_df = pd.concat([energy_eff, energy_eff_labels], axis=1)\n",
        "corr_matrix = temp_df.corr()\n",
        "abs(corr_matrix[target_feature]).sort_values(ascending=False)"
      ],
      "metadata": {
        "colab": {
          "base_uri": "https://localhost:8080/"
        },
        "id": "cmQXK1pn4O2a",
        "outputId": "92201220-495e-4793-e5a0-8173571de5c7"
      },
      "execution_count": 35,
      "outputs": [
        {
          "output_type": "execute_result",
          "data": {
            "text/plain": [
              "Heating_Load                 1.000000\n",
              "Overall_Height               0.811893\n",
              "Surface_Area_Ratio           0.771833\n",
              "Roof_Area                    0.766757\n",
              "Surface_Area                 0.475122\n",
              "Relative_Compactness         0.468361\n",
              "Total_Area                   0.468207\n",
              "Glazing_Area_Ratio           0.366652\n",
              "Wall_Area                    0.308580\n",
              "Glazing_Area                 0.242791\n",
              "Glazing_Area_Distribution    0.095042\n",
              "Orientation                  0.021111\n",
              "Name: Heating_Load, dtype: float64"
            ]
          },
          "metadata": {},
          "execution_count": 35
        }
      ]
    },
    {
      "cell_type": "markdown",
      "source": [
        "We Observe that the newly added features are highly correlated with the target feature. So including these features as part of final features used in the training."
      ],
      "metadata": {
        "id": "GabWV92C06Ti"
      }
    },
    {
      "cell_type": "code",
      "source": [
        "# Plotting the correlation between new input features and target feature\n",
        "plt.figure(figsize=(12,12))\n",
        "plt.title(\"Correlation b/n Input Features and Target Feature\")\n",
        "plt.bar(range(len(input_features)), corr_matrix[target_feature][input_features], color=\"r\", align=\"center\")\n",
        "plt.xticks(range(len(input_features)), input_features, rotation='vertical')\n",
        "plt.xlim([-1, len(input_features)])\n",
        "plt.show()"
      ],
      "metadata": {
        "colab": {
          "base_uri": "https://localhost:8080/",
          "height": 835
        },
        "id": "JK_Pkptv_bMX",
        "outputId": "faa41274-e8db-4ef4-b0e5-18023da97335"
      },
      "execution_count": 36,
      "outputs": [
        {
          "output_type": "display_data",
          "data": {
            "text/plain": [
              "<Figure size 864x864 with 1 Axes>"
            ],
            "image/png": "[encoded data removed]"
          },
          "metadata": {
            "needs_background": "light"
          }
        }
      ]
    },
    {
      "cell_type": "code",
      "source": [
        "'''\n",
        "  Using describe method for getting a quick statistical summary of dataset to check what is the standard deviation from the mean value of newly added columns and\n",
        "  for getting the minimum and maximum values. \n",
        "''' \n",
        "energy_eff[['Total_Area', 'Surface_Area_Ratio', 'Glazing_Area_Ratio']].describe()"
      ],
      "metadata": {
        "colab": {
          "base_uri": "https://localhost:8080/",
          "height": 300
        },
        "id": "p72o7ZuPACTM",
        "outputId": "ff04940f-436f-49e5-ee00-1e0d73c3c6e4"
      },
      "execution_count": 37,
      "outputs": [
        {
          "output_type": "execute_result",
          "data": {
            "text/plain": [
              "        Total_Area  Surface_Area_Ratio  Glazing_Area_Ratio\n",
              "count   537.000000          537.000000          537.000000\n",
              "mean   1166.189777          152.319009            0.000210\n",
              "std     167.819089           71.067630            0.000125\n",
              "min     764.030000           53.889020            0.000000\n",
              "25%    1031.940000           85.909091            0.000097\n",
              "50%    1166.940000          159.789610            0.000209\n",
              "75%    1277.920000          210.000000            0.000303\n",
              "max    1612.590000          323.591549            0.000531"
            ],
            "text/html": [
              "\n",
              "  <div id=\"df-f0d2ac7d-8839-4d59-958e-e1fd73e5aec6\">\n",
              "    <div class=\"colab-df-container\">\n",
              "      <div>\n",
              "<style scoped>\n",
              "    .dataframe tbody tr th:only-of-type {\n",
              "        vertical-align: middle;\n",
              "    }\n",
              "\n",
              "    .dataframe tbody tr th {\n",
              "        vertical-align: top;\n",
              "    }\n",
              "\n",
              "    .dataframe thead th {\n",
              "        text-align: right;\n",
              "    }\n",
              "</style>\n",
              "<table border=\"1\" class=\"dataframe\">\n",
              "  <thead>\n",
              "    <tr style=\"text-align: right;\">\n",
              "      <th></th>\n",
              "      <th>Total_Area</th>\n",
              "      <th>Surface_Area_Ratio</th>\n",
              "      <th>Glazing_Area_Ratio</th>\n",
              "    </tr>\n",
              "  </thead>\n",
              "  <tbody>\n",
              "    <tr>\n",
              "      <th>count</th>\n",
              "      <td>537.000000</td>\n",
              "      <td>537.000000</td>\n",
              "      <td>537.000000</td>\n",
              "    </tr>\n",
              "    <tr>\n",
              "      <th>mean</th>\n",
              "      <td>1166.189777</td>\n",
              "      <td>152.319009</td>\n",
              "      <td>0.000210</td>\n",
              "    </tr>\n",
              "    <tr>\n",
              "      <th>std</th>\n",
              "      <td>167.819089</td>\n",
              "      <td>71.067630</td>\n",
              "      <td>0.000125</td>\n",
              "    </tr>\n",
              "    <tr>\n",
              "      <th>min</th>\n",
              "      <td>764.030000</td>\n",
              "      <td>53.889020</td>\n",
              "      <td>0.000000</td>\n",
              "    </tr>\n",
              "    <tr>\n",
              "      <th>25%</th>\n",
              "      <td>1031.940000</td>\n",
              "      <td>85.909091</td>\n",
              "      <td>0.000097</td>\n",
              "    </tr>\n",
              "    <tr>\n",
              "      <th>50%</th>\n",
              "      <td>1166.940000</td>\n",
              "      <td>159.789610</td>\n",
              "      <td>0.000209</td>\n",
              "    </tr>\n",
              "    <tr>\n",
              "      <th>75%</th>\n",
              "      <td>1277.920000</td>\n",
              "      <td>210.000000</td>\n",
              "      <td>0.000303</td>\n",
              "    </tr>\n",
              "    <tr>\n",
              "      <th>max</th>\n",
              "      <td>1612.590000</td>\n",
              "      <td>323.591549</td>\n",
              "      <td>0.000531</td>\n",
              "    </tr>\n",
              "  </tbody>\n",
              "</table>\n",
              "</div>\n",
              "      <button class=\"colab-df-convert\" onclick=\"convertToInteractive('df-f0d2ac7d-8839-4d59-958e-e1fd73e5aec6')\"\n",
              "              title=\"Convert this dataframe to an interactive table.\"\n",
              "              style=\"display:none;\">\n",
              "        \n",
              "  <svg xmlns=\"http://www.w3.org/2000/svg\" height=\"24px\"viewBox=\"0 0 24 24\"\n",
              "       width=\"24px\">\n",
              "    <path d=\"M0 0h24v24H0V0z\" fill=\"none\"/>\n",
              "    <path d=\"M18.56 5.44l.94 2.06.94-2.06 2.06-.94-2.06-.94-.94-2.06-.94 2.06-2.06.94zm-11 1L8.5 8.5l.94-2.06 2.06-.94-2.06-.94L8.5 2.5l-.94 2.06-2.06.94zm10 10l.94 2.06.94-2.06 2.06-.94-2.06-.94-.94-2.06-.94 2.06-2.06.94z\"/><path d=\"M17.41 7.96l-1.37-1.37c-.4-.4-.92-.59-1.43-.59-.52 0-1.04.2-1.43.59L10.3 9.45l-7.72 7.72c-.78.78-.78 2.05 0 2.83L4 21.41c.39.39.9.59 1.41.59.51 0 1.02-.2 1.41-.59l7.78-7.78 2.81-2.81c.8-.78.8-2.07 0-2.86zM5.41 20L4 18.59l7.72-7.72 1.47 1.35L5.41 20z\"/>\n",
              "  </svg>\n",
              "      </button>\n",
              "      \n",
              "  <style>\n",
              "    .colab-df-container {\n",
              "      display:flex;\n",
              "      flex-wrap:wrap;\n",
              "      gap: 12px;\n",
              "    }\n",
              "\n",
              "    .colab-df-convert {\n",
              "      background-color: #E8F0FE;\n",
              "      border: none;\n",
              "      border-radius: 50%;\n",
              "      cursor: pointer;\n",
              "      display: none;\n",
              "      fill: #1967D2;\n",
              "      height: 32px;\n",
              "      padding: 0 0 0 0;\n",
              "      width: 32px;\n",
              "    }\n",
              "\n",
              "    .colab-df-convert:hover {\n",
              "      background-color: #E2EBFA;\n",
              "      box-shadow: 0px 1px 2px rgba(60, 64, 67, 0.3), 0px 1px 3px 1px rgba(60, 64, 67, 0.15);\n",
              "      fill: #174EA6;\n",
              "    }\n",
              "\n",
              "    [theme=dark] .colab-df-convert {\n",
              "      background-color: #3B4455;\n",
              "      fill: #D2E3FC;\n",
              "    }\n",
              "\n",
              "    [theme=dark] .colab-df-convert:hover {\n",
              "      background-color: #434B5C;\n",
              "      box-shadow: 0px 1px 3px 1px rgba(0, 0, 0, 0.15);\n",
              "      filter: drop-shadow(0px 1px 2px rgba(0, 0, 0, 0.3));\n",
              "      fill: #FFFFFF;\n",
              "    }\n",
              "  </style>\n",
              "\n",
              "      <script>\n",
              "        const buttonEl =\n",
              "          document.querySelector('#df-f0d2ac7d-8839-4d59-958e-e1fd73e5aec6 button.colab-df-convert');\n",
              "        buttonEl.style.display =\n",
              "          google.colab.kernel.accessAllowed ? 'block' : 'none';\n",
              "\n",
              "        async function convertToInteractive(key) {\n",
              "          const element = document.querySelector('#df-f0d2ac7d-8839-4d59-958e-e1fd73e5aec6');\n",
              "          const dataTable =\n",
              "            await google.colab.kernel.invokeFunction('convertToInteractive',\n",
              "                                                     [key], {});\n",
              "          if (!dataTable) return;\n",
              "\n",
              "          const docLinkHtml = 'Like what you see? Visit the ' +\n",
              "            '<a target=\"_blank\" href=https://colab.research.google.com/notebooks/data_table.ipynb>data table notebook</a>'\n",
              "            + ' to learn more about interactive tables.';\n",
              "          element.innerHTML = '';\n",
              "          dataTable['output_type'] = 'display_data';\n",
              "          await google.colab.output.renderOutput(dataTable, element);\n",
              "          const docLink = document.createElement('div');\n",
              "          docLink.innerHTML = docLinkHtml;\n",
              "          element.appendChild(docLink);\n",
              "        }\n",
              "      </script>\n",
              "    </div>\n",
              "  </div>\n",
              "  "
            ]
          },
          "metadata": {},
          "execution_count": 37
        }
      ]
    },
    {
      "cell_type": "markdown",
      "source": [
        "# Handling Text and Categorical Attributes\n",
        "Encoding the categorical values to numerical values using One Hot Encoder. Here One Hot Encoder is used instead of Ordinal Encoder since there is no ordinal relationship between the categories in a categorical variable, i.e., the categories cannot be ranked in a meaningful way."
      ],
      "metadata": {
        "id": "yIBdLn5iHSG-"
      }
    },
    {
      "cell_type": "code",
      "source": [
        "energy_eff_categorical = energy_eff[['Building_Category']]\n",
        "energy_eff_categorical.head()"
      ],
      "metadata": {
        "colab": {
          "base_uri": "https://localhost:8080/",
          "height": 206
        },
        "id": "ZiW111ioGdhJ",
        "outputId": "dd00da03-ba98-436f-c9c5-6b51b5f7dbe5"
      },
      "execution_count": 38,
      "outputs": [
        {
          "output_type": "execute_result",
          "data": {
            "text/plain": [
              "    Building_Category\n",
              "662                C2\n",
              "469                C3\n",
              "203                C3\n",
              "574                C2\n",
              "408                C3"
            ],
            "text/html": [
              "\n",
              "  <div id=\"df-b4f1da3c-c9ea-482f-97d9-e2b44fe4533d\">\n",
              "    <div class=\"colab-df-container\">\n",
              "      <div>\n",
              "<style scoped>\n",
              "    .dataframe tbody tr th:only-of-type {\n",
              "        vertical-align: middle;\n",
              "    }\n",
              "\n",
              "    .dataframe tbody tr th {\n",
              "        vertical-align: top;\n",
              "    }\n",
              "\n",
              "    .dataframe thead th {\n",
              "        text-align: right;\n",
              "    }\n",
              "</style>\n",
              "<table border=\"1\" class=\"dataframe\">\n",
              "  <thead>\n",
              "    <tr style=\"text-align: right;\">\n",
              "      <th></th>\n",
              "      <th>Building_Category</th>\n",
              "    </tr>\n",
              "  </thead>\n",
              "  <tbody>\n",
              "    <tr>\n",
              "      <th>662</th>\n",
              "      <td>C2</td>\n",
              "    </tr>\n",
              "    <tr>\n",
              "      <th>469</th>\n",
              "      <td>C3</td>\n",
              "    </tr>\n",
              "    <tr>\n",
              "      <th>203</th>\n",
              "      <td>C3</td>\n",
              "    </tr>\n",
              "    <tr>\n",
              "      <th>574</th>\n",
              "      <td>C2</td>\n",
              "    </tr>\n",
              "    <tr>\n",
              "      <th>408</th>\n",
              "      <td>C3</td>\n",
              "    </tr>\n",
              "  </tbody>\n",
              "</table>\n",
              "</div>\n",
              "      <button class=\"colab-df-convert\" onclick=\"convertToInteractive('df-b4f1da3c-c9ea-482f-97d9-e2b44fe4533d')\"\n",
              "              title=\"Convert this dataframe to an interactive table.\"\n",
              "              style=\"display:none;\">\n",
              "        \n",
              "  <svg xmlns=\"http://www.w3.org/2000/svg\" height=\"24px\"viewBox=\"0 0 24 24\"\n",
              "       width=\"24px\">\n",
              "    <path d=\"M0 0h24v24H0V0z\" fill=\"none\"/>\n",
              "    <path d=\"M18.56 5.44l.94 2.06.94-2.06 2.06-.94-2.06-.94-.94-2.06-.94 2.06-2.06.94zm-11 1L8.5 8.5l.94-2.06 2.06-.94-2.06-.94L8.5 2.5l-.94 2.06-2.06.94zm10 10l.94 2.06.94-2.06 2.06-.94-2.06-.94-.94-2.06-.94 2.06-2.06.94z\"/><path d=\"M17.41 7.96l-1.37-1.37c-.4-.4-.92-.59-1.43-.59-.52 0-1.04.2-1.43.59L10.3 9.45l-7.72 7.72c-.78.78-.78 2.05 0 2.83L4 21.41c.39.39.9.59 1.41.59.51 0 1.02-.2 1.41-.59l7.78-7.78 2.81-2.81c.8-.78.8-2.07 0-2.86zM5.41 20L4 18.59l7.72-7.72 1.47 1.35L5.41 20z\"/>\n",
              "  </svg>\n",
              "      </button>\n",
              "      \n",
              "  <style>\n",
              "    .colab-df-container {\n",
              "      display:flex;\n",
              "      flex-wrap:wrap;\n",
              "      gap: 12px;\n",
              "    }\n",
              "\n",
              "    .colab-df-convert {\n",
              "      background-color: #E8F0FE;\n",
              "      border: none;\n",
              "      border-radius: 50%;\n",
              "      cursor: pointer;\n",
              "      display: none;\n",
              "      fill: #1967D2;\n",
              "      height: 32px;\n",
              "      padding: 0 0 0 0;\n",
              "      width: 32px;\n",
              "    }\n",
              "\n",
              "    .colab-df-convert:hover {\n",
              "      background-color: #E2EBFA;\n",
              "      box-shadow: 0px 1px 2px rgba(60, 64, 67, 0.3), 0px 1px 3px 1px rgba(60, 64, 67, 0.15);\n",
              "      fill: #174EA6;\n",
              "    }\n",
              "\n",
              "    [theme=dark] .colab-df-convert {\n",
              "      background-color: #3B4455;\n",
              "      fill: #D2E3FC;\n",
              "    }\n",
              "\n",
              "    [theme=dark] .colab-df-convert:hover {\n",
              "      background-color: #434B5C;\n",
              "      box-shadow: 0px 1px 3px 1px rgba(0, 0, 0, 0.15);\n",
              "      filter: drop-shadow(0px 1px 2px rgba(0, 0, 0, 0.3));\n",
              "      fill: #FFFFFF;\n",
              "    }\n",
              "  </style>\n",
              "\n",
              "      <script>\n",
              "        const buttonEl =\n",
              "          document.querySelector('#df-b4f1da3c-c9ea-482f-97d9-e2b44fe4533d button.colab-df-convert');\n",
              "        buttonEl.style.display =\n",
              "          google.colab.kernel.accessAllowed ? 'block' : 'none';\n",
              "\n",
              "        async function convertToInteractive(key) {\n",
              "          const element = document.querySelector('#df-b4f1da3c-c9ea-482f-97d9-e2b44fe4533d');\n",
              "          const dataTable =\n",
              "            await google.colab.kernel.invokeFunction('convertToInteractive',\n",
              "                                                     [key], {});\n",
              "          if (!dataTable) return;\n",
              "\n",
              "          const docLinkHtml = 'Like what you see? Visit the ' +\n",
              "            '<a target=\"_blank\" href=https://colab.research.google.com/notebooks/data_table.ipynb>data table notebook</a>'\n",
              "            + ' to learn more about interactive tables.';\n",
              "          element.innerHTML = '';\n",
              "          dataTable['output_type'] = 'display_data';\n",
              "          await google.colab.output.renderOutput(dataTable, element);\n",
              "          const docLink = document.createElement('div');\n",
              "          docLink.innerHTML = docLinkHtml;\n",
              "          element.appendChild(docLink);\n",
              "        }\n",
              "      </script>\n",
              "    </div>\n",
              "  </div>\n",
              "  "
            ]
          },
          "metadata": {},
          "execution_count": 38
        }
      ]
    },
    {
      "cell_type": "code",
      "source": [
        "# OneHotEncoder encodes each category into each column\n",
        "\n",
        "cat_encoder = OneHotEncoder(sparse=False)\n",
        "energy_eff_categorical_1hot = cat_encoder.fit_transform(energy_eff_categorical)\n",
        "energy_eff_categorical_1hot"
      ],
      "metadata": {
        "colab": {
          "base_uri": "https://localhost:8080/"
        },
        "id": "D077c7_xIVjs",
        "outputId": "43f06caa-4c8f-4693-b137-d9b34568ed5a"
      },
      "execution_count": 39,
      "outputs": [
        {
          "output_type": "execute_result",
          "data": {
            "text/plain": [
              "array([[0., 1., 0.],\n",
              "       [0., 0., 1.],\n",
              "       [0., 0., 1.],\n",
              "       ...,\n",
              "       [0., 0., 1.],\n",
              "       [0., 1., 0.],\n",
              "       [0., 0., 1.]])"
            ]
          },
          "metadata": {},
          "execution_count": 39
        }
      ]
    },
    {
      "cell_type": "code",
      "source": [
        "# Displaying categories\n",
        "cat_encoder.categories_"
      ],
      "metadata": {
        "colab": {
          "base_uri": "https://localhost:8080/"
        },
        "id": "x9mJM6M8IpO7",
        "outputId": "1cb33a2b-fac0-4f48-e151-10204a8bbbfe"
      },
      "execution_count": 40,
      "outputs": [
        {
          "output_type": "execute_result",
          "data": {
            "text/plain": [
              "[array(['C1', 'C2', 'C3'], dtype=object)]"
            ]
          },
          "metadata": {},
          "execution_count": 40
        }
      ]
    },
    {
      "cell_type": "markdown",
      "source": [
        "# Custom Transformers to add the additional 3 new features for new data"
      ],
      "metadata": {
        "id": "gitZfMoYJCnh"
      }
    },
    {
      "cell_type": "markdown",
      "source": [
        "We will create a custom transformer capable of deriving the 3 new features we have experimented with, from the input features."
      ],
      "metadata": {
        "id": "IImhRFhIRElt"
      }
    },
    {
      "cell_type": "code",
      "source": [
        "# Getting the column Indices of the columns for which the 3 new features depend upon\n",
        "column_names = ['Surface_Area', 'Wall_Area', 'Roof_Area', 'Overall_Height', 'Glazing_Area']\n",
        "surface_area_ix, wall_area_ix, roof_area_ix, overall_height_ix, glazing_area_ix = [\n",
        "    energy_eff.columns.get_loc(c) for c in column_names] # get the column indices\n",
        "\n",
        "# Printing the column indices\n",
        "print(surface_area_ix, wall_area_ix, roof_area_ix, overall_height_ix, glazing_area_ix)"
      ],
      "metadata": {
        "colab": {
          "base_uri": "https://localhost:8080/"
        },
        "id": "N_VvmB0NJXtT",
        "outputId": "ded368aa-69e7-4514-8dd3-e321ce63279d"
      },
      "execution_count": 41,
      "outputs": [
        {
          "output_type": "stream",
          "name": "stdout",
          "text": [
            "2 3 4 5 7\n"
          ]
        }
      ]
    },
    {
      "cell_type": "markdown",
      "source": [
        "Creating Custom Transformer to calculate the 3 new features"
      ],
      "metadata": {
        "id": "ffGWqA_TKolS"
      }
    },
    {
      "cell_type": "code",
      "source": [
        "class CombinedAttributesAdder(BaseEstimator, TransformerMixin):\n",
        "    def __init__(self):\n",
        "      pass\n",
        "    def fit(self, X, y=None):\n",
        "        return self\n",
        "    def transform(self, X):\n",
        "        total_area = X[:, surface_area_ix] + X[:, wall_area_ix] + X[:, roof_area_ix] # Calculating Total Area Column = Surface Area Column + Wall Area Column + Roof Area Column\n",
        "        surface_area_ratio = X[:, surface_area_ix] / X[:, overall_height_ix] # Calculating Surface Area Ratio Column = Surface Area Column / Overall Height Column\n",
        "        glazing_area_ratio = X[:, glazing_area_ix] / total_area  # Calculating Glazing Area Ratio Column = Glazing Area Column / Total Area Column \n",
        "        return np.c_[X, total_area, surface_area_ratio, glazing_area_ratio]\n",
        "\n",
        "attr_adder = CombinedAttributesAdder()"
      ],
      "metadata": {
        "id": "KjPkTkwwKjRx"
      },
      "execution_count": 42,
      "outputs": []
    },
    {
      "cell_type": "markdown",
      "source": [
        "# Transformation Pipelines\n",
        "Building a pipeline for preprocessing the numerical attributes. It will include the following stages:-\n",
        "1.   Imputer (For populating null values with median)\n",
        "2.   CombinedAttributesAdder (For adding the 3 new features)\n",
        "\n",
        "1.   StandardScaler (For Scaling the Dataset)\n",
        "2.   OneHotEncoder (For Encoding the Dataset)"
      ],
      "metadata": {
        "id": "NWI_UJluN4yC"
      }
    },
    {
      "cell_type": "code",
      "source": [
        "# Pipeline with stages :- Imputer, CombinedAttributesAdder, StandardScaler\n",
        "\n",
        "num_pipeline = Pipeline([\n",
        "        ('imputer', SimpleImputer(strategy=\"median\")),\n",
        "        ('attribs_adder', CombinedAttributesAdder()),\n",
        "        ('std_scaler', StandardScaler()),\n",
        "    ])"
      ],
      "metadata": {
        "id": "auqZ7iIWNlHY"
      },
      "execution_count": 43,
      "outputs": []
    },
    {
      "cell_type": "code",
      "source": [
        "# Building the full pipeline to transform the dataset\n",
        "num_attribs = list(energy_eff_numerical)\n",
        "cat_attribs = [\"Building_Category\"]\n",
        "\n",
        "full_pipeline = ColumnTransformer([\n",
        "        (\"num\", num_pipeline, num_attribs),\n",
        "        (\"cat\", OneHotEncoder(), cat_attribs),\n",
        "    ])"
      ],
      "metadata": {
        "id": "4K7TnarVQev6"
      },
      "execution_count": 44,
      "outputs": []
    },
    {
      "cell_type": "code",
      "source": [
        "# Transformed Independent Variables\n",
        "energy_eff_transformed = full_pipeline.fit_transform(energy_eff)\n",
        "energy_eff_transformed"
      ],
      "metadata": {
        "colab": {
          "base_uri": "https://localhost:8080/"
        },
        "id": "eLmyuE-0RI4o",
        "outputId": "616b4adf-1bf7-4911-ed39-058e59cf1989"
      },
      "execution_count": 45,
      "outputs": [
        {
          "output_type": "execute_result",
          "data": {
            "text/plain": [
              "array([[-1.53076911,  0.70218982, -0.08597332, ...,  0.        ,\n",
              "         1.        ,  0.        ],\n",
              "       [ 0.27705213,  0.13385857, -0.5750626 , ...,  0.        ,\n",
              "         0.        ,  1.        ],\n",
              "       [ 0.0761831 , -0.70953335, -0.44967696, ...,  0.        ,\n",
              "         0.        ,  1.        ],\n",
              "       ...,\n",
              "       [ 0.87965921, -0.9112556 ,  1.10936974, ...,  0.        ,\n",
              "         0.        ,  1.        ],\n",
              "       [ 0.21009579, -0.84398714,  0.05186558, ...,  0.        ,\n",
              "         1.        ,  0.        ],\n",
              "       [-1.32990009, -0.0494875 , -0.9512195 , ...,  0.        ,\n",
              "         0.        ,  1.        ]])"
            ]
          },
          "metadata": {},
          "execution_count": 45
        }
      ]
    },
    {
      "cell_type": "code",
      "source": [
        "# Verifying rows and columns\n",
        "energy_eff_transformed.shape"
      ],
      "metadata": {
        "colab": {
          "base_uri": "https://localhost:8080/"
        },
        "id": "hfRWNHQ4TS4e",
        "outputId": "3ee0a2c1-a95e-4b90-81d4-539f6c95fe38"
      },
      "execution_count": 46,
      "outputs": [
        {
          "output_type": "execute_result",
          "data": {
            "text/plain": [
              "(537, 14)"
            ]
          },
          "metadata": {},
          "execution_count": 46
        }
      ]
    },
    {
      "cell_type": "markdown",
      "source": [
        "# Model Selection and Training"
      ],
      "metadata": {
        "id": "J_mpSwyISupp"
      }
    },
    {
      "cell_type": "markdown",
      "source": [
        "**Linear Regression - Training and Evaluating on the Training Set**"
      ],
      "metadata": {
        "id": "wM5XmEuUS_Mr"
      }
    },
    {
      "cell_type": "code",
      "source": [
        "# Training the model with Linear Regression\n",
        "\n",
        "lrmodel = LinearRegression()\n",
        "lrmodel.fit(energy_eff_transformed, energy_eff_labels)"
      ],
      "metadata": {
        "colab": {
          "base_uri": "https://localhost:8080/",
          "height": 75
        },
        "id": "fV0vlAaaTOHl",
        "outputId": "7c57d7d9-bad8-4637-a29f-b96c67434742"
      },
      "execution_count": 47,
      "outputs": [
        {
          "output_type": "execute_result",
          "data": {
            "text/plain": [
              "LinearRegression()"
            ],
            "text/html": [
              "<style>#sk-container-id-2 {color: black;background-color: white;}#sk-container-id-2 pre{padding: 0;}#sk-container-id-2 div.sk-toggleable {background-color: white;}#sk-container-id-2 label.sk-toggleable__label {cursor: pointer;display: block;width: 100%;margin-bottom: 0;padding: 0.3em;box-sizing: border-box;text-align: center;}#sk-container-id-2 label.sk-toggleable__label-arrow:before {content: \"▸\";float: left;margin-right: 0.25em;color: #696969;}#sk-container-id-2 label.sk-toggleable__label-arrow:hover:before {color: black;}#sk-container-id-2 div.sk-estimator:hover label.sk-toggleable__label-arrow:before {color: black;}#sk-container-id-2 div.sk-toggleable__content {max-height: 0;max-width: 0;overflow: hidden;text-align: left;background-color: #f0f8ff;}#sk-container-id-2 div.sk-toggleable__content pre {margin: 0.2em;color: black;border-radius: 0.25em;background-color: #f0f8ff;}#sk-container-id-2 input.sk-toggleable__control:checked~div.sk-toggleable__content {max-height: 200px;max-width: 100%;overflow: auto;}#sk-container-id-2 input.sk-toggleable__control:checked~label.sk-toggleable__label-arrow:before {content: \"▾\";}#sk-container-id-2 div.sk-estimator input.sk-toggleable__control:checked~label.sk-toggleable__label {background-color: #d4ebff;}#sk-container-id-2 div.sk-label input.sk-toggleable__control:checked~label.sk-toggleable__label {background-color: #d4ebff;}#sk-container-id-2 input.sk-hidden--visually {border: 0;clip: rect(1px 1px 1px 1px);clip: rect(1px, 1px, 1px, 1px);height: 1px;margin: -1px;overflow: hidden;padding: 0;position: absolute;width: 1px;}#sk-container-id-2 div.sk-estimator {font-family: monospace;background-color: #f0f8ff;border: 1px dotted black;border-radius: 0.25em;box-sizing: border-box;margin-bottom: 0.5em;}#sk-container-id-2 div.sk-estimator:hover {background-color: #d4ebff;}#sk-container-id-2 div.sk-parallel-item::after {content: \"\";width: 100%;border-bottom: 1px solid gray;flex-grow: 1;}#sk-container-id-2 div.sk-label:hover label.sk-toggleable__label {background-color: #d4ebff;}#sk-container-id-2 div.sk-serial::before {content: \"\";position: absolute;border-left: 1px solid gray;box-sizing: border-box;top: 0;bottom: 0;left: 50%;z-index: 0;}#sk-container-id-2 div.sk-serial {display: flex;flex-direction: column;align-items: center;background-color: white;padding-right: 0.2em;padding-left: 0.2em;position: relative;}#sk-container-id-2 div.sk-item {position: relative;z-index: 1;}#sk-container-id-2 div.sk-parallel {display: flex;align-items: stretch;justify-content: center;background-color: white;position: relative;}#sk-container-id-2 div.sk-item::before, #sk-container-id-2 div.sk-parallel-item::before {content: \"\";position: absolute;border-left: 1px solid gray;box-sizing: border-box;top: 0;bottom: 0;left: 50%;z-index: -1;}#sk-container-id-2 div.sk-parallel-item {display: flex;flex-direction: column;z-index: 1;position: relative;background-color: white;}#sk-container-id-2 div.sk-parallel-item:first-child::after {align-self: flex-end;width: 50%;}#sk-container-id-2 div.sk-parallel-item:last-child::after {align-self: flex-start;width: 50%;}#sk-container-id-2 div.sk-parallel-item:only-child::after {width: 0;}#sk-container-id-2 div.sk-dashed-wrapped {border: 1px dashed gray;margin: 0 0.4em 0.5em 0.4em;box-sizing: border-box;padding-bottom: 0.4em;background-color: white;}#sk-container-id-2 div.sk-label label {font-family: monospace;font-weight: bold;display: inline-block;line-height: 1.2em;}#sk-container-id-2 div.sk-label-container {text-align: center;}#sk-container-id-2 div.sk-container {/* jupyter's `normalize.less` sets `[hidden] { display: none; }` but bootstrap.min.css set `[hidden] { display: none !important; }` so we also need the `!important` here to be able to override the default hidden behavior on the sphinx rendered scikit-learn.org. See: https://github.com/scikit-learn/scikit-learn/issues/21755 */display: inline-block !important;position: relative;}#sk-container-id-2 div.sk-text-repr-fallback {display: none;}</style><div id=\"sk-container-id-2\" class=\"sk-top-container\"><div class=\"sk-text-repr-fallback\"><pre>LinearRegression()</pre><b>In a Jupyter environment, please rerun this cell to show the HTML representation or trust the notebook. <br />On GitHub, the HTML representation is unable to render, please try loading this page with nbviewer.org.</b></div><div class=\"sk-container\" hidden><div class=\"sk-item\"><div class=\"sk-estimator sk-toggleable\"><input class=\"sk-toggleable__control sk-hidden--visually\" id=\"sk-estimator-id-2\" type=\"checkbox\" checked><label for=\"sk-estimator-id-2\" class=\"sk-toggleable__label sk-toggleable__label-arrow\">LinearRegression</label><div class=\"sk-toggleable__content\"><pre>LinearRegression()</pre></div></div></div></div></div>"
            ]
          },
          "metadata": {},
          "execution_count": 47
        }
      ]
    },
    {
      "cell_type": "code",
      "source": [
        "# Predicting the values and calculating the root mean squared error\n",
        "\n",
        "energy_eff_predictions = lrmodel.predict(energy_eff_transformed)\n",
        "lr_mse = mean_squared_error(energy_eff_labels, energy_eff_predictions)\n",
        "lr_rmse = np.sqrt(lr_mse)\n",
        "print('Root Mean Squared Error : ', lr_rmse)"
      ],
      "metadata": {
        "colab": {
          "base_uri": "https://localhost:8080/"
        },
        "id": "U4LIxusWfAxI",
        "outputId": "fc63c8a9-59c7-4eee-fe82-5442490a89eb"
      },
      "execution_count": 48,
      "outputs": [
        {
          "output_type": "stream",
          "name": "stdout",
          "text": [
            "Root Mean Squared Error :  4.401010545195448\n"
          ]
        }
      ]
    },
    {
      "cell_type": "code",
      "source": [
        "# Calculating the R2 Score\n",
        "\n",
        "lr_r2_score = r2_score(energy_eff_labels, energy_eff_predictions)\n",
        "print('R2 Score : ', lr_r2_score)"
      ],
      "metadata": {
        "colab": {
          "base_uri": "https://localhost:8080/"
        },
        "id": "e_Ql-T382vbO",
        "outputId": "0ad43ace-d38c-46f9-a7cc-030985798bf4"
      },
      "execution_count": 49,
      "outputs": [
        {
          "output_type": "stream",
          "name": "stdout",
          "text": [
            "R2 Score :  0.8059466713087386\n"
          ]
        }
      ]
    },
    {
      "cell_type": "markdown",
      "source": [
        "**Ridge Regression - Training and Evaluating on the Training Set**"
      ],
      "metadata": {
        "id": "PaARHJB_f3R1"
      }
    },
    {
      "cell_type": "code",
      "source": [
        "# Training the model with Ridge Regression\n",
        "\n",
        "ridgemodel = Ridge()\n",
        "ridgemodel.fit(energy_eff_transformed, energy_eff_labels)"
      ],
      "metadata": {
        "colab": {
          "base_uri": "https://localhost:8080/",
          "height": 75
        },
        "id": "FpfKU1QDfd8b",
        "outputId": "1f2bca1f-941d-445d-ca29-59eddced2b72"
      },
      "execution_count": 50,
      "outputs": [
        {
          "output_type": "execute_result",
          "data": {
            "text/plain": [
              "Ridge()"
            ],
            "text/html": [
              "<style>#sk-container-id-3 {color: black;background-color: white;}#sk-container-id-3 pre{padding: 0;}#sk-container-id-3 div.sk-toggleable {background-color: white;}#sk-container-id-3 label.sk-toggleable__label {cursor: pointer;display: block;width: 100%;margin-bottom: 0;padding: 0.3em;box-sizing: border-box;text-align: center;}#sk-container-id-3 label.sk-toggleable__label-arrow:before {content: \"▸\";float: left;margin-right: 0.25em;color: #696969;}#sk-container-id-3 label.sk-toggleable__label-arrow:hover:before {color: black;}#sk-container-id-3 div.sk-estimator:hover label.sk-toggleable__label-arrow:before {color: black;}#sk-container-id-3 div.sk-toggleable__content {max-height: 0;max-width: 0;overflow: hidden;text-align: left;background-color: #f0f8ff;}#sk-container-id-3 div.sk-toggleable__content pre {margin: 0.2em;color: black;border-radius: 0.25em;background-color: #f0f8ff;}#sk-container-id-3 input.sk-toggleable__control:checked~div.sk-toggleable__content {max-height: 200px;max-width: 100%;overflow: auto;}#sk-container-id-3 input.sk-toggleable__control:checked~label.sk-toggleable__label-arrow:before {content: \"▾\";}#sk-container-id-3 div.sk-estimator input.sk-toggleable__control:checked~label.sk-toggleable__label {background-color: #d4ebff;}#sk-container-id-3 div.sk-label input.sk-toggleable__control:checked~label.sk-toggleable__label {background-color: #d4ebff;}#sk-container-id-3 input.sk-hidden--visually {border: 0;clip: rect(1px 1px 1px 1px);clip: rect(1px, 1px, 1px, 1px);height: 1px;margin: -1px;overflow: hidden;padding: 0;position: absolute;width: 1px;}#sk-container-id-3 div.sk-estimator {font-family: monospace;background-color: #f0f8ff;border: 1px dotted black;border-radius: 0.25em;box-sizing: border-box;margin-bottom: 0.5em;}#sk-container-id-3 div.sk-estimator:hover {background-color: #d4ebff;}#sk-container-id-3 div.sk-parallel-item::after {content: \"\";width: 100%;border-bottom: 1px solid gray;flex-grow: 1;}#sk-container-id-3 div.sk-label:hover label.sk-toggleable__label {background-color: #d4ebff;}#sk-container-id-3 div.sk-serial::before {content: \"\";position: absolute;border-left: 1px solid gray;box-sizing: border-box;top: 0;bottom: 0;left: 50%;z-index: 0;}#sk-container-id-3 div.sk-serial {display: flex;flex-direction: column;align-items: center;background-color: white;padding-right: 0.2em;padding-left: 0.2em;position: relative;}#sk-container-id-3 div.sk-item {position: relative;z-index: 1;}#sk-container-id-3 div.sk-parallel {display: flex;align-items: stretch;justify-content: center;background-color: white;position: relative;}#sk-container-id-3 div.sk-item::before, #sk-container-id-3 div.sk-parallel-item::before {content: \"\";position: absolute;border-left: 1px solid gray;box-sizing: border-box;top: 0;bottom: 0;left: 50%;z-index: -1;}#sk-container-id-3 div.sk-parallel-item {display: flex;flex-direction: column;z-index: 1;position: relative;background-color: white;}#sk-container-id-3 div.sk-parallel-item:first-child::after {align-self: flex-end;width: 50%;}#sk-container-id-3 div.sk-parallel-item:last-child::after {align-self: flex-start;width: 50%;}#sk-container-id-3 div.sk-parallel-item:only-child::after {width: 0;}#sk-container-id-3 div.sk-dashed-wrapped {border: 1px dashed gray;margin: 0 0.4em 0.5em 0.4em;box-sizing: border-box;padding-bottom: 0.4em;background-color: white;}#sk-container-id-3 div.sk-label label {font-family: monospace;font-weight: bold;display: inline-block;line-height: 1.2em;}#sk-container-id-3 div.sk-label-container {text-align: center;}#sk-container-id-3 div.sk-container {/* jupyter's `normalize.less` sets `[hidden] { display: none; }` but bootstrap.min.css set `[hidden] { display: none !important; }` so we also need the `!important` here to be able to override the default hidden behavior on the sphinx rendered scikit-learn.org. See: https://github.com/scikit-learn/scikit-learn/issues/21755 */display: inline-block !important;position: relative;}#sk-container-id-3 div.sk-text-repr-fallback {display: none;}</style><div id=\"sk-container-id-3\" class=\"sk-top-container\"><div class=\"sk-text-repr-fallback\"><pre>Ridge()</pre><b>In a Jupyter environment, please rerun this cell to show the HTML representation or trust the notebook. <br />On GitHub, the HTML representation is unable to render, please try loading this page with nbviewer.org.</b></div><div class=\"sk-container\" hidden><div class=\"sk-item\"><div class=\"sk-estimator sk-toggleable\"><input class=\"sk-toggleable__control sk-hidden--visually\" id=\"sk-estimator-id-3\" type=\"checkbox\" checked><label for=\"sk-estimator-id-3\" class=\"sk-toggleable__label sk-toggleable__label-arrow\">Ridge</label><div class=\"sk-toggleable__content\"><pre>Ridge()</pre></div></div></div></div></div>"
            ]
          },
          "metadata": {},
          "execution_count": 50
        }
      ]
    },
    {
      "cell_type": "code",
      "source": [
        "# Predicting the values and calculating the root mean squared error\n",
        "\n",
        "energy_eff_predictions = ridgemodel.predict(energy_eff_transformed)\n",
        "ri_mse = mean_squared_error(energy_eff_labels, energy_eff_predictions)\n",
        "ri_rmse = np.sqrt(ri_mse)\n",
        "print('Root Mean Squared Error : ', ri_rmse)"
      ],
      "metadata": {
        "colab": {
          "base_uri": "https://localhost:8080/"
        },
        "id": "7wgAAawog0Yi",
        "outputId": "3e453022-dc3e-4780-a362-299c9f0878e7"
      },
      "execution_count": 51,
      "outputs": [
        {
          "output_type": "stream",
          "name": "stdout",
          "text": [
            "Root Mean Squared Error :  4.401074345059287\n"
          ]
        }
      ]
    },
    {
      "cell_type": "code",
      "source": [
        "# Calculating the R2 Score\n",
        "\n",
        "ri_r2_score = r2_score(energy_eff_labels, energy_eff_predictions)\n",
        "print('R2 Score : ', ri_r2_score)"
      ],
      "metadata": {
        "colab": {
          "base_uri": "https://localhost:8080/"
        },
        "id": "buTdcL9wHG5f",
        "outputId": "65f9fb04-1e79-49ae-bd16-a001af5e623a"
      },
      "execution_count": 52,
      "outputs": [
        {
          "output_type": "stream",
          "name": "stdout",
          "text": [
            "R2 Score :  0.8059410450256116\n"
          ]
        }
      ]
    },
    {
      "cell_type": "markdown",
      "source": [
        "**Lasso Regression - Training and Evaluating on the Training Set**"
      ],
      "metadata": {
        "id": "Vltd70bnhKzR"
      }
    },
    {
      "cell_type": "code",
      "source": [
        "# Training the model with Ridge Regression\n",
        "\n",
        "lassomodel = Lasso()\n",
        "lassomodel.fit(energy_eff_transformed, energy_eff_labels)"
      ],
      "metadata": {
        "colab": {
          "base_uri": "https://localhost:8080/",
          "height": 75
        },
        "id": "xl3Vc7ADhGc5",
        "outputId": "9bc34c9e-902d-4b8e-b96a-e0e01e2832cb"
      },
      "execution_count": 53,
      "outputs": [
        {
          "output_type": "execute_result",
          "data": {
            "text/plain": [
              "Lasso()"
            ],
            "text/html": [
              "<style>#sk-container-id-4 {color: black;background-color: white;}#sk-container-id-4 pre{padding: 0;}#sk-container-id-4 div.sk-toggleable {background-color: white;}#sk-container-id-4 label.sk-toggleable__label {cursor: pointer;display: block;width: 100%;margin-bottom: 0;padding: 0.3em;box-sizing: border-box;text-align: center;}#sk-container-id-4 label.sk-toggleable__label-arrow:before {content: \"▸\";float: left;margin-right: 0.25em;color: #696969;}#sk-container-id-4 label.sk-toggleable__label-arrow:hover:before {color: black;}#sk-container-id-4 div.sk-estimator:hover label.sk-toggleable__label-arrow:before {color: black;}#sk-container-id-4 div.sk-toggleable__content {max-height: 0;max-width: 0;overflow: hidden;text-align: left;background-color: #f0f8ff;}#sk-container-id-4 div.sk-toggleable__content pre {margin: 0.2em;color: black;border-radius: 0.25em;background-color: #f0f8ff;}#sk-container-id-4 input.sk-toggleable__control:checked~div.sk-toggleable__content {max-height: 200px;max-width: 100%;overflow: auto;}#sk-container-id-4 input.sk-toggleable__control:checked~label.sk-toggleable__label-arrow:before {content: \"▾\";}#sk-container-id-4 div.sk-estimator input.sk-toggleable__control:checked~label.sk-toggleable__label {background-color: #d4ebff;}#sk-container-id-4 div.sk-label input.sk-toggleable__control:checked~label.sk-toggleable__label {background-color: #d4ebff;}#sk-container-id-4 input.sk-hidden--visually {border: 0;clip: rect(1px 1px 1px 1px);clip: rect(1px, 1px, 1px, 1px);height: 1px;margin: -1px;overflow: hidden;padding: 0;position: absolute;width: 1px;}#sk-container-id-4 div.sk-estimator {font-family: monospace;background-color: #f0f8ff;border: 1px dotted black;border-radius: 0.25em;box-sizing: border-box;margin-bottom: 0.5em;}#sk-container-id-4 div.sk-estimator:hover {background-color: #d4ebff;}#sk-container-id-4 div.sk-parallel-item::after {content: \"\";width: 100%;border-bottom: 1px solid gray;flex-grow: 1;}#sk-container-id-4 div.sk-label:hover label.sk-toggleable__label {background-color: #d4ebff;}#sk-container-id-4 div.sk-serial::before {content: \"\";position: absolute;border-left: 1px solid gray;box-sizing: border-box;top: 0;bottom: 0;left: 50%;z-index: 0;}#sk-container-id-4 div.sk-serial {display: flex;flex-direction: column;align-items: center;background-color: white;padding-right: 0.2em;padding-left: 0.2em;position: relative;}#sk-container-id-4 div.sk-item {position: relative;z-index: 1;}#sk-container-id-4 div.sk-parallel {display: flex;align-items: stretch;justify-content: center;background-color: white;position: relative;}#sk-container-id-4 div.sk-item::before, #sk-container-id-4 div.sk-parallel-item::before {content: \"\";position: absolute;border-left: 1px solid gray;box-sizing: border-box;top: 0;bottom: 0;left: 50%;z-index: -1;}#sk-container-id-4 div.sk-parallel-item {display: flex;flex-direction: column;z-index: 1;position: relative;background-color: white;}#sk-container-id-4 div.sk-parallel-item:first-child::after {align-self: flex-end;width: 50%;}#sk-container-id-4 div.sk-parallel-item:last-child::after {align-self: flex-start;width: 50%;}#sk-container-id-4 div.sk-parallel-item:only-child::after {width: 0;}#sk-container-id-4 div.sk-dashed-wrapped {border: 1px dashed gray;margin: 0 0.4em 0.5em 0.4em;box-sizing: border-box;padding-bottom: 0.4em;background-color: white;}#sk-container-id-4 div.sk-label label {font-family: monospace;font-weight: bold;display: inline-block;line-height: 1.2em;}#sk-container-id-4 div.sk-label-container {text-align: center;}#sk-container-id-4 div.sk-container {/* jupyter's `normalize.less` sets `[hidden] { display: none; }` but bootstrap.min.css set `[hidden] { display: none !important; }` so we also need the `!important` here to be able to override the default hidden behavior on the sphinx rendered scikit-learn.org. See: https://github.com/scikit-learn/scikit-learn/issues/21755 */display: inline-block !important;position: relative;}#sk-container-id-4 div.sk-text-repr-fallback {display: none;}</style><div id=\"sk-container-id-4\" class=\"sk-top-container\"><div class=\"sk-text-repr-fallback\"><pre>Lasso()</pre><b>In a Jupyter environment, please rerun this cell to show the HTML representation or trust the notebook. <br />On GitHub, the HTML representation is unable to render, please try loading this page with nbviewer.org.</b></div><div class=\"sk-container\" hidden><div class=\"sk-item\"><div class=\"sk-estimator sk-toggleable\"><input class=\"sk-toggleable__control sk-hidden--visually\" id=\"sk-estimator-id-4\" type=\"checkbox\" checked><label for=\"sk-estimator-id-4\" class=\"sk-toggleable__label sk-toggleable__label-arrow\">Lasso</label><div class=\"sk-toggleable__content\"><pre>Lasso()</pre></div></div></div></div></div>"
            ]
          },
          "metadata": {},
          "execution_count": 53
        }
      ]
    },
    {
      "cell_type": "code",
      "source": [
        "# Predicting the values and calculating the root mean squared error\n",
        "\n",
        "energy_eff_predictions = lassomodel.predict(energy_eff_transformed)\n",
        "la_mse = mean_squared_error(energy_eff_labels, energy_eff_predictions)\n",
        "la_rmse = np.sqrt(la_mse)\n",
        "print('Root Mean Squared Error : ', la_rmse)"
      ],
      "metadata": {
        "colab": {
          "base_uri": "https://localhost:8080/"
        },
        "id": "QLeIhXiXhaTu",
        "outputId": "e328f1db-2548-4131-8fc4-39e02c023934"
      },
      "execution_count": 54,
      "outputs": [
        {
          "output_type": "stream",
          "name": "stdout",
          "text": [
            "Root Mean Squared Error :  4.761482393727044\n"
          ]
        }
      ]
    },
    {
      "cell_type": "code",
      "source": [
        "# Calculating the R2 Score\n",
        "\n",
        "la_r2_score = r2_score(energy_eff_labels, energy_eff_predictions)\n",
        "print('R2 Score : ', la_r2_score)"
      ],
      "metadata": {
        "colab": {
          "base_uri": "https://localhost:8080/"
        },
        "id": "-qRb1qtRHbrN",
        "outputId": "e5baf60b-91dc-46bb-e233-06e85b0816d3"
      },
      "execution_count": 55,
      "outputs": [
        {
          "output_type": "stream",
          "name": "stdout",
          "text": [
            "R2 Score :  0.7728563270758659\n"
          ]
        }
      ]
    },
    {
      "cell_type": "markdown",
      "source": [
        "**ElasticNet Regression - Training and Evaluating on the Training Set**"
      ],
      "metadata": {
        "id": "mxL7KpUihj2I"
      }
    },
    {
      "cell_type": "code",
      "source": [
        "# Training the model with ElasticNet Regression\n",
        "\n",
        "elasticnetmodel = ElasticNet()\n",
        "elasticnetmodel.fit(energy_eff_transformed, energy_eff_labels)"
      ],
      "metadata": {
        "colab": {
          "base_uri": "https://localhost:8080/",
          "height": 75
        },
        "id": "c-VlbKkShiMn",
        "outputId": "b3b4f319-b85a-4158-cda1-20b3ccb1a63b"
      },
      "execution_count": 56,
      "outputs": [
        {
          "output_type": "execute_result",
          "data": {
            "text/plain": [
              "ElasticNet()"
            ],
            "text/html": [
              "<style>#sk-container-id-5 {color: black;background-color: white;}#sk-container-id-5 pre{padding: 0;}#sk-container-id-5 div.sk-toggleable {background-color: white;}#sk-container-id-5 label.sk-toggleable__label {cursor: pointer;display: block;width: 100%;margin-bottom: 0;padding: 0.3em;box-sizing: border-box;text-align: center;}#sk-container-id-5 label.sk-toggleable__label-arrow:before {content: \"▸\";float: left;margin-right: 0.25em;color: #696969;}#sk-container-id-5 label.sk-toggleable__label-arrow:hover:before {color: black;}#sk-container-id-5 div.sk-estimator:hover label.sk-toggleable__label-arrow:before {color: black;}#sk-container-id-5 div.sk-toggleable__content {max-height: 0;max-width: 0;overflow: hidden;text-align: left;background-color: #f0f8ff;}#sk-container-id-5 div.sk-toggleable__content pre {margin: 0.2em;color: black;border-radius: 0.25em;background-color: #f0f8ff;}#sk-container-id-5 input.sk-toggleable__control:checked~div.sk-toggleable__content {max-height: 200px;max-width: 100%;overflow: auto;}#sk-container-id-5 input.sk-toggleable__control:checked~label.sk-toggleable__label-arrow:before {content: \"▾\";}#sk-container-id-5 div.sk-estimator input.sk-toggleable__control:checked~label.sk-toggleable__label {background-color: #d4ebff;}#sk-container-id-5 div.sk-label input.sk-toggleable__control:checked~label.sk-toggleable__label {background-color: #d4ebff;}#sk-container-id-5 input.sk-hidden--visually {border: 0;clip: rect(1px 1px 1px 1px);clip: rect(1px, 1px, 1px, 1px);height: 1px;margin: -1px;overflow: hidden;padding: 0;position: absolute;width: 1px;}#sk-container-id-5 div.sk-estimator {font-family: monospace;background-color: #f0f8ff;border: 1px dotted black;border-radius: 0.25em;box-sizing: border-box;margin-bottom: 0.5em;}#sk-container-id-5 div.sk-estimator:hover {background-color: #d4ebff;}#sk-container-id-5 div.sk-parallel-item::after {content: \"\";width: 100%;border-bottom: 1px solid gray;flex-grow: 1;}#sk-container-id-5 div.sk-label:hover label.sk-toggleable__label {background-color: #d4ebff;}#sk-container-id-5 div.sk-serial::before {content: \"\";position: absolute;border-left: 1px solid gray;box-sizing: border-box;top: 0;bottom: 0;left: 50%;z-index: 0;}#sk-container-id-5 div.sk-serial {display: flex;flex-direction: column;align-items: center;background-color: white;padding-right: 0.2em;padding-left: 0.2em;position: relative;}#sk-container-id-5 div.sk-item {position: relative;z-index: 1;}#sk-container-id-5 div.sk-parallel {display: flex;align-items: stretch;justify-content: center;background-color: white;position: relative;}#sk-container-id-5 div.sk-item::before, #sk-container-id-5 div.sk-parallel-item::before {content: \"\";position: absolute;border-left: 1px solid gray;box-sizing: border-box;top: 0;bottom: 0;left: 50%;z-index: -1;}#sk-container-id-5 div.sk-parallel-item {display: flex;flex-direction: column;z-index: 1;position: relative;background-color: white;}#sk-container-id-5 div.sk-parallel-item:first-child::after {align-self: flex-end;width: 50%;}#sk-container-id-5 div.sk-parallel-item:last-child::after {align-self: flex-start;width: 50%;}#sk-container-id-5 div.sk-parallel-item:only-child::after {width: 0;}#sk-container-id-5 div.sk-dashed-wrapped {border: 1px dashed gray;margin: 0 0.4em 0.5em 0.4em;box-sizing: border-box;padding-bottom: 0.4em;background-color: white;}#sk-container-id-5 div.sk-label label {font-family: monospace;font-weight: bold;display: inline-block;line-height: 1.2em;}#sk-container-id-5 div.sk-label-container {text-align: center;}#sk-container-id-5 div.sk-container {/* jupyter's `normalize.less` sets `[hidden] { display: none; }` but bootstrap.min.css set `[hidden] { display: none !important; }` so we also need the `!important` here to be able to override the default hidden behavior on the sphinx rendered scikit-learn.org. See: https://github.com/scikit-learn/scikit-learn/issues/21755 */display: inline-block !important;position: relative;}#sk-container-id-5 div.sk-text-repr-fallback {display: none;}</style><div id=\"sk-container-id-5\" class=\"sk-top-container\"><div class=\"sk-text-repr-fallback\"><pre>ElasticNet()</pre><b>In a Jupyter environment, please rerun this cell to show the HTML representation or trust the notebook. <br />On GitHub, the HTML representation is unable to render, please try loading this page with nbviewer.org.</b></div><div class=\"sk-container\" hidden><div class=\"sk-item\"><div class=\"sk-estimator sk-toggleable\"><input class=\"sk-toggleable__control sk-hidden--visually\" id=\"sk-estimator-id-5\" type=\"checkbox\" checked><label for=\"sk-estimator-id-5\" class=\"sk-toggleable__label sk-toggleable__label-arrow\">ElasticNet</label><div class=\"sk-toggleable__content\"><pre>ElasticNet()</pre></div></div></div></div></div>"
            ]
          },
          "metadata": {},
          "execution_count": 56
        }
      ]
    },
    {
      "cell_type": "code",
      "source": [
        "# Predicting the values and calculating the root mean squared error\n",
        "\n",
        "energy_eff_predictions = elasticnetmodel.predict(energy_eff_transformed)\n",
        "en_mse = mean_squared_error(energy_eff_labels, energy_eff_predictions)\n",
        "en_rmse = np.sqrt(en_mse)\n",
        "print('Root Mean Squared Error : ', en_rmse)"
      ],
      "metadata": {
        "colab": {
          "base_uri": "https://localhost:8080/"
        },
        "id": "eYaAQbCUh3H9",
        "outputId": "4670a981-92fc-4f16-f479-5ac9e69a2900"
      },
      "execution_count": 57,
      "outputs": [
        {
          "output_type": "stream",
          "name": "stdout",
          "text": [
            "Root Mean Squared Error :  5.169955725245633\n"
          ]
        }
      ]
    },
    {
      "cell_type": "code",
      "source": [
        "# Calculating the R2 Score\n",
        "\n",
        "en_r2_score = r2_score(energy_eff_labels, energy_eff_predictions)\n",
        "print('R2 Score : ', en_r2_score)"
      ],
      "metadata": {
        "colab": {
          "base_uri": "https://localhost:8080/"
        },
        "id": "whLAx_gqHhuj",
        "outputId": "c0190945-6fc4-4727-edb1-ca0d0d0ac2ef"
      },
      "execution_count": 58,
      "outputs": [
        {
          "output_type": "stream",
          "name": "stdout",
          "text": [
            "R2 Score :  0.7322127309733556\n"
          ]
        }
      ]
    },
    {
      "cell_type": "markdown",
      "source": [
        "# 2 Best Evaluators using Cross Validation\n",
        "K-fold cross-validation is a technique used in machine learning to assess the performance of a model on an independent data set. In this technique, the original data set is randomly partitioned into k equal-sized subsets. A model is trained on k-1 subsets and evaluated on the remaining subset. This process is repeated k times, with each subset serving as the testing set exactly once. The performance metric is averaged across all k iterations to produce an overall estimate of model performance. K-fold cross-validation is useful for estimating the performance of a model when there is a limited amount of data available for training. Since the dataset we are currently using is limited K-fold is very useful for estimating the model performance."
      ],
      "metadata": {
        "id": "9sXubORKi945"
      }
    },
    {
      "cell_type": "code",
      "source": [
        "# Function to display error scores in a CV, on all test folds, and their average and standard deviation\n",
        "\n",
        "def display_scores(scores):\n",
        "    print(\"Scores:\", scores, '\\n')\n",
        "    print(\"Mean:\", scores.mean())\n",
        "    print(\"Standard deviation:\", scores.std())"
      ],
      "metadata": {
        "id": "HhFWtBIFh-4O"
      },
      "execution_count": 59,
      "outputs": []
    },
    {
      "cell_type": "markdown",
      "source": [
        "**Linear Regression - Cross Validation Error Scores**"
      ],
      "metadata": {
        "id": "aNEzJu9fjUyR"
      }
    },
    {
      "cell_type": "code",
      "source": [
        "lr_scores = cross_val_score(lrmodel, energy_eff_transformed, energy_eff_labels,\n",
        "                             n_jobs=-1, scoring=\"neg_mean_squared_error\", cv=10)\n",
        "lr_rmse_scores = np.sqrt(-lr_scores)\n",
        "display_scores(lr_rmse_scores)"
      ],
      "metadata": {
        "colab": {
          "base_uri": "https://localhost:8080/"
        },
        "id": "mziNMd1ajNGI",
        "outputId": "afe91104-2b57-4506-a8f2-9ac1676f07ef"
      },
      "execution_count": 60,
      "outputs": [
        {
          "output_type": "stream",
          "name": "stdout",
          "text": [
            "Scores: [4.60787026 4.48591383 4.6628125  4.76793573 4.24331716 4.76928611\n",
            " 4.70736722 4.66860863 3.8040518  4.53209624] \n",
            "\n",
            "Mean: 4.524925948521188\n",
            "Standard deviation: 0.28268781944100096\n"
          ]
        }
      ]
    },
    {
      "cell_type": "markdown",
      "source": [
        "**Ridge Regression - Cross Validation Error Scores**"
      ],
      "metadata": {
        "id": "V2Ln78PwkZeI"
      }
    },
    {
      "cell_type": "code",
      "source": [
        "ri_scores = cross_val_score(ridgemodel, energy_eff_transformed, energy_eff_labels,\n",
        "                             n_jobs=-1, scoring=\"neg_mean_squared_error\", cv=10)\n",
        "ri_rmse_scores = np.sqrt(-ri_scores)\n",
        "display_scores(ri_rmse_scores)"
      ],
      "metadata": {
        "colab": {
          "base_uri": "https://localhost:8080/"
        },
        "id": "tlY6h99ZkJVR",
        "outputId": "766814b4-63bb-4fec-bf27-838168cc2710"
      },
      "execution_count": 61,
      "outputs": [
        {
          "output_type": "stream",
          "name": "stdout",
          "text": [
            "Scores: [4.60739213 4.48346524 4.6621338  4.76416268 4.23945302 4.76807126\n",
            " 4.68303885 4.67366867 3.79077158 4.58287795] \n",
            "\n",
            "Mean: 4.525503517043025\n",
            "Standard deviation: 0.28542181613101636\n"
          ]
        }
      ]
    },
    {
      "cell_type": "markdown",
      "source": [
        "**Lasso Regression - Cross Validation Error Scores**"
      ],
      "metadata": {
        "id": "BEKEM8DekeHZ"
      }
    },
    {
      "cell_type": "code",
      "source": [
        "la_scores = cross_val_score(lassomodel, energy_eff_transformed, energy_eff_labels,\n",
        "                             n_jobs=-1, scoring=\"neg_mean_squared_error\", cv=10)\n",
        "la_rmse_scores = np.sqrt(-la_scores)\n",
        "display_scores(la_rmse_scores)"
      ],
      "metadata": {
        "colab": {
          "base_uri": "https://localhost:8080/"
        },
        "id": "TVg_5GSnkV79",
        "outputId": "e7dfb018-56a9-4a55-9a52-dbfa520e2eee"
      },
      "execution_count": 62,
      "outputs": [
        {
          "output_type": "stream",
          "name": "stdout",
          "text": [
            "Scores: [4.58652155 4.96268924 4.52419926 5.16048065 4.49214793 5.53065685\n",
            " 4.67294035 5.03426931 4.29649965 4.86302807] \n",
            "\n",
            "Mean: 4.812343286599459\n",
            "Standard deviation: 0.3512368635793136\n"
          ]
        }
      ]
    },
    {
      "cell_type": "markdown",
      "source": [
        "**ElasticNet Regression - Cross Validation Error Scores**"
      ],
      "metadata": {
        "id": "q9rffPkgkgaB"
      }
    },
    {
      "cell_type": "code",
      "source": [
        "en_scores = cross_val_score(elasticnetmodel, energy_eff_transformed, energy_eff_labels,\n",
        "                             n_jobs=-1, scoring=\"neg_mean_squared_error\", cv=10)\n",
        "en_rmse_scores = np.sqrt(-en_scores)\n",
        "display_scores(en_rmse_scores)"
      ],
      "metadata": {
        "colab": {
          "base_uri": "https://localhost:8080/"
        },
        "id": "0yLYQMqwkWU2",
        "outputId": "bcaed227-f41c-4ebf-d06a-85d081209d65"
      },
      "execution_count": 63,
      "outputs": [
        {
          "output_type": "stream",
          "name": "stdout",
          "text": [
            "Scores: [4.78252375 5.7216362  5.36277367 5.20537474 4.85234521 5.77980314\n",
            " 5.19111457 5.57601399 4.66995043 5.15896611] \n",
            "\n",
            "Mean: 5.230050179732979\n",
            "Standard deviation: 0.3667454290500675\n"
          ]
        }
      ]
    },
    {
      "cell_type": "markdown",
      "source": [
        "By performing Cross Validation on all the four models we observe that Linear Regression and Ridge Regression has the lowest Root Mean Squared Error."
      ],
      "metadata": {
        "id": "mUrxMHEXlTc-"
      }
    },
    {
      "cell_type": "markdown",
      "source": [
        "# Fine Tuning the Model"
      ],
      "metadata": {
        "id": "VbjHppn8l6Y9"
      }
    },
    {
      "cell_type": "code",
      "source": [
        "# Parameters to tune :- alpha, fit_intercept\n",
        "'''\n",
        "  In ridge regression, alpha is a hyperparameter that controls the amount of regularization applied to the regression model. Ridge regression is a linear regression \n",
        "  technique that adds an L2 regularization term to the loss function. The regularization term penalizes the model for large coefficients and helps to prevent overfitting.\n",
        "  The alpha hyperparameter controls the strength of the L2 regularization. A higher alpha value will result in a more regularized model, with smaller coefficients and \n",
        "  less overfitting. Conversely, a lower alpha value will result in a less regularized model, with larger coefficients and potentially more overfitting.\n",
        "\n",
        "  In ridge regression, fit_intercept is a parameter that controls whether or not an intercept term is included in the regression model. The intercept term is a constant \n",
        "  that represents the predicted value of the dependent variable when all independent variables are set to zero.\n",
        "'''\n",
        "# List of alpha to tune\n",
        "parameters = {'alpha': [0.0001, 0.001, 0.01, 0.05, 0.1, 0.2, 0.3, 0.4, 0.5, 0.6, 0.7, 0.8, 0.9, 1.0, 2.0],\n",
        "              'fit_intercept': [True,False]}\n",
        "\n",
        "# Defining cross validation folds as 5\n",
        "cvfolds = 5"
      ],
      "metadata": {
        "id": "6kMFiPy1kW48"
      },
      "execution_count": 64,
      "outputs": []
    },
    {
      "cell_type": "markdown",
      "source": [
        "Grid search involves specifying a range of values for each hyperparameter, and then exhaustively searching all possible combinations of these values. For example, one could specify a range of learning rates from 0.001 to 0.1, and a range of regularization parameters from 0.1 to 1.0. Grid search would then train the model with all combinations of learning rate and regularization parameter in this range, and evaluate each combination using a specified metric such as accuracy or mean squared error. The combination of hyperparameters that results in the best metric score is then chosen as the optimal hyperparameters for the model.\n",
        "\n",
        "Grid search is a powerful technique for improving model performance, but can be computationally expensive, especially for large datasets and complex models with many hyperparameters. Since the dataset we are using is very small it is not that much time consuming to perform grid search. Hence it is very useful in this case to find the best hyperparameter for our model."
      ],
      "metadata": {
        "id": "Wtu-wteKy1CP"
      }
    },
    {
      "cell_type": "markdown",
      "source": [
        "**Grid Search - Tuning Ridge Regression**"
      ],
      "metadata": {
        "id": "m24o_D1lmMvv"
      }
    },
    {
      "cell_type": "markdown",
      "source": [
        "Using Grid Search for optimisation to find best parameters."
      ],
      "metadata": {
        "id": "4RbBw2nooxW3"
      }
    },
    {
      "cell_type": "code",
      "source": [
        "ridgemodel = Ridge()\n",
        "grid_search = GridSearchCV(estimator = ridgemodel,\n",
        "                       param_grid=parameters,\n",
        "                       cv=cvfolds,\n",
        "                       scoring='r2',\n",
        "                       return_train_score=True,\n",
        "                       verbose=1)\n",
        "\n",
        "grid_search.fit(energy_eff_transformed, energy_eff_labels)"
      ],
      "metadata": {
        "colab": {
          "base_uri": "https://localhost:8080/",
          "height": 135
        },
        "id": "cD04vpwvoZ_7",
        "outputId": "95a2637e-9391-4ac2-ca78-598c6ff42404"
      },
      "execution_count": 65,
      "outputs": [
        {
          "output_type": "stream",
          "name": "stdout",
          "text": [
            "Fitting 5 folds for each of 30 candidates, totalling 150 fits\n"
          ]
        },
        {
          "output_type": "execute_result",
          "data": {
            "text/plain": [
              "GridSearchCV(cv=5, estimator=Ridge(),\n",
              "             param_grid={'alpha': [0.0001, 0.001, 0.01, 0.05, 0.1, 0.2, 0.3,\n",
              "                                   0.4, 0.5, 0.6, 0.7, 0.8, 0.9, 1.0, 2.0],\n",
              "                         'fit_intercept': [True, False]},\n",
              "             return_train_score=True, scoring='r2', verbose=1)"
            ],
            "text/html": [
              "<style>#sk-container-id-6 {color: black;background-color: white;}#sk-container-id-6 pre{padding: 0;}#sk-container-id-6 div.sk-toggleable {background-color: white;}#sk-container-id-6 label.sk-toggleable__label {cursor: pointer;display: block;width: 100%;margin-bottom: 0;padding: 0.3em;box-sizing: border-box;text-align: center;}#sk-container-id-6 label.sk-toggleable__label-arrow:before {content: \"▸\";float: left;margin-right: 0.25em;color: #696969;}#sk-container-id-6 label.sk-toggleable__label-arrow:hover:before {color: black;}#sk-container-id-6 div.sk-estimator:hover label.sk-toggleable__label-arrow:before {color: black;}#sk-container-id-6 div.sk-toggleable__content {max-height: 0;max-width: 0;overflow: hidden;text-align: left;background-color: #f0f8ff;}#sk-container-id-6 div.sk-toggleable__content pre {margin: 0.2em;color: black;border-radius: 0.25em;background-color: #f0f8ff;}#sk-container-id-6 input.sk-toggleable__control:checked~div.sk-toggleable__content {max-height: 200px;max-width: 100%;overflow: auto;}#sk-container-id-6 input.sk-toggleable__control:checked~label.sk-toggleable__label-arrow:before {content: \"▾\";}#sk-container-id-6 div.sk-estimator input.sk-toggleable__control:checked~label.sk-toggleable__label {background-color: #d4ebff;}#sk-container-id-6 div.sk-label input.sk-toggleable__control:checked~label.sk-toggleable__label {background-color: #d4ebff;}#sk-container-id-6 input.sk-hidden--visually {border: 0;clip: rect(1px 1px 1px 1px);clip: rect(1px, 1px, 1px, 1px);height: 1px;margin: -1px;overflow: hidden;padding: 0;position: absolute;width: 1px;}#sk-container-id-6 div.sk-estimator {font-family: monospace;background-color: #f0f8ff;border: 1px dotted black;border-radius: 0.25em;box-sizing: border-box;margin-bottom: 0.5em;}#sk-container-id-6 div.sk-estimator:hover {background-color: #d4ebff;}#sk-container-id-6 div.sk-parallel-item::after {content: \"\";width: 100%;border-bottom: 1px solid gray;flex-grow: 1;}#sk-container-id-6 div.sk-label:hover label.sk-toggleable__label {background-color: #d4ebff;}#sk-container-id-6 div.sk-serial::before {content: \"\";position: absolute;border-left: 1px solid gray;box-sizing: border-box;top: 0;bottom: 0;left: 50%;z-index: 0;}#sk-container-id-6 div.sk-serial {display: flex;flex-direction: column;align-items: center;background-color: white;padding-right: 0.2em;padding-left: 0.2em;position: relative;}#sk-container-id-6 div.sk-item {position: relative;z-index: 1;}#sk-container-id-6 div.sk-parallel {display: flex;align-items: stretch;justify-content: center;background-color: white;position: relative;}#sk-container-id-6 div.sk-item::before, #sk-container-id-6 div.sk-parallel-item::before {content: \"\";position: absolute;border-left: 1px solid gray;box-sizing: border-box;top: 0;bottom: 0;left: 50%;z-index: -1;}#sk-container-id-6 div.sk-parallel-item {display: flex;flex-direction: column;z-index: 1;position: relative;background-color: white;}#sk-container-id-6 div.sk-parallel-item:first-child::after {align-self: flex-end;width: 50%;}#sk-container-id-6 div.sk-parallel-item:last-child::after {align-self: flex-start;width: 50%;}#sk-container-id-6 div.sk-parallel-item:only-child::after {width: 0;}#sk-container-id-6 div.sk-dashed-wrapped {border: 1px dashed gray;margin: 0 0.4em 0.5em 0.4em;box-sizing: border-box;padding-bottom: 0.4em;background-color: white;}#sk-container-id-6 div.sk-label label {font-family: monospace;font-weight: bold;display: inline-block;line-height: 1.2em;}#sk-container-id-6 div.sk-label-container {text-align: center;}#sk-container-id-6 div.sk-container {/* jupyter's `normalize.less` sets `[hidden] { display: none; }` but bootstrap.min.css set `[hidden] { display: none !important; }` so we also need the `!important` here to be able to override the default hidden behavior on the sphinx rendered scikit-learn.org. See: https://github.com/scikit-learn/scikit-learn/issues/21755 */display: inline-block !important;position: relative;}#sk-container-id-6 div.sk-text-repr-fallback {display: none;}</style><div id=\"sk-container-id-6\" class=\"sk-top-container\"><div class=\"sk-text-repr-fallback\"><pre>GridSearchCV(cv=5, estimator=Ridge(),\n",
              "             param_grid={&#x27;alpha&#x27;: [0.0001, 0.001, 0.01, 0.05, 0.1, 0.2, 0.3,\n",
              "                                   0.4, 0.5, 0.6, 0.7, 0.8, 0.9, 1.0, 2.0],\n",
              "                         &#x27;fit_intercept&#x27;: [True, False]},\n",
              "             return_train_score=True, scoring=&#x27;r2&#x27;, verbose=1)</pre><b>In a Jupyter environment, please rerun this cell to show the HTML representation or trust the notebook. <br />On GitHub, the HTML representation is unable to render, please try loading this page with nbviewer.org.</b></div><div class=\"sk-container\" hidden><div class=\"sk-item sk-dashed-wrapped\"><div class=\"sk-label-container\"><div class=\"sk-label sk-toggleable\"><input class=\"sk-toggleable__control sk-hidden--visually\" id=\"sk-estimator-id-6\" type=\"checkbox\" ><label for=\"sk-estimator-id-6\" class=\"sk-toggleable__label sk-toggleable__label-arrow\">GridSearchCV</label><div class=\"sk-toggleable__content\"><pre>GridSearchCV(cv=5, estimator=Ridge(),\n",
              "             param_grid={&#x27;alpha&#x27;: [0.0001, 0.001, 0.01, 0.05, 0.1, 0.2, 0.3,\n",
              "                                   0.4, 0.5, 0.6, 0.7, 0.8, 0.9, 1.0, 2.0],\n",
              "                         &#x27;fit_intercept&#x27;: [True, False]},\n",
              "             return_train_score=True, scoring=&#x27;r2&#x27;, verbose=1)</pre></div></div></div><div class=\"sk-parallel\"><div class=\"sk-parallel-item\"><div class=\"sk-item\"><div class=\"sk-label-container\"><div class=\"sk-label sk-toggleable\"><input class=\"sk-toggleable__control sk-hidden--visually\" id=\"sk-estimator-id-7\" type=\"checkbox\" ><label for=\"sk-estimator-id-7\" class=\"sk-toggleable__label sk-toggleable__label-arrow\">estimator: Ridge</label><div class=\"sk-toggleable__content\"><pre>Ridge()</pre></div></div></div><div class=\"sk-serial\"><div class=\"sk-item\"><div class=\"sk-estimator sk-toggleable\"><input class=\"sk-toggleable__control sk-hidden--visually\" id=\"sk-estimator-id-8\" type=\"checkbox\" ><label for=\"sk-estimator-id-8\" class=\"sk-toggleable__label sk-toggleable__label-arrow\">Ridge</label><div class=\"sk-toggleable__content\"><pre>Ridge()</pre></div></div></div></div></div></div></div></div></div></div>"
            ]
          },
          "metadata": {},
          "execution_count": 65
        }
      ]
    },
    {
      "cell_type": "code",
      "source": [
        "print('Best parameter value for ridge regression is', grid_search.best_params_)"
      ],
      "metadata": {
        "colab": {
          "base_uri": "https://localhost:8080/"
        },
        "id": "g1mCUXN0pBHX",
        "outputId": "88de0813-3352-40f2-d85c-ad60d07f26da"
      },
      "execution_count": 66,
      "outputs": [
        {
          "output_type": "stream",
          "name": "stdout",
          "text": [
            "Best parameter value for ridge regression is {'alpha': 2.0, 'fit_intercept': True}\n"
          ]
        }
      ]
    },
    {
      "cell_type": "code",
      "source": [
        "# Predicting the values and calculating the root mean squared error with the best estimator\n",
        "\n",
        "ridgemodel = grid_search.best_estimator_\n",
        "energy_eff_predictions = ridgemodel.predict(energy_eff_transformed)\n",
        "ri_mse = mean_squared_error(energy_eff_labels, energy_eff_predictions)\n",
        "ri_rmse = np.sqrt(ri_mse)\n",
        "print('Root Mean Squared Error : ', ri_rmse)"
      ],
      "metadata": {
        "colab": {
          "base_uri": "https://localhost:8080/"
        },
        "id": "GqSSUI0gpCPA",
        "outputId": "e43ffb6b-bbc1-432a-d43f-1ca1abbb8365"
      },
      "execution_count": 67,
      "outputs": [
        {
          "output_type": "stream",
          "name": "stdout",
          "text": [
            "Root Mean Squared Error :  4.401228825405313\n"
          ]
        }
      ]
    },
    {
      "cell_type": "code",
      "source": [
        "# Calculating the R2 Score with the best estimator\n",
        "\n",
        "ri_r2_score = r2_score(energy_eff_labels, energy_eff_predictions)\n",
        "print('R2 Score : ', ri_r2_score)"
      ],
      "metadata": {
        "colab": {
          "base_uri": "https://localhost:8080/"
        },
        "id": "CSdy2_OiHyhU",
        "outputId": "d2f082ca-640a-47ec-97d3-cff98f2aeca1"
      },
      "execution_count": 68,
      "outputs": [
        {
          "output_type": "stream",
          "name": "stdout",
          "text": [
            "R2 Score :  0.8059274216153752\n"
          ]
        }
      ]
    },
    {
      "cell_type": "markdown",
      "source": [
        "Randomized search is a technique used for hyperparameter tuning in machine learning. In randomized search, rather than exhaustively searching through all possible combinations of hyperparameters, a specified number of random combinations are sampled from the hyperparameter space."
      ],
      "metadata": {
        "id": "dKuulIBSy-d4"
      }
    },
    {
      "cell_type": "markdown",
      "source": [
        "**Randomized Search - Tuning Ridge Regression**"
      ],
      "metadata": {
        "id": "iXS_xLWWp0NJ"
      }
    },
    {
      "cell_type": "markdown",
      "source": [
        "Using Randomized Search for optimisation to find best parameters."
      ],
      "metadata": {
        "id": "XcUW2LnLqWmi"
      }
    },
    {
      "cell_type": "code",
      "source": [
        "ridgemodel = Ridge()\n",
        "randomized_search = RandomizedSearchCV(ridgemodel, param_distributions=parameters, n_jobs=-1, n_iter=10, cv=5, scoring='neg_mean_squared_error', random_state=24)\n",
        "\n",
        "randomized_search.fit(energy_eff_transformed, energy_eff_labels)"
      ],
      "metadata": {
        "colab": {
          "base_uri": "https://localhost:8080/",
          "height": 118
        },
        "id": "EBziBH1kqvIN",
        "outputId": "0564ce17-ce82-43bd-c510-5b22b6d9fbb4"
      },
      "execution_count": 69,
      "outputs": [
        {
          "output_type": "execute_result",
          "data": {
            "text/plain": [
              "RandomizedSearchCV(cv=5, estimator=Ridge(), n_jobs=-1,\n",
              "                   param_distributions={'alpha': [0.0001, 0.001, 0.01, 0.05,\n",
              "                                                  0.1, 0.2, 0.3, 0.4, 0.5, 0.6,\n",
              "                                                  0.7, 0.8, 0.9, 1.0, 2.0],\n",
              "                                        'fit_intercept': [True, False]},\n",
              "                   random_state=24, scoring='neg_mean_squared_error')"
            ],
            "text/html": [
              "<style>#sk-container-id-7 {color: black;background-color: white;}#sk-container-id-7 pre{padding: 0;}#sk-container-id-7 div.sk-toggleable {background-color: white;}#sk-container-id-7 label.sk-toggleable__label {cursor: pointer;display: block;width: 100%;margin-bottom: 0;padding: 0.3em;box-sizing: border-box;text-align: center;}#sk-container-id-7 label.sk-toggleable__label-arrow:before {content: \"▸\";float: left;margin-right: 0.25em;color: #696969;}#sk-container-id-7 label.sk-toggleable__label-arrow:hover:before {color: black;}#sk-container-id-7 div.sk-estimator:hover label.sk-toggleable__label-arrow:before {color: black;}#sk-container-id-7 div.sk-toggleable__content {max-height: 0;max-width: 0;overflow: hidden;text-align: left;background-color: #f0f8ff;}#sk-container-id-7 div.sk-toggleable__content pre {margin: 0.2em;color: black;border-radius: 0.25em;background-color: #f0f8ff;}#sk-container-id-7 input.sk-toggleable__control:checked~div.sk-toggleable__content {max-height: 200px;max-width: 100%;overflow: auto;}#sk-container-id-7 input.sk-toggleable__control:checked~label.sk-toggleable__label-arrow:before {content: \"▾\";}#sk-container-id-7 div.sk-estimator input.sk-toggleable__control:checked~label.sk-toggleable__label {background-color: #d4ebff;}#sk-container-id-7 div.sk-label input.sk-toggleable__control:checked~label.sk-toggleable__label {background-color: #d4ebff;}#sk-container-id-7 input.sk-hidden--visually {border: 0;clip: rect(1px 1px 1px 1px);clip: rect(1px, 1px, 1px, 1px);height: 1px;margin: -1px;overflow: hidden;padding: 0;position: absolute;width: 1px;}#sk-container-id-7 div.sk-estimator {font-family: monospace;background-color: #f0f8ff;border: 1px dotted black;border-radius: 0.25em;box-sizing: border-box;margin-bottom: 0.5em;}#sk-container-id-7 div.sk-estimator:hover {background-color: #d4ebff;}#sk-container-id-7 div.sk-parallel-item::after {content: \"\";width: 100%;border-bottom: 1px solid gray;flex-grow: 1;}#sk-container-id-7 div.sk-label:hover label.sk-toggleable__label {background-color: #d4ebff;}#sk-container-id-7 div.sk-serial::before {content: \"\";position: absolute;border-left: 1px solid gray;box-sizing: border-box;top: 0;bottom: 0;left: 50%;z-index: 0;}#sk-container-id-7 div.sk-serial {display: flex;flex-direction: column;align-items: center;background-color: white;padding-right: 0.2em;padding-left: 0.2em;position: relative;}#sk-container-id-7 div.sk-item {position: relative;z-index: 1;}#sk-container-id-7 div.sk-parallel {display: flex;align-items: stretch;justify-content: center;background-color: white;position: relative;}#sk-container-id-7 div.sk-item::before, #sk-container-id-7 div.sk-parallel-item::before {content: \"\";position: absolute;border-left: 1px solid gray;box-sizing: border-box;top: 0;bottom: 0;left: 50%;z-index: -1;}#sk-container-id-7 div.sk-parallel-item {display: flex;flex-direction: column;z-index: 1;position: relative;background-color: white;}#sk-container-id-7 div.sk-parallel-item:first-child::after {align-self: flex-end;width: 50%;}#sk-container-id-7 div.sk-parallel-item:last-child::after {align-self: flex-start;width: 50%;}#sk-container-id-7 div.sk-parallel-item:only-child::after {width: 0;}#sk-container-id-7 div.sk-dashed-wrapped {border: 1px dashed gray;margin: 0 0.4em 0.5em 0.4em;box-sizing: border-box;padding-bottom: 0.4em;background-color: white;}#sk-container-id-7 div.sk-label label {font-family: monospace;font-weight: bold;display: inline-block;line-height: 1.2em;}#sk-container-id-7 div.sk-label-container {text-align: center;}#sk-container-id-7 div.sk-container {/* jupyter's `normalize.less` sets `[hidden] { display: none; }` but bootstrap.min.css set `[hidden] { display: none !important; }` so we also need the `!important` here to be able to override the default hidden behavior on the sphinx rendered scikit-learn.org. See: https://github.com/scikit-learn/scikit-learn/issues/21755 */display: inline-block !important;position: relative;}#sk-container-id-7 div.sk-text-repr-fallback {display: none;}</style><div id=\"sk-container-id-7\" class=\"sk-top-container\"><div class=\"sk-text-repr-fallback\"><pre>RandomizedSearchCV(cv=5, estimator=Ridge(), n_jobs=-1,\n",
              "                   param_distributions={&#x27;alpha&#x27;: [0.0001, 0.001, 0.01, 0.05,\n",
              "                                                  0.1, 0.2, 0.3, 0.4, 0.5, 0.6,\n",
              "                                                  0.7, 0.8, 0.9, 1.0, 2.0],\n",
              "                                        &#x27;fit_intercept&#x27;: [True, False]},\n",
              "                   random_state=24, scoring=&#x27;neg_mean_squared_error&#x27;)</pre><b>In a Jupyter environment, please rerun this cell to show the HTML representation or trust the notebook. <br />On GitHub, the HTML representation is unable to render, please try loading this page with nbviewer.org.</b></div><div class=\"sk-container\" hidden><div class=\"sk-item sk-dashed-wrapped\"><div class=\"sk-label-container\"><div class=\"sk-label sk-toggleable\"><input class=\"sk-toggleable__control sk-hidden--visually\" id=\"sk-estimator-id-9\" type=\"checkbox\" ><label for=\"sk-estimator-id-9\" class=\"sk-toggleable__label sk-toggleable__label-arrow\">RandomizedSearchCV</label><div class=\"sk-toggleable__content\"><pre>RandomizedSearchCV(cv=5, estimator=Ridge(), n_jobs=-1,\n",
              "                   param_distributions={&#x27;alpha&#x27;: [0.0001, 0.001, 0.01, 0.05,\n",
              "                                                  0.1, 0.2, 0.3, 0.4, 0.5, 0.6,\n",
              "                                                  0.7, 0.8, 0.9, 1.0, 2.0],\n",
              "                                        &#x27;fit_intercept&#x27;: [True, False]},\n",
              "                   random_state=24, scoring=&#x27;neg_mean_squared_error&#x27;)</pre></div></div></div><div class=\"sk-parallel\"><div class=\"sk-parallel-item\"><div class=\"sk-item\"><div class=\"sk-label-container\"><div class=\"sk-label sk-toggleable\"><input class=\"sk-toggleable__control sk-hidden--visually\" id=\"sk-estimator-id-10\" type=\"checkbox\" ><label for=\"sk-estimator-id-10\" class=\"sk-toggleable__label sk-toggleable__label-arrow\">estimator: Ridge</label><div class=\"sk-toggleable__content\"><pre>Ridge()</pre></div></div></div><div class=\"sk-serial\"><div class=\"sk-item\"><div class=\"sk-estimator sk-toggleable\"><input class=\"sk-toggleable__control sk-hidden--visually\" id=\"sk-estimator-id-11\" type=\"checkbox\" ><label for=\"sk-estimator-id-11\" class=\"sk-toggleable__label sk-toggleable__label-arrow\">Ridge</label><div class=\"sk-toggleable__content\"><pre>Ridge()</pre></div></div></div></div></div></div></div></div></div></div>"
            ]
          },
          "metadata": {},
          "execution_count": 69
        }
      ]
    },
    {
      "cell_type": "code",
      "source": [
        "print('Best parameter value for ridge regression is', randomized_search.best_params_)"
      ],
      "metadata": {
        "colab": {
          "base_uri": "https://localhost:8080/"
        },
        "id": "CqSy9eXfrT9Y",
        "outputId": "43136a47-417e-4666-e33f-04114de0a02a"
      },
      "execution_count": 70,
      "outputs": [
        {
          "output_type": "stream",
          "name": "stdout",
          "text": [
            "Best parameter value for ridge regression is {'fit_intercept': True, 'alpha': 1.0}\n"
          ]
        }
      ]
    },
    {
      "cell_type": "code",
      "source": [
        "# Predicting the values and calculating the root mean squared error with the best estimator\n",
        "\n",
        "ridgemodel = randomized_search.best_estimator_\n",
        "energy_eff_predictions = ridgemodel.predict(energy_eff_transformed)\n",
        "ri_mse = mean_squared_error(energy_eff_labels, energy_eff_predictions)\n",
        "ri_rmse = np.sqrt(ri_mse)\n",
        "print('Root Mean Squared Error : ', ri_rmse)"
      ],
      "metadata": {
        "colab": {
          "base_uri": "https://localhost:8080/"
        },
        "id": "S4T9esHbrXtM",
        "outputId": "c99329e5-58f9-406b-c788-35c8041a7f23"
      },
      "execution_count": 71,
      "outputs": [
        {
          "output_type": "stream",
          "name": "stdout",
          "text": [
            "Root Mean Squared Error :  4.401074345059287\n"
          ]
        }
      ]
    },
    {
      "cell_type": "code",
      "source": [
        "# Calculating the R2 Score\n",
        "\n",
        "ri_r2_score = r2_score(energy_eff_labels, energy_eff_predictions)\n",
        "print('R2 Score : ', ri_r2_score)"
      ],
      "metadata": {
        "colab": {
          "base_uri": "https://localhost:8080/"
        },
        "id": "WjEq7YVlH631",
        "outputId": "4842532c-2095-4edf-c9b2-79c32544fd8c"
      },
      "execution_count": 72,
      "outputs": [
        {
          "output_type": "stream",
          "name": "stdout",
          "text": [
            "R2 Score :  0.8059410450256116\n"
          ]
        }
      ]
    },
    {
      "cell_type": "markdown",
      "source": [
        "# Evaluating the 2 Best Models on the Test Data"
      ],
      "metadata": {
        "id": "ZYLTVoW8sH6-"
      }
    },
    {
      "cell_type": "code",
      "source": [
        "X_test = test_set.drop(target_feature, axis=1)\n",
        "y_test = test_set[target_feature].copy()\n",
        "\n",
        "X_test_transformed = full_pipeline.transform(X_test)"
      ],
      "metadata": {
        "id": "oulGGXuIrdlA"
      },
      "execution_count": 73,
      "outputs": []
    },
    {
      "cell_type": "markdown",
      "source": [
        "**Ridge Regression Model**"
      ],
      "metadata": {
        "id": "1c0CF_QKs_ZC"
      }
    },
    {
      "cell_type": "code",
      "source": [
        "test_predictions = ridgemodel.predict(X_test_transformed)\n",
        "test_mse = mean_squared_error(y_test, test_predictions)\n",
        "test_rmse = np.sqrt(test_mse)\n",
        "\n",
        "print('Root Mean Squared Error on Test Data : ', test_rmse)"
      ],
      "metadata": {
        "colab": {
          "base_uri": "https://localhost:8080/"
        },
        "id": "so2iyel_s9b5",
        "outputId": "f1dbe899-8bec-4ef2-92db-a89aa653362d"
      },
      "execution_count": 74,
      "outputs": [
        {
          "output_type": "stream",
          "name": "stdout",
          "text": [
            "Root Mean Squared Error on Test Data :  4.625319894682098\n"
          ]
        }
      ]
    },
    {
      "cell_type": "code",
      "source": [
        "# Calculating the R2 Score\n",
        "\n",
        "test_r2_score = r2_score(energy_eff_labels, energy_eff_predictions)\n",
        "print('R2 Score on Test Data: ', test_r2_score)"
      ],
      "metadata": {
        "colab": {
          "base_uri": "https://localhost:8080/"
        },
        "id": "KN3nlsTTIFJP",
        "outputId": "0e421c26-a88b-4948-8c1c-0e56d3522a1b"
      },
      "execution_count": 75,
      "outputs": [
        {
          "output_type": "stream",
          "name": "stdout",
          "text": [
            "R2 Score on Test Data:  0.8059410450256116\n"
          ]
        }
      ]
    },
    {
      "cell_type": "code",
      "source": [
        "df_predictions = pd.DataFrame({\n",
        "    \"Real\": y_test,\n",
        "    \"Predicted\": test_predictions\n",
        "}, index = None)\n",
        " \n",
        "df_predictions"
      ],
      "metadata": {
        "colab": {
          "base_uri": "https://localhost:8080/",
          "height": 424
        },
        "id": "xjtR6kdJtk-7",
        "outputId": "f4c97efd-fe7d-4475-e998-ec4d074cacbc"
      },
      "execution_count": 76,
      "outputs": [
        {
          "output_type": "execute_result",
          "data": {
            "text/plain": [
              "      Real  Predicted\n",
              "313  12.50  11.874449\n",
              "99   24.25  28.844393\n",
              "550  40.71  35.657415\n",
              "334  15.08  12.304956\n",
              "211  37.10  25.799615\n",
              "..     ...        ...\n",
              "396  24.70  31.770726\n",
              "218  10.07  10.423798\n",
              "281  15.37  13.147181\n",
              "547  41.67  34.664539\n",
              "90   15.42  12.114110\n",
              "\n",
              "[231 rows x 2 columns]"
            ],
            "text/html": [
              "\n",
              "  <div id=\"df-3e75d6ce-54cc-4f55-bea8-4ae7843259dd\">\n",
              "    <div class=\"colab-df-container\">\n",
              "      <div>\n",
              "<style scoped>\n",
              "    .dataframe tbody tr th:only-of-type {\n",
              "        vertical-align: middle;\n",
              "    }\n",
              "\n",
              "    .dataframe tbody tr th {\n",
              "        vertical-align: top;\n",
              "    }\n",
              "\n",
              "    .dataframe thead th {\n",
              "        text-align: right;\n",
              "    }\n",
              "</style>\n",
              "<table border=\"1\" class=\"dataframe\">\n",
              "  <thead>\n",
              "    <tr style=\"text-align: right;\">\n",
              "      <th></th>\n",
              "      <th>Real</th>\n",
              "      <th>Predicted</th>\n",
              "    </tr>\n",
              "  </thead>\n",
              "  <tbody>\n",
              "    <tr>\n",
              "      <th>313</th>\n",
              "      <td>12.50</td>\n",
              "      <td>11.874449</td>\n",
              "    </tr>\n",
              "    <tr>\n",
              "      <th>99</th>\n",
              "      <td>24.25</td>\n",
              "      <td>28.844393</td>\n",
              "    </tr>\n",
              "    <tr>\n",
              "      <th>550</th>\n",
              "      <td>40.71</td>\n",
              "      <td>35.657415</td>\n",
              "    </tr>\n",
              "    <tr>\n",
              "      <th>334</th>\n",
              "      <td>15.08</td>\n",
              "      <td>12.304956</td>\n",
              "    </tr>\n",
              "    <tr>\n",
              "      <th>211</th>\n",
              "      <td>37.10</td>\n",
              "      <td>25.799615</td>\n",
              "    </tr>\n",
              "    <tr>\n",
              "      <th>...</th>\n",
              "      <td>...</td>\n",
              "      <td>...</td>\n",
              "    </tr>\n",
              "    <tr>\n",
              "      <th>396</th>\n",
              "      <td>24.70</td>\n",
              "      <td>31.770726</td>\n",
              "    </tr>\n",
              "    <tr>\n",
              "      <th>218</th>\n",
              "      <td>10.07</td>\n",
              "      <td>10.423798</td>\n",
              "    </tr>\n",
              "    <tr>\n",
              "      <th>281</th>\n",
              "      <td>15.37</td>\n",
              "      <td>13.147181</td>\n",
              "    </tr>\n",
              "    <tr>\n",
              "      <th>547</th>\n",
              "      <td>41.67</td>\n",
              "      <td>34.664539</td>\n",
              "    </tr>\n",
              "    <tr>\n",
              "      <th>90</th>\n",
              "      <td>15.42</td>\n",
              "      <td>12.114110</td>\n",
              "    </tr>\n",
              "  </tbody>\n",
              "</table>\n",
              "<p>231 rows × 2 columns</p>\n",
              "</div>\n",
              "      <button class=\"colab-df-convert\" onclick=\"convertToInteractive('df-3e75d6ce-54cc-4f55-bea8-4ae7843259dd')\"\n",
              "              title=\"Convert this dataframe to an interactive table.\"\n",
              "              style=\"display:none;\">\n",
              "        \n",
              "  <svg xmlns=\"http://www.w3.org/2000/svg\" height=\"24px\"viewBox=\"0 0 24 24\"\n",
              "       width=\"24px\">\n",
              "    <path d=\"M0 0h24v24H0V0z\" fill=\"none\"/>\n",
              "    <path d=\"M18.56 5.44l.94 2.06.94-2.06 2.06-.94-2.06-.94-.94-2.06-.94 2.06-2.06.94zm-11 1L8.5 8.5l.94-2.06 2.06-.94-2.06-.94L8.5 2.5l-.94 2.06-2.06.94zm10 10l.94 2.06.94-2.06 2.06-.94-2.06-.94-.94-2.06-.94 2.06-2.06.94z\"/><path d=\"M17.41 7.96l-1.37-1.37c-.4-.4-.92-.59-1.43-.59-.52 0-1.04.2-1.43.59L10.3 9.45l-7.72 7.72c-.78.78-.78 2.05 0 2.83L4 21.41c.39.39.9.59 1.41.59.51 0 1.02-.2 1.41-.59l7.78-7.78 2.81-2.81c.8-.78.8-2.07 0-2.86zM5.41 20L4 18.59l7.72-7.72 1.47 1.35L5.41 20z\"/>\n",
              "  </svg>\n",
              "      </button>\n",
              "      \n",
              "  <style>\n",
              "    .colab-df-container {\n",
              "      display:flex;\n",
              "      flex-wrap:wrap;\n",
              "      gap: 12px;\n",
              "    }\n",
              "\n",
              "    .colab-df-convert {\n",
              "      background-color: #E8F0FE;\n",
              "      border: none;\n",
              "      border-radius: 50%;\n",
              "      cursor: pointer;\n",
              "      display: none;\n",
              "      fill: #1967D2;\n",
              "      height: 32px;\n",
              "      padding: 0 0 0 0;\n",
              "      width: 32px;\n",
              "    }\n",
              "\n",
              "    .colab-df-convert:hover {\n",
              "      background-color: #E2EBFA;\n",
              "      box-shadow: 0px 1px 2px rgba(60, 64, 67, 0.3), 0px 1px 3px 1px rgba(60, 64, 67, 0.15);\n",
              "      fill: #174EA6;\n",
              "    }\n",
              "\n",
              "    [theme=dark] .colab-df-convert {\n",
              "      background-color: #3B4455;\n",
              "      fill: #D2E3FC;\n",
              "    }\n",
              "\n",
              "    [theme=dark] .colab-df-convert:hover {\n",
              "      background-color: #434B5C;\n",
              "      box-shadow: 0px 1px 3px 1px rgba(0, 0, 0, 0.15);\n",
              "      filter: drop-shadow(0px 1px 2px rgba(0, 0, 0, 0.3));\n",
              "      fill: #FFFFFF;\n",
              "    }\n",
              "  </style>\n",
              "\n",
              "      <script>\n",
              "        const buttonEl =\n",
              "          document.querySelector('#df-3e75d6ce-54cc-4f55-bea8-4ae7843259dd button.colab-df-convert');\n",
              "        buttonEl.style.display =\n",
              "          google.colab.kernel.accessAllowed ? 'block' : 'none';\n",
              "\n",
              "        async function convertToInteractive(key) {\n",
              "          const element = document.querySelector('#df-3e75d6ce-54cc-4f55-bea8-4ae7843259dd');\n",
              "          const dataTable =\n",
              "            await google.colab.kernel.invokeFunction('convertToInteractive',\n",
              "                                                     [key], {});\n",
              "          if (!dataTable) return;\n",
              "\n",
              "          const docLinkHtml = 'Like what you see? Visit the ' +\n",
              "            '<a target=\"_blank\" href=https://colab.research.google.com/notebooks/data_table.ipynb>data table notebook</a>'\n",
              "            + ' to learn more about interactive tables.';\n",
              "          element.innerHTML = '';\n",
              "          dataTable['output_type'] = 'display_data';\n",
              "          await google.colab.output.renderOutput(dataTable, element);\n",
              "          const docLink = document.createElement('div');\n",
              "          docLink.innerHTML = docLinkHtml;\n",
              "          element.appendChild(docLink);\n",
              "        }\n",
              "      </script>\n",
              "    </div>\n",
              "  </div>\n",
              "  "
            ]
          },
          "metadata": {},
          "execution_count": 76
        }
      ]
    },
    {
      "cell_type": "code",
      "source": [
        "# Plotting the predicted values(Blue) and the actual values(Red)\n",
        "plt.scatter(range(len(y_test)), y_test, color='red')\n",
        "plt.scatter(range(len(test_predictions)), test_predictions, color='blue')\n",
        "plt.title('Predictions vs Actual - Ridge Regression')\n",
        "plt.show()"
      ],
      "metadata": {
        "colab": {
          "base_uri": "https://localhost:8080/",
          "height": 281
        },
        "id": "J_TjgRTxt612",
        "outputId": "26ea8805-fe3f-4731-d5fb-fa6e56c70a7c"
      },
      "execution_count": 77,
      "outputs": [
        {
          "output_type": "display_data",
          "data": {
            "text/plain": [
              "<Figure size 432x288 with 1 Axes>"
            ],
            "image/png": "[encoded data removed]"
          },
          "metadata": {
            "needs_background": "light"
          }
        }
      ]
    },
    {
      "cell_type": "markdown",
      "source": [
        "**Linear Regression Model**"
      ],
      "metadata": {
        "id": "eRFHZy6iuJt2"
      }
    },
    {
      "cell_type": "code",
      "source": [
        "test_predictions = lrmodel.predict(X_test_transformed)\n",
        "test_mse = mean_squared_error(y_test, test_predictions)\n",
        "test_rmse = np.sqrt(test_mse)\n",
        "\n",
        "print('Root Mean Squared Error on Test Data : ', test_rmse)"
      ],
      "metadata": {
        "colab": {
          "base_uri": "https://localhost:8080/"
        },
        "id": "v-sI7wx9t_fX",
        "outputId": "ef2f67ad-cc1a-48f4-81fa-0030ddf1579e"
      },
      "execution_count": 78,
      "outputs": [
        {
          "output_type": "stream",
          "name": "stdout",
          "text": [
            "Root Mean Squared Error on Test Data :  4.623821318131385\n"
          ]
        }
      ]
    },
    {
      "cell_type": "code",
      "source": [
        "# Calculating the R2 Score\n",
        "\n",
        "test_r2_score = r2_score(energy_eff_labels, energy_eff_predictions)\n",
        "print('R2 Score on Test Data: ', test_r2_score)"
      ],
      "metadata": {
        "colab": {
          "base_uri": "https://localhost:8080/"
        },
        "id": "izLCPF3pIeeK",
        "outputId": "9e87c65e-f80b-4a5e-8e02-ffa618b75024"
      },
      "execution_count": 79,
      "outputs": [
        {
          "output_type": "stream",
          "name": "stdout",
          "text": [
            "R2 Score on Test Data:  0.8059410450256116\n"
          ]
        }
      ]
    },
    {
      "cell_type": "code",
      "source": [
        "df_predictions = pd.DataFrame({\n",
        "    \"Real\": y_test,\n",
        "    \"Predicted\": test_predictions\n",
        "}, index = None)\n",
        " \n",
        "df_predictions"
      ],
      "metadata": {
        "colab": {
          "base_uri": "https://localhost:8080/",
          "height": 424
        },
        "id": "qF63FkUMuTkg",
        "outputId": "47219001-8214-47f5-9fa8-d06fa4ff16af"
      },
      "execution_count": 80,
      "outputs": [
        {
          "output_type": "execute_result",
          "data": {
            "text/plain": [
              "      Real  Predicted\n",
              "313  12.50  11.883634\n",
              "99   24.25  28.831522\n",
              "550  40.71  35.713329\n",
              "334  15.08  12.332740\n",
              "211  37.10  25.822853\n",
              "..     ...        ...\n",
              "396  24.70  31.792973\n",
              "218  10.07  10.416825\n",
              "281  15.37  13.110590\n",
              "547  41.67  34.677560\n",
              "90   15.42  12.103642\n",
              "\n",
              "[231 rows x 2 columns]"
            ],
            "text/html": [
              "\n",
              "  <div id=\"df-db1fb373-7771-4226-8e13-5f9cce27a90b\">\n",
              "    <div class=\"colab-df-container\">\n",
              "      <div>\n",
              "<style scoped>\n",
              "    .dataframe tbody tr th:only-of-type {\n",
              "        vertical-align: middle;\n",
              "    }\n",
              "\n",
              "    .dataframe tbody tr th {\n",
              "        vertical-align: top;\n",
              "    }\n",
              "\n",
              "    .dataframe thead th {\n",
              "        text-align: right;\n",
              "    }\n",
              "</style>\n",
              "<table border=\"1\" class=\"dataframe\">\n",
              "  <thead>\n",
              "    <tr style=\"text-align: right;\">\n",
              "      <th></th>\n",
              "      <th>Real</th>\n",
              "      <th>Predicted</th>\n",
              "    </tr>\n",
              "  </thead>\n",
              "  <tbody>\n",
              "    <tr>\n",
              "      <th>313</th>\n",
              "      <td>12.50</td>\n",
              "      <td>11.883634</td>\n",
              "    </tr>\n",
              "    <tr>\n",
              "      <th>99</th>\n",
              "      <td>24.25</td>\n",
              "      <td>28.831522</td>\n",
              "    </tr>\n",
              "    <tr>\n",
              "      <th>550</th>\n",
              "      <td>40.71</td>\n",
              "      <td>35.713329</td>\n",
              "    </tr>\n",
              "    <tr>\n",
              "      <th>334</th>\n",
              "      <td>15.08</td>\n",
              "      <td>12.332740</td>\n",
              "    </tr>\n",
              "    <tr>\n",
              "      <th>211</th>\n",
              "      <td>37.10</td>\n",
              "      <td>25.822853</td>\n",
              "    </tr>\n",
              "    <tr>\n",
              "      <th>...</th>\n",
              "      <td>...</td>\n",
              "      <td>...</td>\n",
              "    </tr>\n",
              "    <tr>\n",
              "      <th>396</th>\n",
              "      <td>24.70</td>\n",
              "      <td>31.792973</td>\n",
              "    </tr>\n",
              "    <tr>\n",
              "      <th>218</th>\n",
              "      <td>10.07</td>\n",
              "      <td>10.416825</td>\n",
              "    </tr>\n",
              "    <tr>\n",
              "      <th>281</th>\n",
              "      <td>15.37</td>\n",
              "      <td>13.110590</td>\n",
              "    </tr>\n",
              "    <tr>\n",
              "      <th>547</th>\n",
              "      <td>41.67</td>\n",
              "      <td>34.677560</td>\n",
              "    </tr>\n",
              "    <tr>\n",
              "      <th>90</th>\n",
              "      <td>15.42</td>\n",
              "      <td>12.103642</td>\n",
              "    </tr>\n",
              "  </tbody>\n",
              "</table>\n",
              "<p>231 rows × 2 columns</p>\n",
              "</div>\n",
              "      <button class=\"colab-df-convert\" onclick=\"convertToInteractive('df-db1fb373-7771-4226-8e13-5f9cce27a90b')\"\n",
              "              title=\"Convert this dataframe to an interactive table.\"\n",
              "              style=\"display:none;\">\n",
              "        \n",
              "  <svg xmlns=\"http://www.w3.org/2000/svg\" height=\"24px\"viewBox=\"0 0 24 24\"\n",
              "       width=\"24px\">\n",
              "    <path d=\"M0 0h24v24H0V0z\" fill=\"none\"/>\n",
              "    <path d=\"M18.56 5.44l.94 2.06.94-2.06 2.06-.94-2.06-.94-.94-2.06-.94 2.06-2.06.94zm-11 1L8.5 8.5l.94-2.06 2.06-.94-2.06-.94L8.5 2.5l-.94 2.06-2.06.94zm10 10l.94 2.06.94-2.06 2.06-.94-2.06-.94-.94-2.06-.94 2.06-2.06.94z\"/><path d=\"M17.41 7.96l-1.37-1.37c-.4-.4-.92-.59-1.43-.59-.52 0-1.04.2-1.43.59L10.3 9.45l-7.72 7.72c-.78.78-.78 2.05 0 2.83L4 21.41c.39.39.9.59 1.41.59.51 0 1.02-.2 1.41-.59l7.78-7.78 2.81-2.81c.8-.78.8-2.07 0-2.86zM5.41 20L4 18.59l7.72-7.72 1.47 1.35L5.41 20z\"/>\n",
              "  </svg>\n",
              "      </button>\n",
              "      \n",
              "  <style>\n",
              "    .colab-df-container {\n",
              "      display:flex;\n",
              "      flex-wrap:wrap;\n",
              "      gap: 12px;\n",
              "    }\n",
              "\n",
              "    .colab-df-convert {\n",
              "      background-color: #E8F0FE;\n",
              "      border: none;\n",
              "      border-radius: 50%;\n",
              "      cursor: pointer;\n",
              "      display: none;\n",
              "      fill: #1967D2;\n",
              "      height: 32px;\n",
              "      padding: 0 0 0 0;\n",
              "      width: 32px;\n",
              "    }\n",
              "\n",
              "    .colab-df-convert:hover {\n",
              "      background-color: #E2EBFA;\n",
              "      box-shadow: 0px 1px 2px rgba(60, 64, 67, 0.3), 0px 1px 3px 1px rgba(60, 64, 67, 0.15);\n",
              "      fill: #174EA6;\n",
              "    }\n",
              "\n",
              "    [theme=dark] .colab-df-convert {\n",
              "      background-color: #3B4455;\n",
              "      fill: #D2E3FC;\n",
              "    }\n",
              "\n",
              "    [theme=dark] .colab-df-convert:hover {\n",
              "      background-color: #434B5C;\n",
              "      box-shadow: 0px 1px 3px 1px rgba(0, 0, 0, 0.15);\n",
              "      filter: drop-shadow(0px 1px 2px rgba(0, 0, 0, 0.3));\n",
              "      fill: #FFFFFF;\n",
              "    }\n",
              "  </style>\n",
              "\n",
              "      <script>\n",
              "        const buttonEl =\n",
              "          document.querySelector('#df-db1fb373-7771-4226-8e13-5f9cce27a90b button.colab-df-convert');\n",
              "        buttonEl.style.display =\n",
              "          google.colab.kernel.accessAllowed ? 'block' : 'none';\n",
              "\n",
              "        async function convertToInteractive(key) {\n",
              "          const element = document.querySelector('#df-db1fb373-7771-4226-8e13-5f9cce27a90b');\n",
              "          const dataTable =\n",
              "            await google.colab.kernel.invokeFunction('convertToInteractive',\n",
              "                                                     [key], {});\n",
              "          if (!dataTable) return;\n",
              "\n",
              "          const docLinkHtml = 'Like what you see? Visit the ' +\n",
              "            '<a target=\"_blank\" href=https://colab.research.google.com/notebooks/data_table.ipynb>data table notebook</a>'\n",
              "            + ' to learn more about interactive tables.';\n",
              "          element.innerHTML = '';\n",
              "          dataTable['output_type'] = 'display_data';\n",
              "          await google.colab.output.renderOutput(dataTable, element);\n",
              "          const docLink = document.createElement('div');\n",
              "          docLink.innerHTML = docLinkHtml;\n",
              "          element.appendChild(docLink);\n",
              "        }\n",
              "      </script>\n",
              "    </div>\n",
              "  </div>\n",
              "  "
            ]
          },
          "metadata": {},
          "execution_count": 80
        }
      ]
    },
    {
      "cell_type": "code",
      "source": [
        "# Plotting the predicted values(Blue) and the actual values(Red)\n",
        "plt.scatter(range(len(y_test)), y_test, color='red')\n",
        "plt.scatter(range(len(test_predictions)), test_predictions, color='blue')\n",
        "plt.title('Predictions vs Actual - Linear Regression')\n",
        "plt.show()"
      ],
      "metadata": {
        "colab": {
          "base_uri": "https://localhost:8080/",
          "height": 281
        },
        "id": "x-73sESjumYF",
        "outputId": "6f8c1f7f-4686-4732-de30-461fd67d932e"
      },
      "execution_count": 81,
      "outputs": [
        {
          "output_type": "display_data",
          "data": {
            "text/plain": [
              "<Figure size 432x288 with 1 Axes>"
            ],
            "image/png": "[encoded data removed]"
          },
          "metadata": {
            "needs_background": "light"
          }
        }
      ]
    },
    {
      "cell_type": "markdown",
      "source": [
        "#Conclusion"
      ],
      "metadata": {
        "id": "mlxcUHOUJWfl"
      }
    },
    {
      "cell_type": "markdown",
      "source": [
        "In this project, we explored the use of linear regression, ridge regression, lasso regression, and elastic net regression to predict the heating load of a building based on various input features. We started by analyzing the data and performing some exploratory data analysis to understand the distribution and relationships between the features and the target variable and to check for any irrelevant features using correlation matrix. Then 3 New features have been experimented and derived from the input features as per the domain knowledge and then we calculated the correlation with the target column(heating load) and found out that they were useful. We then split the data into training and testing sets and fitted the different regression models on the training data.After evaluating the training data with fine tuned model with optimal parameters we found out that Linear Regression and Ridge Regression were performing well when compared to other models. Finally we evaluated these two best models with the testing data and we got a Root Mean Square Error around 4.62 and a R2 Score around 0.805 for Linear and Ridge Regression models.\n",
        "Overall, this project demonstrates the effectiveness of linear regression-based models for predicting the heating load of a building."
      ],
      "metadata": {
        "id": "qzgRAr9BMVF1"
      }
    },
    {
      "cell_type": "code",
      "source": [
        "!pip3 install nbconvert\n",
        "!jupyter nbconvert --to html ML_ASSIGNMENT_FINAL.ipynb"
      ],
      "metadata": {
        "id": "oYypmtvOSi9j"
      },
      "execution_count": null,
      "outputs": []
    }
  ]
}